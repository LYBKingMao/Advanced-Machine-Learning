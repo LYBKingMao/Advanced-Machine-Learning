{
 "cells": [
  {
   "cell_type": "code",
   "execution_count": 168,
   "metadata": {},
   "outputs": [],
   "source": [
    "import numpy as np\n",
    "from numpy import linalg as LA\n",
    "from sklearn import metrics"
   ]
  },
  {
   "cell_type": "markdown",
   "metadata": {},
   "source": [
    "# Implementing Pereceptron model\n",
    "\n",
    "***"
   ]
  },
  {
   "cell_type": "code",
   "execution_count": 169,
   "metadata": {},
   "outputs": [],
   "source": [
    "#####Single Neuron Perceptron#####\n",
    "##################################"
   ]
  },
  {
   "cell_type": "code",
   "execution_count": 189,
   "metadata": {},
   "outputs": [
    {
     "data": {
      "text/plain": [
       "array([[2.700, -2.500],\n",
       "       [-1.400, 2.300],\n",
       "       [3.300, -4.400],\n",
       "       [-1.300, 1.800]])"
      ]
     },
     "execution_count": 189,
     "metadata": {},
     "output_type": "execute_result"
    }
   ],
   "source": [
    "X=np.array([[2.7, -2.5], [-1.4, 2.3], [3.3, -4.4], [-1.3,1.8]])\n",
    "X"
   ]
  },
  {
   "cell_type": "code",
   "execution_count": 171,
   "metadata": {},
   "outputs": [],
   "source": [
    "def step_binary(v):\n",
    "    return 1 * (v > 0)"
   ]
  },
  {
   "cell_type": "code",
   "execution_count": 172,
   "metadata": {},
   "outputs": [],
   "source": [
    "def perceptron(x, w, b):\n",
    "    in_ = np.dot(x,w) + b\n",
    "    output = step_binary(in_)\n",
    "    return output"
   ]
  },
  {
   "cell_type": "code",
   "execution_count": 190,
   "metadata": {},
   "outputs": [
    {
     "name": "stdout",
     "output_type": "stream",
     "text": [
      "input:  [2.700 -2.500] , output:  0\n",
      "input:  [-1.400 2.300] , output:  1\n",
      "input:  [3.300 -4.400] , output:  0\n",
      "input:  [-1.300 1.800] , output:  1\n"
     ]
    }
   ],
   "source": [
    "#initialise the weights and the bias \n",
    "weights = np.array([-0.2, 0.7])\n",
    "b = 0\n",
    "\n",
    "#calculating output for a single instance (i.e. the input to the perceptron is a single vector)\n",
    "for i in range(X.shape[0]):\n",
    "    print(\"input: \", X[i], \", output: \", perceptron(X[i],weights, b))"
   ]
  },
  {
   "cell_type": "code",
   "execution_count": 174,
   "metadata": {},
   "outputs": [
    {
     "name": "stdout",
     "output_type": "stream",
     "text": [
      "[0 1 0 1]\n"
     ]
    }
   ],
   "source": [
    "#calculating output for a set of instances (i.e. the input to the perceptron is a matrix)\n",
    "predictions = perceptron(X,weights,b)\n",
    "print(predictions)"
   ]
  },
  {
   "cell_type": "markdown",
   "metadata": {},
   "source": [
    "---------------Using bigger dataset for classification-----------------"
   ]
  },
  {
   "cell_type": "code",
   "execution_count": 191,
   "metadata": {},
   "outputs": [
    {
     "name": "stdout",
     "output_type": "stream",
     "text": [
      "X.shape: (768, 8)\n",
      "y.shape: (768,)\n"
     ]
    },
    {
     "data": {
      "text/plain": [
       "268"
      ]
     },
     "execution_count": 191,
     "metadata": {},
     "output_type": "execute_result"
    }
   ],
   "source": [
    "#Read data from a text file\n",
    "from sklearn import preprocessing\n",
    "data = np.loadtxt(\"diabetes_binary_classification.txt\")\n",
    "\n",
    "# split into inputs and outputs\n",
    "X, y = data[:, :-1], data[:, -1]\n",
    "\n",
    "#scaling the input data\n",
    "X = preprocessing.MinMaxScaler().fit_transform(X)\n",
    "\n",
    "print (\"X.shape:\", X.shape)\n",
    "print (\"y.shape:\", y.shape)\n",
    "np.count_nonzero(y)"
   ]
  },
  {
   "cell_type": "code",
   "execution_count": 194,
   "metadata": {},
   "outputs": [
    {
     "name": "stdout",
     "output_type": "stream",
     "text": [
      "MSE:  0.6510416666666666\n",
      "Accuracy: 0.3489583333333333\n",
      "F1: 0.5173745173745173\n"
     ]
    }
   ],
   "source": [
    "#Initialising parameters from a uniform distribution over [-1, 1) \n",
    "np.random.seed(0)\n",
    "weights = np.random.uniform(-1,1,X.shape[1])\n",
    "b = np.random.uniform(-1,1,1)\n",
    "#Passing instances through the network\n",
    "predictions = perceptron(X,weights, b)\n",
    "\n",
    "#Evaluating the performance\n",
    "print('MSE: ', metrics.mean_squared_error(predictions,y))\n",
    "print('Accuracy:', metrics.accuracy_score(predictions,y))\n",
    "print('F1:', metrics.f1_score(predictions,y))"
   ]
  },
  {
   "cell_type": "markdown",
   "metadata": {},
   "source": [
    "# Perceptron Training\n",
    "\n",
    "------------------------------------\n"
   ]
  },
  {
   "cell_type": "code",
   "execution_count": 198,
   "metadata": {},
   "outputs": [],
   "source": [
    "def updateRule(X,y,lr):\n",
    "    np.random.seed(0)\n",
    "    weights = np.random.uniform(-1,1,X.shape[1])\n",
    "    b = np.random.uniform(-1,1,1)\n",
    "    \n",
    "    for k in range(100):\n",
    "        for i in range(len(X)):\n",
    "            prediction = perceptron(X[i], weights, b)\n",
    "            error = y[i]-prediction\n",
    "            weights = weights + lr * error * X[i]\n",
    "            b = b + lr*error\n",
    "    \n",
    "    #Calculating predictions\n",
    "    predictions = perceptron(X,weights, b)\n",
    "    #Calculating error\n",
    "    print('MSE: ', metrics.mean_squared_error(predictions,y))\n",
    "    print('Accuracy:', metrics.accuracy_score(predictions,y))\n",
    "    print('F1:', metrics.f1_score(predictions,y))"
   ]
  },
  {
   "cell_type": "code",
   "execution_count": 199,
   "metadata": {},
   "outputs": [
    {
     "name": "stdout",
     "output_type": "stream",
     "text": [
      "MSE:  0.24088541666666666\n",
      "Accuracy: 0.7591145833333334\n",
      "F1: 0.673721340388007\n"
     ]
    }
   ],
   "source": [
    "updateRule(X,y,0.05) "
   ]
  },
  {
   "cell_type": "markdown",
   "metadata": {},
   "source": [
    "# Multilayer Perceptron\n",
    "\n",
    "***"
   ]
  },
  {
   "cell_type": "code",
   "execution_count": 185,
   "metadata": {},
   "outputs": [],
   "source": [
    "#passing a single training instance through the network\n",
    "def feedforward(x):\n",
    "    #initialise weights\n",
    "    np.random.seed(0)\n",
    "    w_ih = np.random.uniform(-1,1,[X.shape[1],2])\n",
    "    w_ho = np.random.uniform(-1,1,[2,1])\n",
    "\n",
    "    #initialise bias\n",
    "    b_ih = np.random.uniform(-1,1,[1,2])\n",
    "    b_ho = np.random.uniform(-1,1,1)\n",
    "    \n",
    "    #calculating input to the hidden layer\n",
    "    in_h = x@w_ih + b_ih\n",
    "    \n",
    "    #calculating output of the hidden layer\n",
    "    out_h = step_binary(in_h)\n",
    "    \n",
    "    #calculating input to the output layer\n",
    "    in_o = out_h@w_ho + b_ho\n",
    "    \n",
    "    #calculating output of the output layer\n",
    "    out_o = step_binary(in_o)\n",
    "\n",
    "    return out_o"
   ]
  },
  {
   "cell_type": "code",
   "execution_count": 186,
   "metadata": {},
   "outputs": [
    {
     "name": "stdout",
     "output_type": "stream",
     "text": [
      "Input:  [0.353 0.744 0.590 0.354 0.000 0.501 0.234 0.483] Output:  [[1]]\n",
      "Input:  [0.059 0.427 0.541 0.293 0.000 0.396 0.117 0.167] Output:  [[1]]\n",
      "Input:  [0.471 0.920 0.525 0.000 0.000 0.347 0.254 0.183] Output:  [[1]]\n",
      "Input:  [0.059 0.447 0.541 0.232 0.111 0.419 0.038 0.000] Output:  [[1]]\n",
      "Input:  [0.000 0.688 0.328 0.354 0.199 0.642 0.944 0.200] Output:  [[1]]\n"
     ]
    }
   ],
   "source": [
    "np.set_printoptions(formatter={'float': lambda x: \"{0:0.3f}\".format(x)})\n",
    "for i in range(5):\n",
    "    print('Input: ', X[i], 'Output: ', feedforward(X[i]))"
   ]
  },
  {
   "cell_type": "code",
   "execution_count": 200,
   "metadata": {},
   "outputs": [],
   "source": [
    "#passing entire train data through the network\n",
    "def feedforward_(X):\n",
    "    #initialise weights\n",
    "    np.random.seed(0)\n",
    "    w_ih = np.random.uniform(-1,1,[X.shape[1],2])\n",
    "    w_ho = np.random.uniform(-1,1,[2,1])\n",
    "\n",
    "    #initialise bias\n",
    "    b_ih = np.random.uniform(-1,1,[1,2])\n",
    "    b_ho = np.random.uniform(-1,1,1)\n",
    "    \n",
    "    #calculating input to the hidden layer\n",
    "    in_h = X@w_ih + b_ih\n",
    "    print('in_h: ',in_h.shape)\n",
    "    \n",
    "    #calculating output of the hidden layer\n",
    "    out_h = step_binary(in_h)\n",
    "    print('out_h: ', out_h.shape)\n",
    "    \n",
    "    #calculating input to the output layer\n",
    "    in_o = out_h@w_ho + b_ho\n",
    "    print('in_o: ', in_o.shape)\n",
    "    \n",
    "    #calculating output of the output layer\n",
    "    out_o = step_binary(in_o)\n",
    "    print('out_o: ', out_o.shape)\n",
    "\n",
    "    return out_o"
   ]
  },
  {
   "cell_type": "code",
   "execution_count": 201,
   "metadata": {},
   "outputs": [
    {
     "name": "stdout",
     "output_type": "stream",
     "text": [
      "in_h:  (768, 2)\n",
      "out_h:  (768, 2)\n",
      "in_o:  (768, 1)\n",
      "out_o:  (768, 1)\n",
      "MSE:  0.6510416666666666\n",
      "Accuracy: 0.3489583333333333\n",
      "F1: 0.5173745173745173\n"
     ]
    }
   ],
   "source": [
    "predictions = feedforward_(X)\n",
    "print('MSE: ', metrics.mean_squared_error(predictions,y))\n",
    "print('Accuracy:', metrics.accuracy_score(predictions,y))\n",
    "print('F1:', metrics.f1_score(predictions,y))"
   ]
  },
  {
   "cell_type": "code",
   "execution_count": 202,
   "metadata": {},
   "outputs": [],
   "source": [
    "m = np.array([[1,2,3],[4,5,6]])\n"
   ]
  },
  {
   "cell_type": "code",
   "execution_count": 203,
   "metadata": {},
   "outputs": [
    {
     "data": {
      "text/plain": [
       "array([[1, 2, 3],\n",
       "       [4, 5, 6]])"
      ]
     },
     "execution_count": 203,
     "metadata": {},
     "output_type": "execute_result"
    }
   ],
   "source": [
    "m"
   ]
  },
  {
   "cell_type": "code",
   "execution_count": 130,
   "metadata": {},
   "outputs": [],
   "source": [
    "v=np.array([1,1,1])"
   ]
  },
  {
   "cell_type": "code",
   "execution_count": 131,
   "metadata": {},
   "outputs": [
    {
     "data": {
      "text/plain": [
       "array([[2, 3, 4],\n",
       "       [5, 6, 7]])"
      ]
     },
     "execution_count": 131,
     "metadata": {},
     "output_type": "execute_result"
    }
   ],
   "source": [
    "m+v"
   ]
  },
  {
   "cell_type": "code",
   "execution_count": null,
   "metadata": {},
   "outputs": [],
   "source": []
  }
 ],
 "metadata": {
  "kernelspec": {
   "display_name": "Python 3",
   "language": "python",
   "name": "python3"
  },
  "language_info": {
   "codemirror_mode": {
    "name": "ipython",
    "version": 3
   },
   "file_extension": ".py",
   "mimetype": "text/x-python",
   "name": "python",
   "nbconvert_exporter": "python",
   "pygments_lexer": "ipython3",
   "version": "3.7.3"
  }
 },
 "nbformat": 4,
 "nbformat_minor": 2
}
