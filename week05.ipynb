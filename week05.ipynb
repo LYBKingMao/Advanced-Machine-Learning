{
 "cells": [
  {
   "cell_type": "markdown",
   "metadata": {},
   "source": [
    "# Week 04"
   ]
  },
  {
   "cell_type": "markdown",
   "metadata": {},
   "source": [
    "# Task 1\n",
    "\n",
    "In this task you will implement and train a multi layer perceptron (MLP) model using Gradient Descent and back propagation algorithms. The model should have 4 neurons with ReLu activation function in the hidden layer (Layer 1) and a single neuron with Sigmoid activation fuction in the output layer (Layer 2). The MLP will be applied to solve the binary classification problem from the previous practicals. "
   ]
  },
  {
   "cell_type": "markdown",
   "metadata": {},
   "source": [
    "**1. Loading the data.** \n",
    "\n",
    "The first two columns are the feature variables and the last column in the target output."
   ]
  },
  {
   "cell_type": "code",
   "execution_count": 1,
   "metadata": {},
   "outputs": [
    {
     "data": {
      "text/plain": [
       "<matplotlib.collections.PathCollection at 0x212eec2b198>"
      ]
     },
     "execution_count": 1,
     "metadata": {},
     "output_type": "execute_result"
    }
   ],
   "source": [
    "import numpy as np\n",
    "from sklearn import preprocessing\n",
    "from sklearn import datasets \n",
    "import matplotlib.pyplot as plt\n",
    "\n",
    "x, y = datasets.make_moons(500, noise=0.1)\n",
    "plt.figure(figsize=(10,7))\n",
    "plt.scatter(x[:,0], x[:,1], c=y, cmap=plt.cm.winter)"
   ]
  },
  {
   "cell_type": "markdown",
   "metadata": {},
   "source": [
    "***\n",
    "**2. Implementing batch Greadient Descent with backpropagation.**\n",
    "\n",
    "- Split the dataset into test and train set, with the split 0.2 for the test set.\n",
    "- Implement the activation functions and their derivatives.\n",
    "- Implement loss function and its derivative. \n",
    "- Initialize weights with uniform distribution (-1,1) and biases with zero values.\n",
    "- Train the Neural Network with Batch GD algorithm and the train set. Use 0.05 as learning rate.\n",
    "- Train the model for 1000 epochs.\n",
    "- Visualise train and test error and accuracy across the epochs.\n",
    "- Report the final test accuracy of the model.\n"
   ]
  },
  {
   "cell_type": "code",
   "execution_count": 2,
   "metadata": {},
   "outputs": [],
   "source": [
    "def sigmoid(v):\n",
    "    return 1/(1+np.exp(-v))"
   ]
  },
  {
   "cell_type": "code",
   "execution_count": 3,
   "metadata": {},
   "outputs": [],
   "source": [
    "def sigmoid_derivative(v):\n",
    "    return sigmoid(v)*(1-sigmoid(v))"
   ]
  },
  {
   "cell_type": "code",
   "execution_count": 4,
   "metadata": {},
   "outputs": [],
   "source": [
    "def ReLu(v):\n",
    "    return np.maximum(0,v)"
   ]
  },
  {
   "cell_type": "code",
   "execution_count": 5,
   "metadata": {},
   "outputs": [],
   "source": [
    "def ReLu_derivative(v):\n",
    "    return np.where(v<=0,0,1)"
   ]
  },
  {
   "cell_type": "code",
   "execution_count": 6,
   "metadata": {},
   "outputs": [],
   "source": [
    "def crossEntrop(o,y):\n",
    "    return (-y*(np.log(o)) - (1-y)* np.log(1-o))"
   ]
  },
  {
   "cell_type": "code",
   "execution_count": 7,
   "metadata": {},
   "outputs": [],
   "source": [
    "def crossEntrDeriv(o,y):\n",
    "    return -(y/o - (1-y)/(1-o))"
   ]
  },
  {
   "cell_type": "code",
   "execution_count": 8,
   "metadata": {},
   "outputs": [],
   "source": [
    "y=y.reshape(len(y),1)"
   ]
  },
  {
   "cell_type": "code",
   "execution_count": 94,
   "metadata": {},
   "outputs": [
    {
     "name": "stdout",
     "output_type": "stream",
     "text": [
      "Final Accuracy:  0.86\n"
     ]
    },
    {
     "data": {
      "image/png": "[encoded data removed]",
      "text/plain": [
       "<Figure size 432x288 with 1 Axes>"
      ]
     },
     "metadata": {
      "needs_background": "light"
     },
     "output_type": "display_data"
    },
    {
     "data": {
      "image/png": "[encoded data removed]",
      "text/plain": [
       "<Figure size 432x288 with 1 Axes>"
      ]
     },
     "metadata": {
      "needs_background": "light"
     },
     "output_type": "display_data"
    }
   ],
   "source": [
    "from sklearn.model_selection import train_test_split\n",
    "from sklearn import metrics\n",
    "x_train, x_test, y_train, y_test = train_test_split(x, y,test_size=0.2, random_state=0,)\n",
    " #initializing weights\n",
    "np.random.seed(42)\n",
    "w = np.random.uniform(-1,1,[x_train.shape[1],4])\n",
    "w2 = np.random.uniform(-1,1,[4,1])\n",
    "b = np.array([[0.,0.,0.,0.]])\n",
    "b2=np.array([[0.]])\n",
    "l = 0.05\n",
    "\n",
    "\n",
    "train_E = []\n",
    "test_E = []\n",
    "train_Acc = []\n",
    "test_Acc = []\n",
    "\n",
    "for epoch in range(1000):\n",
    "    #feed forward\n",
    "    in_ = x_train@w + b\n",
    "    out1 = ReLu(in_)\n",
    "    in2 = out1@w2+b2\n",
    "    out2 = sigmoid(in2)\n",
    "    \n",
    "    error = crossEntrop(out2 ,y_train).mean()\n",
    "    \n",
    "    #Evaluation\n",
    "    #Error\n",
    "    train_E.append(error)\n",
    "    test_E.append(crossEntrop(sigmoid(ReLu(x_test@w+b)@w2+b2),y_test).mean())\n",
    "    #Accuracy\n",
    "    pred_train = np.where(out2 > 0.5, 1,0)\n",
    "    pred_test = np.where(sigmoid(ReLu(x_test@w+b)@w2+b2) > 0.5,1,0)\n",
    "    train_Acc.append(metrics.accuracy_score(y_train,pred_train))\n",
    "    test_Acc.append(metrics.accuracy_score(y_test,pred_test))\n",
    "    \n",
    "    #backpropagation\n",
    "    dEdOut2 = crossEntrDeriv(out2, y_train)\n",
    "    dOut2dIn2 = sigmoid_derivative(in2)\n",
    "    dEdIn2 = dEdOut2*dOut2dIn2\n",
    "    dIn2dW2 = out1\n",
    "    dEdW2 = (1/x_train.shape[0])*dIn2dW2.T@(dEdIn2)\n",
    "    dEdB2 = (1/x_train.shape[0])*np.ones([1,len(x_train)])@dEdIn2\n",
    "    w2 -= l*dEdW2\n",
    "    b2 -= l*dEdB2\n",
    "    \n",
    "    dEdOut1 = dEdIn2 * w2.T\n",
    "    dOut1dIn1 = ReLu_derivative(in_)\n",
    "    dEdIn1 = dEdOut1*dOut1dIn1\n",
    "    dIn1dW = x_train\n",
    "    dEdW = (1/x_train.shape[0])*dIn1dW.T@((dEdIn2@w2.T)*dOut1dIn1)\n",
    "    dEdB = (1/x_train.shape[0])*np.ones([1,len(x_train)])@((dEdIn2@w2.T)*dOut1dIn1)\n",
    "    w -= l*dEdW\n",
    "    b -= l*dEdB\n",
    "    \n",
    "    \n",
    "print('Final Accuracy: ', metrics.accuracy_score(y_test,np.where(sigmoid(ReLu(x_test@w+b)@w2+b2) > 0.5,1,0)))    \n",
    "    \n",
    "z=np.arange(1000)\n",
    "f1=plt.figure(1)\n",
    "plt.plot(z,train_E,label=\"train\",color='red')\n",
    "plt.plot(z,test_E,label=\"test\",color='blue')\n",
    "plt.legend(loc='best')\n",
    "plt.title('Error')\n",
    "f1.show()\n",
    "\n",
    "f2=plt.figure(2)\n",
    "plt.plot(z,train_Acc,label=\"train\",color='red')\n",
    "plt.plot(z,test_Acc,label=\"test\",color='blue')\n",
    "plt.legend(loc='best')\n",
    "plt.title('Accuracy')\n",
    "f2.show()"
   ]
  },
  {
   "cell_type": "markdown",
   "metadata": {},
   "source": [
    "# Task 2\n",
    "\n",
    "In this taks you should implement a MLP model and train it with the 'Breast Cancer' dataset from [sklearn](https://scikit-learn.org/stable/datasets/index.html) library. Evaluate your model using 10 cross validation. Report the average accuracy of the model accross all folds. You can experiment with different architectures of the Neural Network."
   ]
  },
  {
   "cell_type": "code",
   "execution_count": 97,
   "metadata": {},
   "outputs": [
    {
     "name": "stdout",
     "output_type": "stream",
     "text": [
      "Final Accuracy:  0.9613721804511279\n"
     ]
    }
   ],
   "source": [
    "from sklearn.datasets import load_breast_cancer\n",
    "from sklearn.model_selection import KFold\n",
    "\n",
    "x,y = load_breast_cancer(return_X_y = True)\n",
    "\n",
    "x = preprocessing.MinMaxScaler().fit_transform(x)\n",
    "y=y.reshape(len(y),1)\n",
    "kf = KFold(n_splits=10, shuffle=True)\n",
    "np.random.seed(42)\n",
    "test_Acc = []#for storing test error from each fold\n",
    "l = 0.05\n",
    "\n",
    "for train_index, test_index in kf.split(x):\n",
    "    #initialising parameters\n",
    "    w = np.random.uniform(-1,1,[x[train_index].shape[1],5])\n",
    "    w2 = np.random.uniform(-1,1,[5,1])\n",
    "    b = np.array([[0.,0.,0.,0.,0.]])\n",
    "    b2=np.array([[0.]])\n",
    "\n",
    "    for epoch in range(1000):\n",
    "        #feed forward\n",
    "        in_ = x[train_index]@w + b\n",
    "        out1 = ReLu(in_)\n",
    "        in2 = out1@w2+b2\n",
    "        out2 = sigmoid(in2)\n",
    "    \n",
    "        error = crossEntrop(out2 ,y[train_index]).mean()\n",
    "    \n",
    "        #backpropagation\n",
    "        dEdOut2 = crossEntrDeriv(out2, y[train_index])\n",
    "        dOut2dIn2 = sigmoid_derivative(in2)\n",
    "        dEdIn2 = dEdOut2*dOut2dIn2\n",
    "        dIn2dW2 = out1\n",
    "        dEdW2 = (1/x[train_index].shape[0])*dIn2dW2.T@dEdIn2\n",
    "        dEdB2 = (1/x[train_index].shape[0])*np.ones([1,len(x[train_index])])@dEdIn2\n",
    "        w2 -= l*dEdW2\n",
    "        b2 -= l*dEdB2\n",
    "    \n",
    "        dEdOut1 = dEdIn2 * w2.T\n",
    "        dOut1dIn1 = ReLu_derivative(in_)\n",
    "        dEdIn1 = dEdOut1*dOut1dIn1\n",
    "        dIn1dW = x[train_index]\n",
    "        dEdW = (1/x[train_index].shape[0])*dIn1dW.T@((dEdIn2@w2.T)*dOut1dIn1)\n",
    "        dEdB = (1/x[train_index].shape[0])*np.ones([len(x[train_index])])@((dEdIn2@w2.T)*dOut1dIn1)\n",
    "        w -= l*dEdW\n",
    "        b -= l*dEdB\n",
    "    #Accuracy\n",
    "    pred_test = np.where(sigmoid(ReLu(x[test_index]@w+b)@w2+b2) > 0.5,1,0)\n",
    "    test_Acc.append(metrics.accuracy_score(y[test_index],pred_test))\n",
    "\n",
    "print('Final Accuracy: ', sum(test_Acc)/len(test_Acc))"
   ]
  },
  {
   "cell_type": "code",
   "execution_count": null,
   "metadata": {},
   "outputs": [],
   "source": []
  }
 ],
 "metadata": {
  "kernelspec": {
   "display_name": "Python 3",
   "language": "python",
   "name": "python3"
  },
  "language_info": {
   "codemirror_mode": {
    "name": "ipython",
    "version": 3
   },
   "file_extension": ".py",
   "mimetype": "text/x-python",
   "name": "python",
   "nbconvert_exporter": "python",
   "pygments_lexer": "ipython3",
   "version": "3.7.3"
  }
 },
 "nbformat": 4,
 "nbformat_minor": 2
}
