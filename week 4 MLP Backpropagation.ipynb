{
 "cells": [
  {
   "cell_type": "code",
   "execution_count": 1,
   "metadata": {},
   "outputs": [],
   "source": [
    "import numpy as np\n",
    "from sklearn import metrics\n",
    "np.set_printoptions(precision=6)"
   ]
  },
  {
   "cell_type": "code",
   "execution_count": 2,
   "metadata": {},
   "outputs": [],
   "source": [
    "def sigmoid(v):\n",
    "    return 1/(1+np.exp(-v))"
   ]
  },
  {
   "cell_type": "code",
   "execution_count": 3,
   "metadata": {},
   "outputs": [],
   "source": [
    "def sigmoid_derivative(v):\n",
    "    return sigmoid(v)*(1-sigmoid(v))"
   ]
  },
  {
   "cell_type": "code",
   "execution_count": 4,
   "metadata": {},
   "outputs": [
    {
     "data": {
      "text/plain": [
       "0.18454645770996225"
      ]
     },
     "execution_count": 4,
     "metadata": {},
     "output_type": "execute_result"
    }
   ],
   "source": [
    "sigmoid_derivative(1.13)"
   ]
  },
  {
   "cell_type": "code",
   "execution_count": 5,
   "metadata": {},
   "outputs": [
    {
     "data": {
      "text/plain": [
       "array([0.196612, 0.104994, 0.045177])"
      ]
     },
     "execution_count": 5,
     "metadata": {},
     "output_type": "execute_result"
    }
   ],
   "source": [
    "sigmoid_derivative(np.array([1,2,3]))"
   ]
  },
  {
   "cell_type": "markdown",
   "metadata": {},
   "source": [
    "# Backpropagation with a single instance"
   ]
  },
  {
   "cell_type": "code",
   "execution_count": 6,
   "metadata": {},
   "outputs": [],
   "source": [
    "x = np.array([0.5,0.1])\n",
    "y = 0.9\n",
    "l=0.5"
   ]
  },
  {
   "cell_type": "markdown",
   "metadata": {},
   "source": [
    "**Forward Pass**"
   ]
  },
  {
   "cell_type": "code",
   "execution_count": 7,
   "metadata": {},
   "outputs": [
    {
     "name": "stdout",
     "output_type": "stream",
     "text": [
      "Input to layer 1:  [1.099 1.13 ]\n",
      "Output of layer 1:  [0.750073 0.755839]\n",
      "Input to layer 2:  [1.07789]\n",
      "Output of layer 2:  [0.746095]\n"
     ]
    }
   ],
   "source": [
    "w1 = np.array([[0.15, 0.2],[0.24, 0.3]])\n",
    "b1 = np.array([1,1])\n",
    "w2 = np.array([[-0.4],[0.5]])\n",
    "b2 = 1\n",
    "\n",
    "#Forward Pass\n",
    "inL1 = x@w1 + b1\n",
    "print('Input to layer 1: ',inL1)\n",
    "outL1 = sigmoid(inL1)\n",
    "print('Output of layer 1: ',outL1)\n",
    "inL2 = outL1@w2 + b2\n",
    "print('Input to layer 2: ', inL2)\n",
    "outL2 = sigmoid(inL2)\n",
    "print('Output of layer 2: ',outL2)"
   ]
  },
  {
   "cell_type": "markdown",
   "metadata": {},
   "source": [
    "**Error Calculation**"
   ]
  },
  {
   "cell_type": "code",
   "execution_count": 8,
   "metadata": {},
   "outputs": [
    {
     "name": "stdout",
     "output_type": "stream",
     "text": [
      "Error:  [0.011843]\n"
     ]
    }
   ],
   "source": [
    "w1 = np.array([[0.15, 0.2],[0.24, 0.3]])\n",
    "b1 = np.array([1,1])\n",
    "w2 = np.array([[-0.4],[0.5]])\n",
    "b2 = 1\n",
    "\n",
    "#Forward Pass\n",
    "inL1 = x@w1 + b1\n",
    "outL1 = sigmoid(inL1)\n",
    "inL2 = outL1@w2 + b2\n",
    "outL2 = sigmoid(inL2)\n",
    "\n",
    "#Error calulation\n",
    "e = 0.5*np.power(y-outL2, 2)\n",
    "print('Error: ', e)"
   ]
  },
  {
   "cell_type": "markdown",
   "metadata": {},
   "source": [
    "**Backpropagation Layer 2**"
   ]
  },
  {
   "cell_type": "code",
   "execution_count": 9,
   "metadata": {},
   "outputs": [
    {
     "name": "stdout",
     "output_type": "stream",
     "text": [
      "dEdOutL2:  [-0.153905]\n",
      "dEdInL2:  [-0.029155]\n",
      "dEdW2:  [[-0.021869]\n",
      " [-0.022037]]\n",
      "dEdB2:  [-0.029155]\n"
     ]
    }
   ],
   "source": [
    "w1 = np.array([[0.15, 0.2],[0.24, 0.3]])\n",
    "b1 = np.array([1,1])\n",
    "w2 = np.array([[-0.4],[0.5]])\n",
    "b2 = 1\n",
    "\n",
    "#Forward Pass\n",
    "inL1 = x@w1 + b1\n",
    "outL1 = sigmoid(inL1)\n",
    "inL2 = outL1@w2 + b2\n",
    "outL2 = sigmoid(inL2)\n",
    "\n",
    "#Error calulation\n",
    "e = 0.5*np.power(y-outL2, 2)\n",
    "\n",
    "#Backpropagation layer 2\n",
    "dEdOutL2 = outL2 - y\n",
    "print('dEdOutL2: ', dEdOutL2)\n",
    "dOutL2dInL2 = sigmoid_derivative(inL2)\n",
    "dEdInL2 = dEdOutL2*dOutL2dInL2\n",
    "print('dEdInL2: ',dEdInL2)\n",
    "dInL2dW2 = outL1\n",
    "dEdW2 = outL1.reshape([len(outL1),1])*dEdInL2\n",
    "print('dEdW2: ',dEdW2)\n",
    "dEdB2 = dOutL2dInL2*dEdOutL2\n",
    "print('dEdB2: ',dEdB2)"
   ]
  },
  {
   "cell_type": "markdown",
   "metadata": {},
   "source": [
    "**Backpropagation Layer 2 - cleaner version**"
   ]
  },
  {
   "cell_type": "code",
   "execution_count": 10,
   "metadata": {},
   "outputs": [
    {
     "name": "stdout",
     "output_type": "stream",
     "text": [
      "dEdW2:  [[-0.021869]\n",
      " [-0.022037]]\n",
      "dEdB2:  [-0.029155]\n"
     ]
    }
   ],
   "source": [
    "w1 = np.array([[0.15, 0.2],[0.24, 0.3]])\n",
    "b1 = np.array([1,1])\n",
    "w2 = np.array([[-0.4],[0.5]])\n",
    "b2 = 1\n",
    "\n",
    "#Forward Pass\n",
    "inL1 = x@w1 + b1\n",
    "outL1 = sigmoid(inL1)\n",
    "inL2 = outL1@w2 + b2\n",
    "outL2 = sigmoid(inL2)\n",
    "\n",
    "#Error calulation\n",
    "e = 0.5*np.power(y-outL2, 2)\n",
    "\n",
    "#Backpropagation layer 2\n",
    "dEdW2 = outL1.reshape([len(outL1),1])*sigmoid_derivative(inL2)*(outL2 - y)\n",
    "dEdB2 = sigmoid_derivative(inL2)*(outL2 - y)\n",
    "\n",
    "print('dEdW2: ',dEdW2)\n",
    "print('dEdB2: ',dEdB2)"
   ]
  },
  {
   "cell_type": "markdown",
   "metadata": {},
   "source": [
    "**Backpropagation Layer 1**"
   ]
  },
  {
   "cell_type": "code",
   "execution_count": 11,
   "metadata": {},
   "outputs": [
    {
     "name": "stdout",
     "output_type": "stream",
     "text": [
      "dEdOutL1:  [[ 0.011662 -0.014578]]\n",
      "dEdInL1:  [[ 0.002186 -0.00269 ]]\n",
      "dEdW1:  [[ 0.001093 -0.001345]\n",
      " [ 0.000219 -0.000269]]\n",
      "dEdB1:  [[ 0.002186 -0.00269 ]]\n"
     ]
    }
   ],
   "source": [
    "w1 = np.array([[0.15, 0.2],[0.24, 0.3]])\n",
    "b1 = np.array([1,1])\n",
    "w2 = np.array([[-0.4],[0.5]])\n",
    "b2 = 1\n",
    "\n",
    "#Forward Pass\n",
    "inL1 = x@w1 + b1\n",
    "outL1 = sigmoid(inL1)\n",
    "inL2 = outL1@w2 + b2\n",
    "outL2 = sigmoid(inL2)\n",
    "\n",
    "#Error calulation\n",
    "e = 0.5*np.power(y-outL2, 2)\n",
    "\n",
    "#Backpropagation layer 2\n",
    "dEdW2 = outL1.reshape([len(outL1),1])*sigmoid_derivative(inL2)*(outL2 - y)\n",
    "dEdB2 = sigmoid_derivative(inL2)*(outL2 - y)\n",
    "\n",
    "#Backpropagation layer 1\n",
    "dInL2dOutL1 = w2\n",
    "dEdOutL1 = dEdInL2 * dInL2dOutL1.T\n",
    "print('dEdOutL1: ', dEdOutL1)\n",
    "dOutL1dInL1 = sigmoid_derivative(inL1)\n",
    "dEdInL1 = dEdOutL1*dOutL1dInL1\n",
    "print('dEdInL1: ',dEdInL1)\n",
    "dInL1dW1 = x\n",
    "dEdW1 = dInL1dW1.reshape([len(dInL1dW1),1])@dEdInL1\n",
    "print('dEdW1: ', dEdW1)\n",
    "dEdB1 = dEdInL1\n",
    "print('dEdB1: ',dEdB1)"
   ]
  },
  {
   "cell_type": "markdown",
   "metadata": {},
   "source": [
    "**Backpropagation Layer 1 - cleaner version**"
   ]
  },
  {
   "cell_type": "code",
   "execution_count": 12,
   "metadata": {},
   "outputs": [
    {
     "name": "stdout",
     "output_type": "stream",
     "text": [
      "dEdW1:  [[ 0.001093 -0.001345]\n",
      " [ 0.000219 -0.000269]]\n",
      "dEdB1:  [[ 0.002186 -0.00269 ]]\n"
     ]
    }
   ],
   "source": [
    "w1 = np.array([[0.15, 0.2],[0.24, 0.3]])\n",
    "b1 = np.array([1,1])\n",
    "w2 = np.array([[-0.4],[0.5]])\n",
    "b2 = 1\n",
    "\n",
    "#Forward Pass\n",
    "inL1 = x@w1 + b1\n",
    "outL1 = sigmoid(inL1)\n",
    "inL2 = outL1@w2 + b2\n",
    "outL2 = sigmoid(inL2)\n",
    "\n",
    "#Error calulation\n",
    "e = 0.5*np.power(y-outL2, 2)\n",
    "\n",
    "#Backpropagation layer 2\n",
    "dEdW2 = outL1.reshape([len(outL1),1])*sigmoid_derivative(inL2)*(outL2 - y)\n",
    "dEdB2 = sigmoid_derivative(inL2)*(outL2 - y)\n",
    "\n",
    "#Backpropagation layer 1\n",
    "dEdW1 = x.reshape([len(x),1])@(sigmoid_derivative(inL2)*(outL2 - y)*(w2.T))*dOutL1dInL1\n",
    "dEdB1 = (sigmoid_derivative(inL2)*(outL2 - y)*(w2.T))*dOutL1dInL1\n",
    "print('dEdW1: ', dEdW1)\n",
    "print('dEdB1: ',dEdB1)"
   ]
  },
  {
   "cell_type": "code",
   "execution_count": 13,
   "metadata": {},
   "outputs": [
    {
     "name": "stdout",
     "output_type": "stream",
     "text": [
      "Error before:  [0.011843]\n",
      "Error afterL:  [[0.010953]]\n"
     ]
    }
   ],
   "source": [
    "w1 = np.array([[0.15, 0.2],[0.24, 0.3]])\n",
    "b1 = np.array([1,1])\n",
    "w2 = np.array([[-0.4],[0.5]])\n",
    "b2 = 1\n",
    "\n",
    "#Forward Pass\n",
    "inL1 = x@w1 + b1\n",
    "outL1 = sigmoid(inL1)\n",
    "inL2 = outL1@w2 + b2\n",
    "outL2 = sigmoid(inL2)\n",
    "\n",
    "#Error calulation\n",
    "e = 0.5*np.power(y-outL2, 2)\n",
    "print('Error before: ', e)\n",
    "\n",
    "#Backpropagation layer 2\n",
    "dEdW2 = outL1.reshape([len(outL1),1])*sigmoid_derivative(inL2)*(outL2 - y)\n",
    "dEdB2 = sigmoid_derivative(inL2)*(outL2 - y)\n",
    "\n",
    "#Backpropagation layer 2\n",
    "dEdW1 = x.reshape([len(x),1])@(sigmoid_derivative(inL2)*(outL2 - y)*(w2.T))*dOutL1dInL1\n",
    "dEdB1 = (sigmoid_derivative(inL2)*(outL2 - y)*(w2.T))*dOutL1dInL1\n",
    "\n",
    "#updating parameters\n",
    "w1 = w1 - l*dEdW1\n",
    "b1 = b1 - l*dEdB1\n",
    "w2 = w2 - l*dEdW2\n",
    "b2 = b2 - l*dEdB2\n",
    "\n",
    "#Forward Pass\n",
    "inL1 = x@w1 + b1\n",
    "outL1 = sigmoid(inL1)\n",
    "inL2 = outL1@w2 + b2\n",
    "outL2 = sigmoid(inL2)\n",
    "\n",
    "#Error calulation\n",
    "e = 0.5*np.power(y-outL2, 2)\n",
    "print('Error afterL: ',e)"
   ]
  },
  {
   "cell_type": "code",
   "execution_count": null,
   "metadata": {},
   "outputs": [],
   "source": []
  }
 ],
 "metadata": {
  "kernelspec": {
   "display_name": "Python 3",
   "language": "python",
   "name": "python3"
  },
  "language_info": {
   "codemirror_mode": {
    "name": "ipython",
    "version": 3
   },
   "file_extension": ".py",
   "mimetype": "text/x-python",
   "name": "python",
   "nbconvert_exporter": "python",
   "pygments_lexer": "ipython3",
   "version": "3.7.3"
  }
 },
 "nbformat": 4,
 "nbformat_minor": 2
}
