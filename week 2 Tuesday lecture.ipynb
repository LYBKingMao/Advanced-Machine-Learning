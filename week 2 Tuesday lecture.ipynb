{
 "cells": [
  {
   "cell_type": "code",
   "execution_count": 1,
   "metadata": {},
   "outputs": [],
   "source": [
    "import matplotlib.pyplot as plt\n",
    "import numpy as np \n",
    "from numpy import linalg as LA "
   ]
  },
  {
   "cell_type": "code",
   "execution_count": 2,
   "metadata": {},
   "outputs": [],
   "source": [
    "adver=np.array([[23],[26],[30],[34],[43],[48],[52],[57],[58]])\n",
    "sale=np.array([[652],[762],[856],[1063],[1190],[1298],[1421],[1440],[1518]])"
   ]
  },
  {
   "cell_type": "code",
   "execution_count": 3,
   "metadata": {},
   "outputs": [
    {
     "data": {
      "text/plain": [
       "(9, 1)"
      ]
     },
     "execution_count": 3,
     "metadata": {},
     "output_type": "execute_result"
    }
   ],
   "source": [
    "adver.shape"
   ]
  },
  {
   "cell_type": "code",
   "execution_count": 4,
   "metadata": {},
   "outputs": [
    {
     "data": {
      "text/plain": [
       "array([[1.],\n",
       "       [1.],\n",
       "       [1.],\n",
       "       [1.],\n",
       "       [1.],\n",
       "       [1.],\n",
       "       [1.],\n",
       "       [1.],\n",
       "       [1.]])"
      ]
     },
     "execution_count": 4,
     "metadata": {},
     "output_type": "execute_result"
    }
   ],
   "source": [
    "bias = np.ones([adver.shape[0],1])\n",
    "bias"
   ]
  },
  {
   "cell_type": "code",
   "execution_count": 5,
   "metadata": {},
   "outputs": [
    {
     "data": {
      "text/plain": [
       "array([[ 1., 23.],\n",
       "       [ 1., 26.],\n",
       "       [ 1., 30.],\n",
       "       [ 1., 34.],\n",
       "       [ 1., 43.],\n",
       "       [ 1., 48.],\n",
       "       [ 1., 52.],\n",
       "       [ 1., 57.],\n",
       "       [ 1., 58.]])"
      ]
     },
     "execution_count": 5,
     "metadata": {},
     "output_type": "execute_result"
    }
   ],
   "source": [
    "x = np.concatenate((bias, adver), 1)\n",
    "y=sale\n",
    "x"
   ]
  },
  {
   "cell_type": "code",
   "execution_count": 8,
   "metadata": {},
   "outputs": [
    {
     "data": {
      "text/plain": [
       "[<matplotlib.lines.Line2D at 0x2c646447240>,\n",
       " <matplotlib.lines.Line2D at 0x2c6464473c8>]"
      ]
     },
     "execution_count": 8,
     "metadata": {},
     "output_type": "execute_result"
    },
    {
     "data": {
      "image/png": "[encoded data removed]",
      "text/plain": [
       "<Figure size 432x288 with 1 Axes>"
      ]
     },
     "metadata": {
      "needs_background": "light"
     },
     "output_type": "display_data"
    }
   ],
   "source": [
    "plt.plot(adver,sale, 'or', adver, x@B, 'b-') #could also be B[0] + B[1]*adver"
   ]
  },
  {
   "cell_type": "code",
   "execution_count": 7,
   "metadata": {},
   "outputs": [
    {
     "data": {
      "text/plain": [
       "array([[168.3165868 ],\n",
       "       [ 23.41010975]])"
      ]
     },
     "execution_count": 7,
     "metadata": {},
     "output_type": "execute_result"
    }
   ],
   "source": [
    "B = LA.inv(x.T@x)@x.T@y\n",
    "B"
   ]
  },
  {
   "cell_type": "code",
   "execution_count": 76,
   "metadata": {},
   "outputs": [
    {
     "name": "stdout",
     "output_type": "stream",
     "text": [
      "Mean absolute error:  34.47649473557648\n",
      "Mean square error:  2077.0858968413418\n"
     ]
    }
   ],
   "source": [
    "#we can evaluate the model using one of the performance measures\n",
    "predictions = x@B\n",
    "\n",
    "#mean absolute error\n",
    "e1 = (np.abs(predictions - y)).mean()\n",
    "\n",
    "#mean square error\n",
    "e2 = (np.square(predictions - y)).mean()\n",
    "\n",
    "print('Mean absolute error: ', e1)\n",
    "print('Mean square error: ', e2)"
   ]
  },
  {
   "cell_type": "markdown",
   "metadata": {},
   "source": [
    "**Ridge regression with regularization alpha = 0.5**"
   ]
  },
  {
   "cell_type": "code",
   "execution_count": 83,
   "metadata": {},
   "outputs": [
    {
     "data": {
      "text/plain": [
       "array([[102.43825748],\n",
       "       [ 24.87017939]])"
      ]
     },
     "execution_count": 83,
     "metadata": {},
     "output_type": "execute_result"
    }
   ],
   "source": [
    "B1 = LA.inv(x.T@x + 0.5*np.eye(x.shape[1]))@x.T@y\n",
    "B1"
   ]
  },
  {
   "cell_type": "code",
   "execution_count": 85,
   "metadata": {},
   "outputs": [
    {
     "data": {
      "text/plain": [
       "[<matplotlib.lines.Line2D at 0x117410cc0>,\n",
       " <matplotlib.lines.Line2D at 0x117410ba8>,\n",
       " <matplotlib.lines.Line2D at 0x1175c2d68>]"
      ]
     },
     "execution_count": 85,
     "metadata": {},
     "output_type": "execute_result"
    },
    {
     "data": {
      "image/png": "[encoded data removed]",
      "text/plain": [
       "<matplotlib.figure.Figure at 0x11a0dba90>"
      ]
     },
     "metadata": {},
     "output_type": "display_data"
    }
   ],
   "source": [
    "plt.plot(adver,sale, 'or', adver, x@B, 'b-', adver, x@B1, 'g-')"
   ]
  },
  {
   "cell_type": "code",
   "execution_count": 87,
   "metadata": {},
   "outputs": [
    {
     "name": "stdout",
     "output_type": "stream",
     "text": [
      "Mean absolute error:  34.44646504940076\n",
      "Mean square error:  2449.9830672424487\n"
     ]
    }
   ],
   "source": [
    "predictions1 = x@B1\n",
    "\n",
    "#mean absolute error\n",
    "e1_r = (np.abs(predictions1 - y)).mean()\n",
    "\n",
    "#mean square error\n",
    "e2_r = (np.square(predictions1 - y)).mean()\n",
    "\n",
    "print('Mean absolute error: ', e1_r)\n",
    "print('Mean square error: ', e2_r)"
   ]
  },
  {
   "cell_type": "code",
   "execution_count": null,
   "metadata": {},
   "outputs": [],
   "source": []
  }
 ],
 "metadata": {
  "kernelspec": {
   "display_name": "Python 3",
   "language": "python",
   "name": "python3"
  },
  "language_info": {
   "codemirror_mode": {
    "name": "ipython",
    "version": 3
   },
   "file_extension": ".py",
   "mimetype": "text/x-python",
   "name": "python",
   "nbconvert_exporter": "python",
   "pygments_lexer": "ipython3",
   "version": "3.7.3"
  }
 },
 "nbformat": 4,
 "nbformat_minor": 2
}
