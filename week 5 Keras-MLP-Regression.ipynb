{
 "cells": [
  {
   "cell_type": "code",
   "execution_count": 87,
   "metadata": {},
   "outputs": [],
   "source": [
    "import keras\n",
    "from keras.models import Sequential\n",
    "from keras.layers import Dense\n",
    "from sklearn.model_selection import train_test_split\n",
    "from sklearn import preprocessing\n",
    "import numpy as np\n",
    "np.set_printoptions(suppress=True)\n",
    "from numpy.random import seed\n",
    "from tensorflow import set_random_seed\n",
    "from sklearn.datasets import load_boston"
   ]
  },
  {
   "cell_type": "code",
   "execution_count": 88,
   "metadata": {},
   "outputs": [
    {
     "name": "stdout",
     "output_type": "stream",
     "text": [
      "(506, 13)\n",
      "[[  0.00632  18.        2.31    ...  15.3     396.9       4.98   ]\n",
      " [  0.02731   0.        7.07    ...  17.8     396.9       9.14   ]\n",
      " [  0.02729   0.        7.07    ...  17.8     392.83      4.03   ]\n",
      " ...\n",
      " [  0.06076   0.       11.93    ...  21.      396.9       5.64   ]\n",
      " [  0.10959   0.       11.93    ...  21.      393.45      6.48   ]\n",
      " [  0.04741   0.       11.93    ...  21.      396.9       7.88   ]]\n"
     ]
    }
   ],
   "source": [
    "x,y = load_boston(return_X_y=True)\n",
    "#x = preprocessing.MinMaxScaler().fit_transform(x)\n",
    "x_train, x_test, y_train, y_test = train_test_split(x, y, test_size=0.33, shuffle = True, random_state=42)\n",
    "n_features = x.shape[1]\n",
    "print(x.shape)\n",
    "print(x)"
   ]
  },
  {
   "cell_type": "code",
   "execution_count": 89,
   "metadata": {},
   "outputs": [],
   "source": [
    "seed(0)\n",
    "set_random_seed(0)\n",
    "\n",
    "model = Sequential()\n",
    "model.add(Dense(15, input_dim = n_features, activation='relu', kernel_initializer='random_uniform', bias_initializer='zeros'))\n",
    "model.add(Dense(1, activation='relu', kernel_initializer='random_uniform', bias_initializer='zeros'))\n",
    "# compile the model\n",
    "model.compile(optimizer='sgd', loss='mse')\n",
    "# fit the model\n",
    "history = model.fit(x_train, y_train, epochs=100, batch_size=32, validation_data =(x_test,y_test),verbose=0)"
   ]
  },
  {
   "cell_type": "code",
   "execution_count": 90,
   "metadata": {},
   "outputs": [
    {
     "name": "stdout",
     "output_type": "stream",
     "text": [
      "Error:  544.1288061084862\n"
     ]
    }
   ],
   "source": [
    "# evaluate the model\n",
    "error = model.evaluate(x_test, y_test, verbose=0)\n",
    "print('Error: ', error)"
   ]
  },
  {
   "cell_type": "code",
   "execution_count": null,
   "metadata": {},
   "outputs": [],
   "source": []
  },
  {
   "cell_type": "code",
   "execution_count": 85,
   "metadata": {},
   "outputs": [
    {
     "data": {
      "image/png": "[encoded data removed]",
      "text/plain": [
       "<matplotlib.figure.Figure at 0x1a34f1b390>"
      ]
     },
     "metadata": {},
     "output_type": "display_data"
    }
   ],
   "source": [
    "import matplotlib.pyplot as plt\n",
    "\n",
    "# Plot training & validation loss values\n",
    "plt.plot(history.history['loss'])\n",
    "plt.plot(history.history['val_loss'])\n",
    "plt.title('Model loss')\n",
    "plt.ylabel('Loss')\n",
    "plt.xlabel('Epoch')\n",
    "plt.legend(['Train', 'Test'], loc='upper left')\n",
    "plt.show()"
   ]
  },
  {
   "cell_type": "code",
   "execution_count": 86,
   "metadata": {},
   "outputs": [
    {
     "name": "stdout",
     "output_type": "stream",
     "text": [
      "[-0.]\n",
      "[-0.]\n",
      "[-0.]\n",
      "[-0.]\n",
      "[-0.]\n"
     ]
    }
   ],
   "source": [
    "pred = model.predict(x_test)\n",
    "\n",
    "for i in range(5):\n",
    "    print(pred[i])"
   ]
  },
  {
   "cell_type": "code",
   "execution_count": null,
   "metadata": {},
   "outputs": [],
   "source": []
  }
 ],
 "metadata": {
  "kernelspec": {
   "display_name": "Python 3",
   "language": "python",
   "name": "python3"
  },
  "language_info": {
   "codemirror_mode": {
    "name": "ipython",
    "version": 3
   },
   "file_extension": ".py",
   "mimetype": "text/x-python",
   "name": "python",
   "nbconvert_exporter": "python",
   "pygments_lexer": "ipython3",
   "version": "3.6.8"
  }
 },
 "nbformat": 4,
 "nbformat_minor": 2
}
