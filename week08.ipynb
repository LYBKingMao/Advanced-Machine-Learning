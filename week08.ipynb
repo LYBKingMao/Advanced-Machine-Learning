{
 "cells": [
  {
   "cell_type": "markdown",
   "metadata": {},
   "source": [
    "In this Practical you will implement different architectures of neural networks for solving the sentiment analysis task. Last week you applied Multilayer Perceptron with average embedding vectors passed as input to perform the same task. This time you will used the Embedding layer available in Keras. Instead of a single (averaged) embedding vector, the model will take a sequence of embeddings as input. You will explore the following network architectures:\n",
    "1. Multilayer Perceptron with the Embedding layer, which allows to learn an embedding for each word in the training set along with the neural network learning process.\n",
    "2. Multilayer Perceptron with the Embedding layer and custom pre-trained word embeddings.\n",
    "3. Convolutional Neural Network with the pre-trained word embeddings."
   ]
  },
  {
   "cell_type": "markdown",
   "metadata": {},
   "source": [
    "# Task 1: MLP with Embedding Layer"
   ]
  },
  {
   "cell_type": "markdown",
   "metadata": {},
   "source": [
    "**T.1** Load the yelp reviews dataset. Split it into input/output and train/test sets."
   ]
  },
  {
   "cell_type": "code",
   "execution_count": 115,
   "metadata": {},
   "outputs": [],
   "source": [
    "import pandas as pd\n",
    "from sklearn.model_selection import train_test_split\n",
    "\n",
    "df = pd.read_csv('yelp_reviews.csv',encoding = \"ISO-8859-1\", header=None)\n",
    "\n",
    "#select input and output variables\n",
    "data = df.values[:,0]\n",
    "labels = df.values[:,1]"
   ]
  },
  {
   "cell_type": "code",
   "execution_count": 116,
   "metadata": {},
   "outputs": [],
   "source": [
    "x_train, x_test, y_train, y_test = train_test_split(data, labels,test_size=0.2, random_state=0)"
   ]
  },
  {
   "cell_type": "code",
   "execution_count": 142,
   "metadata": {},
   "outputs": [],
   "source": [
    "import matplotlib.pyplot as plt"
   ]
  },
  {
   "cell_type": "code",
   "execution_count": 117,
   "metadata": {},
   "outputs": [
    {
     "name": "stdout",
     "output_type": "stream",
     "text": [
      "['Wow... Loved this place.' 'Crust is not good.'\n",
      " 'Not tasty and the texture was just nasty.'\n",
      " 'Stopped by during the late May bank holiday off Rick Steve recommendation and loved it.'\n",
      " 'The selection on the menu was great and so were the prices.'\n",
      " 'Now I am getting angry and I want my damn pho.'\n",
      " \"Honeslty it didn't taste THAT fresh.)\"\n",
      " 'The potatoes were like rubber and you could tell they had been made up ahead of time being kept under a warmer.'\n",
      " 'The fries were great too.' 'A great touch.' 'Service was very prompt.'\n",
      " 'Would not go back.'\n",
      " 'The cashier had no care what so ever on what I had to say it still ended up being wayyy overpriced.'\n",
      " 'I tried the Cape Cod ravoli, chicken,with cranberry...mmmm!'\n",
      " 'I was disgusted because I was pretty sure that was human hair.'\n",
      " 'I was shocked because no signs indicate cash only.'\n",
      " 'Highly recommended.' 'Waitress was a little slow in service.'\n",
      " 'This place is not worth your time, let alone Vegas.'\n",
      " 'did not like at all.' 'The Burrittos Blah!' 'The food, amazing.'\n",
      " 'Service is also cute.'\n",
      " 'I could care less... The interior is just beautiful.'\n",
      " 'So they performed.'\n",
      " \"That's right....the red velvet cake.....ohhh this stuff is so good.\"\n",
      " 'This hole in the wall has great Mexican street tacos, and friendly staff.'\n",
      " 'Took an hour to get our food only 4 tables in restaurant my food was Luke warm, Our sever was running around like he was totally overwhelmed.'\n",
      " 'The worst was the salmon sashimi.'\n",
      " 'Also there are combos like a burger, fries, and beer for 23 which is a decent deal.'\n",
      " 'This was like the final blow!'\n",
      " 'I found this place by accident and I could not be happier.'\n",
      " 'seems like a good quick place to grab a bite of some familiar pub food, but do yourself a favor and look elsewhere.'\n",
      " 'Overall, I like this place a lot.'\n",
      " 'The only redeeming quality of the restaurant was that it was very inexpensive.'\n",
      " 'Ample portions and good prices.'\n",
      " 'Poor service, the waiter made me feel like I was stupid every time he came to the table.'\n",
      " 'My first visit to Hiro was a delight!' 'Service sucks.'\n",
      " 'The shrimp tender and moist.'\n",
      " 'There is not a deal good enough that would drag me into that establishment again.'\n",
      " \"Hard to judge whether these sides were good because we were grossed out by the melted styrofoam and didn't want to eat it for fear of getting sick.\"\n",
      " 'On a positive note, our server was very attentive and provided great service.'\n",
      " 'Frozen pucks of disgust, with some of the worst people behind the register.'\n",
      " 'The only thing I did like was the prime rib and dessert section.'\n",
      " \"It's too bad the food is so damn generic.\"\n",
      " 'The burger is good beef, cooked just right.'\n",
      " 'If you want a sandwich just go to any Firehouse!!!!!'\n",
      " 'My side Greek salad with the Greek dressing was so tasty, and the pita and hummus was very refreshing.'\n",
      " 'We ordered the duck rare and it was pink and tender on the inside with a nice char on the outside.'\n",
      " 'He came running after us when he realized my husband had left his sunglasses on the table.'\n",
      " 'Their chow mein is so good!'\n",
      " \"They have horrible attitudes towards customers, and talk down to each one when customers don't enjoy their food.\"\n",
      " 'The portion was huge!'\n",
      " 'Loved it...friendly servers, great food, wonderful and imaginative menu.'\n",
      " 'The Heart Attack Grill in downtown Vegas is an absolutely flat-lined excuse for a restaurant.'\n",
      " 'Not much seafood and like 5 strings of pasta at the bottom.'\n",
      " 'The salad had just the right amount of sauce to not over power the scallop, which was perfectly cooked.'\n",
      " 'The ripped banana was not only ripped, but petrified and tasteless.'\n",
      " 'At least think to refill my water before I struggle to wave you over for 10 minutes.'\n",
      " 'This place receives stars for their APPETIZERS!!!'\n",
      " 'The cocktails are all handmade and delicious.'\n",
      " \"We'd definitely go back here again.\"\n",
      " 'We are so glad we found this place.'\n",
      " 'Great food and service, huge portions and they give a military discount.'\n",
      " 'Always a great time at Dos Gringos!'\n",
      " 'Update.....went back for a second time and it was still just as amazing'\n",
      " 'We got the food and apparently they have never heard of salt and the batter on the fish was chewy.'\n",
      " 'A great way to finish a great.'\n",
      " 'The deal included 5 tastings and 2 drinks, and Jeff went above and beyond what we expected.'\n",
      " 'The service was meh.'\n",
      " 'It took over 30 min to get their milkshake, which was nothing more than chocolate milk.'\n",
      " \"I guess I should have known that this place would suck, because it is inside of the Excalibur, but I didn't use my common sense.\"\n",
      " 'The scallop dish is quite appalling for value as well.'\n",
      " '2 times - Very Bad Customer Service !'\n",
      " 'The sweet potato fries were very good and seasoned well.'\n",
      " \"Today is the second time I've been to their lunch buffet and it was pretty good.\"\n",
      " 'There is so much good food in Vegas that I feel cheated for wasting an eating opportunity by going to Rice and Company.'\n",
      " \"Coming here is like experiencing an underwhelming relationship where both parties can't wait for the other person to ask to break up.\"\n",
      " 'walked in and the place smelled like an old grease trap and only 2 others there eating.'\n",
      " 'The turkey and roast beef were bland.' 'This place has it!'\n",
      " 'The pan cakes everyone are raving about taste like a sugary disaster tailored to the palate of a six year old.'\n",
      " 'I love the Pho and the spring rolls oh so yummy you have to try.'\n",
      " 'The poor batter to meat ratio made the chicken tenders very unsatisfying.'\n",
      " 'All I have to say is the food was amazing!!!' 'Omelets are to die for!'\n",
      " 'Everything was fresh and delicious!'\n",
      " 'In summary, this was a largely disappointing dining experience.'\n",
      " \"It's like a really sexy party in your mouth, where you're outrageously flirting with the hottest person at the party.\"\n",
      " 'Never been to Hard Rock Casino before, WILL NEVER EVER STEP FORWARD IN IT AGAIN!'\n",
      " 'Best breakfast buffet!!!' 'say bye bye to your tip lady!'\n",
      " \"We'll never go again.\" 'Will be back again!' 'Food arrived quickly!'\n",
      " 'It was not good.' 'On the up side, their cafe serves really good food.'\n",
      " 'Our server was fantastic and when he found out the wife loves roasted garlic and bone marrow, he added extra to our meal and another marrow to go!'\n",
      " \"The only good thing was our waiter, he was very helpful and kept the bloddy mary's coming.\"\n",
      " 'Best Buffet in town, for the price you cannot beat it.'\n",
      " 'I LOVED their mussels cooked in this wine reduction, the duck was tender, and their potato dishes were delicious.'\n",
      " 'This is one of the better buffets that I have been to.'\n",
      " 'So we went to Tigerlilly and had a fantastic afternoon!'\n",
      " 'The food was delicious, our bartender was attentive and personable AND we got a great deal!'\n",
      " 'The ambience is wonderful and there is music playing.'\n",
      " 'Will go back next trip out.' 'Sooooo good!!'\n",
      " \"REAL sushi lovers, let's be honest - Yama is not that good.\"\n",
      " \"At least 40min passed in between us ordering and the food arriving, and it wasn't that busy.\"\n",
      " 'This is a really fantastic Thai restaurant which is definitely worth a visit.'\n",
      " 'Nice, spicy and tender.' 'Good prices.' 'Check it out.'\n",
      " 'It was pretty gross!' \"I've had better atmosphere.\"\n",
      " 'Kind of hard to mess up a steak but they did.'\n",
      " 'Although I very much liked the look and sound of this place, the actual experience was a bit disappointing.'\n",
      " \"I just don't know how this place managed to served the blandest food I have ever eaten when they are preparing Indian cuisine.\"\n",
      " 'Worst service to boot, but that is the least of their worries.'\n",
      " 'Service was fine and the waitress was friendly.'\n",
      " \"The guys all had steaks, and our steak loving son who has had steak at the best and worst places said it was the best steak he's ever eaten.\"\n",
      " \"We thought you'd have to venture further away to get good sushi, but this place really hit the spot that night.\"\n",
      " 'Host staff were, for lack of a better word, BITCHES!'\n",
      " \"Bland... Not a liking this place for a number of reasons and I don't want to waste time on bad reviewing.. I'll leave it at that...\"\n",
      " 'Phenomenal food, service and ambiance.' \"I wouldn't return.\"\n",
      " \"Definitely worth venturing off the strip for the pork belly, will return next time I'm in Vegas.\"\n",
      " 'This place is way too overpriced for mediocre food.'\n",
      " 'Penne vodka excellent!'\n",
      " 'They have a good selection of food including a massive meatloaf sandwich, a crispy chicken wrap, a delish tuna melt and some tasty burgers.'\n",
      " 'The management is rude.'\n",
      " 'Delicious NYC bagels, good selections of cream cheese, real Lox with capers even.'\n",
      " \"Great Subway, in fact it's so good when you come here every other Subway will not meet your expectations.\"\n",
      " 'I had a seriously solid breakfast here.'\n",
      " 'This is one of the best bars with food in Vegas.'\n",
      " 'He was extremely rude and really, there are so many other restaurants I would love to dine at during a weekend in Vegas.'\n",
      " 'My drink was never empty and he made some really great menu suggestions.'\n",
      " \"Don't do it!!!!\"\n",
      " \"The waiter wasn't helpful or friendly and rarely checked on us.\"\n",
      " 'My husband and I ate lunch here and were very disappointed with the food and service.'\n",
      " \"And the red curry had so much bamboo shoots and wasn't very tasty to me.\"\n",
      " 'Nice blanket of moz over top but i feel like this was done to cover up the subpar food.'\n",
      " 'The bathrooms are clean and the place itself is well decorated.'\n",
      " 'The menu is always changing, food quality is going down & service is extremely slow.'\n",
      " 'The service was a little slow , considering that were served by 3 people servers so the food was coming in a slow pace.'\n",
      " 'I give it 2 thumbs down'\n",
      " 'We watched our waiter pay a lot more attention to other tables and ignore us.'\n",
      " 'My fiancé and I came in the middle of the day and we were greeted and seated right away.'\n",
      " 'This is a great restaurant at the Mandalay Bay.'\n",
      " 'We waited for forty five minutes in vain.'\n",
      " 'Crostini that came with the salad was stale.'\n",
      " 'Some highlights : Great quality nigiri here!'\n",
      " 'the staff is friendly and the joint is always clean.'\n",
      " 'this was a different cut than the piece the other day but still wonderful and tender s well as well flavored.'\n",
      " \"I ordered the Voodoo pasta and it was the first time I'd had really excellent pasta since going gluten free several years ago.\"\n",
      " 'this place is good.'\n",
      " 'Unfortunately, we must have hit the bakery on leftover day because everything we ordered was STALE.'\n",
      " 'I came back today since they relocated and still not impressed.'\n",
      " 'I was seated immediately.'\n",
      " 'Their menu is diverse, and reasonably priced.' 'Avoid at all cost!'\n",
      " 'Restaurant is always full but never a wait.' 'DELICIOUS!!'\n",
      " 'This place is hands-down one of the best places to eat in the Phoenix metro area.'\n",
      " \"So don't go there if you are looking for good food...\"\n",
      " \"I've never been treated so bad.\" 'Bacon is hella salty.'\n",
      " 'We also ordered the spinach and avocado salad; the ingredients were sad and the dressing literally had zero taste.'\n",
      " 'This really is how Vegas fine dining used to be, right down to the menus handed to the ladies that have no prices listed.'\n",
      " 'The waitresses are very friendly.'\n",
      " 'Lordy, the Khao Soi is a dish that is not to be missed for curry lovers!'\n",
      " 'Everything on the menu is terrific and we were also thrilled that they made amazing accommodations for our vegetarian daughter.'\n",
      " \"Perhaps I caught them on an off night judging by the other reviews, but I'm not inspired to go back.\"\n",
      " 'The service here leaves a lot to be desired.'\n",
      " 'The atmosphere is modern and hip, while maintaining a touch of coziness.'\n",
      " 'Not a weekly haunt, but definitely a place to come back to every once in a while.'\n",
      " 'We literally sat there for 20 minutes with no one asking to take our order.'\n",
      " 'The burger had absolutely no flavor - the meat itself was totally bland, the burger was overcooked and there was no charcoal flavor.'\n",
      " 'I also decided not to send it back because our waitress looked like she was on the verge of having a heart attack.'\n",
      " 'I dressed up to be treated so rudely!' 'It was probably dirt.'\n",
      " 'Love this place, hits the spot when I want something healthy but not lacking in quantity or flavor.'\n",
      " 'I ordered the Lemon raspberry ice cocktail which was also incredible.'\n",
      " 'The food sucked, which we expected but it sucked more than we could have imagined.'\n",
      " 'Interesting decor.' 'What I really like there is the crepe station.'\n",
      " 'Also were served hot bread and butter, and home made potato chips with bacon bits on top....very original and very good.'\n",
      " 'you can watch them preparing the delicious food!)'\n",
      " 'Both of the egg rolls were fantastic.'\n",
      " 'When my order arrived, one of the gyros was missing.'\n",
      " 'I had a salad with the wings, and some ice cream for dessert and left feeling quite satisfied.'\n",
      " \"I'm not really sure how Joey's was voted best hot dog in the Valley by readers of Phoenix Magazine.\"\n",
      " 'The best place to go for a tasty bowl of Pho!'\n",
      " 'The live music on Fridays totally blows.'\n",
      " \"I've never been more insulted or felt disrespected.\"\n",
      " 'Very friendly staff.' 'It is worth the drive.'\n",
      " 'I had heard good things about this place, but it exceeding every hope I could have dreamed of.'\n",
      " 'Food was great and so was the serivce!' \"The warm beer didn't help.\"\n",
      " 'Great brunch spot.' 'Service is friendly and inviting.'\n",
      " 'Very good lunch spot.'\n",
      " \"I've lived here since 1979 and this was the first (and last) time I've stepped foot into this place.\"\n",
      " 'The WORST EXPERIENCE EVER.' 'Must have been an off night at this place.'\n",
      " 'The sides are delish - mixed mushrooms, yukon gold puree, white corn - beateous.'\n",
      " 'If that bug never showed up I would have given a 4 for sure, but on the other side of the wall where this bug was climbing was the kitchen.'\n",
      " \"For about 10 minutes, we we're waiting for her salad when we realized that it wasn't coming any time soon.\"\n",
      " 'My friend loved the salmon tartar.' \"Won't go back.\" 'Extremely Tasty!'\n",
      " 'Waitress was good though!' 'Soggy and not good.'\n",
      " 'The Jamaican mojitos are delicious.'\n",
      " 'Which are small and not worth the price.'\n",
      " \"The shower area is outside so you can only rinse, not take a full shower, unless you don't mind being nude for everyone to see!\"\n",
      " 'The service was a bit lacking.'\n",
      " 'Lobster Bisque, Bussell Sprouts, Risotto, Filet ALL needed salt and pepper..and of course there is none at the tables.'\n",
      " 'Hopefully this bodes for them going out of business and someone who can cook can come in.'\n",
      " 'It was either too cold, not enough flavor or just bad.'\n",
      " 'I loved the bacon wrapped dates.' 'This is an unbelievable BARGAIN!'\n",
      " 'The folks at Otto always make us feel so welcome and special.'\n",
      " 'As for the \"mains,\" also uninspired.'\n",
      " 'This is the place where I first had pho and it was amazing!!'\n",
      " 'This wonderful experience made this place a must-stop whenever we are in town again.'\n",
      " \"If the food isn't bad enough for you, then enjoy dealing with the world's worst/annoying drunk people.\"\n",
      " 'Very very fun chef.'\n",
      " 'Ordered a double cheeseburger & got a single patty that was falling apart (picture uploaded) Yeah, still sucks.'\n",
      " \"Great place to have a couple drinks and watch any and all sporting events as the walls are covered with TV's.\"\n",
      " \"If it were possible to give them zero stars, they'd have it.\"\n",
      " 'The descriptions said \"yum yum sauce\" and another said \"eel sauce\", yet another said \"spicy mayo\"...well NONE of the rolls had sauces on them.'\n",
      " \"I'd say that would be the hardest decision... Honestly, all of M's dishes taste how they are supposed to taste (amazing).\"\n",
      " 'If she had not rolled the eyes we may have stayed... Not sure if we will go back and try it again.'\n",
      " 'Everyone is very attentive, providing excellent customer service.'\n",
      " \"Horrible - don't waste your time and money.\"\n",
      " 'Now this dish was quite flavourful.'\n",
      " 'By this time our side of the restaurant was almost empty so there was no excuse.'\n",
      " \"(It wasn't busy either) Also, the building was FREEZING cold.\"\n",
      " 'like the other reviewer said \"you couldn\\'t pay me to eat at this place again.\"'\n",
      " '-Drinks took close to 30 minutes to come out at one point.'\n",
      " 'Seriously flavorful delights, folks.'\n",
      " 'Much better than the other AYCE sushi place I went to in Vegas.'\n",
      " 'The lighting is just dark enough to set the mood.'\n",
      " \"Based on the sub-par service I received and no effort to show their gratitude for my business I won't be going back.\"\n",
      " \"Owner's are really great people.!\"\n",
      " 'There is nothing privileged about working/eating there.'\n",
      " 'The Greek dressing was very creamy and flavorful.'\n",
      " \"Overall, I don't think that I would take my parents to this place again because they made most of the similar complaints that I silently felt too.\"\n",
      " 'Now the pizza itself was good the peanut sauce was very tasty.'\n",
      " 'We had 7 at our table and the service was pretty fast.'\n",
      " 'Fantastic service here.'\n",
      " \"I as well would've given godfathers zero stars if possible.\"\n",
      " 'They know how to make them here.' 'very tough and very short on flavor!'\n",
      " 'I hope this place sticks around.'\n",
      " 'I have been in more than a few bars in Vegas, and do not ever recall being charged for tap water.'\n",
      " 'The restaurant atmosphere was exquisite.'\n",
      " 'Good service, very clean, and inexpensive, to boot!'\n",
      " 'The seafood was fresh and generous in portion.'\n",
      " \"Plus, it's only 8 bucks.\" 'The service was not up to par, either.'\n",
      " 'Thus far, have only visited twice and the food was absolutely delicious each time.'\n",
      " 'Just as good as when I had it more than a year ago!'\n",
      " 'For a self proclaimed coffee cafe, I was wildly disappointed.'\n",
      " 'The Veggitarian platter is out of this world!'\n",
      " 'You cant go wrong with any of the food here.' \"You can't beat that.\"\n",
      " 'Stopped by this place while in Madison for the Ironman, very friendly, kind staff.'\n",
      " 'The chefs were friendly and did a good job.'\n",
      " \"I've had better, not only from dedicated boba tea spots, but even from Jenni Pho.\"\n",
      " 'I liked the patio and the service was outstanding.'\n",
      " \"The goat taco didn't skimp on the meat and wow what FLAVOR!\"\n",
      " 'I think not again'\n",
      " 'I had the mac salad and it was pretty bland so I will not be getting that again.'\n",
      " \"I went to Bachi Burger on a friend's recommendation and was not disappointed.\"\n",
      " 'Service stinks here!' 'I waited and waited.'\n",
      " 'This place is not quality sushi, it is not a quality restaurant.'\n",
      " 'I would definitely recommend the wings as well as the pizza.'\n",
      " 'Great Pizza and Salads!'\n",
      " 'Things that went wrong: - They burned the saganaki.'\n",
      " 'We waited an hour for what was a breakfast I could have done 100 times better at home.'\n",
      " 'This place is amazing!'\n",
      " 'I hate to disagree with my fellow Yelpers, but my husband and I were so disappointed with this place.'\n",
      " 'Waited 2 hours & never got either of our pizzas as many other around us who came in later did!'\n",
      " \"Just don't know why they were so slow.\"\n",
      " 'The staff is great, the food is delish, and they have an incredible beer selection.'\n",
      " \"I live in the neighborhood so I am disappointed I won't be back here, because it is a convenient location.\"\n",
      " \"I didn't know pulled pork could be soooo delicious.\"\n",
      " 'You get incredibly fresh fish, prepared with care.'\n",
      " 'Before I go in to why I gave a 1 star rating please know that this was my third time eating at Bachi burger before writing a review.'\n",
      " 'I love the fact that everything on their menu is worth it.'\n",
      " 'Never again will I be dining at this place!'\n",
      " 'The food was excellent and service was very good.'\n",
      " 'Good beer & drink selection and good food selection.'\n",
      " 'Please stay away from the shrimp stir fried noodles.'\n",
      " 'The potato chip order was sad... I could probably count how many chips were in that box and it was probably around 12.'\n",
      " 'Food was really boring.' 'Good Service-check!'\n",
      " 'This greedy corporation will NEVER see another dime from me!'\n",
      " 'Will never, ever go back.'\n",
      " \"As much as I'd like to go back, I can't get passed the atrocious service and will never return.\"\n",
      " 'In the summer, you can dine in a charming outdoor patio - so very delightful.'\n",
      " 'I did not expect this to be so good!' 'Fantastic food!'\n",
      " 'She ordered a toasted English muffin that came out untoasted.'\n",
      " 'The food was very good.' 'Never going back.'\n",
      " 'Great food for the price, which is very high quality and house made.'\n",
      " 'The bus boy on the other hand was so rude.'\n",
      " \"By this point, my friends and I had basically figured out this place was a joke and didn't mind making it publicly and loudly known.\"\n",
      " 'Back to good BBQ, lighter fare, reasonable pricing and tell the public they are back to the old ways.'\n",
      " \"And considering the two of us left there very full and happy for about $20, you just can't go wrong.\"\n",
      " 'All the bread is made in-house!' 'The only downside is the service.'\n",
      " \"Also, the fries are without a doubt the worst fries I've ever had.\"\n",
      " 'Service was exceptional and food was a good as all the reviews.'\n",
      " 'A couple of months later, I returned and had an amazing meal.'\n",
      " 'Favorite place in town for shawarrrrrrma!!!!!!'\n",
      " 'The black eyed peas and sweet potatoes... UNREAL!'\n",
      " \"You won't be disappointed.\"\n",
      " 'They could serve it with just the vinaigrette and it may make for a better overall dish, but it was still very good.'\n",
      " \"I go to far too many places and I've never seen any restaurant that serves a 1 egg breakfast, especially for $4.00.\"\n",
      " 'When my mom and I got home she immediately got sick and she only had a few bites of salad.'\n",
      " \"The servers are not pleasant to deal with and they don't always honor Pizza Hut coupons.\"\n",
      " 'Both of them were truly unbelievably good, and I am so glad we went back.'\n",
      " 'We had fantastic service, and were pleased by the atmosphere.'\n",
      " 'Everything was gross.' 'I love this place.' 'Great service and food.'\n",
      " 'First - the bathrooms at this location were dirty- Seat covers were not replenished & just plain yucky!!!'\n",
      " 'The burger... I got the \"Gold Standard\" a $17 burger and was kind of disappointed.'\n",
      " 'OMG, the food was delicioso!'\n",
      " 'There is nothing authentic about this place.'\n",
      " 'the spaghetti is nothing special whatsoever.'\n",
      " 'Of all the dishes, the salmon was the best, but all were great.'\n",
      " 'The vegetables are so fresh and the sauce feels like authentic Thai.'\n",
      " \"It's worth driving up from Tucson!\"\n",
      " \"The selection was probably the worst I've seen in Vegas.....there was none.\"\n",
      " 'Pretty good beer selection too.'\n",
      " 'This place is like Chipotle, but BETTER.'\n",
      " 'Classy/warm atmosphere, fun and fresh appetizers, succulent steaks (Baseball steak!!!!!'\n",
      " '5 stars for the brick oven bread app!'\n",
      " 'I have eaten here multiple times, and each time the food was delicious.'\n",
      " 'We sat another ten minutes and finally gave up and left.'\n",
      " 'He was terrible!' 'Everyone is treated equally special.'\n",
      " \"It shouldn't take 30 min for pancakes and eggs.\" 'It was delicious!!!'\n",
      " 'On the good side, the staff was genuinely pleasant and enthusiastic - a real treat.'\n",
      " \"Sadly, Gordon Ramsey's Steak is a place we shall sharply avoid during our next trip to Vegas.\"\n",
      " 'As always the evening was wonderful and the food delicious!'\n",
      " \"Best fish I've ever had in my life!\"\n",
      " '(The bathroom is just next door and very nice.)'\n",
      " 'The buffet is small and all the food they offered was BLAND.'\n",
      " 'This is an Outstanding little restaurant with some of the Best Food I have ever tasted.'\n",
      " 'Pretty cool I would say.'\n",
      " \"Definitely a turn off for me & i doubt I'll be back unless someone else is buying.\"\n",
      " 'Server did a great job handling our large rowdy table.'\n",
      " \"I find wasting food to be despicable, but this just wasn't food.\"\n",
      " 'My wife had the Lobster Bisque soup which was lukewarm.'\n",
      " 'Would come back again if I had a sushi craving while in Vegas.'\n",
      " 'The staff are great, the ambiance is great.' 'He deserves 5 stars.'\n",
      " 'I left with a stomach ache and felt sick the rest of the day.'\n",
      " 'They dropped more than the ball.'\n",
      " 'The dining space is tiny, but elegantly decorated and comfortable.'\n",
      " \"They will customize your order any way you'd like, my usual is Eggplant with Green Bean stir fry, love it!\"\n",
      " 'And the beans and rice were mediocre at best.'\n",
      " 'Best tacos in town by far!!' 'I took back my money and got outta there.'\n",
      " 'In an interesting part of town, this place is amazing.'\n",
      " 'RUDE & INCONSIDERATE MANAGEMENT.'\n",
      " 'The staff are now not as friendly, the wait times for being served are horrible, no one even says hi for the first 10 minutes.'\n",
      " \"I won't be back.\" 'They have great dinners.'\n",
      " 'The service was outshining & I definitely recommend the Halibut.'\n",
      " 'The food was terrible.'\n",
      " 'WILL NEVER EVER GO BACK AND HAVE TOLD MANY PEOPLE WHAT HAD HAPPENED.'\n",
      " \"I don't recommend unless your car breaks down in front of it and you are starving.\"\n",
      " \"I will come back here every time I'm in Vegas.\"\n",
      " 'This place deserves one star and 90% has to do with the food.'\n",
      " 'This is a disgrace.' 'Def coming back to bowl next time'\n",
      " 'If you want healthy authentic or ethic food, try this place.'\n",
      " 'I will continue to come here on ladies night andddd date night ... highly recommend this place to anyone who is in the area (;'\n",
      " 'I have been here several times in the past, and the experience has always been great.'\n",
      " 'We walked away stuffed and happy about our first Vegas buffet experience.'\n",
      " 'Service was excellent and prices are pretty reasonable considering this is Vegas and located inside the Crystals shopping mall by Aria.'\n",
      " 'To summarize... the food was incredible, nay, transcendant... but nothing brings me joy quite like the memory of the pneumatic condiment dispenser.'\n",
      " \"I'm probably one of the few people to ever go to Ians and not like it.\"\n",
      " 'Kids pizza is always a hit too with lots of great side dish options for the kiddos!'\n",
      " 'Service is perfect and the family atmosphere is nice to see.'\n",
      " 'Cooked to perfection and the service was impeccable.'\n",
      " 'This one is simply a disappointment.'\n",
      " 'Overall, I was very disappointed with the quality of food at Bouchon.'\n",
      " \"I don't have to be an accountant to know I'm getting screwed!\"\n",
      " 'Great place to eat, reminds me of the little mom and pop shops in the San Francisco Bay Area.'\n",
      " 'Today was my first taste of a Buldogis Gourmet Hot Dog and I have to tell you it was more than I ever thought possible.'\n",
      " 'Left very frustrated.' \"I'll definitely be in soon again.\"\n",
      " 'Food was really good and I got full petty fast.'\n",
      " 'Service was fantastic.' 'TOTAL WASTE OF TIME.'\n",
      " \"I don't know what kind it is but they have the best iced tea.\"\n",
      " 'Come hungry, leave happy and stuffed!'\n",
      " 'For service, I give them no stars.'\n",
      " \"I can assure you that you won't be disappointed.\"\n",
      " 'I can take a little bad service but the food sucks.'\n",
      " 'Gave up trying to eat any of the crust (teeth still sore).'\n",
      " 'But now I was completely grossed out.' 'I really enjoyed eating here.'\n",
      " 'First time going but I think I will quickly become a regular.'\n",
      " 'Our server was very nice, and even though he looked a little overwhelmed with all of our needs, he stayed professional and friendly until the end.'\n",
      " 'From what my dinner companions told me...everything was very fresh with nice texture and taste.'\n",
      " 'On the ground, right next to our table was a large, smeared, been-stepped-in-and-tracked-everywhere pile of green bird poop.'\n",
      " \"Furthermore, you can't even find hours of operation on the website!\"\n",
      " \"We've tried to like this place but after 10+ times I think we're done with them.\"\n",
      " 'What a mistake that was!' 'No complaints!'\n",
      " \"This is some seriously good pizza and I'm an expert/connisseur on the topic.\"\n",
      " 'Waiter was a jerk.' 'Strike 2, who wants to be rushed.'\n",
      " \"These are the nicest restaurant owners I've ever come across.\"\n",
      " 'I never come again.' 'We loved the biscuits!!!'\n",
      " 'Service is quick and friendly.'\n",
      " 'Ordered an appetizer and took 40 minutes and then the pizza another 10 minutes.'\n",
      " 'So absolutley fantastic.'\n",
      " 'It was a huge awkward 1.5lb piece of cow that was 3/4ths gristle and fat.'\n",
      " 'definitely will come back here again.'\n",
      " \"I like Steiners because it's dark and it feels like a bar.\"\n",
      " 'Wow very spicy but delicious.' \"If you're not familiar, check it out.\"\n",
      " \"I'll take my business dinner dollars elsewhere.\" \"I'd love to go back.\"\n",
      " 'Anyway, this FS restaurant has a wonderful breakfast/lunch.'\n",
      " 'Nothing special.'\n",
      " \"Each day of the week they have a different deal and it's all so delicious!\"\n",
      " 'Not to mention the combination of pears, almonds and bacon is a big winner!'\n",
      " 'Will not be back.' 'Sauce was tasteless.'\n",
      " 'The food is delicious and just spicy enough, so be sure to ask for spicier if you prefer it that way.'\n",
      " 'My ribeye steak was cooked perfectly and had great mesquite flavor.'\n",
      " \"I don't think we'll be going back anytime soon.\" 'Food was so gooodd.'\n",
      " 'I am far from a sushi connoisseur but I can definitely tell the difference between good food and bad food and this was certainly bad food.'\n",
      " 'I was so insulted.' 'The last 3 times I had lunch here has been bad.'\n",
      " 'The chicken wings contained the driest chicken meat I have ever eaten.'\n",
      " 'The food was very good and I enjoyed every mouthful, an enjoyable relaxed venue for couples small family groups etc.'\n",
      " 'Nargile - I think you are great.' 'Best tater tots in the southwest.'\n",
      " 'We loved the place.' 'Definitely not worth the $3 I paid.'\n",
      " 'The vanilla ice cream was creamy and smooth while the profiterole (choux) pastry was fresh enough.'\n",
      " 'Im in AZ all the time and now have my new spot.'\n",
      " 'The manager was the worst.'\n",
      " 'The inside is really quite nice and very clean.'\n",
      " 'The food was outstanding and the prices were very reasonable.'\n",
      " \"I don't think I'll be running back to Carly's anytime soon for food.\"\n",
      " 'This is was due to the fact that it took 20 minutes to be acknowledged, then another 35 minutes to get our food...and they kept forgetting things.'\n",
      " 'Love the margaritas, too!'\n",
      " 'This was my first and only Vegas buffet and it did not disappoint.'\n",
      " 'Very good, though!'\n",
      " 'The one down note is the ventilation could use some upgrading.'\n",
      " 'Great pork sandwich.' \"Don't waste your time here.\"\n",
      " 'Total letdown, I would much rather just go to the Camelback Flower Shop and Cartel Coffee.'\n",
      " \"Third, the cheese on my friend's burger was cold.\"\n",
      " 'We enjoy their pizza and brunch.'\n",
      " 'The steaks are all well trimmed and also perfectly cooked.'\n",
      " 'We had a group of 70+ when we claimed we would only have 40 and they handled us beautifully.'\n",
      " 'I LOVED it!'\n",
      " \"We asked for the bill to leave without eating and they didn't bring that either.\"\n",
      " \"This place is a jewel in Las Vegas, and exactly what I've been hoping to find in nearly ten years living here.\"\n",
      " 'Seafood was limited to boiled shrimp and crab legs but the crab legs definitely did not taste fresh.'\n",
      " 'The selection of food was not the best.'\n",
      " 'Delicious and I will absolutely be back!'\n",
      " \"This isn't a small family restaurant, this is a fine dining establishment.\"\n",
      " 'They had a toro tartare with a cavier that was extraordinary and I liked the thinly sliced wagyu with white truffle.'\n",
      " 'I dont think I will be back for a very long time.'\n",
      " 'It was attached to a gas station, and that is rarely a good sign.'\n",
      " 'How awesome is that.' 'I will be back many times soon.'\n",
      " 'The menu had so much good stuff on it i could not decide!'\n",
      " 'Worse of all, he humiliated his worker right in front of me..Bunch of horrible name callings.'\n",
      " 'CONCLUSION: Very filling meals.'\n",
      " 'Their daily specials are always a hit with my group.'\n",
      " 'And then tragedy struck.'\n",
      " 'The pancake was also really good and pretty large at that.'\n",
      " 'This was my first crawfish experience, and it was delicious!'\n",
      " 'Their monster chicken fried steak and eggs is my all time favorite.'\n",
      " 'Waitress was sweet and funny.'\n",
      " \"I also had to taste my Mom's multi-grain pumpkin pancakes with pecan butter and they were amazing, fluffy, and delicious!\"\n",
      " \"I'd rather eat airline food, seriously.\"\n",
      " 'Cant say enough good things about this place.'\n",
      " 'The ambiance was incredible.'\n",
      " 'The waitress and manager are so friendly.'\n",
      " 'I would not recommend this place.'\n",
      " \"Overall I wasn't very impressed with Noca.\"\n",
      " 'My gyro was basically lettuce only.' 'Terrible service!'\n",
      " 'Thoroughly disappointed!'\n",
      " \"I don't each much pasta, but I love the homemade /hand made pastas and thin pizzas here.\"\n",
      " 'Give it a try, you will be happy you did.'\n",
      " 'By far the BEST cheesecurds we have ever had!' 'Reasonably priced also!'\n",
      " 'Everything was perfect the night we were in.'\n",
      " 'The food is very good for your typical bar food.'\n",
      " 'it was a drive to get there.'\n",
      " 'At first glance it is a lovely bakery cafe - nice ambiance, clean, friendly staff.'\n",
      " 'Anyway, I do not think i will go back there.'\n",
      " \"Point your finger at any item on the menu, order it and you won't be disappointed.\"\n",
      " 'Oh this is such a thing of beauty, this restaurant.'\n",
      " \"If you haven't gone here GO NOW!\" 'A greasy, unhealthy meal.'\n",
      " 'first time there and might just be the last.'\n",
      " 'Those burgers were amazing.'\n",
      " 'Similarly, the delivery man did not say a word of apology when our food was 45 minutes late.'\n",
      " 'And it was way to expensive.'\n",
      " 'Be sure to order dessert, even if you need to pack it to-go - the tiramisu and cannoli are both to die for.'\n",
      " \"This was my first time and I can't wait until the next.\"\n",
      " 'The bartender was also nice.' 'Everything was good and tasty!'\n",
      " 'This place is two thumbs up....way up.'\n",
      " 'The best place in Vegas for breakfast (just check out a Sat, or Sun.'\n",
      " 'If you love authentic Mexican food and want a whole bunch of interesting, yet delicious meats to choose from, you need to try this place.'\n",
      " 'Terrible management.'\n",
      " 'An excellent new restaurant by an experienced Frenchman.'\n",
      " 'If there were zero stars I would give it zero stars.'\n",
      " 'Great steak, great sides, great wine, amazing desserts.'\n",
      " 'Worst martini ever!'\n",
      " 'The steak and the shrimp are in my opinion the best entrees at GC.'\n",
      " 'I had the opportunity today to sample your amazing pizzas!'\n",
      " 'We waited for thirty minutes to be seated (although there were 8 vacant tables and we were the only folks waiting).'\n",
      " 'The yellowtail carpaccio was melt in your mouth fresh.'\n",
      " \"I won't try going back there even if it's empty.\"\n",
      " \"No, I'm going to eat the potato that I found some strangers hair in it.\"\n",
      " 'Just spicy enough.. Perfect actually.'\n",
      " 'Last night was my second time dining here and I was so happy I decided to go back!'\n",
      " 'not even a \"hello, we will be right with you.\"'\n",
      " 'The desserts were a bit strange.'\n",
      " 'My boyfriend and I came here for the first time on a recent trip to Vegas and could not have been more pleased with the quality of food and service.'\n",
      " 'I really do recommend this place, you can go wrong with this donut place!'\n",
      " 'Nice ambiance.' 'I would recommend saving room for this!'\n",
      " 'I guess maybe we went on an off night but it was disgraceful.'\n",
      " 'However, my recent experience at this particular location was not so good.'\n",
      " 'I know this is not like the other restaurants at all, something is very off here!'\n",
      " 'AVOID THIS ESTABLISHMENT!'\n",
      " 'I think this restaurant suffers from not trying hard enough.'\n",
      " 'All of the tapas dishes were delicious!' 'I *heart* this place.'\n",
      " 'My salad had a bland vinegrette on the baby greens and hearts of Palm.'\n",
      " 'After two I felt disgusting.' 'A good time!'\n",
      " 'I believe that this place is a great stop for those with a huge belly and hankering for sushi.'\n",
      " 'Generous portions and great taste.'\n",
      " 'I will never go back to this place and will never ever recommended this place to anyone!'\n",
      " 'The servers went back and forth several times, not even so much as an \"Are you being helped?\"'\n",
      " 'Food was delicious!' 'AN HOUR... seriously?' 'I consider this theft.'\n",
      " 'Eew... This location needs a complete overhaul.'\n",
      " 'We recently witnessed her poor quality of management towards other guests as well.'\n",
      " 'Waited and waited and waited.'\n",
      " 'He also came back to check on us regularly, excellent service.'\n",
      " 'Our server was super nice and checked on us many times.'\n",
      " 'The pizza tasted old, super chewy in not a good way.'\n",
      " 'I swung in to give them a try but was deeply disappointed.'\n",
      " 'Service was good and the company was better!'\n",
      " 'The staff are also very friendly and efficient.'\n",
      " \"As for the service: I'm a fan, because it's quick and you're being served by some nice folks.\"\n",
      " 'Boy was that sucker dry!!.' 'Over rated.'\n",
      " 'If you look for authentic Thai food, go else where.'\n",
      " 'Their steaks are 100% recommended!'\n",
      " 'After I pulled up my car I waited for another 15 minutes before being acknowledged.'\n",
      " 'Great food and great service in a clean and friendly setting.'\n",
      " \"All in all, I can assure you I'll be back.\"\n",
      " 'I hate those things as much as cheap quality black olives.'\n",
      " 'My breakfast was perpared great, with a beautiful presentation of 3 giant slices of Toast, lightly dusted with powdered sugar.'\n",
      " 'The kids play area is NASTY!' 'Great place fo take out or eat in.'\n",
      " 'The waitress was friendly and happy to accomodate for vegan/veggie options.'\n",
      " 'OMG I felt like I had never eaten Thai food until this dish.'\n",
      " 'It was extremely \"crumby\" and pretty tasteless.'\n",
      " 'It was a pale color instead of nice and char and has NO flavor.'\n",
      " 'The croutons also taste homemade which is an extra plus.'\n",
      " 'I got home to see the driest damn wings ever!'\n",
      " \"It'll be a regular stop on my trips to Phoenix!\"\n",
      " 'I really enjoyed Crema Café before they expanded; I even told friends they had the BEST breakfast.'\n",
      " 'Not good for the money.'\n",
      " 'I miss it and wish they had one in Philadelphia!'\n",
      " 'We got sitting fairly fast, but, ended up waiting 40 minutes just to place our order, another 30 minutes before the food arrived.'\n",
      " 'They also have the best cheese crisp in town.'\n",
      " 'Good value, great food, great service.'\n",
      " \"Couldn't ask for a more satisfying meal.\" 'The food is good.'\n",
      " 'It was awesome.' 'I just wanted to leave.'\n",
      " 'We made the drive all the way from North Scottsdale... and I was not one bit disappointed!'\n",
      " 'I will not be eating there again.'\n",
      " '!....THE OWNERS REALLY REALLY need to quit being soooooo cheap let them wrap my freaking sandwich in two papers not one!'\n",
      " 'I checked out this place a couple years ago and was not impressed.'\n",
      " 'The chicken I got was definitely reheated and was only ok, the wedges were cold and soggy.'\n",
      " 'Sorry, I will not be getting food from here anytime soon :('\n",
      " 'An absolute must visit!' 'The cow tongue and cheek tacos are amazing.'\n",
      " 'My friend did not like his Bloody Mary.'\n",
      " 'Despite how hard I rate businesses, its actually rare for me to give a 1 star.'\n",
      " 'They really want to make your experience a good one.'\n",
      " 'I will not return.' 'I had the chicken Pho and it tasted very bland.'\n",
      " 'Very disappointing!!!'\n",
      " 'The grilled chicken was so tender and yellow from the saffron seasoning.'\n",
      " 'a drive thru means you do not want to wait around for half an hour for your food, but somehow when we end up going here they make us wait and wait.'\n",
      " 'Pretty awesome place.' 'Ambience is perfect.'\n",
      " 'Best of luck to the rude and non-customer service focused new management.'\n",
      " 'Any grandmother can make a roasted chicken better than this one.'\n",
      " 'I asked multiple times for the wine list and after some time of being ignored I went to the hostess and got one myself.'\n",
      " 'The staff is always super friendly and helpful, which is especially cool when you bring two small boys and a baby!'\n",
      " 'Four stars for the food & the guy in the blue shirt for his great vibe & still letting us in to eat !'\n",
      " 'The roast beef sandwich tasted really good!'\n",
      " 'Same evening, him and I are both drastically sick.'\n",
      " 'High-quality chicken on the chicken Caesar salad.'\n",
      " \"Ordered burger rare came in we'll done.\"\n",
      " 'We were promptly greeted and seated.'\n",
      " 'Tried to go here for lunch and it was a madhouse.'\n",
      " 'I was proven dead wrong by this sushi bar, not only because the quality is great, but the service is fast and the food, impeccable.'\n",
      " 'After waiting an hour and being seated, I was not in the greatest of moods.'\n",
      " 'This is a good joint.' 'The Macarons here are insanely good.'\n",
      " \"I'm not eating here!\"\n",
      " 'Our waiter was very attentive, friendly, and informative.'\n",
      " \"Maybe if they weren't cold they would have been somewhat edible.\"\n",
      " 'This place has a lot of promise but fails to deliver.'\n",
      " 'Very bad Experience!' 'What a mistake.' 'Food was average at best.'\n",
      " 'Great food.' \"We won't be going back anytime soon!\"\n",
      " 'Very Very Disappointed ordered the $35 Big Bay Plater.'\n",
      " 'Great place to relax and have an awesome burger and beer.'\n",
      " 'It is PERFECT for a sit-down family meal or get together with a few friends.'\n",
      " 'Not much flavor to them, and very poorly constructed.'\n",
      " 'The patio seating was very comfortable.'\n",
      " 'The fried rice was dry as well.'\n",
      " 'Hands down my favorite Italian restaurant!'\n",
      " 'That just SCREAMS \"LEGIT\" in my book...somethat\\'s also pretty rare here in Vegas.'\n",
      " 'It was just not a fun experience.'\n",
      " 'The atmosphere was great with a lovely duo of violinists playing songs we requested.'\n",
      " \"I personally love the hummus, pita, baklava, falafels and Baba Ganoush (it's amazing what they do with eggplant!).\"\n",
      " 'Very convenient, since we were staying at the MGM!'\n",
      " 'The owners are super friendly and the staff is courteous.' 'Both great!'\n",
      " 'Eclectic selection.'\n",
      " 'The sweet potato tots were good but the onion rings were perfection or as close as I have had.'\n",
      " 'The staff was very attentive.'\n",
      " 'And the chef was generous with his time (even came around twice so we can take pictures with him).'\n",
      " 'The owner used to work at Nobu, so this place is really similar for half the price.'\n",
      " 'Google mediocre and I imagine Smashburger will pop up.' 'dont go here.'\n",
      " \"I promise they won't disappoint.\"\n",
      " 'As a sushi lover avoid this place by all means.'\n",
      " 'What a great double cheeseburger!' 'Awesome service and food.'\n",
      " 'A fantastic neighborhood gem !!!' \"I can't wait to go back.\"\n",
      " \"The plantains were the worst I've ever tasted.\"\n",
      " \"It's a great place and I highly recommend it.\"\n",
      " 'Service was slow and not attentive.'\n",
      " \"I gave it 5 stars then, and I'm giving it 5 stars now.\"\n",
      " 'Your staff spends more time talking to themselves than me.'\n",
      " 'Dessert: Panna Cotta was amazing.' 'Very good food, great atmosphere.1'\n",
      " 'Damn good steak.' 'Total brunch fail.'\n",
      " 'Prices are very reasonable, flavors are spot on, the sauce is home made, and the slaw is not drenched in mayo.'\n",
      " 'The decor is nice, and the piano music soundtrack is pleasant.'\n",
      " 'The steak was amazing...rge fillet relleno was the best seafood plate i have ever had!'\n",
      " 'Good food , good service .' 'It was absolutely amazing.'\n",
      " \"I probably won't be back, to be honest.\" 'will definitely be back!'\n",
      " 'The sergeant pepper beef sandwich with auju sauce is an excellent sandwich as well.'\n",
      " \"Hawaiian Breeze, Mango Magic, and Pineapple Delight are the smoothies that I've tried so far and they're all good.\"\n",
      " 'Went for lunch - service was slow.'\n",
      " 'We had so much to say about the place before we walked in that he expected it to be amazing, but was quickly disappointed.'\n",
      " 'I was mortified.' 'Needless to say, we will never be back here again.'\n",
      " 'Anyways, The food was definitely not filling at all, and for the price you pay you should expect more.'\n",
      " 'The chips that came out were dripping with grease, and mostly not edible.'\n",
      " \"I wasn't really impressed with Strip Steak.\"\n",
      " 'Have been going since 2007 and every meal has been awesome!!'\n",
      " 'Our server was very nice and attentive as were the other serving staff.'\n",
      " 'The cashier was friendly and even brought the food out to me.'\n",
      " 'I work in the hospitality industry in Paradise Valley and have refrained from recommending Cibo any longer.'\n",
      " 'The atmosphere here is fun.' 'Would not recommend to others.'\n",
      " 'Service is quick and even \"to go\" orders are just like we like it!'\n",
      " \"I mean really, how do you get so famous for your fish and chips when it's so terrible!?!\"\n",
      " 'That said, our mouths and bellies were still quite pleased.'\n",
      " 'Not my thing.' '2 Thumbs Up!!'\n",
      " \"If you are reading this please don't go there.\"\n",
      " 'I loved the grilled pizza, reminded me of legit Italian pizza.'\n",
      " 'Only Pros : Large seating area/ Nice bar area/ Great simple drink menu/ The BEST brick oven pizza with homemade dough!'\n",
      " 'They have a really nice atmosphere.'\n",
      " 'Tonight I had the Elk Filet special...and it sucked.'\n",
      " 'After one bite, I was hooked.'\n",
      " 'We ordered some old classics and some new dishes after going there a few times and were sorely disappointed with everything.'\n",
      " 'Cute, quaint, simple, honest.'\n",
      " 'The chicken was deliciously seasoned and had the perfect fry on the outside and moist chicken on the inside.'\n",
      " 'The food was great as always, compliments to the chef.'\n",
      " 'Special thanks to Dylan T. for the recommendation on what to order :) All yummy for my tummy.'\n",
      " 'Awesome selection of beer.' 'Great food and awesome service!'\n",
      " \"One nice thing was that they added gratuity on the bill since our party was larger than 6 or 8, and they didn't expect more tip than that.\"\n",
      " 'A FLY was in my apple juice.. A FLY!!!!!!!!'\n",
      " 'The Han Nan Chicken was also very tasty.'\n",
      " 'As for the service, I thought it was good.'\n",
      " 'The food was barely lukewarm, so it must have been sitting waiting for the server to bring it out to us.'\n",
      " \"Ryan's Bar is definitely one Edinburgh establishment I won't be revisiting.\"\n",
      " \"Nicest Chinese restaurant I've been in a while.\"\n",
      " 'Overall, I like there food and the service.'\n",
      " 'They also now serve Indian naan bread with hummus and some spicy pine nut sauce that was out of this world.'\n",
      " \"Probably never coming back, and wouldn't recommend it.\"\n",
      " \"Friend's pasta -- also bad, he barely touched it.\"\n",
      " 'Try them in the airport to experience some tasty food and speedy, friendly service.'\n",
      " 'I love the decor with the Chinese calligraphy wall paper.'\n",
      " 'Never had anything to complain about here.'\n",
      " 'The restaurant is very clean and has a family restaurant feel to it.'\n",
      " 'It was way over fried.'\n",
      " \"I'm not sure how long we stood there but it was long enough for me to begin to feel awkwardly out of place.\"\n",
      " 'When I opened the sandwich, I was impressed, but not in a good way.'\n",
      " 'Will not be back!'\n",
      " 'There was a warm feeling with the service and I felt like their guest for a special treat.'\n",
      " 'An extensive menu provides lots of options for breakfast.'\n",
      " 'I always order from the vegetarian menu during dinner, which has a wide array of options to choose from.'\n",
      " 'I have watched their prices inflate, portions get smaller and management attitudes grow rapidly!'\n",
      " 'Wonderful lil tapas and the ambience made me feel all warm and fuzzy inside.'\n",
      " 'I got to enjoy the seafood salad, with a fabulous vinegrette.'\n",
      " 'The wontons were thin, not thick and chewy, almost melt in your mouth.'\n",
      " \"Level 5 spicy was perfect, where spice didn't over-whelm the soup.\"\n",
      " 'We were sat right on time and our server from the get go was FANTASTIC!'\n",
      " \"Main thing I didn't enjoy is that the crowd is of older crowd, around mid 30s and up.\"\n",
      " \"When I'm on this side of town, this will definitely be a spot I'll hit up again!\"\n",
      " 'I had to wait over 30 minutes to get my drink and longer to get 2 arepas.'\n",
      " 'This is a GREAT place to eat!' 'The jalapeno bacon is soooo good.'\n",
      " 'The service was poor and thats being nice.'\n",
      " 'Food was good, service was good, Prices were good.'\n",
      " 'The place was not clean and the food oh so stale!'\n",
      " 'The chicken dishes are OK, the beef is like shoe leather.'\n",
      " 'But the service was beyond bad.' 'I\\'m so happy to be here!!!\"'\n",
      " 'Tasted like dirt.'\n",
      " 'One of the few places in Phoenix that I would definately go back to again .'\n",
      " 'The block was amazing.'\n",
      " \"It's close to my house, it's low-key, non-fancy, affordable prices, good food.\"\n",
      " '* Both the Hot & Sour & the Egg Flower Soups were absolutely 5 Stars!'\n",
      " 'My sashimi was poor quality being soggy and tasteless.'\n",
      " 'Great time - family dinner on a Sunday night.'\n",
      " 'the food is not tasty at all, not to say its \"real traditional Hunan style\".'\n",
      " 'What did bother me, was the slow service.'\n",
      " 'The flair bartenders are absolutely amazing!'\n",
      " 'Their frozen margaritas are WAY too sugary for my taste.'\n",
      " 'These were so good we ordered them twice.'\n",
      " 'So in a nutshell: 1) The restaraunt smells like a combination of a dirty fish market and a sewer.'\n",
      " \"My girlfriend's veal was very bad.\" 'Unfortunately, it was not good.'\n",
      " 'I had a pretty satifying experience.'\n",
      " 'Join the club and get awesome offers via email.'\n",
      " 'Perfect for someone (me) who only likes beer ice cold, or in this case, even colder.'\n",
      " 'Bland and flavorless is a good way of describing the barely tepid meat.'\n",
      " \"The chains, which I'm no fan of, beat this place easily.\"\n",
      " 'The nachos are a MUST HAVE!' 'We will not be coming back.'\n",
      " \"I don't have very many words to say about this place, but it does everything pretty well.\"\n",
      " 'The staff is super nice and very quick even with the crazy crowds of the downtown juries, lawyers, and court staff.'\n",
      " 'Great atmosphere, friendly and fast service.'\n",
      " 'When I received my Pita it was huge it did have a lot of meat in it so thumbs up there.'\n",
      " \"Once your food arrives it's meh.\"\n",
      " \"Paying $7.85 for a hot dog and fries that looks like it came out of a kid's meal at the Wienerschnitzel is not my idea of a good meal.\"\n",
      " 'The classic Maine Lobster Roll was fantastic.'\n",
      " 'My brother in law who works at the mall ate here same day, and guess what he was sick all night too.'\n",
      " 'So good I am going to have to review this place twice - once hereas a tribute to the place and once as a tribute to an event held here last night.'\n",
      " 'The chips and salsa were really good, the salsa was very fresh.'\n",
      " 'This place is great!!!!!!!!!!!!!!' 'Mediocre food.'\n",
      " \"Once you get inside you'll be impressed with the place.\"\n",
      " \"I'm super pissd.\" 'And service was super friendly.'\n",
      " 'Why are these sad little vegetables so overcooked?'\n",
      " 'This place was such a nice surprise!'\n",
      " 'They were golden-crispy and delicious.'\n",
      " 'I had high hopes for this place since the burgers are cooked over a charcoal grill, but unfortunately the taste fell flat, way flat.'\n",
      " 'I could eat their bruschetta all day it is devine.'\n",
      " 'Not a single employee came out to see if we were OK or even needed a water refill once they finally served us our food.'\n",
      " 'Lastly, the mozzarella sticks, they were the best thing we ordered.'\n",
      " 'The first time I ever came here I had an amazing experience, I still tell people how awesome the duck was.'\n",
      " 'The server was very negligent of our needs and made us feel very unwelcome... I would not suggest this place!'\n",
      " 'The service was terrible though.'\n",
      " 'This place is overpriced, not consistent with their boba, and it really is OVERPRICED!'\n",
      " 'It was packed!!' 'I love this place.'\n",
      " 'I can say that the desserts were yummy.' 'The food was terrible.'\n",
      " 'The seasonal fruit was fresh white peach puree.'\n",
      " \"It kept getting worse and worse so now I'm officially done.\"\n",
      " 'This place should honestly be blown up.'\n",
      " 'But I definitely would not eat here again.'\n",
      " 'Do not waste your money here!'\n",
      " 'I love that they put their food in nice plastic containers as opposed to cramming it in little paper takeout boxes.'\n",
      " 'The crêpe was delicate and thin and moist.' 'Awful service.'\n",
      " \"Won't ever go here again.\" 'Food quality has been horrible.'\n",
      " 'For that price I can think of a few place I would have much rather gone.'\n",
      " 'The service here is fair at best.'\n",
      " 'I do love sushi, but I found Kabuki to be over-priced, over-hip and under-services.'\n",
      " 'Do yourself a favor and stay away from this dish.' 'Very poor service.'\n",
      " 'No one at the table thought the food was above average or worth the wait that we had for it.'\n",
      " 'Best service and food ever, Maria our server was so good and friendly she made our day.'\n",
      " 'They were excellent.'\n",
      " 'I paid the bill but did not tip because I felt the server did a terrible job.'\n",
      " 'Just had lunch here and had a great experience.'\n",
      " 'I have never had such bland food which surprised me considering the article we read focused so much on their spices and flavor.'\n",
      " 'Food is way overpriced and portions are fucking small.'\n",
      " \"I recently tried Caballero's and I have been back every week since!\"\n",
      " 'for 40 bucks a head, i really expect better food.'\n",
      " 'The food came out at a good pace.'\n",
      " 'I ate there twice on my last visit, and especially enjoyed the salmon salad.'\n",
      " \"I won't be back.\" 'We could not believe how dirty the oysters were!'\n",
      " 'This place deserves no stars.' 'I would not recommend this place.'\n",
      " \"In fact I'm going to round up to 4 stars, just because she was so awesome.\"\n",
      " 'To my disbelief, each dish qualified as the worst version of these foods I have ever tasted.'\n",
      " 'Bad day or not, I have a very low tolerance for rude customer service people, it is your job to be nice and polite, wash dishes otherwise!!'\n",
      " 'the potatoes were great and so was the biscuit.'\n",
      " 'I probably would not go here again.'\n",
      " 'So flavorful and has just the perfect amount of heat.'\n",
      " 'The price is reasonable and the service is great.'\n",
      " 'The Wife hated her meal (coconut shrimp), and our friends really did not enjoy their meals, either.'\n",
      " \"My fella got the huevos rancheros and they didn't look too appealing.\"\n",
      " 'Went in for happy hour, great list of wines.'\n",
      " 'Some may say this buffet is pricey but I think you get what you pay for and this place you are getting quite a lot!'\n",
      " \"I probably won't be coming back here.\"\n",
      " \"Worst food/service I've had in a while.\"\n",
      " 'This place is pretty good, nice little vibe in the restaurant.'\n",
      " 'Talk about great customer service of course we will be back.'\n",
      " 'Hot dishes are not hot, cold dishes are close to room temp.I watched staff prepare food with BARE HANDS, no gloves.Everything is deep fried in oil.'\n",
      " 'I love their fries and their beans.'\n",
      " 'Always a pleasure dealing with him.'\n",
      " \"They have a plethora of salads and sandwiches, and everything I've tried gets my seal of approval.\"\n",
      " 'This place is awesome if you want something light and healthy during the summer.'\n",
      " 'For sushi on the Strip, this is the place to go.'\n",
      " 'The service was great, even the manager came and helped with our table.'\n",
      " 'The feel of the dining room was more college cooking course than high class dining and the service was slow at best.'\n",
      " \"I started this review with two stars, but I'm editing it to give it only one.\"\n",
      " \"this is the worst sushi i have ever eat besides Costco's.\"\n",
      " 'All in all an excellent restaurant highlighted by great service, a unique menu, and a beautiful setting.'\n",
      " 'My boyfriend and i sat at the bar and had a completely delightful experience.'\n",
      " 'Weird vibe from owners.' 'There was hardly any meat.'\n",
      " \"I've had better bagels from the grocery store.\" 'Go To Place for Gyros.'\n",
      " 'I love the owner/chef, his one authentic Japanese cool dude!'\n",
      " \"Now the burgers aren't as good, the pizza which used to be amazing is doughy and flavorless.\"\n",
      " 'I found a six inch long piece of wire in my salsa.'\n",
      " 'The service was terrible, food was mediocre.'\n",
      " 'We definately enjoyed ourselves.'\n",
      " 'I ordered Albondigas soup - which was just warm - and tasted like tomato soup with frozen meatballs.'\n",
      " 'On three different occasions I asked for well done or medium well, and all three times I got the bloodiest piece of meat on my plate.'\n",
      " 'I had about two bites and refused to eat anymore.'\n",
      " 'The service was extremely slow.' 'After 20 minutes wait, I got a table.'\n",
      " 'Seriously killer hot chai latte.'\n",
      " 'No allergy warnings on the menu, and the waitress had absolutely no clue as to which meals did or did not contain peanuts.'\n",
      " 'My boyfriend tried the Mediterranean Chicken Salad and fell in love.'\n",
      " 'Their rotating beers on tap is also a highlight of this place.'\n",
      " 'Pricing is a bit of a concern at Mellow Mushroom.' 'Worst Thai ever.'\n",
      " 'If you stay in Vegas you must get breakfast here at least once.'\n",
      " 'I want to first say our server was great and we had perfect service.'\n",
      " 'The pizza selections are good.' 'I had strawberry tea, which was good.'\n",
      " 'Highly unprofessional and rude to a loyal patron!'\n",
      " 'Overall, a great experience.' 'Spend your money elsewhere.'\n",
      " 'Their regular toasted bread was equally satisfying with the occasional pats of butter... Mmmm...!'\n",
      " 'The Buffet at Bellagio was far from what I anticipated.'\n",
      " 'And the drinks are WEAK, people!' '#NAME?'\n",
      " 'Also, I feel like the chips are bought, not made in house.'\n",
      " 'After the disappointing dinner we went elsewhere for dessert.'\n",
      " 'The chips and sals a here is amazing!!!!!!!!!!!!!!!!!!!'\n",
      " \"We won't be returning.\" 'This is my new fav Vegas buffet spot.'\n",
      " 'I seriously cannot believe that the owner has so many unexperienced employees that all are running around like chickens with their heads cut off.'\n",
      " 'Very, very sad.'\n",
      " 'i felt insulted and disrespected, how could you talk and judge another human being like that?'\n",
      " \"How can you call yourself a steakhouse if you can't properly cook a steak, I don't understand!\"\n",
      " \"I'm not impressed with the concept or the food.\"\n",
      " \"The only thing I wasn't too crazy about was their guacamole as I don't like it puréed.\"\n",
      " 'There is really nothing for me at postinos, hope your experience is better'\n",
      " 'I got food poisoning here at the buffet.'\n",
      " 'They brought a fresh batch of fries and I was thinking yay something warm but no!'\n",
      " 'What SHOULD have been a hilarious, yummy Christmas Eve dinner to remember was the biggest fail of the entire trip for us.'\n",
      " \"Needless to say, I won't be going back anytime soon.\"\n",
      " 'This place is disgusting!'\n",
      " 'Every time I eat here, I see caring teamwork to a professional degree.'\n",
      " 'The RI style calamari was a joke.'\n",
      " 'However, there was so much garlic in the fondue, it was barely edible.'\n",
      " \"I could barely stomach the meal, but didn't complain because it was a business lunch.\"\n",
      " 'It was so bad, I had lost the heart to finish it.'\n",
      " 'It also took her forever to bring us the check when we asked for it.'\n",
      " \"We aren't ones to make a scene at restaurants but I just don't get it...definitely lost the love after this one!\"\n",
      " 'Disappointing experience.'\n",
      " \"The food is about on par with Denny's, which is to say, not good at all.\"\n",
      " 'If you want to wait for mediocre food and downright terrible service, then this is the place for you.'\n",
      " 'WAAAAAAyyyyyyyyyy over rated is all I am saying.'\n",
      " \"We won't be going back.\"\n",
      " \"The place was fairly clean but the food simply wasn't worth it.\"\n",
      " 'This place lacked style!!'\n",
      " 'The sangria was about half of a glass wine full and was $12, ridiculous.'\n",
      " \"Don't bother coming here.\"\n",
      " 'The meat was pretty dry, I had the sliced brisket and pulled pork.'\n",
      " \"The building itself seems pretty neat; the bathroom is pretty trippy, but I wouldn't eat here again.\"\n",
      " 'It was equally awful.' 'Probably not in a hurry to go back.'\n",
      " 'very slow at seating even with reservation.'\n",
      " 'Not good by any stretch of the imagination.'\n",
      " 'The cashew cream sauce was bland and the vegetables were undercooked.'\n",
      " 'The chipolte ranch dipping sause was tasteless, seemed thin and watered down with no heat.'\n",
      " 'It was a bit too sweet, not really spicy enough, and lacked flavor.'\n",
      " 'I was VERY disappointed!!' 'This place is horrible and way overpriced.'\n",
      " \"Maybe it's just their Vegetarian fare, but I've been twice and I thought it was average at best.\"\n",
      " \"It wasn't busy at all and now we know why.\"\n",
      " 'The tables outside are also dirty a lot of the time and the workers are not always friendly and helpful with the menu.'\n",
      " 'The ambiance here did not feel like a buffet setting, but more of a douchey indoor garden for tea and biscuits.'\n",
      " 'Con: spotty service.'\n",
      " 'The fries were not hot, and neither was my burger.'\n",
      " 'But then they came back cold.'\n",
      " 'Then our food came out, disappointment ensued.'\n",
      " 'The real disappointment was our waiter.'\n",
      " 'My husband said she was very rude... did not even apologize for the bad food or anything.'\n",
      " 'The only reason to eat here would be to fill up before a night of binge drinking just to get some carbs in your stomach.'\n",
      " 'Insults, profound deuchebaggery, and had to go outside for a smoke break while serving just to solidify it.'\n",
      " \"If someone orders two tacos don't' you think it may be part of customer service to ask if it is combo or ala cart?\"\n",
      " 'She was quite disappointed although some blame needs to be placed at her door.'\n",
      " \"After all the rave reviews I couldn't wait to eat here......what a disappointment!\"\n",
      " 'Del Taco is pretty nasty and should be avoided if possible.'\n",
      " \"It's NOT hard to make a decent hamburger.\" \"But I don't like it.\"\n",
      " 'Hell no will I go back'\n",
      " \"We've have gotten a much better service from the pizza place next door than the services we received from this restaurant.\"\n",
      " 'I don\\'t know what the big deal is about this place, but I won\\'t be back \"ya\\'all\".'\n",
      " 'I immediately said I wanted to talk to the manager but I did not want to talk to the guy who was doing shots of fireball behind the bar.'\n",
      " \"The ambiance isn't much better.\"\n",
      " 'Unfortunately, it only set us up for disapppointment with our entrees.'\n",
      " \"The food wasn't good.\"\n",
      " 'Your servers suck, wait, correction, our server Heimer sucked.'\n",
      " 'What happened next was pretty....off putting.'\n",
      " \"too bad cause I know it's family owned, I really wanted to like this place.\"\n",
      " 'Overpriced for what you are getting.'\n",
      " 'I vomited in the bathroom mid lunch.'\n",
      " 'I kept looking at the time and it had soon become 35 minutes, yet still no food.'\n",
      " 'I have been to very few places to eat that under no circumstances would I ever return to, and this tops the list.'\n",
      " \"We started with the tuna sashimi which was brownish in color and obviously wasn't fresh.\"\n",
      " 'Food was below average.'\n",
      " 'It sure does beat the nachos at the movies but I would expect a little bit more coming from a restaurant.'\n",
      " 'All in all, Ha Long Bay was a bit of a flop.'\n",
      " 'The problem I have is that they charge $11.99 for a sandwich that is no bigger than a Subway sub (which offers better and more amount of vegetables).'\n",
      " 'Shrimp- When I unwrapped it (I live only 1/2 a mile from Brushfire) it was literally ice cold.'\n",
      " 'It lacked flavor, seemed undercooked, and dry.'\n",
      " \"It really is impressive that the place hasn't closed down.\"\n",
      " 'I would avoid this place if you are staying in the Mirage.'\n",
      " 'The refried beans that came with my meal were dried out and crusty and the food was bland.'\n",
      " 'Spend your money and time some place else.'\n",
      " 'A lady at the table next to us found a live green caterpillar In her salad.'\n",
      " 'the presentation of the food was awful.'\n",
      " \"I can't tell you how disappointed I was.\"\n",
      " 'I think food should have flavor and texture and both were lacking.'\n",
      " 'Appetite instantly gone.'\n",
      " 'Overall I was not impressed and would not go back.'\n",
      " \"The whole experience was underwhelming, and I think we'll just go to Ninja Sushi next time.\"\n",
      " \"Then, as if I hadn't wasted enough of my life there, they poured salt in the wound by drawing out the time it took to bring the check.\"]\n"
     ]
    }
   ],
   "source": [
    "print(data)"
   ]
  },
  {
   "cell_type": "markdown",
   "metadata": {},
   "source": [
    "***\n",
    "**T1.2** Data pre-processing.\n",
    "\n",
    "The Embedding layer offered by Keras can be used for neural networks on text data. Embedding layer is initialized with random weights and will learn an embedding for all of the words in the training dataset. It requires the input data to be integer encoded, so that each word is represented by a unique integer. This data preparation step can be performed using the [Tokenizer API](http://faroit.com/keras-docs/1.2.2/preprocessing/text/) also provided with Keras. You can specify the vocabulary size via the $num\\_words$ parameter. The tokenizer will pick the $num\\_words$ of the most common words from your train dataset.\n",
    "\n",
    "Convert each instance from the train set into sequence of integers using the Tokanizer."
   ]
  },
  {
   "cell_type": "code",
   "execution_count": 118,
   "metadata": {},
   "outputs": [
    {
     "name": "stdout",
     "output_type": "stream",
     "text": [
      "[[124, 13, 148, 17, 4, 165], [362, 50, 750, 26, 134, 751, 35, 1, 125, 186, 9, 2, 27, 69, 23, 75], [3, 110, 752, 363, 77, 4, 43, 258, 2, 166, 38, 753, 363, 19, 487, 754], [298, 9, 70], [755, 364, 78, 299], [22, 79, 300, 6, 756, 4, 5, 757], [21, 488, 187, 18, 24, 758, 26, 1, 759], [1, 135, 489, 36, 16], [149, 167, 10, 188], [3, 80, 29, 301, 187, 32, 760, 2, 150, 12, 223], [8, 4, 5, 490, 761, 89, 1, 365, 1, 103, 189, 33, 150, 259, 2, 260, 762, 136, 44, 136, 763], [40, 7, 12, 5, 190, 16, 137, 28, 53, 764, 84, 765, 28, 366, 56], [1, 57, 766, 7, 1, 17], [1, 261, 767, 186, 4, 302, 3, 90, 138, 768, 104, 191, 262, 24, 14, 28, 769, 2, 9, 4, 138, 263, 491], [1, 770, 367, 771, 4, 5, 492], [91, 772, 49], [773, 92, 57, 368, 493], [66, 264, 93, 8, 126, 7, 774, 33, 3, 94, 27, 111, 60, 27, 303, 13, 2, 8, 15, 27, 36, 224, 168, 5, 192], [1, 11, 7, 16], [79, 41, 40, 2, 775, 43, 23, 1, 304], [8, 15, 7, 12, 169, 50, 41, 494, 776, 71], [32, 20, 5, 777, 778, 19, 5, 779, 28, 4, 780, 2, 3, 369, 1, 781, 495, 782, 19, 496, 783], [1, 127, 4, 21, 784, 10, 39, 305, 2, 112, 72, 193, 21, 785, 3, 53, 12, 786, 8, 15], [39, 127, 4, 225, 58, 2, 497, 35, 72, 191, 151], [1, 113, 226, 36, 370, 1, 265, 7, 38, 787, 788], [40, 4, 789, 134, 194], [790, 95, 37, 29, 34, 56], [498, 14, 2, 1, 15, 791, 38, 46, 266, 499, 792, 2, 57, 195, 793, 40, 227], [50, 85, 794, 81, 41, 795, 6, 796, 89, 84], [1, 48, 15, 6, 37, 13, 5, 196, 797, 10, 306], [9, 4, 138, 500], [5, 307, 798, 501, 27, 114, 12, 139, 6, 115, 263, 13, 371, 46, 267, 13, 50, 11, 33, 799, 76, 18, 502, 54, 96, 34, 32, 228, 72, 115, 2, 115], [8, 15, 800, 51, 503, 2, 801, 116, 6, 114, 19, 1, 11], [1, 258, 188, 117, 802], [32, 45, 139, 6, 228, 50, 73, 5, 16, 51], [504, 50, 229, 2, 41, 66, 15, 372], [803, 268, 2, 30, 152], [5, 804, 10, 805, 505, 3, 806, 2, 20, 46, 74, 140], [12, 196, 2, 1, 373, 4, 43, 374], [47, 14, 47, 807, 308, 309, 4, 5, 197, 10, 5, 808], [375, 21, 198, 33, 67], [1, 809, 810, 811, 812, 4, 376, 506, 377, 2, 813, 153, 19, 61, 507], [3, 4, 814, 815, 310, 86, 8, 128, 230, 12, 57, 129, 1, 141, 7, 30, 33, 1, 17, 7, 378, 2, 1, 11, 508], [47, 3, 25, 6, 93, 7, 1, 11, 4, 74], [9, 4, 5, 269, 816, 270, 817, 365, 10, 818, 28, 4, 509, 819, 820, 2, 821], [1, 379, 261, 199, 24, 21, 16, 2, 510, 136], [1, 11, 4, 21, 16, 2, 3, 271, 154, 822, 46, 823, 824, 825, 13, 826, 272, 231, 827, 828], [21, 16, 311], [8, 7, 5, 829], [68, 830, 831, 36, 130, 5, 312, 19, 22, 511], [8, 4, 22, 79, 832, 73, 2, 9, 4, 67], [55, 56, 42, 3, 23, 170, 26, 8, 15], [833, 7, 12, 16], [17, 512], [834, 8, 313, 305, 5, 835, 836], [8, 15, 7, 118, 16, 58, 155, 364, 14, 1, 62], [1, 837, 380, 171, 4, 131, 2, 1, 314, 24, 513], [1, 838, 514, 28, 80, 19, 22, 140, 24, 839, 70, 2, 840, 2, 1, 11, 4, 131], [841, 232, 25, 57, 842, 273, 2, 1, 11, 4, 233, 67, 234, 41], [22, 381, 2, 3, 382, 148, 34, 2, 24, 21, 75, 19, 1, 11, 2, 17], [315, 9, 4, 12, 16], [149, 17, 2, 11], [37, 6, 15, 13, 515], [119, 1, 843, 142], [844, 200, 3, 117, 235, 7, 28, 1, 516, 7, 10, 845, 516, 263, 517, 846, 2, 54], [3, 105, 93, 28, 1, 383, 24, 384], [172, 110, 5, 518, 847, 848, 28, 80, 70, 849], [53, 143, 29, 56, 52, 3, 20, 5, 128, 850, 316, 14, 71], [97, 80, 519, 173, 72, 76, 97, 520, 22, 381, 20, 317, 385, 851, 35, 1, 236], [62, 7, 130, 274, 33, 55, 5, 115], [201, 237], [13, 28, 238, 3, 105, 94, 10, 5, 174, 15, 3, 53, 25, 132, 386, 521], [3, 318, 522, 26, 1, 41, 2, 9, 20, 175, 523, 387, 82, 524, 150, 61, 11], [852, 1, 853, 854, 87, 12, 93, 5, 525, 10, 855, 76, 39, 11, 4, 856, 82, 526], [13, 17, 3, 202, 120, 61, 144], [239, 35, 1, 125, 7, 857, 2, 18, 24, 63, 858, 28, 32, 112, 74, 859, 13, 39, 388, 860], [21, 16, 11, 30, 176, 270], [9, 4, 67], [1, 203, 2, 389, 36, 31, 64], [3, 138, 69, 23, 240, 29, 34], [1, 861, 4, 74], [1, 390, 260, 2, 527], [61, 862, 863, 35, 1, 125, 2, 1, 203, 20, 233, 61, 864, 44, 6, 77, 391, 87, 98, 87, 12, 865, 866], [48, 392, 14, 204, 86, 232], [8, 15, 7, 16], [3, 205, 1, 275, 867, 868], [68, 393, 518, 319, 4, 394, 869, 19, 1, 870, 871, 10, 528, 529], [22, 872, 205, 1, 320, 873], [3, 130, 186, 78, 1, 388, 125, 321, 276, 77, 116, 5, 874, 875, 10, 322, 6, 876, 78], [877, 878, 879, 2, 20, 6, 37, 277, 13, 5, 880, 530, 316, 531, 43, 6, 881, 9], [3, 156, 45, 223, 19, 395, 121], [275, 7, 882, 883], [22, 106, 20, 5, 131, 532, 35, 1, 884, 885, 2, 886, 10, 887], [8, 4, 22, 79, 2, 57, 71, 126, 2, 9, 87, 12, 533], [5, 534, 26, 1, 236, 206, 6, 72, 241, 5, 396, 397, 888, 14, 278, 106], [17, 4, 21, 889], [1, 890, 7, 259, 2, 40, 7, 398, 891], [5, 30, 107, 6, 535, 5, 30], [12, 16, 13, 1, 229], [55, 20, 892, 6, 536, 99, 34], [21, 165, 26, 893, 100, 19, 894], [3, 25, 65, 14, 81, 89, 5, 174, 537, 14, 71, 2, 114, 12, 49, 895, 122, 896, 13, 538, 399], [11, 4, 67], [3, 59, 25, 6, 23, 46, 897, 6, 145, 83, 224, 898], [8, 15, 7, 207, 12, 899, 19, 68, 900, 2, 9, 45, 7, 207], [1, 194, 4, 118, 539, 3, 20, 1, 495, 901, 2, 400, 323], [3, 90, 324, 540, 1, 140, 33, 117, 536, 129, 9, 4, 5, 325, 148], [8, 15, 116, 5, 192, 10, 541, 33, 902, 6, 903], [1, 904, 905], [173, 1, 279, 276, 18, 124, 326, 13, 327], [1, 906, 4, 63, 45, 16, 2, 118, 401, 26, 28], [18, 205, 1, 15], [8, 15, 7, 74], [9, 242, 157, 328, 542, 6, 111, 68, 907, 77, 4, 201, 81, 89, 908, 909], [18, 110, 1, 543, 544, 2, 9, 4, 910, 2, 260, 35, 1, 243, 19, 5, 58, 545, 35, 1, 277], [3, 63, 546, 12, 6, 911, 9, 29, 129, 39, 203, 547, 38, 172, 4, 35, 1, 912, 10, 913, 5, 402, 914], [17, 7, 158, 2, 1, 231, 176, 7, 58, 6, 244], [35, 1, 915, 208, 206, 6, 39, 236, 4, 5, 401, 916, 65, 917, 14, 2, 918, 919, 920, 10, 397, 921, 922], [403, 10, 280, 6, 923, 54, 5, 121, 33, 32, 87], [177, 3, 37, 14, 6, 329, 3, 404, 5, 270, 503, 924, 548, 145, 28, 8, 4, 22, 549, 41, 227, 26, 550, 133, 177, 925, 5, 405], [301, 7, 1, 406, 41, 108, 65, 6, 68, 148, 126, 2, 9, 4, 118, 16], [22, 281, 551, 106, 19, 1, 551, 552, 4, 31, 196, 2, 1, 407, 2, 408, 4, 21, 926], [35, 1, 16, 281, 1, 85, 4, 927, 409, 2, 928, 5, 330, 553], [1, 17, 4, 12, 54, 6, 410, 331], [43, 20, 148, 34, 2, 20, 5, 30, 73], [9, 156, 554, 26, 47, 2, 178, 18, 145, 329], [8, 555, 5, 272, 231, 62, 8, 7, 5, 411, 170, 366], [30, 11, 2, 17, 269, 268, 2, 32, 202, 5, 929, 930], [209, 27, 111, 243, 931, 23, 223, 19, 1, 15], [32, 25, 282, 556, 557, 558, 2, 332, 153, 6, 234, 51, 76, 558, 59, 235, 68, 11], [3, 38, 932, 129, 92, 559, 2, 9, 560, 38, 5, 230], [131, 12, 5, 933, 8, 15, 13, 5, 934, 10, 935, 2, 3, 59, 139, 6, 333, 41, 35, 101, 936, 245, 937, 9, 26, 28], [30, 15, 6, 938, 2, 25, 46, 149, 133, 2, 188], [245, 95, 23, 14, 175, 56], [1, 939, 24, 377, 12, 940, 2, 412, 941, 413, 14, 50, 414], [1, 283, 34, 87, 12, 193, 38, 5, 126, 415, 33, 81, 10, 5, 942, 943, 944, 13, 416, 2, 561], [562, 945, 3, 53, 132, 386, 43, 37, 6, 1, 946, 563, 947, 2, 948, 949], [3, 43, 59, 145, 104, 8, 15, 950, 6, 334, 1, 951, 11, 3, 25, 49, 335, 76, 32, 36, 564, 565, 952], [1, 566, 20, 61, 417, 60, 31, 49, 35, 60, 3, 20, 6, 93, 9, 150, 567, 54, 122, 953, 207], [315, 18, 210, 25, 312, 1, 568, 35, 954, 189, 129, 239, 18, 110, 4, 418], [1, 955, 7, 201, 237, 956], [95, 169, 957, 211, 1, 395, 13, 1, 323, 569, 42, 336, 206, 41, 83, 14, 71], [1, 133, 7, 16, 265, 284, 43, 208], [52, 172, 20, 12, 958, 1, 959, 18, 264, 25, 570, 12, 246, 52, 18, 42, 37, 29, 2, 212, 9, 56], [3, 139, 6, 79, 93, 39, 127, 4, 30, 2, 18, 20, 158, 17], [38, 1, 103, 960, 213, 27, 571, 303, 84, 6, 102, 26, 8, 15, 56], [173, 47, 1, 961, 572, 3, 571, 115, 6, 102, 34, 60, 5, 419], [239, 4, 158, 1, 146, 18, 24, 14], [1, 57, 962, 6, 102, 34, 53, 23, 6, 963, 54, 177, 5, 146, 10, 964, 965, 43, 6, 111, 66, 966, 14, 50, 540], [3, 20, 967, 416, 77, 4, 16], [2, 179, 968, 969], [3, 37, 6, 232, 142, 191, 285, 2, 108, 55, 573, 134, 62, 28, 970, 5, 270, 420, 159, 574, 13, 421, 971], [504, 50, 229, 326], [131, 2, 575, 7, 5, 16, 107, 10, 972, 1, 324, 973, 194], [9, 974, 247, 328, 542, 13, 975, 2, 976], [8, 7, 46, 576, 155, 62, 19, 66, 10, 1, 48, 11, 3, 25, 49, 166], [203, 4, 5, 155, 165, 14, 17], [60, 3, 45, 38, 40, 7, 1, 977, 978], [11, 4, 979, 337], [10, 47, 1, 226, 1, 320, 4, 1, 48, 33, 47, 24, 30], [210, 25, 65, 46, 211, 146, 26, 8, 15], [980, 195, 180, 981, 6, 23, 982], [214, 144, 13, 1, 983, 984, 319, 985], [9, 45, 7, 986, 28, 1, 15, 987, 988, 153], [422, 242, 577, 6, 328, 82, 6, 143, 70, 26, 51, 362], [215, 4, 5, 989], [1, 990, 36, 21, 64], [63, 24, 334, 216, 319, 2, 528, 2, 338, 112, 261, 262, 19, 275, 991, 35, 992, 21, 993, 2, 21, 16], [1, 126, 26, 994, 4, 232, 78, 60, 3, 995], [30, 423, 14, 424, 92, 31, 16, 76, 27, 143, 34, 154, 103, 423, 42, 12, 996, 50, 997], [16, 17, 298], [578, 579, 62, 108, 65, 14, 5, 316], [18, 217, 13, 998, 82, 6, 23, 286, 425, 40, 24, 368, 999, 339, 2, 18, 24, 1, 57, 426, 287], [63, 1, 199, 36, 1000, 5, 580, 1, 91, 199, 108, 49, 20], [240, 34, 7, 38, 1001, 46, 581, 1002, 248, 218, 1003, 181, 115, 13, 1, 103, 582, 6, 427, 6, 530, 54], [1, 583, 4, 63, 58], [3, 25, 335, 34, 584, 151, 2, 234, 41, 1, 11, 4, 67], [3, 20, 585, 16, 340, 99, 8, 15, 33, 9, 1004, 154, 428, 3, 90, 25, 1005, 10], [30, 11, 2, 30, 17, 14, 5, 160, 2, 64, 415], [40, 7, 45, 201, 13, 84, 26, 1006, 428, 50, 73, 7, 109], [9, 4, 233, 74], [182, 3, 156, 21, 223, 19, 1007], [1, 11, 74], [60, 5, 586], [76, 3, 587, 22, 407, 9, 4, 269, 9, 87, 25, 5, 192, 10, 194, 14, 9, 31, 341, 54, 40], [182, 3, 59, 94, 28, 3, 53, 247, 22, 1008, 6, 8, 15, 56, 129, 32, 112, 1009, 10, 1, 588, 1010, 28, 3, 1011, 249, 142], [250, 589, 1012, 426], [217, 2, 217, 2, 217], [1013, 268, 2, 16, 219], [8, 15, 116, 9], [3, 4, 286, 429], [79, 1, 590, 26, 8, 313, 24, 342, 1014, 1015, 24, 12, 1016, 43, 1017, 1018], [3, 94, 11, 251, 25, 123, 2, 373, 2, 218, 24, 430], [22, 1019, 1020, 4, 21, 101], [44, 5, 128, 1021, 431, 8, 15, 86, 47, 501], [26, 343, 1022, 1023, 14, 591, 72, 1024, 2, 1, 11, 1025, 2, 9, 156, 28, 554], [22, 592, 2, 3, 80, 34, 13, 1, 79, 41, 35, 5, 593, 344, 6, 71, 2, 90, 12, 25, 65, 81, 432, 19, 1, 141, 10, 11, 2, 17], [1, 17, 4, 1026, 3, 95, 183, 1, 1027], [12, 132, 123, 6, 120, 2, 21, 1028, 1029], [173, 287, 46, 267, 2, 122, 286, 3, 4, 12, 14, 1, 1030, 10, 1031], [93, 594, 594, 6, 50, 595, 534], [31, 16, 3, 288, 96, 6, 25, 6, 405, 8, 15, 273, 209, 1032, 5, 596, 6, 1, 15, 2, 209, 44, 5, 596, 6, 46, 1033, 1034, 34, 304, 146], [1, 1035, 1036, 597, 1037, 4, 161], [9, 4, 5, 307, 6, 111, 40], [1, 383, 24, 5, 197, 1038], [18, 498, 433, 1039, 2, 220, 99, 39, 79, 71, 126, 73], [1, 598, 434, 6, 599, 26, 1040, 31, 8, 15, 7, 45, 588, 13, 371, 1, 238], [1, 1041, 3, 25, 7, 28, 32, 1042, 1043, 1044, 13, 5, 162, 28, 7, 61, 1045, 89, 5, 423, 600, 77, 601, 109, 2, 81, 435, 10, 314], [39, 127, 4, 21, 58, 2, 100, 311, 97, 547, 5, 155, 1046, 19, 47, 10, 39, 305, 97, 570, 602, 2, 64, 436, 1, 502], [69, 37, 29], [1047, 1, 1048, 1049, 7, 5, 184, 28, 7, 12, 6, 23, 1050, 13, 1051, 1052], [31, 59, 37, 40, 52, 27, 36, 522, 13, 16, 11], [178, 8, 184, 4, 168, 1053], [27, 105, 1054, 120, 564, 1, 67, 11], [3, 53, 183, 1055, 603, 13, 8], [1, 1056, 113, 4, 31, 260, 2, 1057, 78, 1, 1058, 1059], [1060, 258, 176, 345, 2, 163, 1061, 1062, 604, 1063, 121], [32, 63, 178, 605, 565, 1064, 319, 19, 408, 2, 66, 198, 1065, 1066, 171, 28, 4, 70, 10, 8, 1067], [3, 59, 94, 437, 23, 96, 29, 346, 175], [11, 4, 337, 26, 48], [21, 289, 17], [3, 110, 1, 1068, 290, 2, 9, 4, 1, 79, 41, 347, 20, 45, 164, 290, 187, 96, 1069, 1070, 606, 1071, 607], [67, 2, 3, 42, 233, 23, 29], [1, 11, 4, 185], [76, 83, 35, 8, 281, 10, 204, 8, 42, 95, 23, 5, 252, 245, 312, 54, 56], [1072, 11, 17, 2, 283], [1073, 124, 29, 13, 5, 406, 41, 2, 9, 4, 150, 43, 44, 74], [1, 113, 3, 88, 4, 95, 1074, 2, 4, 57, 370, 1, 1075, 24, 253, 2, 1076], [185, 17], [1, 426, 26, 1077, 130, 228, 72, 193, 31, 1078, 2, 237], [27, 608, 37, 310, 19, 134, 10, 1, 11, 34], [431, 26, 47, 1079], [3, 1080, 9, 2, 1081, 32, 20, 51, 14, 1082], [9, 4, 107, 157, 1083], [1, 1084, 24, 1, 91, 108, 49, 166], [209, 50, 11, 1085, 92, 609], [610, 6, 93, 18, 42, 55, 23, 29, 34, 56], [79, 41, 96, 33, 3, 94, 3, 42, 611, 523, 5, 393], [48, 126, 14, 204, 13, 1, 238, 27, 1086, 438, 9], [1, 176, 34, 7, 345], [32, 24, 1087, 612, 2, 67], [21, 21, 345, 439], [1, 133, 3, 88, 1, 613, 1088, 5, 1089, 133, 2, 4, 403, 10, 75], [3, 1090, 584, 151, 13, 1, 440, 441, 2, 173, 66, 41, 10, 122, 1091, 3, 124, 6, 1, 1092, 2, 88, 51, 1093], [39, 127, 4, 21, 58, 2, 254, 44, 24, 1, 103, 531, 85], [3, 138, 69, 23, 29, 6, 23, 614], [1, 193, 10, 1, 170, 603, 4, 81, 1094, 1095, 615, 89, 442, 1096, 170, 2, 1, 17, 4, 165, 26, 48], [610, 6, 93, 3, 69, 23, 96, 29, 346, 175], [1097, 8, 1098, 13, 120, 96, 70, 10, 325, 2, 348, 180, 105, 616, 105, 143, 14], [17, 4, 164, 2, 219, 36, 118, 443, 444, 8, 7, 71, 2, 1099, 243, 1, 1100, 1101, 617, 86, 1102], [1, 199, 24, 12, 216, 2, 1103, 4, 22, 133], [3, 55, 143, 56], [1, 11, 4, 21, 16], [291, 24, 31, 16, 18, 110, 120, 273], [1, 17, 4, 445, 165], [3, 4, 1104, 129, 61, 1105, 1106, 1107, 57], [3, 42, 23, 29, 191, 151, 175], [1, 1108, 7, 43, 559, 137, 6, 618, 1, 1109], [1110, 75], [1111, 9, 117, 152, 28, 163], [8, 7, 22, 292, 1112, 71, 126, 252], [185, 255], [8, 51, 7, 619, 5, 419], [620, 7, 5, 197, 10, 5, 1113, 26, 1114, 1115], [138, 55, 240, 29, 2, 621, 183, 9], [48, 17, 2, 11, 49, 1116, 39, 127, 4, 31, 16, 2, 64, 172, 112, 39, 189], [1, 11, 4, 67, 39, 583, 4, 254, 2, 1117, 2, 18, 88, 5, 30, 190], [42, 55, 49, 37, 29], [1, 62, 7, 21, 160, 2, 116, 5, 231, 62, 193, 6, 9], [1, 15, 4, 12, 160, 2, 1, 11, 446, 31, 418], [52, 28, 622, 55, 1118, 54, 3, 53, 25, 623, 5, 421, 13, 246, 33, 35, 1, 103, 281, 10, 1, 447, 248, 8, 622, 4, 1119, 4, 1, 1120], [8, 1121, 1122, 42, 55, 244, 147, 1123, 78, 84], [68, 1124, 1125, 7, 31, 16], [55, 65, 6, 280, 1126, 1127, 177, 42, 55, 49, 1128, 1129, 14, 9, 56], [44, 130, 1, 624, 4, 259, 2, 1, 11, 67], [442, 141, 113, 35, 1, 113, 1130, 106], [1, 389, 4, 1, 91], [17, 7, 63, 625], [14, 46, 626, 627, 10, 204, 8, 15, 7, 74], [8, 15, 7, 282, 2, 107, 207], [628, 8, 1131, 62, 116, 5, 259, 159, 148], [1, 17, 4, 5, 197, 430], [1, 11, 7, 12, 196, 26, 47, 12, 6, 93, 1132, 330, 1133, 1134, 367], [52, 27, 1135, 521, 34, 37, 178], [58, 283], [1, 262, 2, 1136, 5, 34, 7, 74], [1, 203, 4, 64, 2, 220, 6, 1137, 13, 1138, 1139, 322], [629, 16, 121], [1, 91, 73, 49], [1, 57, 200, 3, 156, 142, 630, 99, 4, 68, 1140, 44, 3, 59, 38, 9, 1141], [76, 22, 186, 448, 51, 10, 1, 515, 4, 1142], [127, 87, 5, 30, 631, 1143, 39, 401, 1144, 236], [562, 449, 632], [256, 1145, 255], [182, 3, 4, 12, 223, 2, 53, 12, 37, 29], [626, 450], [451, 290, 63, 101, 97, 324, 1146, 9], [11, 4, 45, 16, 2, 3, 88, 274, 1147, 378], [1, 396, 398, 35, 1148, 633, 1149], [52, 348, 634, 221, 392, 1150, 27, 94, 9, 264, 23, 627, 10, 349, 17, 6, 427, 52, 9, 7, 1151, 98, 1152, 1153], [301, 4, 22, 79, 152, 10, 5, 1154, 1155, 216, 452, 2, 3, 25, 6, 257, 27, 9, 4, 81, 89, 3, 49, 350, 351], [329, 36, 291, 302, 155, 314, 31, 635], [28, 43, 1156, 1157, 14, 22, 1158, 1159, 63, 118, 544, 34, 14, 71], [234, 189, 10, 1, 636, 32, 25, 5, 490, 190, 2, 92, 47, 31, 67], [67, 1160, 637, 16, 489, 10, 380, 453, 330, 1161, 19, 1162, 100], [1, 1163, 213, 638, 638, 171, 2, 147, 213, 1164, 171, 524, 147, 213, 198, 1165, 136, 454, 10, 1, 455, 20, 1166, 35, 120], [1167, 3, 1168, 120, 35, 46, 211, 146, 1169, 86, 1, 103, 572, 33, 83, 12, 1170, 6, 37, 29], [1, 133, 20, 233, 61, 123, 1, 194, 639, 4, 633, 131, 1, 133, 4, 635, 2, 40, 4, 61, 640, 123], [86, 8, 362, 22, 352, 2, 3, 20, 641, 1171, 70, 8, 15, 4, 5, 492, 2, 117, 642, 1172, 9, 1173, 2, 1174, 643], [2, 444, 1, 221, 10, 72, 317, 40, 21, 274, 2, 220, 13, 99, 456, 27, 43, 181, 37, 310], [18, 205, 1, 561], [22, 159, 4, 1175, 30, 19, 5, 457, 644, 10, 509, 1176, 1177, 10, 1178, 1179, 1180, 19, 1181, 1182], [18, 69, 23, 1183], [1184, 61, 42, 3, 37, 29], [1, 11, 7, 99, 35, 410, 19, 1185, 77, 7, 6, 93, 12, 16, 26, 47], [134, 1186, 105, 228, 5, 645, 113, 109, 89, 8, 51], [9, 4, 12, 16], [1, 17, 34, 7, 1187, 26, 48], [608, 93, 137, 16, 340, 99, 8, 15], [195, 151, 21, 101, 349, 17], [92, 38, 5, 45, 1188, 458, 14, 50, 414, 248, 1189, 1190, 1191, 19, 1, 1192, 582, 26, 1, 458], [18, 646, 1193, 278, 289, 141, 10, 255, 557, 103, 1194, 44, 136], [375, 205, 8, 15], [6, 1195, 1, 11, 4, 459, 1196, 1197, 33, 201, 1198, 84, 1199, 168, 38, 1, 1200, 10, 1, 1201, 1202, 1203], [3, 205, 9], [1, 330, 419, 4, 39, 215], [5, 1204, 1205, 140], [1206, 16], [3, 1207, 45, 104, 114, 27, 111, 31, 1208, 13, 50, 293, 2, 262, 76, 92, 31, 185], [18, 24, 1209, 647, 2, 286], [8, 7, 46, 1210, 1211], [1, 460, 36, 12, 409, 6, 190, 19, 2, 32, 59, 130, 1212, 135, 1213, 1214], [8, 7, 51, 10, 1, 109, 1215, 28, 3, 25, 65, 6], [3, 599, 14, 1, 1216, 1217, 14, 1218, 648, 2, 25, 1219, 78, 1220, 1221, 134, 1222], [18, 20, 5, 511, 10, 1223, 76, 18, 1224, 18, 53, 57, 25, 353, 2, 32, 1225, 72, 1226], [203, 4, 16, 311], [8, 7, 51, 10, 1, 48, 537, 19, 11, 14, 71], [1227, 35, 1, 600, 410, 17, 3, 587, 2, 61, 1228, 6, 1229, 68, 1230, 13, 22, 325, 3, 69, 23, 96, 29], [3, 429, 213, 3, 649, 6, 332, 6, 1, 389, 33, 3, 87, 12, 139, 6, 332, 6, 1, 650, 180, 4, 1231, 1232, 10, 1233, 651, 1, 230], [625, 1234, 1235, 614], [1236, 294, 2, 3, 1237, 1238, 42, 652, 54], [18, 112, 1, 307, 47, 1, 107, 78, 1239, 1240, 2, 3, 4, 12, 51, 197, 75], [1, 85, 36, 30, 1, 283, 7, 30], [9, 4, 1241], [8, 1242, 14, 1, 447, 116, 30, 1243, 1244, 392, 2, 64, 85], [461, 52, 32, 1245, 253, 32, 53, 25, 65, 1246, 653], [78, 60, 22, 276, 1247, 462, 84, 239, 4, 21, 163, 19, 58, 373, 2, 152], [21, 279], [173, 221, 3, 249, 1248], [1249, 86, 321, 1, 526, 264, 1250, 1251, 211, 1252, 1253, 654, 2, 205, 9], [3, 20, 5, 250, 1254, 159, 34], [48, 293, 108, 49, 20, 14, 22, 655], [3, 119, 1, 598, 439, 385, 51, 295, 1255, 656, 1256], [218, 1, 216, 1257, 1, 420, 563, 1258, 24, 233, 214, 144], [3, 25, 55, 20, 463, 131, 11, 77, 1259, 84, 444, 1, 1260, 18, 1261, 657, 31, 132, 35, 68, 1262, 2, 123], [1, 1263, 73, 4, 581, 2, 3, 94, 437, 43, 37, 6, 1264, 128, 206, 41], [1265, 1266, 1267, 13, 5, 216, 452, 2, 199, 28, 1268, 38, 9, 80, 70, 10, 5, 1269, 140, 26, 1, 1270, 7, 12, 22, 1271, 10, 5, 16, 140], [44, 13, 1, 1272, 63, 1273], [114, 12, 333, 50, 229, 34], [1, 170, 1274, 7, 1275, 33, 1276, 658, 2, 1277], [327, 1278, 1279, 4, 74], [1, 314, 36, 31, 163, 2, 1, 171, 560, 38, 295, 296], [1280, 27, 181, 100, 1281, 659, 10, 1282, 35, 1, 1283], [114, 464, 5, 660, 2, 661, 433, 78, 8, 184], [1, 339, 277, 36, 63, 342, 5, 192, 10, 1, 41, 2, 1, 1284, 36, 12, 130, 64, 2, 465, 19, 1, 125], [1285, 3, 94, 27, 36, 30], [18, 36, 31, 662, 18, 241, 8, 15], [11, 4, 16, 17, 4, 16, 219, 24, 16], [95, 5, 1286, 211, 13, 84, 3, 580, 245, 23, 29, 663, 348, 372, 7, 1287], [282, 59, 333, 50, 41, 2, 229], [16, 219], [83, 12, 227, 34], [46, 164, 292, 62, 86, 46, 1288, 1289], [3, 621, 336], [1, 62, 176, 4, 1290], [76, 3, 1291, 1, 162, 3, 4, 223, 33, 12, 14, 5, 16, 107], [1, 644, 10, 1, 11, 4, 466], [22, 664, 4, 55, 665, 2, 97, 112, 66, 45, 30, 125, 1292], [1, 467, 24, 38, 1293, 2, 27, 90, 257, 32, 20, 65, 112, 54, 1294, 10, 41, 122, 318, 468, 5, 1295], [3, 53, 12, 183, 8, 15], [61, 51, 26, 1, 236, 350, 1, 11, 4, 666, 337, 98, 169, 1, 115, 28, 18, 20, 13, 9], [108, 20, 109, 637, 78, 1, 1296, 1297], [50, 460, 667, 115, 1298, 39, 127, 1299, 354], [3, 59, 145, 60, 403, 9, 7, 33, 32, 25, 1, 48, 1300, 416], [178, 1, 469, 1301, 44, 16, 1, 135, 77, 434, 6, 23, 74, 7, 1302, 2, 575], [1303, 1304, 1305, 121, 7, 5, 15, 18, 1306, 1307, 431, 321, 39, 206, 344, 6, 71], [1, 85, 7, 64, 2, 1, 1308, 7, 130, 160], [3, 1309, 8, 1310], [43, 198, 137, 158, 1311], [8, 15, 7, 38, 1312, 33, 109], [250, 1313, 216, 1314, 1315], [1316, 144, 13, 1, 11, 1, 650, 14, 1, 1317, 1318, 13, 385, 30, 364, 150, 1319, 72, 14, 6, 102], [11, 141, 116, 65, 282], [12, 132, 668, 2, 38, 214, 1320, 10, 290, 26, 1, 1321], [30, 15, 6, 102, 1322, 84, 10, 1, 155, 669, 2, 652, 1323, 14, 1, 1324, 1325, 309, 297], [1, 135, 166, 266, 225, 412, 14, 12, 5, 16, 107], [18, 235, 68, 135, 2, 449], [1, 51, 153, 670, 7, 1, 1326, 90, 671, 66, 1327], [9, 7, 158, 13, 5, 1328, 153, 231, 140, 98, 111, 1329, 19, 5, 174, 352], [1330, 37, 34], [22, 1331, 4, 641, 1332, 57], [1333, 1, 1334, 672, 32, 24, 1, 48, 200, 18, 110], [21, 21, 75, 110, 1, 387, 470, 309, 1335], [1336, 157, 1337, 7, 47, 3, 288, 1338], [11, 4, 45, 1339], [5, 161, 673, 1340], [46, 1341, 125, 1342, 674, 10, 322, 13, 159], [97, 63, 80, 29, 6, 298, 35, 72, 1343, 164, 17], [67], [40, 7, 201, 295, 99, 8, 15], [26, 343, 94, 6, 675, 22, 399, 177, 3, 1344, 6, 1345, 27, 157, 13, 355, 82], [3, 119, 28, 32, 1346, 68, 11, 14, 58, 1347, 1348, 44, 1349, 6, 1350, 9, 14, 155, 676, 1351, 1352], [1, 15, 4, 677, 160, 33, 1, 11, 619, 156, 169, 9], [1353, 21, 678, 391], [1, 85, 7, 225, 58, 2, 21, 356, 100, 19, 1, 630, 1354, 10, 1, 1355, 1356, 1357, 2, 1358, 85], [3, 288, 232, 78, 5, 128, 1359, 33, 3, 105, 95, 257, 1, 1360, 591, 16, 11, 2, 101, 11, 2, 8, 4, 1361, 101, 11], [33, 1, 17, 4, 679, 101], [245, 247, 22, 325, 276, 1362, 326], [1, 460, 124, 29, 2, 1363, 606, 151, 12, 100, 31, 132, 44, 46, 36, 27, 122, 1364], [1, 113, 4, 1365, 510, 2, 20, 1, 158, 680, 35, 1, 277, 2, 527, 113, 35, 1, 243], [154, 41, 3, 102, 34, 3, 244, 1366, 1367, 6, 5, 602, 1368], [597, 1369, 1370, 1371, 1372, 681, 47, 682, 471, 2, 683, 2, 10, 615, 40, 7, 454, 26, 1, 339], [17, 4, 165, 2, 12, 254], [1, 684, 1373, 297, 7, 374], [30, 135, 2, 1374], [97, 4, 185], [179, 44, 52, 3, 1375, 1376, 137, 10, 22, 655, 40, 32, 1377, 471, 14, 1, 1378, 86, 1379, 70, 1, 41, 9, 242, 6, 685, 1, 298], [1, 167, 35, 1, 125, 4, 30, 2, 31, 24, 1, 219], [9, 686, 123, 506, 513, 2, 539], [3, 59, 94, 245, 23, 519, 29, 6, 1380, 346, 175, 13, 11], [2, 1, 422, 36, 1381, 222], [9, 4, 43, 12, 5, 345, 73], [3, 241, 5, 687, 1382, 308, 365, 10, 1383, 14, 22, 1384], [446, 8, 7, 463, 5, 200, 10, 1385, 8, 62], [3, 1386, 14, 6, 202, 120, 5, 212, 33, 4, 1387, 75], [91, 296, 49], [52, 27, 661, 14, 71, 27, 210, 111, 159, 34, 26, 343, 209], [30, 121, 30, 472, 30, 440, 74, 383], [18, 69, 23, 96, 29], [3, 20, 1, 1388, 106, 2, 9, 4, 118, 131, 31, 3, 42, 12, 23, 224, 28, 56], [18, 217, 46, 267, 13, 60, 4, 5, 159, 3, 90, 25, 1389, 1390, 151, 109, 26, 338], [59, 333, 50, 41, 34], [291, 36, 1, 578, 62, 299, 108, 49, 143, 1391], [3, 53, 95, 183, 1, 473, 44, 136, 44, 1, 135], [17, 4, 411, 2, 1, 203, 4, 64], [3, 88, 338, 6, 244, 1, 1392, 629, 473, 49], [18, 688, 19, 1, 689, 690, 77, 4, 1393, 14, 691, 2, 1394, 156, 163], [3, 474, 1, 1395, 1396, 1397, 113, 19, 1398, 529], [692, 153, 22, 693, 1399, 62], [48, 1400, 694, 14, 1, 1401], [3, 695, 696, 340, 44, 132, 44, 697, 141, 698, 1402], [33, 179, 32, 80, 29, 253], [68, 125, 7, 1403, 2, 699, 475], [207, 13, 60, 27, 36, 224], [9, 4, 394, 466], [32, 25, 5, 45, 58, 176], [40, 4, 5, 258, 700, 19, 1, 17, 2, 3, 249, 38, 68, 1404, 13, 5, 237, 553], [108, 55, 65, 81, 476, 98, 249, 701], [3, 20, 5, 106, 19, 1, 473, 2, 66, 477, 380, 13, 327, 2, 317, 700, 168, 1405], [1, 702, 265, 162, 166, 45, 16], [1, 121, 2, 1, 390, 36, 14, 22, 1406, 1, 48, 703, 26, 1407], [1, 17, 4, 185, 11, 4, 294], [8, 15, 7, 692, 153, 51, 10, 1, 48, 285, 6, 102, 14, 1, 357, 1408, 297], [42, 37, 29, 206, 344, 70], [358, 704], [1, 85, 36, 63, 21, 64, 2, 1409], [9, 4, 31, 101, 3, 20, 1410, 1, 402, 6, 535, 9], [52, 27, 36, 1411, 8, 548, 59, 37, 40], [3, 69, 212, 96, 29, 40, 100, 52, 92, 665], [18, 20, 161, 17, 2, 24, 432, 86, 1, 176], [1, 167, 10, 11, 4, 12, 1, 48], [347, 386, 102, 1412, 11, 250], [21, 21, 302], [17, 4, 161], [42, 12, 23, 29], [437, 55, 37, 56], [95, 42, 143, 29, 34, 56], [3, 119, 1, 306, 2, 1, 1413, 455, 446, 31, 384, 27, 25, 6, 212], [18, 90, 12, 705, 104, 342, 1, 1414, 24], [3, 59, 145, 60, 1, 470, 190, 7, 99, 8, 15, 33, 3, 69, 23, 29, 1415], [3, 1416, 119, 1, 408, 407, 1417, 1418, 2, 1419, 1420, 92, 74, 60, 32, 114, 19, 706], [3, 45, 271, 227, 34], [1, 379, 261, 694, 24, 16, 33, 1, 1421, 1422, 24, 707, 98, 44, 577, 44, 3, 25, 20], [3, 1423, 14, 1, 1424, 517, 148], [1425, 230, 7, 95, 51, 1426, 366, 3, 69, 23, 1427], [83, 31, 220, 6, 23, 34], [3, 249, 476, 2, 701, 104, 90, 27, 332, 2, 708, 147, 1428, 122, 38, 28], [3, 88, 6, 235, 1, 668, 106, 19, 5, 1429, 532], [1, 698, 1430, 1431, 2, 379, 467, 1432], [3, 402, 8, 15], [1, 126, 7, 272, 2, 47, 1, 11, 32, 1433, 4, 131], [1, 190, 1434, 214, 1435, 2, 195, 422, 2, 1436, 124, 666, 2, 679, 60, 18, 709], [26, 79, 1437, 9, 7, 5, 1438, 568, 1439, 58, 283, 160, 64, 85], [86, 232, 1, 48, 1440, 18, 25, 49, 20], [92, 169, 1441, 54, 78, 1442], [9, 4, 331, 142, 253, 12, 137, 123, 98, 43, 101], [279, 73], [3, 202, 9, 195, 341, 153], [1, 85, 7, 30, 1, 11, 7, 478, 2, 32, 25, 46, 459, 188, 167], [63, 40, 36, 1443, 38, 5, 133, 199, 2, 188, 13, 1444, 77, 7, 5, 710, 190], [9, 4, 118, 1445], [202, 9, 5, 212, 27, 42, 23, 220, 27, 87], [1, 17, 4, 185, 311], [315, 9, 57, 618, 72, 54, 13, 1446, 19, 39, 703], [12, 5, 1447, 1448, 33, 95, 5, 15, 6, 143, 29, 6, 154, 209, 14, 5, 316], [18, 63, 110, 1, 1449, 2, 1450, 106, 1, 1451, 24, 302, 2, 1, 552, 711, 20, 479, 152], [18, 480, 147, 1452, 82, 2, 712, 404, 54, 2, 317], [1, 85, 36, 178, 12, 44, 64, 1, 115, 151, 13, 122, 334, 36, 282, 61, 51, 100, 1453, 1454, 13, 1, 79, 355, 82], [166, 38, 500], [47, 14, 47, 46, 164, 62, 1455, 86, 30, 17, 5, 1456, 125, 2, 5, 457, 415], [1, 713, 1457, 278, 140, 1458, 390, 2, 39, 352, 45, 87, 12, 235, 68, 391, 331], [466, 17], [218, 10, 1, 420, 455, 24, 161], [97, 4, 445, 256, 2, 45, 40, 36, 31, 191, 103, 714, 3, 53, 119, 6, 715, 26, 321, 5, 1459, 14, 71], [22, 1460, 121, 4, 284, 716, 2, 20, 30, 1461, 123], [13, 353, 493, 5, 1462, 3, 45, 359, 109, 11], [3, 44, 136, 1463, 623, 1464, 479, 144, 52, 351], [18, 717, 271, 1465], [3, 396, 14, 1, 673, 31, 3, 288, 75, 3, 69, 23, 29, 34, 129, 9, 7, 5, 488, 313], [138, 12, 14, 5, 1466, 6, 37, 29], [14, 424, 83, 96, 6, 1467, 54, 6, 421, 144, 43, 129, 172, 4, 31, 149], [52, 9, 24, 351, 6, 202, 120, 479, 144, 1468, 25, 9], [30, 11], [182, 3, 38, 8, 15, 5, 192], [14, 1469, 8, 4, 5, 1470, 279, 170, 73], [1, 57, 200, 3, 87, 38, 4, 1, 1471, 1472, 2, 327, 1473], [1, 167, 4, 138, 1, 91, 108, 573, 14, 71, 40, 4, 454], [1, 1474, 36, 47, 1475, 2, 67], [1476, 1477, 17], [11, 4, 30, 2, 31, 4, 1, 1478], [17, 7, 356, 2, 64], [3, 25, 718, 68, 219, 1479, 268, 111, 1480, 2, 255, 556, 1481, 1482], [684, 135, 7, 130, 5, 312, 142, 19, 674, 10, 30, 281, 184, 322, 13, 1, 1483], [182, 3, 38, 40, 11, 2, 1, 17], [16, 188, 664, 167, 2, 16, 11, 167], [1, 719, 184, 7, 168, 1484, 13, 720, 44, 136], [83, 138, 51, 10, 1, 174, 222, 6, 49, 37, 6, 1485, 2, 12, 38, 9], [3, 45, 114, 183, 8, 15, 27, 105, 37, 310, 19, 8, 1486, 15], [52, 27, 360, 13, 295, 296, 11, 37, 372, 248], [61, 83, 96, 6, 102, 1, 261, 28, 3, 241, 66, 1487, 1488, 14, 9], [22, 1489, 88, 1, 1490, 1491, 2, 32, 117, 360, 142, 1492], [32, 24, 164], [1, 11, 80, 70, 26, 5, 16, 1493], [1, 85, 4, 21, 254], [1, 721, 297, 7, 277, 31, 27, 105, 57, 1494, 12, 247, 5, 274, 721, 663, 27, 59, 642, 122, 1495, 13, 481, 6, 244], [1, 1496, 1497, 4, 413, 14, 50, 414, 163], [3, 114, 119, 128, 33, 3, 241, 1498, 6, 23, 157, 475, 157, 1499, 2, 468, 1500], [48, 10, 1501, 6, 1, 256, 2, 1502, 349, 17, 657, 292, 255], [3, 541, 32, 69, 533], [69, 49, 37, 34, 56], [60, 5, 586, 28, 4], [3, 4, 1503], [59, 114, 9], [445, 196], [3, 42, 12, 336], [3, 69, 23, 29], [3, 646, 474, 1504, 2, 3, 25, 65, 29, 154, 636, 187], [13, 128, 35, 1, 395, 8, 7, 1, 15, 6, 37], [1, 11, 4, 324, 1505, 31, 9, 210, 25, 65, 722, 287, 13, 1, 127, 6, 685, 9, 70, 6, 72], [92, 12, 280, 6, 228, 5, 710, 1506], [1, 566, 4, 64, 2, 100, 723, 1, 11, 70, 6, 84], [44, 13, 1, 17, 3, 350, 9, 4, 16], [32, 723, 5, 163, 1507, 10, 199, 2, 3, 4, 1508, 1509, 482, 258, 33, 61], [18, 110, 66, 266, 1510, 2, 66, 292, 226, 173, 96, 40, 5, 174, 151, 2, 24, 1511, 75, 19, 239], [347, 93, 28, 53, 23, 1, 1512, 1513, 724, 47, 10, 1514, 226, 152, 104, 32, 36, 1515, 6, 152, 74], [18, 88, 1, 11, 2, 1516, 32, 25, 55, 585, 10, 471, 2, 1, 725, 35, 1, 293, 4, 412], [31, 32, 1517], [42, 55, 49, 37, 29, 2, 25, 462, 191, 222, 60, 20, 1518], [77, 36, 272, 2, 12, 169, 1, 238], [3, 119, 1, 450, 19, 1, 579, 1519, 447, 676], [1520, 1521, 164], [481, 7, 483, 394, 237], [58, 198, 2, 260], [108, 55, 65, 483, 31, 101], [1, 472, 36, 478, 1522, 1523, 1524, 613, 1525, 496, 1526, 1527], [347, 119, 6, 37, 29], [3, 145, 8, 7, 12, 38, 1, 103, 714, 26, 47, 482, 7, 21, 211, 34], [1, 1528, 726, 117, 1529, 35, 1, 194, 2, 375, 60, 123], [1530, 726, 7, 118, 374, 2, 251, 23, 1531, 52, 351], [9, 4, 5, 1532, 691, 1533, 10, 58, 2, 545, 2, 116, 61, 123], [2, 17, 4, 225, 64], [8, 15, 4, 463, 5, 58, 1534], [8, 4, 22, 79, 41, 2, 3, 181, 115, 436, 1, 206], [217, 195, 659, 55, 88, 331, 10, 39, 484, 44, 191, 103, 263, 72, 180, 80, 14, 505, 87], [30, 323, 162], [76, 22, 669, 2, 3, 88, 338, 172, 429, 88, 361, 2, 172, 57, 20, 5, 174, 727, 10, 106], [1, 1535, 47, 20, 604, 2, 39, 121, 1536, 1537, 180, 116, 20, 121, 26, 1, 48, 2, 91, 285, 213, 9, 4, 1, 48, 121, 1538, 49, 335], [3, 181, 257, 27, 104, 75, 3, 4], [3, 59, 234, 132, 290, 33, 3, 119, 1, 1539, 1540, 112, 1541, 2, 377, 484, 34], [52, 1, 11, 555, 101, 137, 13, 27, 179, 235, 728, 19, 1, 1542, 91, 1543, 1544, 222], [3, 181, 115, 6, 37, 29], [3, 45, 271, 1545, 1546, 177, 32, 1547, 3, 100, 462, 352, 32, 20, 1, 48, 159], [1, 11, 7, 67, 2, 43, 198, 137, 31, 23, 246, 6, 427, 13, 1548, 52, 27, 1549, 9, 28, 107], [425, 3, 21, 132, 369, 1, 360, 2, 1550, 10, 8, 15, 1, 1551, 73, 4, 5, 197, 279], [8, 7, 4, 1552, 6, 1, 424, 28, 9, 242, 456, 82, 6, 23, 729, 179, 147, 387, 82, 6, 111, 39, 11, 2, 32, 318, 1553, 340], [1554, 208, 1, 1555, 1556, 1557, 1558, 8, 730, 7, 31, 16], [8, 7, 5, 45, 161, 296, 62, 77, 7, 95, 169, 5, 300], [8, 7, 5, 30, 62, 26, 1, 1559, 309], [66, 1560, 30, 141, 1561, 34], [8, 15, 7, 221, 341, 54, 107, 54], [1562, 1, 11, 4, 95, 12, 678, 26, 47, 2, 13, 1, 238, 27, 303, 27, 251, 359, 81], [118, 149, 15], [1, 243, 7, 45, 168, 58, 2, 21, 160], [18, 88, 722, 677, 378, 33, 567, 54, 287, 353, 82, 43, 6, 15, 39, 186, 147, 328, 82, 177, 1, 11, 448], [1, 215, 156, 465, 98, 64, 2, 1563, 497, 35, 72], [1564, 214, 198, 4, 158, 248, 1565, 117, 157, 1566, 1, 363], [16, 17, 21, 160, 2, 1567, 6, 731], [3, 138, 53, 12, 37, 34, 56], [27, 69, 23, 75], [358, 1568, 2, 256, 6, 5, 1569, 1570], [40, 7, 201, 1571, 99, 1572, 227, 40], [3, 4, 31, 476], [3, 105, 1573, 27, 28, 27, 69, 23, 75], [1, 299, 45, 45, 1574, 6, 1575, 122, 1576, 697, 494, 120, 732, 22, 1577, 162, 14, 221, 1578, 12, 51], [87, 12, 38, 26, 47], [218, 10, 120, 24, 1579, 1580, 16, 2, 3, 288, 31, 662, 18, 124, 29], [1, 11, 4, 164, 2, 17, 4, 21, 16], [27, 181, 438, 28], [8, 7, 1, 15, 248, 3, 79, 20, 306, 2, 9, 4, 74], [42, 23, 29, 56], [628, 3, 114, 12, 94, 3, 42, 37, 29, 40], [3, 382, 40, 273, 35, 22, 304, 300, 2, 574, 271, 1, 320, 106], [1, 1581, 34, 36, 1582, 16], [8, 15, 7, 12, 141, 128, 9, 7, 12, 5, 141, 62], [3, 695, 6, 1583, 19, 22, 1584, 1585, 33, 22, 381, 2, 3, 24, 31, 75, 19, 8, 15], [733, 3, 249, 38, 3, 20, 55, 335, 296, 11, 436, 8, 184], [52, 27, 139, 6, 115, 13, 294, 11, 2, 1586, 185, 17, 179, 8, 7, 1, 15, 13, 27], [171, 4, 376], [1, 11, 354, 77, 18, 709, 33, 9, 354, 81, 89, 18, 90, 25, 1587], [2, 1, 514, 2, 1588, 24, 294, 26, 48], [3, 88, 11, 1589, 34, 26, 1, 126], [142, 101, 1590, 3, 145, 92, 231, 1591, 3, 45, 649, 6, 38, 8, 15], [3, 94, 12, 56], [1, 79, 41, 3, 49, 80, 34, 3, 20, 46, 74, 73, 3, 150, 257, 222, 104, 149, 1, 543, 4], [8, 15, 686, 367], [119, 8, 15, 1592, 1, 252, 76, 3, 139, 482, 734, 33, 12, 430, 14, 1593, 98, 123], [1594, 38, 5, 16, 356, 15, 6, 1595, 5, 1596, 10, 66, 1597, 1598, 11, 33, 114, 464, 5, 660, 2, 360, 326], [1, 1599, 2, 702, 265, 24, 131], [161, 11], [60, 87, 1600, 84, 4, 1, 165, 17], [53, 12, 37, 29], [487, 1601, 10, 1602, 19, 66, 10, 1, 91, 222, 651, 1, 1603], [1604, 36, 6, 1605, 13], [1606, 1, 1607, 2, 111, 149, 601, 1608, 1609], [289, 17, 1, 215, 112, 84, 193, 38, 3, 4, 1610, 154, 41, 97, 80, 6, 1, 236], [3, 25, 65, 6, 21, 174, 285, 6, 102, 28, 468, 61, 1611, 53, 3, 49, 336, 6, 2, 8, 1612, 1, 441], [1, 735, 1613, 4, 12, 57, 735, 33, 1614, 2, 376], [280, 6, 708, 1615, 291, 472, 24, 16, 129, 18, 24, 1616, 70, 86, 1, 1617, 1618, 2, 117, 139, 6, 102, 9, 13, 1619, 10, 224, 361], [1, 736, 36, 5, 210, 25], [3, 105, 247, 5, 155, 101, 17, 33, 1, 11, 512], [3, 42, 55, 37, 29, 6, 8, 15, 2, 42, 55, 49, 704, 8, 15, 6, 737], [13, 99, 355, 82, 18, 1620, 287, 13, 278, 106, 76, 18, 520, 28, 9, 156, 240, 134, 41, 175], [22, 1621, 2, 3, 80, 14, 1, 1622, 10, 1, 189, 2, 18, 24, 647, 2, 286, 208, 433], [83, 12, 246, 104, 308, 18, 1623, 40, 33, 9, 4, 308, 137, 13, 84, 6, 1624, 6, 193, 1625, 70, 10, 15], [1626, 23, 5, 393, 485, 35, 22, 1627, 6, 357], [1628, 85, 24, 13, 1629, 10, 5, 109, 525, 1630], [212, 120, 14, 1, 1631, 6, 73, 66, 196, 11, 2, 1632, 64, 17], [17, 4, 16, 2, 1, 1633, 4, 109], [39, 127, 4, 161, 2, 76, 97, 241, 70, 1, 713, 1634, 645, 1635, 2, 1636, 738, 97, 739, 1637, 6, 39, 140, 2, 147, 738, 6, 37], [3, 69, 23, 29], [32, 25, 5, 16, 167, 10, 11, 1638, 5, 1639, 1640, 162, 5, 612, 113, 732, 5, 478, 689, 413, 2, 66, 196, 469], [25, 65, 96, 187, 1641, 2, 154, 140, 116, 65, 149], [3, 90, 417, 1642, 1, 1643, 7, 43, 457], [3, 688, 8, 405, 19, 221, 144, 33, 83, 1644, 9, 6, 202, 9, 57, 51], [47, 10, 1, 1645, 226, 24, 67], [32, 42, 1646, 50, 186, 134, 107, 1647, 38, 22, 1648, 7, 706, 19, 397, 1649, 1650, 680, 119, 9], [1, 11, 7, 21, 16, 13, 50, 1651, 230, 11], [3, 42, 143, 29, 34, 154, 41, 83, 14, 71], [30, 449, 252], [32, 1652, 81, 89, 1, 1653], [3, 94, 8, 62, 1654, 78, 12, 1655, 280, 137], [1656, 3, 42, 12, 23, 224, 11, 78, 34, 346, 175], [52, 27, 139, 734, 295, 98, 1657, 11, 212, 8, 15], [130, 5, 1658, 728, 19, 740], [8, 15, 251, 724, 23, 1659, 54], [27, 111, 1660, 163, 293, 1661, 19, 417], [1, 1662, 683, 265, 162, 19, 1663, 171, 7, 46, 164, 162, 44, 136], [21, 1664, 2, 21, 1665, 35, 123], [3, 42, 12, 23, 227, 40, 56], [9, 7, 169, 1, 307], [11, 448, 611], [172, 4, 168, 75, 425, 66, 1666, 305, 6, 23, 1667, 26, 278, 1668], [12, 16, 86, 134, 1669, 10, 1, 1670], [8, 45, 7, 104, 71, 411, 170, 434, 6, 23, 208, 153, 6, 1, 1671, 1672, 6, 1, 741, 28, 25, 61, 219, 1673], [173, 3, 400, 54, 22, 1674, 3, 217, 13, 147, 1675, 82, 177, 122, 729], [14, 1, 1676, 27, 105, 715, 14, 5, 1677, 1678, 742, 31, 21, 743], [3, 705, 28, 8, 15, 7, 5, 30, 485, 13, 696, 19, 5, 269, 569, 2, 1679, 13, 128], [124, 14, 13, 220, 267, 30, 441, 10, 1680], [3, 242, 29, 22, 229, 2, 88, 1681, 40], [1, 11, 4, 30, 44, 130, 1682, 6, 1, 439], [22, 1683, 14, 1684, 180, 1685, 26, 1, 617, 382, 34, 744, 189, 2, 486, 60, 97, 4, 361, 47, 146, 142], [8, 259, 73, 112, 8, 15, 5, 210, 485, 1686, 18, 36, 14, 204, 56], [218, 30], [1, 590, 36, 160, 2, 1, 15, 639, 7, 136, 658], [101, 189, 98, 12, 3, 25, 5, 21, 1687, 1688, 13, 256, 349, 17, 222, 9, 7, 50, 631, 6, 23, 58, 2, 1689, 1690, 226, 1691], [3, 1692, 54, 6, 23, 483, 31, 1693], [8, 7, 1, 91, 128, 3, 25, 49, 102, 1694, 1695], [1, 255, 7, 256], [461, 92, 43, 68, 388, 745, 33, 108, 65, 273, 2, 3, 350, 9, 4, 337, 26, 48], [52, 27, 139, 5, 162, 43, 37, 6, 134, 1696], [31, 14, 5, 1697, 270, 1, 1698, 1699, 38, 5, 746, 10, 5, 342, 293, 1700, 2, 5, 1701], [32, 90, 605, 9, 19, 43, 1, 1702, 2, 9, 264, 228, 13, 5, 109, 182, 184, 33, 9, 4, 150, 21, 16], [21, 16, 148, 252], [1, 289, 725, 6, 194, 1703, 112, 1, 113, 1704, 21, 1705], [474, 6, 37, 34, 13, 148, 2, 9, 4, 5, 1706], [46, 267, 250], [46, 1707, 210, 300], [182, 3, 4, 21, 75, 19, 1, 141, 10, 11, 26, 1708], [182, 5, 30, 73], [48, 159, 126], [1, 1709, 1710, 481, 36, 1711, 99, 152, 38, 5, 1712, 1713, 1714, 6, 1, 1715, 10, 5, 687, 747, 266], [110, 46, 1716, 2, 242, 353, 82, 2, 179, 1, 135, 147, 355, 82], [158, 13, 348, 84, 180, 57, 1717, 188, 477, 253, 98, 14, 8, 1718, 100, 1719], [91, 17, 6, 731, 33, 28, 7, 1, 343, 10, 68, 1720], [22, 592, 2, 3, 480, 26, 1, 230, 2, 20, 5, 1721, 743, 73], [3, 117, 145, 400, 323, 90, 23, 748, 67], [1, 106, 20, 43, 1, 208, 435, 10, 171, 6, 12, 157, 1722, 1, 719, 77, 4, 716, 284], [693, 15, 14, 204, 13, 1723], [3, 428, 8, 15, 672, 263], [68, 1724, 1725, 35, 538, 7, 63, 5, 1726, 10, 8, 15], [3, 4, 21, 75], [12, 6, 1727, 1, 746, 10, 1728, 1729, 2, 275, 7, 5, 470, 1730], [35, 5, 1731, 670, 39, 127, 4, 21, 254, 2, 1732, 30, 17], [3, 20, 1, 113, 306, 2, 9, 166, 21, 131], [3, 42, 1733, 6, 143, 34, 35, 741, 146, 1734, 1735, 146, 358, 183, 8, 15, 6, 737, 180, 7, 14, 1, 297], [733, 1, 11, 4, 1736], [3, 369, 1, 742, 2, 1, 17, 4, 576], [1, 17, 4, 289, 2, 1737, 122, 58], [1, 125, 20, 31, 132, 16, 730, 35, 9, 3, 90, 12, 1738], [3, 486, 461, 18, 124, 35, 46, 211, 146, 33, 9, 4, 1739], [1740], [1, 1741, 4, 269], [1, 1742, 4, 99, 371, 10, 5, 1743, 440, 274, 2, 4, 491, 1744], [8, 15, 7, 107, 142, 207, 13, 294, 11], [3, 20, 442, 1745, 13, 8, 15, 187, 1, 469, 36, 284, 157, 5, 640, 1746, 33, 315, 1, 152, 1747, 749, 107, 749], [1, 91, 4, 1, 320, 690], [3, 110, 1, 1748, 1749, 477, 1750, 77, 4, 63, 459], [3, 20, 99, 221, 727, 2, 1751, 6, 102, 1752], [1753, 14, 1754, 47, 1, 41, 2, 178, 25, 22, 292, 252], [699, 475, 63], [92, 5, 30, 15, 2, 3, 358, 183, 9], [1755, 28, 80, 19, 1, 106, 4, 418], [132, 109, 89, 1, 103, 1756, 128, 15, 3, 124, 6, 14, 71], [1757, 3, 20, 1, 1758, 681, 237, 2, 9, 354], [304, 146, 4, 22, 406, 41, 170, 34, 2, 3, 4, 31, 220, 3, 546, 6, 37, 29], [12, 100, 5, 1759, 18, 42, 23, 208, 19, 27], [39, 215, 4, 21, 254, 64, 2, 1760], [1, 262, 28, 80, 70, 24, 1761, 19, 499, 2, 1762, 12, 653], [43, 44, 16, 44, 76, 3, 20, 9, 81, 89, 5, 747, 607], [43, 59, 145, 329, 32, 24, 31, 165], [8, 7, 66, 250, 16, 135, 2, 83, 46, 1763, 1764, 35, 1, 1765], [104, 105, 27, 1766, 464, 5, 1767, 52, 27, 181, 1768, 616, 5, 121, 3, 59, 1769], [18, 718, 39, 215, 303, 5, 192, 81, 1770, 6, 103, 339, 2, 1771, 72], [1, 299, 36, 225, 64, 2, 1, 85, 7, 1772], [83, 225, 1773], [33, 3, 59, 38, 9], [18, 711, 480, 40, 13, 456, 82, 19, 61, 51, 1774, 6, 247, 39, 186], [1, 57, 16, 200, 4, 39, 215, 97, 4, 21, 465, 2, 318, 1, 1775, 1776, 240], [1, 238, 7, 443, 2, 1, 17, 7, 30], [11, 4, 31, 1777], [31, 1778, 161], [1, 467, 24, 30, 2, 31, 4, 1, 1779], [195, 341, 54], [1, 1780, 275, 7, 748, 16], [108, 20, 109, 176], [60, 251, 25, 65, 5, 1781, 384, 1782, 1783, 276, 6, 1784, 4, 1, 1785, 632, 10, 1, 1786, 344, 13, 72], [3, 20, 5, 118, 1787, 73], [3, 486, 3, 251, 25, 643, 28, 8, 15, 53, 667, 129, 9, 7, 243, 10, 1, 1788, 33, 3, 117, 671, 22, 1789, 1790], [6, 22, 1791, 234, 184, 1792, 44, 1, 91, 1793, 10, 291, 1794, 3, 25, 49, 166], [3, 20, 1, 1795, 301, 6, 1796, 50, 74, 484], [3, 404, 9, 214, 144, 179, 2, 83, 1797, 9, 214, 144, 178], [31, 589, 2, 116, 43, 1, 158, 435, 10, 507], [9, 246, 1798, 438, 1, 736, 26, 1, 1799, 33, 3, 53, 359, 5, 155, 197, 81, 240, 78, 5, 62], [1, 17, 34, 1800, 5, 192, 6, 23, 1801], [239, 4, 163, 2, 67], [1802, 22, 593, 73, 26, 8, 1803, 313, 4, 12, 31, 16], [104, 149, 7, 28], [17, 7, 356, 2, 100, 6, 37, 634, 36, 43, 38, 18, 38, 9], [29, 6, 16, 1804, 1805, 745, 443, 620, 2, 257, 1, 1806, 32, 36, 29, 6, 1, 266, 1807], [284, 6, 707, 2, 1, 17, 4, 508], [16, 720, 30, 11, 30, 17], [549, 1, 453, 35, 22, 451, 133, 4, 253], [1, 17, 4, 609], [32, 63, 25, 1, 48, 453, 1808, 14, 204], [12, 5, 1809, 1810, 80, 70, 6, 244, 52, 18, 24, 370, 98, 100, 682, 5, 399, 675, 209, 32, 712, 334, 72, 39, 11], [8, 7, 5, 30, 15, 6, 102], [3, 124, 6, 550, 133, 35, 5, 451, 654, 2, 4, 12, 75], [51, 58, 200, 4, 28, 32, 739, 1811, 35, 1, 1812, 187, 39, 458, 4, 1813, 89, 1814, 98, 368, 2, 32, 117, 359, 81, 595, 89, 28], [5, 30, 1815], [118, 656, 3, 53, 93], [28, 213, 39, 1816, 2, 1817, 24, 150, 168, 432], [51, 10, 1, 174, 285, 14, 357, 28, 3, 53, 717, 37, 29, 6, 56], [11, 7, 107, 207, 2, 268, 36, 1818, 272], [83, 12, 45, 246, 104, 1819, 4, 1820, 48, 216, 452, 14, 1, 648, 86, 1821, 10, 357, 1822], [744, 624, 740, 2, 3, 36, 218, 1823, 361], [5, 16, 41], [1, 450, 7, 58, 2, 1, 1824, 398, 1825, 7, 409]]\n"
     ]
    }
   ],
   "source": [
    "from keras.preprocessing.text import Tokenizer\n",
    "tokenizer=Tokenizer(num_words=50000)\n",
    "tokenizer.fit_on_texts(x_train)\n",
    "train_sequence=tokenizer.texts_to_sequences(x_train)\n",
    "print(train_sequence)"
   ]
  },
  {
   "cell_type": "markdown",
   "metadata": {},
   "source": [
    "You can test it by printing the first few elements from your train set and from the list storing the sequences of integer values. The number of words from the train set for each entry should be the same a the number of integers in the corresponding sequence."
   ]
  },
  {
   "cell_type": "code",
   "execution_count": 119,
   "metadata": {},
   "outputs": [
    {
     "name": "stdout",
     "output_type": "stream",
     "text": [
      "['Went for lunch - service was slow.'\n",
      " \"Point your finger at any item on the menu, order it and you won't be disappointed.\"\n",
      " 'I ordered Albondigas soup - which was just warm - and tasted like tomato soup with frozen meatballs.'\n",
      " 'Check it out.' 'Weird vibe from owners.']\n",
      "[[124, 13, 148, 17, 4, 165], [362, 50, 750, 26, 134, 751, 35, 1, 125, 186, 9, 2, 27, 69, 23, 75], [3, 110, 752, 363, 77, 4, 43, 258, 2, 166, 38, 753, 363, 19, 487, 754], [298, 9, 70], [755, 364, 78, 299]]\n"
     ]
    }
   ],
   "source": [
    "print(x_train[0:5])\n",
    "print(train_sequence[0:5])"
   ]
  },
  {
   "cell_type": "markdown",
   "metadata": {},
   "source": [
    "The sequences have different lengths. Keras needs inputs to be vectorized and all inputs to have the same length. We have to pad all input sequences to have the same length. We can do this with a built in Keras function, in this case the $pad\\_sequences()$ function.\n",
    "Find the max length of a review and use the [pad_sequences function](https://keras.io/preprocessing/sequence/) to convert all sequences from the encoddings list into the same length."
   ]
  },
  {
   "cell_type": "code",
   "execution_count": 120,
   "metadata": {},
   "outputs": [
    {
     "name": "stdout",
     "output_type": "stream",
     "text": [
      "32\n",
      "[[   0    0    0 ...   17    4  165]\n",
      " [   0    0    0 ...   69   23   75]\n",
      " [   0    0    0 ...   19  487  754]\n",
      " ...\n",
      " [   0    0    0 ...  218 1823  361]\n",
      " [   0    0    0 ...    5   16   41]\n",
      " [   0    0    0 ... 1825    7  409]]\n"
     ]
    }
   ],
   "source": [
    "from keras.preprocessing.sequence import pad_sequences\n",
    "item = max(train_sequence, key=len)\n",
    "print(len(item))\n",
    "train_sequence=pad_sequences(train_sequence,maxlen=40)\n",
    "print(train_sequence)"
   ]
  },
  {
   "cell_type": "code",
   "execution_count": 121,
   "metadata": {},
   "outputs": [
    {
     "name": "stdout",
     "output_type": "stream",
     "text": [
      "797\n"
     ]
    }
   ],
   "source": [
    "print(len(train_sequence))"
   ]
  },
  {
   "cell_type": "markdown",
   "metadata": {},
   "source": [
    "***\n",
    "**T1.3** Converting the test data into sequences of the same length.\n",
    "\n",
    "Convert the test dataset into the same format. Use the Tokenizer specified ealier."
   ]
  },
  {
   "cell_type": "code",
   "execution_count": 122,
   "metadata": {},
   "outputs": [
    {
     "name": "stdout",
     "output_type": "stream",
     "text": [
      "['Stopped by this place while in Madison for the Ironman, very friendly, kind staff.'\n",
      " 'The Han Nan Chicken was also very tasty.'\n",
      " 'I found this place by accident and I could not be happier.'\n",
      " 'Pretty good beer selection too.' 'I just wanted to leave.']\n",
      "[[1249, 86, 8, 15, 316, 14, 13, 1, 21, 64, 403, 85], [1, 113, 4, 63, 21, 196], [3, 241, 8, 15, 86, 2, 3, 90, 12, 23], [118, 16, 188, 167, 142], [3, 43, 649, 6, 937]]\n",
      "[[  0   0   0 ...  64 403  85]\n",
      " [  0   0   0 ...  63  21 196]\n",
      " [  0   0   0 ...  90  12  23]\n",
      " ...\n",
      " [  0   0   0 ... 228 120  34]\n",
      " [  0   0   0 ... 100  78 306]\n",
      " [  0   0   0 ...  21 308  41]]\n"
     ]
    }
   ],
   "source": [
    "test_sequence=tokenizer.texts_to_sequences(x_test)\n",
    "print(x_test[0:5])\n",
    "print(test_sequence[0:5])\n",
    "test_sequence=pad_sequences(test_sequence,maxlen=40)\n",
    "print(test_sequence)"
   ]
  },
  {
   "cell_type": "markdown",
   "metadata": {},
   "source": [
    "***\n",
    "**T1.4 Train and evaluate MLP with Embedding layer**\n",
    "\n",
    "Now you can train the MLP with the [Embedding layer](https://keras.io/layers/embeddings/) and evaluate it with the test data. The Embedding layer should be added as the fist layer in a Sequential model followed by the Flatten layer. After this you can include some Dense layers suitable for your classification problem."
   ]
  },
  {
   "cell_type": "code",
   "execution_count": 149,
   "metadata": {},
   "outputs": [
    {
     "name": "stderr",
     "output_type": "stream",
     "text": [
      "C:\\ProgramData\\Anaconda3\\lib\\site-packages\\tensorflow_core\\python\\framework\\indexed_slices.py:433: UserWarning: Converting sparse IndexedSlices to a dense Tensor of unknown shape. This may consume a large amount of memory.\n",
      "  \"Converting sparse IndexedSlices to a dense Tensor of unknown shape. \"\n"
     ]
    },
    {
     "name": "stdout",
     "output_type": "stream",
     "text": [
      "Train on 797 samples, validate on 200 samples\n",
      "Epoch 1/10\n",
      " - 19s - loss: 0.6986 - accuracy: 0.5433 - val_loss: 0.6628 - val_accuracy: 0.5850\n",
      "Epoch 2/10\n",
      " - 18s - loss: 0.5162 - accuracy: 0.8921 - val_loss: 0.5297 - val_accuracy: 0.7450\n",
      "Epoch 3/10\n",
      " - 18s - loss: 0.1899 - accuracy: 0.9724 - val_loss: 0.5003 - val_accuracy: 0.7600\n",
      "Epoch 4/10\n",
      " - 18s - loss: 0.0572 - accuracy: 0.9950 - val_loss: 0.4549 - val_accuracy: 0.7750\n",
      "Epoch 5/10\n",
      " - 19s - loss: 0.0227 - accuracy: 0.9987 - val_loss: 0.4809 - val_accuracy: 0.7750\n",
      "Epoch 6/10\n",
      " - 21s - loss: 0.0109 - accuracy: 1.0000 - val_loss: 0.4646 - val_accuracy: 0.8000\n",
      "Epoch 7/10\n",
      " - 22s - loss: 0.0069 - accuracy: 1.0000 - val_loss: 0.4969 - val_accuracy: 0.7750\n",
      "Epoch 8/10\n",
      " - 21s - loss: 0.0045 - accuracy: 1.0000 - val_loss: 0.4926 - val_accuracy: 0.8000\n",
      "Epoch 9/10\n",
      " - 20s - loss: 0.0031 - accuracy: 1.0000 - val_loss: 0.5168 - val_accuracy: 0.7850\n",
      "Epoch 10/10\n",
      " - 19s - loss: 0.0023 - accuracy: 1.0000 - val_loss: 0.5220 - val_accuracy: 0.8000\n"
     ]
    },
    {
     "data": {
      "image/png": "[encoded data removed]",
      "text/plain": [
       "<Figure size 432x288 with 1 Axes>"
      ]
     },
     "metadata": {
      "needs_background": "light"
     },
     "output_type": "display_data"
    },
    {
     "data": {
      "image/png": "[encoded data removed]",
      "text/plain": [
       "<Figure size 432x288 with 1 Axes>"
      ]
     },
     "metadata": {
      "needs_background": "light"
     },
     "output_type": "display_data"
    }
   ],
   "source": [
    "import numpy as np\n",
    "from keras.models import Sequential\n",
    "from keras.layers import Dense\n",
    "from keras.layers import Embedding\n",
    "from keras.layers import Flatten\n",
    "from keras import optimizers\n",
    "from numpy.random import seed\n",
    "import tensorflow\n",
    "\n",
    "seed(0)\n",
    "tensorflow.random.set_seed(0)\n",
    "e=Embedding(50000,300,input_length=40,trainable=True)\n",
    "\n",
    "model=Sequential()\n",
    "model.add(e)\n",
    "model.add(Flatten())\n",
    "model.add(Dense(10, activation='relu'))\n",
    "model.add(Dense(1, activation='sigmoid'))\n",
    "model.compile(loss='binary_crossentropy', optimizer='adam', metrics=['accuracy'])\n",
    "\n",
    "history=model.fit(train_sequence,y_train, validation_data=(test_sequence, y_test),epochs=10, batch_size=10,verbose=2)\n",
    "\n",
    "plt.plot(history.history['loss'])\n",
    "plt.plot(history.history['val_loss'])\n",
    "plt.title('model loss')\n",
    "plt.ylabel('loss')\n",
    "plt.xlabel('epoch')\n",
    "plt.legend(['train', 'validation'], loc='upper left')\n",
    "plt.show()\n",
    "\n",
    "# Plot training & validation accuracy values\n",
    "plt.plot(history.history['accuracy'])\n",
    "plt.plot(history.history['val_accuracy'])\n",
    "plt.title('Model accuracy')\n",
    "plt.ylabel('Accuracy')\n",
    "plt.xlabel('Epoch')\n",
    "plt.legend(['Train', 'Test'], loc='upper left')\n",
    "plt.show()"
   ]
  },
  {
   "cell_type": "markdown",
   "metadata": {},
   "source": [
    "# Task 3: Embedding Layer with pre-trained embeddings"
   ]
  },
  {
   "cell_type": "markdown",
   "metadata": {},
   "source": [
    "The Keras embedding layer can also use a word embedding learned elsewhere such as word2vec or GloVe. The key difference is that the embedding layer can be seeded with the pre-trained word embedding weights. For this purpose you need to build a matrix of words using the word2vec/GloVe vectors. You can set number of words that you want to use. The words will be selected as the most frequent words in the training set.\n",
    "\n",
    "The matrix should have the number of row equals to the number of words, and number of column equals to the dimension of the embedding vectors. In each row $i$ the matrix should contain the embedding for a word which is encoded with the $i$ number."
   ]
  },
  {
   "cell_type": "markdown",
   "metadata": {},
   "source": [
    "**T2.1** Load the word2vec and the GloVe models."
   ]
  },
  {
   "cell_type": "code",
   "execution_count": 127,
   "metadata": {},
   "outputs": [
    {
     "name": "stderr",
     "output_type": "stream",
     "text": [
      "C:\\ProgramData\\Anaconda3\\lib\\importlib\\_bootstrap.py:219: RuntimeWarning: numpy.ufunc size changed, may indicate binary incompatibility. Expected 192 from C header, got 216 from PyObject\n",
      "  return f(*args, **kwds)\n",
      "C:\\ProgramData\\Anaconda3\\lib\\site-packages\\ipykernel_launcher.py:4: DeprecationWarning: Call to deprecated `wv` (Attribute will be removed in 4.0.0, use self instead).\n",
      "  after removing the cwd from sys.path.\n"
     ]
    }
   ],
   "source": [
    "from gensim.models import KeyedVectors\n",
    "file = 'GoogleNews-vectors-negative300.bin' #pathway to the file\n",
    "word2vec = KeyedVectors.load_word2vec_format(file, binary=True, limit=50000)\n",
    "word2vec_vectors = word2vec.wv"
   ]
  },
  {
   "cell_type": "code",
   "execution_count": 128,
   "metadata": {},
   "outputs": [
    {
     "name": "stderr",
     "output_type": "stream",
     "text": [
      "C:\\ProgramData\\Anaconda3\\lib\\site-packages\\ipykernel_launcher.py:3: DeprecationWarning: Call to deprecated `wv` (Attribute will be removed in 4.0.0, use self instead).\n",
      "  This is separate from the ipykernel package so we can avoid doing imports until\n"
     ]
    }
   ],
   "source": [
    "filename = 'glove.6B.100d.txt.word2vec'\n",
    "glove = KeyedVectors.load_word2vec_format(filename, binary=False, limit=50000)\n",
    "glove_vectors=glove.wv"
   ]
  },
  {
   "cell_type": "markdown",
   "metadata": {},
   "source": [
    "***\n",
    "**T2.2** Constructing the weight matrix for the embedding layer\n",
    "\n",
    "The matrix can be constructed as follow."
   ]
  },
  {
   "cell_type": "code",
   "execution_count": 132,
   "metadata": {},
   "outputs": [],
   "source": [
    "import numpy as np\n",
    "\n",
    "num_words = len(tokenizer.word_index)+1 #tokenizer is the object of Tokenizer that you used ealier      #1826 different words in dataset\n",
    "embedding_matrix = np.zeros((num_words, 300))    #previous embedding was set to 300, so here is 300\n",
    "for word, i in tokenizer.word_index.items():     #iterate items in word list\n",
    "    if word in word2vec_vectors:\n",
    "        embedding_vector = word2vec[word]\n",
    "        embedding_matrix[i] = embedding_vector"
   ]
  },
  {
   "cell_type": "code",
   "execution_count": 133,
   "metadata": {},
   "outputs": [
    {
     "data": {
      "text/plain": [
       "(1826, 300)"
      ]
     },
     "execution_count": 133,
     "metadata": {},
     "output_type": "execute_result"
    }
   ],
   "source": [
    "embedding_matrix.shape"
   ]
  },
  {
   "cell_type": "markdown",
   "metadata": {},
   "source": [
    "You can test whether the matrix has been constructed correctly via comparing its rows with the actual embeddings."
   ]
  },
  {
   "cell_type": "code",
   "execution_count": 134,
   "metadata": {},
   "outputs": [
    {
     "data": {
      "text/plain": [
       "dict_items([('the', 1), ('and', 2), ('i', 3), ('was', 4), ('a', 5), ('to', 6), ('is', 7), ('this', 8), ('it', 9), ('of', 10), ('food', 11), ('not', 12), ('for', 13), ('in', 14), ('place', 15), ('good', 16), ('service', 17), ('we', 18), ('with', 19), ('had', 20), ('very', 21), ('my', 22), ('be', 23), ('were', 24), ('have', 25), ('at', 26), ('you', 27), ('that', 28), ('back', 29), ('great', 30), ('so', 31), ('they', 32), ('but', 33), ('here', 34), ('on', 35), ('are', 36), ('go', 37), ('like', 38), ('our', 39), ('there', 40), ('time', 41), ('will', 42), ('just', 43), ('as', 44), ('really', 45), ('an', 46), ('all', 47), ('best', 48), ('ever', 49), ('your', 50), ('one', 51), ('if', 52), ('would', 53), ('up', 54), ('never', 55), ('again', 56), ('only', 57), ('nice', 58), (\"don't\", 59), ('what', 60), ('no', 61), ('restaurant', 62), ('also', 63), ('friendly', 64), ('been', 65), ('some', 66), ('delicious', 67), ('their', 68), (\"won't\", 69), ('out', 70), ('vegas', 71), ('us', 72), ('experience', 73), ('amazing', 74), ('disappointed', 75), ('when', 76), ('which', 77), ('from', 78), ('first', 79), ('came', 80), ('more', 81), ('minutes', 82), (\"i'm\", 83), ('me', 84), ('staff', 85), ('by', 86), ('did', 87), ('got', 88), ('than', 89), ('could', 90), ('worst', 91), (\"it's\", 92), ('say', 93), ('think', 94), ('definitely', 95), ('going', 96), ('he', 97), ('or', 98), ('about', 99), ('even', 100), ('bad', 101), ('eat', 102), ('other', 103), ('how', 104), ('can', 105), ('salad', 106), ('way', 107), (\"i've\", 108), ('better', 109), ('ordered', 110), ('get', 111), ('made', 112), ('chicken', 113), ('do', 114), ('wait', 115), ('has', 116), (\"didn't\", 117), ('pretty', 118), ('love', 119), ('them', 120), ('steak', 121), ('being', 122), ('flavor', 123), ('went', 124), ('menu', 125), ('buffet', 126), ('server', 127), ('sushi', 128), ('because', 129), ('always', 130), ('bland', 131), ('much', 132), ('burger', 133), ('any', 134), ('pizza', 135), ('well', 136), ('enough', 137), ('probably', 138), ('want', 139), ('meal', 140), ('quality', 141), ('too', 142), ('come', 143), ('stars', 144), ('know', 145), ('night', 146), ('another', 147), ('lunch', 148), ('awesome', 149), ('still', 150), ('times', 151), ('taste', 152), ('down', 153), ('every', 154), ('little', 155), (\"wasn't\", 156), ('over', 157), ('perfect', 158), ('breakfast', 159), ('clean', 160), ('fantastic', 161), ('sandwich', 162), ('fresh', 163), ('excellent', 164), ('slow', 165), ('tasted', 166), ('selection', 167), ('quite', 168), ('worth', 169), ('dining', 170), ('sauce', 171), ('she', 172), ('after', 173), ('few', 174), ('soon', 175), ('atmosphere', 176), ('before', 177), ('now', 178), ('then', 179), ('who', 180), (\"can't\", 181), ('overall', 182), ('recommend', 183), ('dish', 184), ('terrible', 185), ('order', 186), ('since', 187), ('beer', 188), ('day', 189), ('deal', 190), ('many', 191), ('lot', 192), ('feel', 193), ('meat', 194), ('2', 195), ('tasty', 196), ('bit', 197), ('spicy', 198), ('fries', 199), ('thing', 200), ('nothing', 201), ('give', 202), ('waitress', 203), ('town', 204), ('loved', 205), ('next', 206), ('overpriced', 207), ('right', 208), ('once', 209), ('must', 210), ('off', 211), ('try', 212), ('said', 213), ('5', 214), ('waiter', 215), ('hot', 216), ('waited', 217), ('both', 218), ('prices', 219), ('happy', 220), ('two', 221), ('people', 222), ('impressed', 223), ('getting', 224), ('super', 225), ('dishes', 226), ('eating', 227), ('make', 228), ('money', 229), ('bar', 230), ('family', 231), ('far', 232), ('absolutely', 233), ('each', 234), ('enjoy', 235), ('table', 236), ('special', 237), ('price', 238), ('everything', 239), ('coming', 240), ('found', 241), ('took', 242), ('inside', 243), ('see', 244), (\"i'll\", 245), ('sure', 246), ('take', 247), ('where', 248), ('felt', 249), ('seriously', 250), ('should', 251), ('spot', 252), ('cold', 253), ('attentive', 254), ('management', 255), ('rude', 256), ('tell', 257), ('warm', 258), ('wonderful', 259), ('tender', 260), ('potato', 261), ('chips', 262), ('around', 263), ('may', 264), ('beef', 265), ('old', 266), ('hour', 267), ('portions', 268), ('huge', 269), ('1', 270), ('enjoyed', 271), ('small', 272), ('twice', 273), ('full', 274), ('bacon', 275), ('dinner', 276), ('outside', 277), ('her', 278), ('disappointing', 279), ('hard', 280), ('side', 281), ('horrible', 282), ('ambiance', 283), ('cooked', 284), ('places', 285), ('seated', 286), ('waiting', 287), ('am', 288), ('poor', 289), ('pasta', 290), ('these', 291), ('new', 292), ('fish', 293), ('mediocre', 294), ('authentic', 295), ('thai', 296), ('area', 297), ('check', 298), ('owners', 299), ('visit', 300), ('today', 301), ('sad', 302), ('pay', 303), ('last', 304), ('needs', 305), ('pho', 306), ('drive', 307), ('long', 308), ('bay', 309), ('wrong', 310), ('though', 311), ('hit', 312), ('location', 313), ('vegetables', 314), ('unfortunately', 315), ('while', 316), ('left', 317), ('kept', 318), ('bread', 319), ('salmon', 320), ('during', 321), ('options', 322), ('pork', 323), ('barely', 324), ('business', 325), ('elsewhere', 326), ('dessert', 327), ('30', 328), ('why', 329), ('real', 330), ('either', 331), ('talk', 332), ('waste', 333), ('served', 334), ('eaten', 335), ('return', 336), ('average', 337), ('home', 338), ('tables', 339), ('things', 340), ('thumbs', 341), ('dirty', 342), ('least', 343), ('trip', 344), ('fun', 345), ('anytime', 346), (\"i'd\", 347), ('someone', 348), ('customer', 349), ('thought', 350), ('possible', 351), ('friends', 352), ('40', 353), ('sucked', 354), ('10', 355), ('quick', 356), ('phoenix', 357), ('highly', 358), ('expect', 359), ('look', 360), ('sick', 361), ('point', 362), ('soup', 363), ('vibe', 364), ('piece', 365), ('establishment', 366), ('style', 367), ('8', 368), ('liked', 369), ('ok', 370), ('half', 371), ('else', 372), ('texture', 373), ('nasty', 374), ('wow', 375), ('tasteless', 376), ('thin', 377), ('fast', 378), ('sweet', 379), ('cream', 380), ('husband', 381), ('ate', 382), ('desserts', 383), ('yummy', 384), ('his', 385), ('rather', 386), ('35', 387), ('vegetarian', 388), ('manager', 389), ('shrimp', 390), ('meals', 391), ('tacos', 392), ('regular', 393), ('equally', 394), ('strip', 395), ('live', 396), ('green', 397), ('music', 398), ('water', 399), ('pulled', 400), ('large', 401), ('heart', 402), ('kind', 403), ('gave', 404), ('review', 405), ('second', 406), ('pita', 407), ('hummus', 408), ('pleasant', 409), ('par', 410), ('fine', 411), ('chewy', 412), ('melt', 413), ('mouth', 414), ('setting', 415), ('tea', 416), ('care', 417), ('stale', 418), ('disappointment', 419), ('egg', 420), ('4', 421), ('drinks', 422), ('subway', 423), ('fact', 424), ('although', 425), ('folks', 426), ('ask', 427), ('hope', 428), ('immediately', 429), ('lacking', 430), ('avoid', 431), ('pleased', 432), ('away', 433), ('used', 434), ('amount', 435), ('until', 436), (\"we'll\", 437), ('beat', 438), ('chef', 439), ('wine', 440), ('list', 441), ('high', 442), ('reasonable', 443), ('considering', 444), ('extremely', 445), ('oh', 446), ('wall', 447), ('arrived', 448), ('brunch', 449), ('decor', 450), (\"friend's\", 451), ('dog', 452), ('cheese', 453), ('none', 454), ('rolls', 455), ('20', 456), ('beautiful', 457), ('party', 458), ('incredible', 459), ('servers', 460), ('maybe', 461), ('told', 462), ('such', 463), ('yourself', 464), ('helpful', 465), ('awful', 466), ('potatoes', 467), ('under', 468), ('burgers', 469), ('big', 470), ('salt', 471), ('sides', 472), ('wings', 473), ('tried', 474), ('priced', 475), ('insulted', 476), ('ice', 477), ('delish', 478), ('zero', 479), ('sat', 480), ('everyone', 481), ('something', 482), ('treated', 483), ('pizzas', 484), ('stop', 485), ('guess', 486), ('frozen', 487), ('convenient', 488), ('selections', 489), ('different', 490), ('12', 491), ('joke', 492), ('bucks', 493), ('let', 494), ('sliced', 495), ('white', 496), ('checked', 497), ('walked', 498), ('grease', 499), ('dirt', 500), ('means', 501), ('end', 502), ('star', 503), ('spend', 504), ('later', 505), ('seemed', 506), ('heat', 507), ('impeccable', 508), ('3', 509), ('seasoned', 510), ('group', 511), ('sucks', 512), ('undercooked', 513), ('beans', 514), ('gyros', 515), ('crowd', 516), ('mid', 517), ('toasted', 518), ('running', 519), ('realized', 520), ('gone', 521), ('looking', 522), ('become', 523), ('yet', 524), ('word', 525), ('late', 526), ('moist', 527), ('butter', 528), ('mmmm', 529), ('break', 530), ('serving', 531), ('vinegrette', 532), ('disappoint', 533), ('lady', 534), ('finish', 535), ('complain', 536), ('bars', 537), ('tap', 538), ('dry', 539), ('stomach', 540), ('promise', 541), ('min', 542), ('duck', 543), ('rare', 544), ('char', 545), ('decided', 546), ('looked', 547), ('please', 548), ('third', 549), ('bachi', 550), ('greek', 551), ('dressing', 552), ('treat', 553), ('busy', 554), (\"isn't\", 555), ('attitudes', 556), ('towards', 557), ('customers', 558), ('dark', 559), ('feels', 560), ('biscuits', 561), ('total', 562), ('flower', 563), ('preparing', 564), ('indian', 565), ('cashier', 566), ('ended', 567), ('bakery', 568), ('belly', 569), ('stayed', 570), (\"couldn't\", 571), ('reviews', 572), ('seen', 573), ('especially', 574), ('flavorless', 575), ('outstanding', 576), ('close', 577), ('nicest', 578), ('chinese', 579), ('doubt', 580), ('underwhelming', 581), ('person', 582), ('bartender', 583), ('multiple', 584), ('heard', 585), ('mistake', 586), ('received', 587), ('similar', 588), ('flavorful', 589), ('bathrooms', 590), ('between', 591), ('boyfriend', 592), ('recent', 593), ('bye', 594), ('tip', 595), ('tribute', 596), ('lobster', 597), ('owner', 598), ('work', 599), ('sub', 600), ('offers', 601), ('professional', 602), ('room', 603), ('steaks', 604), ('serve', 605), ('several', 606), ('ago', 607), ('cant', 608), ('meh', 609), ('needless', 610), ('quickly', 611), ('crispy', 612), ('gold', 613), ('honest', 614), ('course', 615), ('cook', 616), ('mall', 617), ('set', 618), ('simply', 619), ('pricing', 620), (\"wouldn't\", 621), ('bug', 622), ('given', 623), ('evening', 624), ('cute', 625), ('interesting', 626), ('part', 627), ('anyway', 628), ('damn', 629), ('crazy', 630), ('job', 631), ('fail', 632), ('totally', 633), ('orders', 634), ('overcooked', 635), ('week', 636), ('bagels', 637), ('yum', 638), ('itself', 639), ('charcoal', 640), ('basically', 641), ('mind', 642), ('known', 643), ('presentation', 644), ('roasted', 645), ('recently', 646), ('greeted', 647), ('valley', 648), ('wanted', 649), ('guy', 650), ('behind', 651), ('pop', 652), ('edible', 653), ('recommendation', 654), ('life', 655), ('cool', 656), ('focused', 657), ('decorated', 658), ('hours', 659), ('favor', 660), ('stay', 661), ('glad', 662), ('unless', 663), ('drink', 664), ('empty', 665), ('above', 666), ('suck', 667), ('seafood', 668), ('mom', 669), ('note', 670), ('use', 671), ('sticks', 672), ('neighborhood', 673), ('lots', 674), ('refill', 675), ('paper', 676), ('fairly', 677), ('filling', 678), ('beyond', 679), ('fry', 680), ('filet', 681), ('needed', 682), ('pepper', 683), ('kids', 684), ('bring', 685), ('lacked', 686), ('six', 687), ('started', 688), ('tuna', 689), ('sashimi', 690), ('color', 691), ('hands', 692), ('favorite', 693), ('tots', 694), ('hate', 695), ('those', 696), ('cheap', 697), ('black', 698), ('reasonably', 699), ('feeling', 700), ('disrespected', 701), ('roast', 702), ('entrees', 703), ('recommended', 704), ('believe', 705), ('eggplant', 706), ('perfection', 707), ('judge', 708), ('expected', 709), ('decent', 710), ('literally', 711), ('finally', 712), ('wife', 713), ('restaurants', 714), ('dine', 715), ('perfectly', 716), ('definately', 717), ('watched', 718), ('scallop', 719), ('value', 720), ('shower', 721), ('sitting', 722), ('brought', 723), ('honestly', 724), ('batter', 725), ('taco', 726), ('bites', 727), ('dealing', 728), ('acknowledged', 729), ('stuff', 730), ('boot', 731), ('wrap', 732), ('omg', 733), ('healthy', 734), ('ripped', 735), ('nachos', 736), ('anyone', 737), ('marrow', 738), ('added', 739), ('him', 740), ('ladies', 741), ('patio', 742), ('delightful', 743), ('same', 744), ('fare', 745), ('combination', 746), ('year', 747), ('soooo', 748), ('flat', 749), ('finger', 750), ('item', 751), ('albondigas', 752), ('tomato', 753), ('meatballs', 754), ('weird', 755), ('hiro', 756), ('delight', 757), ('staying', 758), ('mgm', 759), ('relocated', 760), ('cut', 761), ('s', 762), ('flavored', 763), ('drag', 764), ('into', 765), ('downside', 766), ('chip', 767), ('count', 768), ('box', 769), ('ri', 770), ('calamari', 771), ('martini', 772), ('plus', 773), ('pricey', 774), ('might', 775), ('alone', 776), ('toro', 777), ('tartare', 778), ('cavier', 779), ('extraordinary', 780), ('thinly', 781), ('wagyu', 782), ('truffle', 783), ('negligent', 784), ('unwelcome', 785), ('suggest', 786), ('shoe', 787), ('leather', 788), ('hardly', 789), (\"we'd\", 790), ('smelled', 791), ('trap', 792), ('others', 793), ('spends', 794), ('talking', 795), ('themselves', 796), ('bowl', 797), ('thru', 798), ('somehow', 799), ('deserves', 800), ('90', 801), ('help', 802), ('generous', 803), ('couple', 804), ('months', 805), ('returned', 806), ('ha', 807), ('flop', 808), ('chipolte', 809), ('ranch', 810), ('dipping', 811), ('sause', 812), ('watered', 813), ('proven', 814), ('dead', 815), ('awkward', 816), ('5lb', 817), ('cow', 818), ('4ths', 819), ('gristle', 820), ('fat', 821), ('mouthful', 822), ('enjoyable', 823), ('relaxed', 824), ('venue', 825), ('couples', 826), ('groups', 827), ('etc', 828), ('disgrace', 829), ('daily', 830), ('specials', 831), ('crawfish', 832), ('crust', 833), ('eew', 834), ('complete', 835), ('overhaul', 836), ('cashew', 837), ('refried', 838), ('dried', 839), ('crusty', 840), ('thus', 841), ('visited', 842), ('margaritas', 843), ('main', 844), ('older', 845), ('30s', 846), ('english', 847), ('muffin', 848), ('untoasted', 849), ('craving', 850), ('sunglasses', 851), ('similarly', 852), ('delivery', 853), ('man', 854), ('apology', 855), ('45', 856), ('terrific', 857), ('thrilled', 858), ('accommodations', 859), ('daughter', 860), ('block', 861), ('allergy', 862), ('warnings', 863), ('clue', 864), ('contain', 865), ('peanuts', 866), ('wrapped', 867), ('dates', 868), ('satisfying', 869), ('occasional', 870), ('pats', 871), ('friend', 872), ('tartar', 873), ('wide', 874), ('array', 875), ('choose', 876), ('insults', 877), ('profound', 878), ('deuchebaggery', 879), ('smoke', 880), ('solidify', 881), ('hella', 882), ('salty', 883), ('baby', 884), ('greens', 885), ('hearts', 886), ('palm', 887), ('caterpillar', 888), ('prompt', 889), ('ambience', 890), ('playing', 891), ('anything', 892), ('seating', 893), ('reservation', 894), ('recall', 895), ('charged', 896), ('accountant', 897), ('screwed', 898), ('consistent', 899), ('boba', 900), ('brisket', 901), ('fails', 902), ('deliver', 903), ('burrittos', 904), ('blah', 905), ('pancake', 906), ('milkshake', 907), ('chocolate', 908), ('milk', 909), ('pink', 910), ('send', 911), ('verge', 912), ('having', 913), ('attack', 914), ('ground', 915), ('smeared', 916), ('stepped', 917), ('tracked', 918), ('everywhere', 919), ('pile', 920), ('bird', 921), ('poop', 922), ('mess', 923), ('rating', 924), ('writing', 925), ('refreshing', 926), ('genuinely', 927), ('enthusiastic', 928), ('military', 929), ('discount', 930), (\"you'll\", 931), ('steiners', 932), ('liking', 933), ('number', 934), ('reasons', 935), ('reviewing', 936), ('leave', 937), ('relax', 938), ('wontons', 939), ('thick', 940), ('almost', 941), ('douchey', 942), ('indoor', 943), ('garden', 944), ('letdown', 945), ('camelback', 946), ('shop', 947), ('cartel', 948), ('coffee', 949), ('managed', 950), ('blandest', 951), ('cuisine', 952), ('wayyy', 953), ('leftover', 954), ('spaghetti', 955), ('whatsoever', 956), ('venturing', 957), ('rolled', 958), ('eyes', 959), ('reviewer', 960), ('rave', 961), ('reason', 962), ('fill', 963), ('binge', 964), ('drinking', 965), ('carbs', 966), ('strawberry', 967), ('tragedy', 968), ('struck', 969), ('serves', 970), ('00', 971), ('describing', 972), ('tepid', 973), (\"shouldn't\", 974), ('pancakes', 975), ('eggs', 976), ('crepe', 977), ('station', 978), ('below', 979), ('strike', 980), ('wants', 981), ('rushed', 982), ('brick', 983), ('oven', 984), ('app', 985), ('impressive', 986), (\"hasn't\", 987), ('closed', 988), ('jerk', 989), ('waitresses', 990), ('bits', 991), ('top', 992), ('original', 993), ('bellagio', 994), ('anticipated', 995), ('meet', 996), ('expectations', 997), ('thirty', 998), ('vacant', 999), ('without', 1000), ('experiencing', 1001), ('relationship', 1002), ('parties', 1003), ('exceeding', 1004), ('dreamed', 1005), ('postinos', 1006), ('noca', 1007), ('parents', 1008), ('most', 1009), ('complaints', 1010), ('silently', 1011), ('delights', 1012), ('ample', 1013), ('seat', 1014), ('covers', 1015), ('replenished', 1016), ('plain', 1017), ('yucky', 1018), (\"girlfriend's\", 1019), ('veal', 1020), ('lover', 1021), ('40min', 1022), ('passed', 1023), ('ordering', 1024), ('arriving', 1025), ('outshining', 1026), ('halibut', 1027), ('poorly', 1028), ('constructed', 1029), ('greatest', 1030), ('moods', 1031), ('hereas', 1032), ('event', 1033), ('held', 1034), ('classic', 1035), ('maine', 1036), ('roll', 1037), ('strange', 1038), ('stuffed', 1039), ('nobu', 1040), ('problem', 1041), ('charge', 1042), ('11', 1043), ('99', 1044), ('bigger', 1045), ('overwhelmed', 1046), ('lordy', 1047), ('khao', 1048), ('soi', 1049), ('missed', 1050), ('curry', 1051), ('lovers', 1052), ('flavourful', 1053), ('watch', 1054), ('saving', 1055), ('grilled', 1056), ('yellow', 1057), ('saffron', 1058), ('seasoning', 1059), ('classy', 1060), ('appetizers', 1061), ('succulent', 1062), ('baseball', 1063), ('naan', 1064), ('pine', 1065), ('nut', 1066), ('world', 1067), ('voodoo', 1068), ('gluten', 1069), ('free', 1070), ('years', 1071), ('phenomenal', 1072), ('update', 1073), ('reheated', 1074), ('wedges', 1075), ('soggy', 1076), ('otto', 1077), ('welcome', 1078), ('cost', 1079), ('miss', 1080), ('wish', 1081), ('philadelphia', 1082), ('fried', 1083), ('plantains', 1084), ('arrives', 1085), ('cannot', 1086), ('golden', 1087), ('standard', 1088), ('17', 1089), ('asked', 1090), ('ignored', 1091), ('hostess', 1092), ('myself', 1093), ('college', 1094), ('cooking', 1095), ('class', 1096), ('hopefully', 1097), ('bodes', 1098), ('located', 1099), ('crystals', 1100), ('shopping', 1101), ('aria', 1102), ('neither', 1103), ('shocked', 1104), ('signs', 1105), ('indicate', 1106), ('cash', 1107), ('lighting', 1108), ('mood', 1109), ('thoroughly', 1110), ('honeslty', 1111), ('fav', 1112), ('concern', 1113), ('mellow', 1114), ('mushroom', 1115), ('maria', 1116), ('personable', 1117), ('showed', 1118), ('climbing', 1119), ('kitchen', 1120), ('greedy', 1121), ('corporation', 1122), ('dime', 1123), ('chow', 1124), ('mein', 1125), ('rock', 1126), ('casino', 1127), ('step', 1128), ('forward', 1129), ('caesar', 1130), ('fs', 1131), ('its', 1132), ('traditional', 1133), ('hunan', 1134), (\"haven't\", 1135), ('sals', 1136), ('accomodate', 1137), ('vegan', 1138), ('veggie', 1139), ('guacamole', 1140), ('puréed', 1141), ('missing', 1142), ('handling', 1143), ('rowdy', 1144), ('inconsiderate', 1145), ('touched', 1146), ('petty', 1147), ('fridays', 1148), ('blows', 1149), (\"don't'\", 1150), ('combo', 1151), ('ala', 1152), ('cart', 1153), ('buldogis', 1154), ('gourmet', 1155), ('screams', 1156), ('legit', 1157), ('book', 1158), (\"somethat's\", 1159), ('nyc', 1160), ('lox', 1161), ('capers', 1162), ('descriptions', 1163), ('eel', 1164), ('mayo', 1165), ('sauces', 1166), ('perhaps', 1167), ('caught', 1168), ('judging', 1169), ('inspired', 1170), ('figured', 1171), ('making', 1172), ('publicly', 1173), ('loudly', 1174), ('perpared', 1175), ('giant', 1176), ('slices', 1177), ('toast', 1178), ('lightly', 1179), ('dusted', 1180), ('powdered', 1181), ('sugar', 1182), ('returning', 1183), ('hell', 1184), (\"denny's\", 1185), ('grandmother', 1186), ('fair', 1187), ('sexy', 1188), (\"you're\", 1189), ('outrageously', 1190), ('flirting', 1191), ('hottest', 1192), ('witnessed', 1193), ('guests', 1194), ('summarize', 1195), ('nay', 1196), ('transcendant', 1197), ('brings', 1198), ('joy', 1199), ('memory', 1200), ('pneumatic', 1201), ('condiment', 1202), ('dispenser', 1203), ('greasy', 1204), ('unhealthy', 1205), ('sooooo', 1206), ('mean', 1207), ('famous', 1208), ('promptly', 1209), ('unbelievable', 1210), ('bargain', 1211), ('honor', 1212), ('hut', 1213), ('coupons', 1214), ('buffets', 1215), ('hospitality', 1216), ('industry', 1217), ('paradise', 1218), ('refrained', 1219), ('recommending', 1220), ('cibo', 1221), ('longer', 1222), ('70', 1223), ('claimed', 1224), ('handled', 1225), ('beautifully', 1226), ('based', 1227), ('effort', 1228), ('show', 1229), ('gratitude', 1230), ('doing', 1231), ('shots', 1232), ('fireball', 1233), ('quaint', 1234), ('simple', 1235), ('google', 1236), ('imagine', 1237), ('smashburger', 1238), ('north', 1239), ('scottsdale', 1240), ('packed', 1241), ('hole', 1242), ('mexican', 1243), ('street', 1244), (\"weren't\", 1245), ('somewhat', 1246), ('companions', 1247), ('disgusting', 1248), ('stopped', 1249), ('bank', 1250), ('holiday', 1251), ('rick', 1252), ('steve', 1253), ('solid', 1254), ('japanese', 1255), ('dude', 1256), ('sour', 1257), ('soups', 1258), ('surprised', 1259), ('article', 1260), ('read', 1261), ('spices', 1262), ('whole', 1263), ('ninja', 1264), ('paying', 1265), ('7', 1266), ('85', 1267), ('looks', 1268), (\"kid's\", 1269), ('wienerschnitzel', 1270), ('idea', 1271), ('mains', 1272), ('uninspired', 1273), ('space', 1274), ('tiny', 1275), ('elegantly', 1276), ('comfortable', 1277), ('panna', 1278), ('cotta', 1279), ('furthermore', 1280), ('find', 1281), ('operation', 1282), ('website', 1283), ('workers', 1284), ('nargile', 1285), ('turn', 1286), ('buying', 1287), ('experienced', 1288), ('frenchman', 1289), ('exquisite', 1290), ('opened', 1291), ('suggestions', 1292), ('rubber', 1293), ('ahead', 1294), ('warmer', 1295), ('grocery', 1296), ('store', 1297), ('correction', 1298), ('heimer', 1299), ('iced', 1300), (\"aren't\", 1301), ('doughy', 1302), ('sadly', 1303), ('gordon', 1304), (\"ramsey's\", 1305), ('shall', 1306), ('sharply', 1307), ('joint', 1308), ('consider', 1309), ('theft', 1310), ('actually', 1311), ('chipotle', 1312), ('killer', 1313), ('chai', 1314), ('latte', 1315), ('four', 1316), ('blue', 1317), ('shirt', 1318), ('letting', 1319), ('strings', 1320), ('bottom', 1321), ('reminds', 1322), ('shops', 1323), ('san', 1324), ('francisco', 1325), ('ventilation', 1326), ('upgrading', 1327), ('sit', 1328), ('together', 1329), ('dont', 1330), ('gyro', 1331), ('lettuce', 1332), ('lastly', 1333), ('mozzarella', 1334), ('plater', 1335), ('waaaaaayyyyyyyyyy', 1336), ('rated', 1337), ('saying', 1338), ('boring', 1339), ('gem', 1340), ('extensive', 1341), ('provides', 1342), ('regularly', 1343), ('struggle', 1344), ('wave', 1345), ('put', 1346), ('plastic', 1347), ('containers', 1348), ('opposed', 1349), ('cramming', 1350), ('takeout', 1351), ('boxes', 1352), ('conclusion', 1353), ('crowds', 1354), ('downtown', 1355), ('juries', 1356), ('lawyers', 1357), ('court', 1358), ('connoisseur', 1359), ('difference', 1360), ('certainly', 1361), ('dollars', 1362), ('forth', 1363), ('helped', 1364), ('deliciously', 1365), ('caring', 1366), ('teamwork', 1367), ('degree', 1368), ('bisque', 1369), ('bussell', 1370), ('sprouts', 1371), ('risotto', 1372), ('play', 1373), ('salads', 1374), (\"hadn't\", 1375), ('wasted', 1376), ('poured', 1377), ('wound', 1378), ('drawing', 1379), (\"carly's\", 1380), ('weak', 1381), ('inch', 1382), ('wire', 1383), ('salsa', 1384), ('beauty', 1385), ('swung', 1386), ('deeply', 1387), ('mac', 1388), ('done', 1389), ('100', 1390), ('across', 1391), ('driest', 1392), ('brownish', 1393), ('obviously', 1394), ('cape', 1395), ('cod', 1396), ('ravoli', 1397), ('cranberry', 1398), ('italian', 1399), ('tater', 1400), ('southwest', 1401), ('olives', 1402), ('diverse', 1403), ('guest', 1404), ('satisfied', 1405), ('opinion', 1406), ('gc', 1407), ('metro', 1408), ('efficient', 1409), ('lost', 1410), ('reading', 1411), ('airline', 1412), ('spring', 1413), ('oysters', 1414), (\"ya'all\", 1415), ('personally', 1416), ('baklava', 1417), ('falafels', 1418), ('baba', 1419), ('ganoush', 1420), ('onion', 1421), ('rings', 1422), ('vomited', 1423), ('bathroom', 1424), (\"ryan's\", 1425), ('edinburgh', 1426), ('revisiting', 1427), ('human', 1428), ('fabulous', 1429), ('eyed', 1430), ('peas', 1431), ('unreal', 1432), ('offered', 1433), ('included', 1434), ('tastings', 1435), ('jeff', 1436), ('glance', 1437), ('lovely', 1438), ('cafe', 1439), ('cheesecurds', 1440), ('driving', 1441), ('tucson', 1442), ('combos', 1443), ('23', 1444), ('gross', 1445), ('disapppointment', 1446), ('weekly', 1447), ('haunt', 1448), ('spinach', 1449), ('avocado', 1450), ('ingredients', 1451), ('ten', 1452), ('says', 1453), ('hi', 1454), ('highlighted', 1455), ('unique', 1456), ('hated', 1457), ('coconut', 1458), ('weekend', 1459), ('ribeye', 1460), ('mesquite', 1461), ('head', 1462), (\"would've\", 1463), ('godfathers', 1464), ('ourselves', 1465), ('hurry', 1466), ('round', 1467), (\"they'd\", 1468), ('summary', 1469), ('largely', 1470), ('prime', 1471), ('rib', 1472), ('section', 1473), ('cocktails', 1474), ('handmade', 1475), ('con', 1476), ('spotty', 1477), ('serivce', 1478), ('inflate', 1479), ('smaller', 1480), ('grow', 1481), ('rapidly', 1482), ('kiddos', 1483), ('appalling', 1484), ('ians', 1485), ('donut', 1486), ('strangers', 1487), ('hair', 1488), ('fella', 1489), ('huevos', 1490), ('rancheros', 1491), ('appealing', 1492), ('pace', 1493), ('rinse', 1494), ('nude', 1495), ('yellowtail', 1496), ('carpaccio', 1497), ('kabuki', 1498), ('hip', 1499), ('services', 1500), ('luck', 1501), ('non', 1502), ('mortified', 1503), (\"caballero's\", 1504), ('lukewarm', 1505), ('hamburger', 1506), ('batch', 1507), ('thinking', 1508), ('yay', 1509), ('classics', 1510), ('sorely', 1511), ('hardest', 1512), ('decision', 1513), (\"m's\", 1514), ('supposed', 1515), ('apparently', 1516), ('performed', 1517), ('happened', 1518), ('calligraphy', 1519), ('penne', 1520), ('vodka', 1521), ('mixed', 1522), ('mushrooms', 1523), ('yukon', 1524), ('puree', 1525), ('corn', 1526), ('beateous', 1527), ('goat', 1528), ('skimp', 1529), ('del', 1530), ('avoided', 1531), ('pale', 1532), ('instead', 1533), ('surprise', 1534), ('guys', 1535), ('loving', 1536), ('son', 1537), (\"he's\", 1538), ('homemade', 1539), ('hand', 1540), ('pastas', 1541), (\"world's\", 1542), ('annoying', 1543), ('drunk', 1544), ('crema', 1545), ('café', 1546), ('expanded', 1547), ('spicier', 1548), ('prefer', 1549), ('sound', 1550), ('actual', 1551), ('due', 1552), ('forgetting', 1553), (\"that's\", 1554), ('red', 1555), ('velvet', 1556), ('cake', 1557), ('ohhh', 1558), ('mandalay', 1559), ('highlights', 1560), ('nigiri', 1561), ('anyways', 1562), ('rarely', 1563), ('level', 1564), ('spice', 1565), ('whelm', 1566), ('inexpensive', 1567), ('unprofessional', 1568), ('loyal', 1569), ('patron', 1570), ('privileged', 1571), ('working', 1572), ('assure', 1573), ('need', 1574), ('quit', 1575), ('soooooo', 1576), ('freaking', 1577), ('papers', 1578), ('truly', 1579), ('unbelievably', 1580), ('macarons', 1581), ('insanely', 1582), ('disagree', 1583), ('fellow', 1584), ('yelpers', 1585), ('downright', 1586), ('imagined', 1587), ('rice', 1588), ('poisoning', 1589), ('cause', 1590), ('owned', 1591), ('hits', 1592), ('quantity', 1593), ('seems', 1594), ('grab', 1595), ('bite', 1596), ('familiar', 1597), ('pub', 1598), ('turkey', 1599), ('bother', 1600), ('pucks', 1601), ('disgust', 1602), ('register', 1603), ('omelets', 1604), ('die', 1605), ('join', 1606), ('club', 1607), ('via', 1608), ('email', 1609), ('stupid', 1610), ('circumstances', 1611), ('tops', 1612), ('banana', 1613), ('petrified', 1614), ('whether', 1615), ('grossed', 1616), ('melted', 1617), ('styrofoam', 1618), ('fear', 1619), (\"we're\", 1620), ('fiancé', 1621), ('middle', 1622), ('stood', 1623), ('begin', 1624), ('awkwardly', 1625), (\"it'll\", 1626), ('trips', 1627), ('host', 1628), ('lack', 1629), ('bitches', 1630), ('airport', 1631), ('speedy', 1632), ('company', 1633), ('loves', 1634), ('garlic', 1635), ('bone', 1636), ('extra', 1637), ('including', 1638), ('massive', 1639), ('meatloaf', 1640), ('2007', 1641), ('less', 1642), ('interior', 1643), ('editing', 1644), ('tapas', 1645), ('customize', 1646), (\"you'd\", 1647), ('usual', 1648), ('bean', 1649), ('stir', 1650), ('typical', 1651), ('dropped', 1652), ('ball', 1653), ('suffers', 1654), ('trying', 1655), ('sorry', 1656), ('ethic', 1657), ('pleasure', 1658), ('blown', 1659), ('incredibly', 1660), ('prepared', 1661), ('sergeant', 1662), ('auju', 1663), ('tough', 1664), ('short', 1665), ('blame', 1666), ('placed', 1667), ('door', 1668), ('stretch', 1669), ('imagination', 1670), ('menus', 1671), ('handed', 1672), ('listed', 1673), ('car', 1674), ('15', 1675), ('summer', 1676), ('charming', 1677), ('outdoor', 1678), ('hankering', 1679), ('wines', 1680), ('outta', 1681), ('compliments', 1682), ('brother', 1683), ('law', 1684), ('works', 1685), ('whenever', 1686), ('low', 1687), ('tolerance', 1688), ('polite', 1689), ('wash', 1690), ('otherwise', 1691), ('dressed', 1692), ('rudely', 1693), ('besides', 1694), (\"costco's\", 1695), ('firehouse', 1696), ('nutshell', 1697), ('restaraunt', 1698), ('smells', 1699), ('market', 1700), ('sewer', 1701), ('vinaigrette', 1702), ('ratio', 1703), ('tenders', 1704), ('unsatisfying', 1705), ('madhouse', 1706), ('absolute', 1707), ('bouchon', 1708), ('pan', 1709), ('cakes', 1710), ('raving', 1711), ('sugary', 1712), ('disaster', 1713), ('tailored', 1714), ('palate', 1715), ('appetizer', 1716), ('likes', 1717), ('case', 1718), ('colder', 1719), ('worries', 1720), ('completely', 1721), ('power', 1722), ('shawarrrrrrma', 1723), ('rotating', 1724), ('beers', 1725), ('highlight', 1726), ('mention', 1727), ('pears', 1728), ('almonds', 1729), ('winner', 1730), ('positive', 1731), ('provided', 1732), ('continue', 1733), ('andddd', 1734), ('date', 1735), ('delicioso', 1736), ('thats', 1737), ('decide', 1738), ('disgraceful', 1739), ('name', 1740), ('portion', 1741), ('sangria', 1742), ('glass', 1743), ('ridiculous', 1744), ('hopes', 1745), ('grill', 1746), ('fell', 1747), ('lemon', 1748), ('raspberry', 1749), ('cocktail', 1750), ('refused', 1751), ('anymore', 1752), ('im', 1753), ('az', 1754), ('crostini', 1755), ('ayce', 1756), ('tonight', 1757), ('elk', 1758), ('hello', 1759), ('informative', 1760), ('dripping', 1761), ('mostly', 1762), ('expert', 1763), ('connisseur', 1764), ('topic', 1765), ('call', 1766), ('steakhouse', 1767), ('properly', 1768), ('understand', 1769), ('attention', 1770), ('ignore', 1771), ('courteous', 1772), ('pissd', 1773), ('asking', 1774), ('bloddy', 1775), (\"mary's\", 1776), ('gooodd', 1777), ('absolutley', 1778), ('biscuit', 1779), ('jalapeno', 1780), ('hilarious', 1781), ('christmas', 1782), ('eve', 1783), ('remember', 1784), ('biggest', 1785), ('entire', 1786), ('satifying', 1787), ('excalibur', 1788), ('common', 1789), ('sense', 1790), ('disbelief', 1791), ('qualified', 1792), ('version', 1793), ('foods', 1794), ('opportunity', 1795), ('sample', 1796), ('giving', 1797), ('does', 1798), ('movies', 1799), ('leaves', 1800), ('desired', 1801), ('however', 1802), ('particular', 1803), ('bbq', 1804), ('lighter', 1805), ('public', 1806), ('ways', 1807), ('crisp', 1808), ('single', 1809), ('employee', 1810), ('gratuity', 1811), ('bill', 1812), ('larger', 1813), ('6', 1814), ('touch', 1815), ('mouths', 1816), ('bellies', 1817), ('fucking', 1818), (\"joey's\", 1819), ('voted', 1820), ('readers', 1821), ('magazine', 1822), ('drastically', 1823), ('piano', 1824), ('soundtrack', 1825)])"
      ]
     },
     "execution_count": 134,
     "metadata": {},
     "output_type": "execute_result"
    }
   ],
   "source": [
    "tokenizer.word_index.items()"
   ]
  },
  {
   "cell_type": "code",
   "execution_count": 135,
   "metadata": {},
   "outputs": [
    {
     "name": "stdout",
     "output_type": "stream",
     "text": [
      "True\n"
     ]
    }
   ],
   "source": [
    "print(np.array_equal(embedding_matrix[1] ,word2vec['the']))"
   ]
  },
  {
   "cell_type": "markdown",
   "metadata": {},
   "source": [
    "***\n",
    "**T2.3** Implementing MLP\n",
    "\n",
    "Now you can implement the MLP with [embedding layer](https://keras.io/layers/embeddings/). You will have to pass the embedding_matrix as the $weights$ attribute. Finally, we do not want to update the learned word weights in this model, therefore we will set the $trainable$ attribute for the model to be False."
   ]
  },
  {
   "cell_type": "code",
   "execution_count": 19,
   "metadata": {},
   "outputs": [],
   "source": [
    "Embedding(num_words, 300, weights=[embedding_matrix], input_length=40, trainable=False)"
   ]
  },
  {
   "cell_type": "markdown",
   "metadata": {},
   "source": [
    "Update the model and evaluate it with the test data for comparison."
   ]
  },
  {
   "cell_type": "code",
   "execution_count": 148,
   "metadata": {},
   "outputs": [
    {
     "name": "stdout",
     "output_type": "stream",
     "text": [
      "Train on 797 samples, validate on 200 samples\n",
      "Epoch 1/10\n",
      " - 0s - loss: 0.6522 - accuracy: 0.6248 - val_loss: 0.5879 - val_accuracy: 0.7050\n",
      "Epoch 2/10\n",
      " - 0s - loss: 0.4417 - accuracy: 0.8419 - val_loss: 0.5121 - val_accuracy: 0.7750\n",
      "Epoch 3/10\n",
      " - 0s - loss: 0.2854 - accuracy: 0.9172 - val_loss: 0.4882 - val_accuracy: 0.7650\n",
      "Epoch 4/10\n",
      " - 0s - loss: 0.1898 - accuracy: 0.9536 - val_loss: 0.4777 - val_accuracy: 0.7900\n",
      "Epoch 5/10\n",
      " - 0s - loss: 0.1373 - accuracy: 0.9762 - val_loss: 0.4809 - val_accuracy: 0.7800\n",
      "Epoch 6/10\n",
      " - 0s - loss: 0.1028 - accuracy: 0.9875 - val_loss: 0.4919 - val_accuracy: 0.7750\n",
      "Epoch 7/10\n",
      " - 0s - loss: 0.0787 - accuracy: 0.9849 - val_loss: 0.5034 - val_accuracy: 0.7800\n",
      "Epoch 8/10\n",
      " - 0s - loss: 0.0609 - accuracy: 0.9912 - val_loss: 0.5215 - val_accuracy: 0.7750\n",
      "Epoch 9/10\n",
      " - 0s - loss: 0.0491 - accuracy: 0.9962 - val_loss: 0.5305 - val_accuracy: 0.7800\n",
      "Epoch 10/10\n",
      " - 0s - loss: 0.0395 - accuracy: 1.0000 - val_loss: 0.5594 - val_accuracy: 0.7800\n"
     ]
    },
    {
     "data": {
      "image/png": "[encoded data removed]",
      "text/plain": [
       "<Figure size 432x288 with 1 Axes>"
      ]
     },
     "metadata": {
      "needs_background": "light"
     },
     "output_type": "display_data"
    },
    {
     "data": {
      "image/png": "[encoded data removed]",
      "text/plain": [
       "<Figure size 432x288 with 1 Axes>"
      ]
     },
     "metadata": {
      "needs_background": "light"
     },
     "output_type": "display_data"
    }
   ],
   "source": [
    "e=Embedding(num_words, 300, weights=[embedding_matrix], input_length=40, trainable=False)\n",
    "\n",
    "model=Sequential()\n",
    "model.add(e)\n",
    "model.add(Flatten())\n",
    "model.add(Dense(10, activation='relu'))\n",
    "model.add(Dense(1, activation='sigmoid'))\n",
    "model.compile(loss='binary_crossentropy', optimizer='adam', metrics=['accuracy'])\n",
    "\n",
    "history=model.fit(train_sequence,y_train, validation_data=(test_sequence, y_test),epochs=10, batch_size=10,verbose=2)\n",
    "seed(0)\n",
    "tensorflow.random.set_seed(0)\n",
    "\n",
    "plt.plot(history.history['loss'])\n",
    "plt.plot(history.history['val_loss'])\n",
    "plt.title('model loss')\n",
    "plt.ylabel('loss')\n",
    "plt.xlabel('epoch')\n",
    "plt.legend(['train', 'validation'], loc='upper left')\n",
    "plt.show()\n",
    "\n",
    "# Plot training & validation accuracy values\n",
    "plt.plot(history.history['accuracy'])\n",
    "plt.plot(history.history['val_accuracy'])\n",
    "plt.title('Model accuracy')\n",
    "plt.ylabel('Accuracy')\n",
    "plt.xlabel('Epoch')\n",
    "plt.legend(['Train', 'Test'], loc='upper left')\n",
    "plt.show()"
   ]
  },
  {
   "cell_type": "markdown",
   "metadata": {},
   "source": [
    "***\n",
    "**T2.4** Change the $trainable$ attribute to True and see if there is any difference in the performance."
   ]
  },
  {
   "cell_type": "code",
   "execution_count": 153,
   "metadata": {},
   "outputs": [
    {
     "name": "stderr",
     "output_type": "stream",
     "text": [
      "C:\\ProgramData\\Anaconda3\\lib\\site-packages\\tensorflow_core\\python\\framework\\indexed_slices.py:433: UserWarning: Converting sparse IndexedSlices to a dense Tensor of unknown shape. This may consume a large amount of memory.\n",
      "  \"Converting sparse IndexedSlices to a dense Tensor of unknown shape. \"\n"
     ]
    },
    {
     "name": "stdout",
     "output_type": "stream",
     "text": [
      "Train on 797 samples, validate on 200 samples\n",
      "Epoch 1/10\n",
      " - 1s - loss: 0.6502 - accuracy: 0.6311 - val_loss: 0.5634 - val_accuracy: 0.7100\n",
      "Epoch 2/10\n",
      " - 1s - loss: 0.3425 - accuracy: 0.8971 - val_loss: 0.4256 - val_accuracy: 0.8100\n",
      "Epoch 3/10\n",
      " - 1s - loss: 0.1102 - accuracy: 0.9862 - val_loss: 0.3950 - val_accuracy: 0.8300\n",
      "Epoch 4/10\n",
      " - 1s - loss: 0.0397 - accuracy: 0.9950 - val_loss: 0.3995 - val_accuracy: 0.8300\n",
      "Epoch 5/10\n",
      " - 1s - loss: 0.0187 - accuracy: 1.0000 - val_loss: 0.4114 - val_accuracy: 0.8300\n",
      "Epoch 6/10\n",
      " - 1s - loss: 0.0101 - accuracy: 1.0000 - val_loss: 0.3986 - val_accuracy: 0.8500\n",
      "Epoch 7/10\n",
      " - 1s - loss: 0.0069 - accuracy: 1.0000 - val_loss: 0.4181 - val_accuracy: 0.8400\n",
      "Epoch 8/10\n",
      " - 1s - loss: 0.0047 - accuracy: 1.0000 - val_loss: 0.4162 - val_accuracy: 0.8600\n",
      "Epoch 9/10\n",
      " - 1s - loss: 0.0034 - accuracy: 1.0000 - val_loss: 0.4358 - val_accuracy: 0.8450\n",
      "Epoch 10/10\n",
      " - 1s - loss: 0.0026 - accuracy: 1.0000 - val_loss: 0.4361 - val_accuracy: 0.8600\n"
     ]
    },
    {
     "data": {
      "image/png": "[encoded data removed]",
      "text/plain": [
       "<Figure size 432x288 with 1 Axes>"
      ]
     },
     "metadata": {
      "needs_background": "light"
     },
     "output_type": "display_data"
    },
    {
     "data": {
      "image/png": "[encoded data removed]",
      "text/plain": [
       "<Figure size 432x288 with 1 Axes>"
      ]
     },
     "metadata": {
      "needs_background": "light"
     },
     "output_type": "display_data"
    }
   ],
   "source": [
    "e=Embedding(num_words, 300, weights=[embedding_matrix], input_length=40, trainable=True)\n",
    "\n",
    "model=Sequential()\n",
    "model.add(e)\n",
    "model.add(Flatten())\n",
    "model.add(Dense(10, activation='relu'))\n",
    "model.add(Dense(1, activation='sigmoid'))\n",
    "model.compile(loss='binary_crossentropy', optimizer='adam', metrics=['accuracy'])\n",
    "\n",
    "history=model.fit(train_sequence,y_train, validation_data=(test_sequence, y_test),epochs=10, batch_size=10,verbose=2)\n",
    "seed(0)\n",
    "tensorflow.random.set_seed(0)\n",
    "\n",
    "plt.plot(history.history['loss'])\n",
    "plt.plot(history.history['val_loss'])\n",
    "plt.title('model loss')\n",
    "plt.ylabel('loss')\n",
    "plt.xlabel('epoch')\n",
    "plt.legend(['train', 'validation'], loc='upper left')\n",
    "plt.show()\n",
    "\n",
    "# Plot training & validation accuracy values\n",
    "plt.plot(history.history['accuracy'])\n",
    "plt.plot(history.history['val_accuracy'])\n",
    "plt.title('Model accuracy')\n",
    "plt.ylabel('Accuracy')\n",
    "plt.xlabel('Epoch')\n",
    "plt.legend(['Train', 'Test'], loc='upper left')\n",
    "plt.show()"
   ]
  },
  {
   "cell_type": "markdown",
   "metadata": {},
   "source": [
    "# Task 3: Convolutional  Neural Network"
   ]
  },
  {
   "cell_type": "markdown",
   "metadata": {},
   "source": [
    "**T3.1** Build a CNN using the embeding layer as previously. You can add filters using [Conv1D](https://keras.io/layers/convolutional/) layers and perform pooling via [max-pooling layer](https://keras.io/layers/pooling/). At the end you should add some Dense layers suitable for the classification task. Try using fixed pre-trained weights and trainable embeddings for comparison."
   ]
  },
  {
   "cell_type": "code",
   "execution_count": 156,
   "metadata": {},
   "outputs": [],
   "source": [
    "from keras.layers import Conv1D\n",
    "from keras.layers import GlobalMaxPool1D"
   ]
  },
  {
   "cell_type": "code",
   "execution_count": 158,
   "metadata": {
    "scrolled": true
   },
   "outputs": [
    {
     "name": "stdout",
     "output_type": "stream",
     "text": [
      "Train on 797 samples, validate on 200 samples\n",
      "Epoch 1/10\n",
      " - 1s - loss: 0.6389 - accuracy: 0.6700 - val_loss: 0.5411 - val_accuracy: 0.7950\n",
      "Epoch 2/10\n",
      " - 1s - loss: 0.4451 - accuracy: 0.8582 - val_loss: 0.4043 - val_accuracy: 0.8300\n",
      "Epoch 3/10\n",
      " - 0s - loss: 0.2974 - accuracy: 0.9072 - val_loss: 0.3270 - val_accuracy: 0.8750\n",
      "Epoch 4/10\n",
      " - 0s - loss: 0.1967 - accuracy: 0.9511 - val_loss: 0.3210 - val_accuracy: 0.8650\n",
      "Epoch 5/10\n",
      " - 0s - loss: 0.1282 - accuracy: 0.9762 - val_loss: 0.3002 - val_accuracy: 0.8650\n",
      "Epoch 6/10\n",
      " - 0s - loss: 0.0819 - accuracy: 0.9887 - val_loss: 0.2999 - val_accuracy: 0.8650\n",
      "Epoch 7/10\n",
      " - 0s - loss: 0.0524 - accuracy: 0.9950 - val_loss: 0.3162 - val_accuracy: 0.8500\n",
      "Epoch 8/10\n",
      " - 0s - loss: 0.0339 - accuracy: 0.9987 - val_loss: 0.3286 - val_accuracy: 0.8550\n",
      "Epoch 9/10\n",
      " - 0s - loss: 0.0256 - accuracy: 0.9987 - val_loss: 0.3286 - val_accuracy: 0.8550\n",
      "Epoch 10/10\n",
      " - 0s - loss: 0.0164 - accuracy: 0.9987 - val_loss: 0.3462 - val_accuracy: 0.8450\n"
     ]
    },
    {
     "data": {
      "image/png": "[encoded data removed]",
      "text/plain": [
       "<Figure size 432x288 with 1 Axes>"
      ]
     },
     "metadata": {
      "needs_background": "light"
     },
     "output_type": "display_data"
    },
    {
     "data": {
      "image/png": "[encoded data removed]",
      "text/plain": [
       "<Figure size 432x288 with 1 Axes>"
      ]
     },
     "metadata": {
      "needs_background": "light"
     },
     "output_type": "display_data"
    }
   ],
   "source": [
    "e=Embedding(num_words, 300, weights=[embedding_matrix], input_length=40, trainable=False)\n",
    "\n",
    "model=Sequential()\n",
    "model.add(e)\n",
    "model.add(Conv1D(filters=32,kernel_size=(3)))\n",
    "model.add(GlobalMaxPool1D())\n",
    "model.add(Dense(10, activation='relu'))\n",
    "model.add(Dense(1, activation='sigmoid'))\n",
    "model.compile(loss='binary_crossentropy', optimizer='adam', metrics=['accuracy'])\n",
    "\n",
    "history=model.fit(train_sequence,y_train, validation_data=(test_sequence, y_test),epochs=10, batch_size=10,verbose=2)\n",
    "seed(0)\n",
    "tensorflow.random.set_seed(0)\n",
    "\n",
    "plt.plot(history.history['loss'])\n",
    "plt.plot(history.history['val_loss'])\n",
    "plt.title('model loss')\n",
    "plt.ylabel('loss')\n",
    "plt.xlabel('epoch')\n",
    "plt.legend(['train', 'validation'], loc='upper left')\n",
    "plt.show()\n",
    "\n",
    "# Plot training & validation accuracy values\n",
    "plt.plot(history.history['accuracy'])\n",
    "plt.plot(history.history['val_accuracy'])\n",
    "plt.title('Model accuracy')\n",
    "plt.ylabel('Accuracy')\n",
    "plt.xlabel('Epoch')\n",
    "plt.legend(['Train', 'Test'], loc='upper left')\n",
    "plt.show()"
   ]
  },
  {
   "cell_type": "code",
   "execution_count": 159,
   "metadata": {},
   "outputs": [
    {
     "name": "stderr",
     "output_type": "stream",
     "text": [
      "C:\\ProgramData\\Anaconda3\\lib\\site-packages\\tensorflow_core\\python\\framework\\indexed_slices.py:433: UserWarning: Converting sparse IndexedSlices to a dense Tensor of unknown shape. This may consume a large amount of memory.\n",
      "  \"Converting sparse IndexedSlices to a dense Tensor of unknown shape. \"\n"
     ]
    },
    {
     "name": "stdout",
     "output_type": "stream",
     "text": [
      "Train on 797 samples, validate on 200 samples\n",
      "Epoch 1/10\n",
      " - 1s - loss: 0.6282 - accuracy: 0.6575 - val_loss: 0.4782 - val_accuracy: 0.8250\n",
      "Epoch 2/10\n",
      " - 1s - loss: 0.3340 - accuracy: 0.8908 - val_loss: 0.3362 - val_accuracy: 0.8700\n",
      "Epoch 3/10\n",
      " - 2s - loss: 0.1363 - accuracy: 0.9787 - val_loss: 0.3113 - val_accuracy: 0.8800\n",
      "Epoch 4/10\n",
      " - 1s - loss: 0.0488 - accuracy: 0.9937 - val_loss: 0.3170 - val_accuracy: 0.8550\n",
      "Epoch 5/10\n",
      " - 1s - loss: 0.0179 - accuracy: 0.9987 - val_loss: 0.3254 - val_accuracy: 0.8600\n",
      "Epoch 6/10\n",
      " - 1s - loss: 0.0081 - accuracy: 1.0000 - val_loss: 0.3318 - val_accuracy: 0.8600\n",
      "Epoch 7/10\n",
      " - 1s - loss: 0.0050 - accuracy: 1.0000 - val_loss: 0.3456 - val_accuracy: 0.8600\n",
      "Epoch 8/10\n",
      " - 1s - loss: 0.0033 - accuracy: 1.0000 - val_loss: 0.3516 - val_accuracy: 0.8700\n",
      "Epoch 9/10\n",
      " - 1s - loss: 0.0024 - accuracy: 1.0000 - val_loss: 0.3627 - val_accuracy: 0.8700\n",
      "Epoch 10/10\n",
      " - 1s - loss: 0.0018 - accuracy: 1.0000 - val_loss: 0.3674 - val_accuracy: 0.8750\n"
     ]
    },
    {
     "data": {
      "image/png": "[encoded data removed]",
      "text/plain": [
       "<Figure size 432x288 with 1 Axes>"
      ]
     },
     "metadata": {
      "needs_background": "light"
     },
     "output_type": "display_data"
    },
    {
     "data": {
      "image/png": "[encoded data removed]",
      "text/plain": [
       "<Figure size 432x288 with 1 Axes>"
      ]
     },
     "metadata": {
      "needs_background": "light"
     },
     "output_type": "display_data"
    }
   ],
   "source": [
    "e=Embedding(num_words, 300, weights=[embedding_matrix], input_length=40, trainable=True)\n",
    "\n",
    "model=Sequential()\n",
    "model.add(e)\n",
    "model.add(Conv1D(filters=32,kernel_size=(3)))\n",
    "model.add(GlobalMaxPool1D())\n",
    "model.add(Dense(10, activation='relu'))\n",
    "model.add(Dense(1, activation='sigmoid'))\n",
    "model.compile(loss='binary_crossentropy', optimizer='adam', metrics=['accuracy'])\n",
    "\n",
    "history=model.fit(train_sequence,y_train, validation_data=(test_sequence, y_test),epochs=10, batch_size=10,verbose=2)\n",
    "seed(0)\n",
    "tensorflow.random.set_seed(0)\n",
    "\n",
    "plt.plot(history.history['loss'])\n",
    "plt.plot(history.history['val_loss'])\n",
    "plt.title('model loss')\n",
    "plt.ylabel('loss')\n",
    "plt.xlabel('epoch')\n",
    "plt.legend(['train', 'validation'], loc='upper left')\n",
    "plt.show()\n",
    "\n",
    "# Plot training & validation accuracy values\n",
    "plt.plot(history.history['accuracy'])\n",
    "plt.plot(history.history['val_accuracy'])\n",
    "plt.title('Model accuracy')\n",
    "plt.ylabel('Accuracy')\n",
    "plt.xlabel('Epoch')\n",
    "plt.legend(['Train', 'Test'], loc='upper left')\n",
    "plt.show()"
   ]
  },
  {
   "cell_type": "code",
   "execution_count": null,
   "metadata": {},
   "outputs": [],
   "source": []
  }
 ],
 "metadata": {
  "kernelspec": {
   "display_name": "Python 3",
   "language": "python",
   "name": "python3"
  },
  "language_info": {
   "codemirror_mode": {
    "name": "ipython",
    "version": 3
   },
   "file_extension": ".py",
   "mimetype": "text/x-python",
   "name": "python",
   "nbconvert_exporter": "python",
   "pygments_lexer": "ipython3",
   "version": "3.7.6"
  }
 },
 "nbformat": 4,
 "nbformat_minor": 2
}
