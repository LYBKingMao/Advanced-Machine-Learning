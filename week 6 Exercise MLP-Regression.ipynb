{
 "cells": [
  {
   "cell_type": "code",
   "execution_count": 25,
   "metadata": {},
   "outputs": [],
   "source": [
    "import keras\n",
    "from keras.models import Sequential\n",
    "from keras.layers import Dense\n",
    "from sklearn.model_selection import train_test_split\n",
    "from sklearn import preprocessing\n",
    "import numpy as np\n",
    "np.set_printoptions(suppress=True)\n",
    "from numpy.random import seed\n",
    "from tensorflow import set_random_seed\n",
    "from sklearn.datasets import load_boston\n",
    "from keras import optimizers\n",
    "from keras import initializers\n",
    "from keras import layers\n",
    "import matplotlib.pyplot as plt"
   ]
  },
  {
   "cell_type": "code",
   "execution_count": 30,
   "metadata": {},
   "outputs": [
    {
     "name": "stdout",
     "output_type": "stream",
     "text": [
      "(506, 13)\n"
     ]
    }
   ],
   "source": [
    "x,y = load_boston(return_X_y=True)\n",
    "x = preprocessing.MinMaxScaler().fit_transform(x)\n",
    "x_train, x_test, y_train, y_test = train_test_split(x, y, test_size=0.33, shuffle = True, random_state=42)\n",
    "n_features = x.shape[1]\n",
    "print(x.shape)"
   ]
  },
  {
   "cell_type": "code",
   "execution_count": 41,
   "metadata": {},
   "outputs": [
    {
     "name": "stdout",
     "output_type": "stream",
     "text": [
      "Error:  544.1288061084862\n"
     ]
    },
    {
     "data": {
      "image/png": "[encoded data removed]",
      "text/plain": [
       "<matplotlib.figure.Figure at 0x1c36aa95c0>"
      ]
     },
     "metadata": {},
     "output_type": "display_data"
    }
   ],
   "source": [
    "import keras.backend as K\n",
    "K.clear_session()\n",
    "seed(0)\n",
    "set_random_seed(0)\n",
    "\n",
    "model = Sequential()\n",
    "init = initializers.he_uniform()\n",
    "model.add(Dense(15, input_dim = n_features, activation='relu', kernel_initializer=init, bias_initializer='zeros'))\n",
    "model.add(Dense(10,  activation='relu', kernel_initializer=init, bias_initializer='zeros'))\n",
    "model.add(Dense(1, activation='relu', kernel_initializer=init, bias_initializer='zeros'))\n",
    "\n",
    "# compile the model\n",
    "opt = optimizers.Adam(lr=0.05, beta_1=0.9, beta_2=0.999)\n",
    "model.compile(optimizer=opt, loss='mse')\n",
    "\n",
    "# fit the model\n",
    "history = model.fit(x_train, y_train, epochs=100, batch_size=32, validation_data =(x_test,y_test),verbose=0, callbacks=[tensorboard])#callbacks=[tensorboard]\n",
    "\n",
    "# evaluate the model\n",
    "error = model.evaluate(x_test, y_test, verbose=0)\n",
    "print('Error: ', error)\n",
    "\n",
    "# Plot training & validation loss values\n",
    "plt.plot(history.history['loss'])\n",
    "plt.plot(history.history['val_loss'])\n",
    "plt.title('Model loss')\n",
    "plt.ylabel('Loss')\n",
    "plt.xlabel('Epoch')\n",
    "plt.legend(['Train', 'Test'], loc='upper left')\n",
    "plt.show()"
   ]
  },
  {
   "cell_type": "code",
   "execution_count": null,
   "metadata": {},
   "outputs": [],
   "source": []
  },
  {
   "cell_type": "code",
   "execution_count": 36,
   "metadata": {},
   "outputs": [
    {
     "name": "stdout",
     "output_type": "stream",
     "text": [
      "[-0.]\n",
      "[-0.]\n",
      "[-0.]\n",
      "[-0.]\n",
      "[-0.]\n",
      "[-0.]\n",
      "[-0.]\n",
      "[-0.]\n",
      "[-0.]\n",
      "[-0.]\n",
      "[-0.]\n",
      "[-0.]\n",
      "[-0.]\n",
      "[-0.]\n",
      "[-0.]\n",
      "[-0.]\n",
      "[-0.]\n",
      "[-0.]\n",
      "[-0.]\n",
      "[-0.]\n",
      "[-0.]\n",
      "[-0.]\n",
      "[-0.]\n",
      "[-0.]\n",
      "[-0.]\n",
      "[-0.]\n",
      "[-0.]\n",
      "[-0.]\n",
      "[-0.]\n",
      "[-0.]\n",
      "[-0.]\n",
      "[-0.]\n",
      "[-0.]\n",
      "[-0.]\n",
      "[-0.]\n",
      "[-0.]\n",
      "[-0.]\n",
      "[-0.]\n",
      "[-0.]\n",
      "[-0.]\n",
      "[-0.]\n",
      "[-0.]\n",
      "[-0.]\n",
      "[-0.]\n",
      "[-0.]\n",
      "[-0.]\n",
      "[-0.]\n",
      "[-0.]\n",
      "[-0.]\n",
      "[-0.]\n"
     ]
    }
   ],
   "source": [
    "pred = model.predict(x_test)\n",
    "\n",
    "for i in range(50):\n",
    "    print(pred[i])"
   ]
  },
  {
   "cell_type": "code",
   "execution_count": null,
   "metadata": {},
   "outputs": [],
   "source": []
  },
  {
   "cell_type": "code",
   "execution_count": 40,
   "metadata": {},
   "outputs": [],
   "source": [
    "import time\n",
    "from keras.callbacks import TensorBoard\n",
    "\n",
    "NAME = \"Boston-Regression-{}\".format(int(time.time()))\n",
    "tensorboard = TensorBoard(log_dir=\"logs/{}\".format(NAME), write_grads=True, histogram_freq=2)"
   ]
  },
  {
   "cell_type": "code",
   "execution_count": null,
   "metadata": {},
   "outputs": [],
   "source": []
  },
  {
   "cell_type": "code",
   "execution_count": null,
   "metadata": {},
   "outputs": [],
   "source": []
  },
  {
   "cell_type": "code",
   "execution_count": 39,
   "metadata": {},
   "outputs": [
    {
     "name": "stderr",
     "output_type": "stream",
     "text": [
      "/Users/annajurek/anaconda3/lib/python3.6/site-packages/keras/activations.py:211: UserWarning: Do not pass a layer instance (such as LeakyReLU) as the activation argument of another layer. Instead, advanced activation layers should be used just like any other layer in a model.\n",
      "  identifier=identifier.__class__.__name__))\n"
     ]
    },
    {
     "name": "stdout",
     "output_type": "stream",
     "text": [
      "Error:  12.323041978710426\n"
     ]
    },
    {
     "data": {
      "image/png": "[encoded data removed]",
      "text/plain": [
       "<matplotlib.figure.Figure at 0x1c3707a3c8>"
      ]
     },
     "metadata": {},
     "output_type": "display_data"
    }
   ],
   "source": [
    "seed(0)\n",
    "set_random_seed(0)\n",
    "\n",
    "model = Sequential()\n",
    "lReLu = layers.LeakyReLU(alpha=0.01)\n",
    "init = initializers.he_uniform()\n",
    "model.add(Dense(15, input_dim = n_features, activation=lReLu, kernel_initializer=init, bias_initializer='zeros'))\n",
    "model.add(Dense(10,  activation=lReLu, kernel_initializer=init, bias_initializer='zeros'))\n",
    "model.add(Dense(1, activation=lReLu, kernel_initializer=init, bias_initializer='zeros'))\n",
    "\n",
    "# compile the model\n",
    "opt = optimizers.Adam(lr=0.01, beta_1=0.9, beta_2=0.999)\n",
    "model.compile(optimizer=opt, loss='mse')\n",
    "\n",
    "# fit the model\n",
    "history = model.fit(x_train, y_train, epochs=100, batch_size=32, validation_data =(x_test,y_test),verbose=0)#callbacks=[tensorboard]\n",
    "\n",
    "# evaluate the model\n",
    "error = model.evaluate(x_test, y_test, verbose=0)\n",
    "print('Error: ', error)\n",
    "\n",
    "# Plot training & validation loss values\n",
    "plt.plot(history.history['loss'])\n",
    "plt.plot(history.history['val_loss'])\n",
    "plt.title('Model loss')\n",
    "plt.ylabel('Loss')\n",
    "plt.xlabel('Epoch')\n",
    "plt.legend(['Train', 'Test'], loc='upper left')\n",
    "plt.show()"
   ]
  },
  {
   "cell_type": "code",
   "execution_count": null,
   "metadata": {},
   "outputs": [],
   "source": []
  }
 ],
 "metadata": {
  "kernelspec": {
   "display_name": "Python 3",
   "language": "python",
   "name": "python3"
  },
  "language_info": {
   "codemirror_mode": {
    "name": "ipython",
    "version": 3
   },
   "file_extension": ".py",
   "mimetype": "text/x-python",
   "name": "python",
   "nbconvert_exporter": "python",
   "pygments_lexer": "ipython3",
   "version": "3.6.8"
  }
 },
 "nbformat": 4,
 "nbformat_minor": 2
}
