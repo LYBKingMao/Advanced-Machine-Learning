{
 "cells": [
  {
   "cell_type": "code",
   "execution_count": 163,
   "metadata": {},
   "outputs": [],
   "source": [
    "import numpy as np\n",
    "from sklearn import preprocessing\n",
    "from sklearn import datasets\n",
    "from sklearn.model_selection import train_test_split\n",
    "from sklearn import metrics\n",
    "import matplotlib.pyplot as plt"
   ]
  },
  {
   "cell_type": "code",
   "execution_count": 164,
   "metadata": {},
   "outputs": [
    {
     "name": "stdout",
     "output_type": "stream",
     "text": [
      "[[ 0.  0.  5. ...  0.  0.  0.]\n",
      " [ 0.  0.  0. ... 10.  0.  0.]\n",
      " [ 0.  0.  0. ... 16.  9.  0.]\n",
      " ...\n",
      " [ 0.  0.  1. ...  6.  0.  0.]\n",
      " [ 0.  0.  2. ... 12.  0.  0.]\n",
      " [ 0.  0. 10. ... 12.  1.  0.]]\n"
     ]
    }
   ],
   "source": [
    "#load data and label\n",
    "data,label=datasets.load_digits(return_X_y=True);\n",
    "print(data)"
   ]
  },
  {
   "cell_type": "code",
   "execution_count": 165,
   "metadata": {},
   "outputs": [],
   "source": [
    "#pre-processing\n",
    "data = preprocessing.MinMaxScaler().fit_transform(data)\n",
    "label=label.reshape(len(label),1)\n",
    "\n",
    "#classes included in dataset\n",
    "labels = [0,1,2,3,4,5,6,7,8,9]"
   ]
  },
  {
   "cell_type": "code",
   "execution_count": 166,
   "metadata": {},
   "outputs": [
    {
     "name": "stdout",
     "output_type": "stream",
     "text": [
      "[[0.     0.     0.3125 ... 0.     0.     0.    ]\n",
      " [0.     0.     0.     ... 0.625  0.     0.    ]\n",
      " [0.     0.     0.     ... 1.     0.5625 0.    ]\n",
      " ...\n",
      " [0.     0.     0.0625 ... 0.375  0.     0.    ]\n",
      " [0.     0.     0.125  ... 0.75   0.     0.    ]\n",
      " [0.     0.     0.625  ... 0.75   0.0625 0.    ]]\n",
      "(1797, 64)\n",
      "(1797, 1)\n"
     ]
    }
   ],
   "source": [
    "print(data)\n",
    "print(data.shape)\n",
    "print(label.shape)"
   ]
  },
  {
   "cell_type": "code",
   "execution_count": 167,
   "metadata": {},
   "outputs": [],
   "source": [
    "#split dataset\n",
    "x_train, x_test, y_train, y_test = train_test_split(data, label,test_size=0.2, random_state=0, shuffle=True)"
   ]
  },
  {
   "cell_type": "code",
   "execution_count": 168,
   "metadata": {},
   "outputs": [],
   "source": [
    "#set learning rate, minibatch size and epoches, initialize weights and bias\n",
    "lb=preprocessing.LabelBinarizer()                     #one-hot function\n",
    "lb.fit([0,1,2,3,4,5,6,7,8,9])\n",
    "np.random.seed(0)\n",
    "minibatch_size=64\n",
    "l=0.1\n",
    "epochs=1000\n",
    "w = np.random.uniform(-1,1,[data.shape[1],64])        #10 neurons for hidden layer\n",
    "b = np.zeros([1,64])                                  #number of bias equal to number of neurons in hidden layer\n",
    "w2 = np.random.uniform(-1,1,[64,10])                  #10 output neurons for 10 classes\n",
    "b2 = np.zeros([1,10])"
   ]
  },
  {
   "cell_type": "code",
   "execution_count": 169,
   "metadata": {},
   "outputs": [],
   "source": [
    "#relu function\n",
    "def ReLu(v):\n",
    "    return np.maximum(0,v)"
   ]
  },
  {
   "cell_type": "code",
   "execution_count": 170,
   "metadata": {},
   "outputs": [],
   "source": [
    "#derivative of relu funtion\n",
    "def ReLu_derivative(v):\n",
    "    return np.where(v<=0,0,1)"
   ]
  },
  {
   "cell_type": "code",
   "execution_count": 171,
   "metadata": {},
   "outputs": [],
   "source": [
    "def sigmoid(v):\n",
    "    return 1/(1+np.exp(-v))"
   ]
  },
  {
   "cell_type": "code",
   "execution_count": 172,
   "metadata": {},
   "outputs": [],
   "source": [
    "def sigmoid_derivative(v):\n",
    "    return sigmoid(v)*(1-sigmoid(v))"
   ]
  },
  {
   "cell_type": "code",
   "execution_count": 173,
   "metadata": {},
   "outputs": [],
   "source": [
    "def tanh(v):\n",
    "    return (np.exp(v)-np.exp(-v))/(np.exp(v)+np.exp(-v))"
   ]
  },
  {
   "cell_type": "code",
   "execution_count": 174,
   "metadata": {},
   "outputs": [],
   "source": [
    "def tanh_derivative(v):\n",
    "    return 1-np.power(tanh(v),2)"
   ]
  },
  {
   "cell_type": "code",
   "execution_count": 175,
   "metadata": {},
   "outputs": [],
   "source": [
    "def LReLU(x):\n",
    "    return np.where(x > 0, x, x * 0.01)"
   ]
  },
  {
   "cell_type": "code",
   "execution_count": 176,
   "metadata": {},
   "outputs": [],
   "source": [
    "def dLReLU(x):\n",
    "    return np.where(x > 0, 1, 0.01)"
   ]
  },
  {
   "cell_type": "code",
   "execution_count": 177,
   "metadata": {},
   "outputs": [],
   "source": [
    "#softmax funtion\n",
    "def softmax(X):\n",
    "    exps = np.exp(X)\n",
    "    return exps / np.sum(exps)"
   ]
  },
  {
   "cell_type": "code",
   "execution_count": 178,
   "metadata": {},
   "outputs": [],
   "source": [
    "#function to convert softmax output to single label\n",
    "def convert(arr):\n",
    "    arr_size = arr.shape[1]\n",
    "    arr_max = np.argmax(arr, axis=1)\n",
    "    return arr_max"
   ]
  },
  {
   "cell_type": "code",
   "execution_count": 179,
   "metadata": {},
   "outputs": [
    {
     "name": "stdout",
     "output_type": "stream",
     "text": [
      "Final Error:  0.10057035006044526\n",
      "Final Accuracy:  0.9722222222222222\n"
     ]
    },
    {
     "name": "stderr",
     "output_type": "stream",
     "text": [
      "D:\\Anaconda\\lib\\site-packages\\ipykernel_launcher.py:94: UserWarning: Matplotlib is currently using module://ipykernel.pylab.backend_inline, which is a non-GUI backend, so cannot show the figure.\n",
      "D:\\Anaconda\\lib\\site-packages\\ipykernel_launcher.py:102: UserWarning: Matplotlib is currently using module://ipykernel.pylab.backend_inline, which is a non-GUI backend, so cannot show the figure.\n"
     ]
    },
    {
     "data": {
      "image/png": "[encoded data removed]",
      "text/plain": [
       "<Figure size 432x288 with 1 Axes>"
      ]
     },
     "metadata": {
      "needs_background": "light"
     },
     "output_type": "display_data"
    },
    {
     "data": {
      "image/png": "[encoded data removed]",
      "text/plain": [
       "<Figure size 432x288 with 1 Axes>"
      ]
     },
     "metadata": {
      "needs_background": "light"
     },
     "output_type": "display_data"
    }
   ],
   "source": [
    "#variables for storing error and accuracy results\n",
    "train_E = []\n",
    "test_E = []\n",
    "test_Acc = []\n",
    "train_Acc = []\n",
    "\n",
    "#epoch split\n",
    "for epoch in range(epochs):\n",
    "    \n",
    "    #minibatch split\n",
    "    for i in range(0,x_train.shape[0],minibatch_size):\n",
    "        x_mini=x_train[i:i+minibatch_size,:]\n",
    "        y_mini=y_train[i:i+minibatch_size,:]\n",
    "        \n",
    "        #forward pass\n",
    "        in_=x_mini@w+b\n",
    "        out1=LReLU(in_)\n",
    "        in2=out1@w2+b2\n",
    "        out2=np.zeros([x_mini.shape[0],10])\n",
    "        for j in range(x_mini.shape[0]):\n",
    "            out2[j,:]=softmax(in2[j,:])\n",
    "        \n",
    "        #one-hot label\n",
    "        oh_label=lb.transform(y_mini)\n",
    "        \n",
    "        #training error\n",
    "        train_error=metrics.log_loss(y_mini,out2,labels=labels)\n",
    "        train_E.append(train_error)\n",
    "        \n",
    "        #test error\n",
    "        inTE=(LReLU(x_test@w+b)@w2)+b2\n",
    "        outTE=np.zeros([x_test.shape[0],10])\n",
    "        for j in range(x_test.shape[0]):\n",
    "            outTE[j,:]=softmax(inTE[j,:])\n",
    "        test_error=metrics.log_loss(y_test,outTE,labels=labels)\n",
    "        test_E.append(test_error)\n",
    "        \n",
    "        \n",
    "        #training accuracy\n",
    "        trainacc=convert(out2)\n",
    "        trainacc=metrics.accuracy_score(y_mini,trainacc)\n",
    "        train_Acc.append(trainacc)\n",
    "        \n",
    "        #test accuracy\n",
    "        in22=(LReLU(x_test@w+b)@w2)+b2\n",
    "        out22=np.zeros([x_test.shape[0],10])\n",
    "        for j in range(x_test.shape[0]):\n",
    "            out22[j,:]=softmax(in22[j,:])\n",
    "        act=convert(out22)\n",
    "        score=metrics.accuracy_score(y_test,act)\n",
    "        test_Acc.append(score)\n",
    "        \n",
    "        #Back propergation layer2\n",
    "        dEdIn2=np.zeros([x_mini.shape[0],10]) \n",
    "        for j in range(x_mini.shape[0]):\n",
    "            dEdIn2[j,:]=out2[j,:]-oh_label[j,:]\n",
    "        dIn2_dW2 = out1\n",
    "        dEdW2 = (1/x_mini.shape[0])*out1.T@dEdIn2\n",
    "        dEdB2 = (1/x_mini.shape[0])*np.ones([1,len(x_mini)])@dEdIn2\n",
    "        \n",
    "        #update layer2's weights and bias\n",
    "        w2 -= l*dEdW2\n",
    "        b2 -= l*dEdB2\n",
    "\n",
    "        #Back propergation layer1\n",
    "        dEdOut1 = dEdIn2 @ w2.T\n",
    "        dOut1dIn1 = dLReLU(in_)\n",
    "        dEdIn1 = dEdOut1*dOut1dIn1\n",
    "        dIn1dW = x_mini\n",
    "        dEdW = (1/x_mini.shape[0])*dIn1dW.T@((dEdIn2@w2.T)*dOut1dIn1)\n",
    "        dEdB = (1/x_mini.shape[0])*np.ones([len(x_mini)])@((dEdIn2@w2.T)*dOut1dIn1)\n",
    "        \n",
    "        #update layer1's weights and bias\n",
    "        w -= l*dEdW\n",
    "        b -= l*dEdB\n",
    "\n",
    "#calculate final error and accuracy\n",
    "in22=(LReLU(x_test@w+b)@w2)+b2\n",
    "out22=np.zeros([x_test.shape[0],10])\n",
    "for j in range(x_test.shape[0]):\n",
    "    out22[j,:]=softmax(in22[j,:])\n",
    "act=convert(out22)\n",
    "err_score=metrics.log_loss(y_test,out22,labels=labels)\n",
    "acc_score=metrics.accuracy_score(y_test,act)\n",
    "print('Final Error: ', err_score)\n",
    "print('Final Accuracy: ', acc_score)  \n",
    "\n",
    "#plot error figure\n",
    "f1=plt.figure(1)\n",
    "plt.plot(train_E,label=\"train\",color='red')\n",
    "plt.plot(test_E,label=\"test\",color='blue')\n",
    "plt.legend(loc='best')\n",
    "plt.title('Error')\n",
    "f1.show()\n",
    "\n",
    "#plot accuracy figure\n",
    "f2=plt.figure(2)\n",
    "plt.plot(train_Acc,label=\"train\",color='red')\n",
    "plt.plot(test_Acc,label=\"test\",color='blue')\n",
    "plt.legend(loc='best')\n",
    "plt.title('Accuracy')\n",
    "f2.show()"
   ]
  }
 ],
 "metadata": {
  "kernelspec": {
   "display_name": "Python 3",
   "language": "python",
   "name": "python3"
  },
  "language_info": {
   "codemirror_mode": {
    "name": "ipython",
    "version": 3
   },
   "file_extension": ".py",
   "mimetype": "text/x-python",
   "name": "python",
   "nbconvert_exporter": "python",
   "pygments_lexer": "ipython3",
   "version": "3.7.6"
  }
 },
 "nbformat": 4,
 "nbformat_minor": 2
}
