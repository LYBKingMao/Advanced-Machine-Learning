{
 "cells": [
  {
   "cell_type": "markdown",
   "metadata": {},
   "source": [
    "# Week 03"
   ]
  },
  {
   "cell_type": "markdown",
   "metadata": {},
   "source": [
    "In this practical we will implement different versions of the Perceptron model introduced during this week lectures. As presented during lectures, the simplest Perceptron is a model that implements the following function:\n",
    "\\begin{equation*}\n",
    "y=\\Theta(w_1x_1 + w_2x_2 + \\dots + w_kx_k + b)=\\Theta(wx+b)\n",
    "\\end{equation*}\n",
    "where:\n",
    "\\begin{equation*}\n",
    "\\Theta(v)= \n",
    "  \\begin{cases} \n",
    "   1 & \\text{if } v \\geq 0 \\\\\n",
    "   0       & \\text{if } v < 0\n",
    "  \\end{cases}\n",
    "\\end{equation*}\n",
    "\n"
   ]
  },
  {
   "cell_type": "markdown",
   "metadata": {},
   "source": [
    "## Task 1: Using perceptron to implement logical functions \n",
    "In this task you will use perceptron to implement different logical functions: NOT, AND, OR and XOR. For a logical function, both the input and the output have only two possible states: 0 and 1 (i.e., False and True). The  step binary activation function fits the purpose well since it produces a binary output."
   ]
  },
  {
   "cell_type": "code",
   "execution_count": 1,
   "metadata": {},
   "outputs": [],
   "source": [
    "\n",
    "import numpy as np"
   ]
  },
  {
   "cell_type": "markdown",
   "metadata": {},
   "source": [
    "***\n",
    "**T1.1 Implementing the step binary activation function**\n",
    "\n",
    "In this task we implement binary step function introduced during lecture. The method takes one input. If the input value is equal or greater than zero, the method should return one, otherwise it returns zero. Note the the method `step_binary` implemented below will work for both scalar and vector inputs. You can test it by passing a scalar and a numpy array as input to the method."
   ]
  },
  {
   "cell_type": "code",
   "execution_count": 2,
   "metadata": {},
   "outputs": [],
   "source": [
    "def step_binary(v):\n",
    "    return 1 * (v > 0)"
   ]
  },
  {
   "cell_type": "markdown",
   "metadata": {},
   "source": [
    "***\n",
    "**T1.2 Implementing perceptron**\n",
    "\n",
    "In this task we implement a method which performs operation of a perceptron. It takes three inputs: `x`, `w` and `b`. `x` represents the input variables, `w` represents weights of the perceptron and `b` stands for the bias. The method returns $\\Theta(wx+b)$, where $\\Theta$ is the activation function."
   ]
  },
  {
   "cell_type": "code",
   "execution_count": 3,
   "metadata": {},
   "outputs": [],
   "source": [
    "def perceptron(x,w,b):\n",
    "    v = np.dot(x,w)+b \n",
    "    out = step_binary(v)\n",
    "    return out"
   ]
  },
  {
   "cell_type": "markdown",
   "metadata": {},
   "source": [
    "***\n",
    "**T1.3 Implementing NOT logical function**\n",
    "\n",
    "NOT(x) is a 1-variable function, that means that we will have one input at a time (number of input variables $k=1$). In this task we implement a method, which takes a single value as input (we can skip the validation of the input and assume that it is always correct: zero or one) and returns its negation using the perceptron method with appropriate values of the parameters `w` and `b`. Note that the main challenge of this task is finding the values of parameters `w` and `b`, which allows the perceptron to implement the NOT logical function. There are many different solutions that we could use, in this example we use $w=-1$ amd $b = 0.5$."
   ]
  },
  {
   "cell_type": "code",
   "execution_count": 4,
   "metadata": {},
   "outputs": [],
   "source": [
    "def NOT_(x):\n",
    "    return perceptron(x, -1, 0.5)"
   ]
  },
  {
   "cell_type": "markdown",
   "metadata": {},
   "source": [
    "Call the method passing $0$ or $1$ as parameter in order to evaluate whether it works correctly (i.e returns negation of the input)."
   ]
  },
  {
   "cell_type": "code",
   "execution_count": 5,
   "metadata": {},
   "outputs": [
    {
     "name": "stdout",
     "output_type": "stream",
     "text": [
      "input:  1  output:  0\n",
      "input:  0  output:  1\n"
     ]
    }
   ],
   "source": [
    "#testing\n",
    "print('input: ', 1, ' output: ', NOT_(1))\n",
    "print('input: ', 0, ' output: ', NOT_(0))"
   ]
  },
  {
   "cell_type": "markdown",
   "metadata": {},
   "source": [
    "***\n",
    "**T1.4 Implementing AND logical function**\n",
    "\n",
    "The AND logical function is a 2-variables function, $AND(x_1, x_2)$, with binary inputs and output.\n",
    "\n",
    "0 AND 1 = 0\n",
    "\n",
    "1 AND 0 = 0\n",
    "\n",
    "0 AND 0 = 0\n",
    "\n",
    "1 AND 1 = 1\n",
    "\n",
    "In this task we implement a method, which takes two values as an input and it returns the conjunction (AND) of the two boolean values. This time the perceptron is associated with the following computation: $y = \\theta(w_1x_1 + w_2x_2 + b)$. As in the previous task, we need to figure out what values of parameters $w_1$, $w_2$, and $b$ need to be used for the perceptron to behaves as AND logical operator. We will try $w_1=1, w_2=1$ and $b=-1.5$."
   ]
  },
  {
   "cell_type": "code",
   "execution_count": 6,
   "metadata": {},
   "outputs": [],
   "source": [
    "def AND_(x):\n",
    "    return perceptron(x, np.array([1,1]),-1.5)"
   ]
  },
  {
   "cell_type": "markdown",
   "metadata": {},
   "source": [
    "Call the method with the following examples in order to test whether it behaves as expected."
   ]
  },
  {
   "cell_type": "code",
   "execution_count": 7,
   "metadata": {},
   "outputs": [],
   "source": [
    "x1 = np.array([0,1])\n",
    "x2 = np.array([1,0])\n",
    "x3 = np.array([0,0])\n",
    "x4 = np.array([1,1])"
   ]
  },
  {
   "cell_type": "code",
   "execution_count": 8,
   "metadata": {},
   "outputs": [
    {
     "name": "stdout",
     "output_type": "stream",
     "text": [
      "0 AND 1 =  0\n",
      "1 AND 0 =  0\n",
      "0 AND 0 =  0\n",
      "1 AND 1 =  1\n"
     ]
    }
   ],
   "source": [
    "print('0 AND 1 = ',AND_(x1))\n",
    "print('1 AND 0 = ',AND_(x2))\n",
    "print('0 AND 0 = ',AND_(x3))\n",
    "print('1 AND 1 = ',AND_(x4))"
   ]
  },
  {
   "cell_type": "markdown",
   "metadata": {},
   "source": [
    "***\n",
    "**T1.5 Implementing OR logical functions**\n",
    "\n",
    "Following the same idea, implement method which performs OR operation as follow:\n",
    "\n",
    "0 OR 1 = 1\n",
    "\n",
    "1 OR 0 = 1\n",
    "\n",
    "0 OR 0 = 0\n",
    "\n",
    "1 OR 1 = 1\n",
    "\n",
    "Can you guess values of the parameters that will make the perceptron operate as the OR logical function?"
   ]
  },
  {
   "cell_type": "code",
   "execution_count": 9,
   "metadata": {},
   "outputs": [],
   "source": [
    "def OR_(x):\n",
    "    return perceptron(x,np.array([1,1]),-0.5)"
   ]
  },
  {
   "cell_type": "code",
   "execution_count": 10,
   "metadata": {},
   "outputs": [
    {
     "name": "stdout",
     "output_type": "stream",
     "text": [
      "0 OR 1 =  1\n",
      "1 OR 0 =  1\n",
      "0 OR 0 =  0\n",
      "1 OR 1 =  1\n"
     ]
    }
   ],
   "source": [
    "print('0 OR 1 = ',OR_(x1))\n",
    "print('1 OR 0 = ',OR_(x2))\n",
    "print('0 OR 0 = ',OR_(x3))\n",
    "print('1 OR 1 = ',OR_(x4))"
   ]
  },
  {
   "cell_type": "markdown",
   "metadata": {},
   "source": [
    "***\n",
    "**T1.6 Implementing XOR logical function**\n",
    "\n",
    "In the previous tasks you have developed three fundamental logical perceptrons: NOT, AND and OR. Now you have to build a network of those perceptrons so that it implements XOR function:\n",
    "\n",
    "0 XOR 1 = 1\n",
    "\n",
    "1 XOR 0 = 1\n",
    "\n",
    "0 XOR 0 = 0\n",
    "\n",
    "1 XOR 1 = 0\n",
    "\n",
    "The solution is as follow:\n",
    "\\begin{equation*}\n",
    "XOR(x_1,x_2) = AND(NOT(AND(x_1,x_2)),OR(x_1,x_2))\n",
    "\\end{equation*}\n",
    "\n",
    "Using the above formula, implement a method which performs XOR operation. "
   ]
  },
  {
   "cell_type": "code",
   "execution_count": 11,
   "metadata": {},
   "outputs": [],
   "source": [
    "def XOR_(x):\n",
    "    out1 = AND_(x)\n",
    "    out2 = OR_(x)\n",
    "    out3 = NOT_(out1)\n",
    "    out4 = AND_(np.array([out3,out2]))\n",
    "    return out4\n",
    "    "
   ]
  },
  {
   "cell_type": "code",
   "execution_count": 12,
   "metadata": {},
   "outputs": [
    {
     "name": "stdout",
     "output_type": "stream",
     "text": [
      "0 XOR 1 =  1\n",
      "1 XOR 0 =  1\n",
      "0 XOR 0 =  0\n",
      "1 XOR 1 =  0\n"
     ]
    }
   ],
   "source": [
    "#testing\n",
    "print('0 XOR 1 = ',XOR_(x1))\n",
    "print('1 XOR 0 = ',XOR_(x2))\n",
    "print('0 XOR 0 = ',XOR_(x3))\n",
    "print('1 XOR 1 = ',XOR_(x4))"
   ]
  },
  {
   "cell_type": "markdown",
   "metadata": {},
   "source": [
    "## Task 2: Training Perceptron with Simple Update Rule\n",
    "\n",
    "In this task we will implement a simply perceptron and train it by applying the Simple Update Rule introduced during one of our lectures. Note that training perceptron means searching for the optimal values of its parameters `w` and `b` (instead of guessing them as we did in the previous task). "
   ]
  },
  {
   "cell_type": "markdown",
   "metadata": {},
   "source": [
    "***\n",
    "**T2.1 Loading dataset**\n",
    "\n",
    "1. We will first load some of the toy datasets for binary classification from the sckit-learn library. Familiarise yourself with the format of the `Breast Cancer` dataset. \n",
    "2. We will split the dataset into input and output variables.\n",
    "3. We will scale the input variable using $min$ $max$ $scaling$ method.  "
   ]
  },
  {
   "cell_type": "code",
   "execution_count": 13,
   "metadata": {},
   "outputs": [
    {
     "name": "stdout",
     "output_type": "stream",
     "text": [
      "(569,)\n"
     ]
    }
   ],
   "source": [
    "from sklearn import datasets\n",
    "from sklearn import preprocessing\n",
    "from sklearn.model_selection import train_test_split\n",
    "\n",
    "bc = datasets.load_breast_cancer()\n",
    "\n",
    "#extracting input and output variables\n",
    "x = bc.data[:,:-1]\n",
    "y = bc.target\n",
    "x\n",
    "#scaling the input data\n",
    "x = preprocessing.MinMaxScaler().fit_transform(x)\n",
    "print(y.shape)"
   ]
  },
  {
   "cell_type": "markdown",
   "metadata": {},
   "source": [
    "***\n",
    "**T2.2 Implementing the Update Rule for training perceptron**\n",
    "\n",
    "You need to implement a method (perceptron update rule), which updates the parameters of the perceptron as per pseudo code: \n",
    "\n",
    "__Input:__ training set $x=\\{x^1, \\dots, x^n\\}, y=\\{y^1,\\dots,y^n\\}$, learning rate $\\alpha$ \n",
    "\n",
    "1. Initialize weights $w_1,\\dots,w_k$ and $b$ with random values. Use [uniform distribution](https://docs.scipy.org/doc/numpy-1.14.0/reference/generated/numpy.random.uniform.html) to assign values between -1 and 1 to each parameter. Note that the weights vector should have the same dimension as the input and the bias is just a scalar.\n",
    "\n",
    "2. For each $x^j=<x_1, \\dots, x_k>$ from x:\n",
    "\n",
    "   - Pass $x^j$ as input to the perceptron with weights $w_1,\\dots,w_k$ and bias $b$\n",
    "   - Compute the error $e$ as the difference between the expected value and the output of the perceptron $y_j-\\bar{y}^j$\n",
    "   - Adjust the parameters according to the formulas: $w_{i}^{new}=w_i+\\alpha ex^j$     $\\hspace{10mm} b^{new}=b+\\alpha e$ "
   ]
  },
  {
   "cell_type": "code",
   "execution_count": 14,
   "metadata": {},
   "outputs": [],
   "source": [
    "from sklearn import metrics\n",
    "np.random.seed(0)\n",
    "def updateRule(x,y,l):\n",
    "    w = np.random.uniform(-1,1,len(x[0]))\n",
    "    b = np.random.uniform(-1,1,1)\n",
    "    for i in range(len(x)):\n",
    "        prediction = perceptron(x[i],w,b)\n",
    "        error = y[i]-prediction\n",
    "        w = w + l*error*x[i]\n",
    "        b = b + l*error\n",
    "\n",
    "updateRule(x,y,0.01)"
   ]
  },
  {
   "cell_type": "markdown",
   "metadata": {},
   "source": [
    "***\n",
    "**T2.3 Evaluating the perceptron model** \n",
    "\n",
    "Evaluate the perceptron before (parameters assigned with random values) and after training (parameters updated via the update rule). At this point we can just use our training data for the evaluation. Apply 0.01 as the value of the learning rate. Since we are dealing with a classification problem (we are predicting labels: 1 or 0) you can also use the [accuracy](https://scikit-learn.org/stable/modules/model_evaluation.html) metric (mean absolute/squared error metrics are also fine).\n",
    "\n",
    "Note that the weights are assigned randomly at the beginning, which means that you can obtain different result each time unless you set the seed of the random number generator (np.random.seed(0)). Run you program number of times to see whether the perceptron improves each time as a result of the training."
   ]
  },
  {
   "cell_type": "code",
   "execution_count": 15,
   "metadata": {},
   "outputs": [
    {
     "name": "stdout",
     "output_type": "stream",
     "text": [
      "Acc:  0.6115992970123023\n",
      "MSE:  0.3884007029876977\n",
      "Acc:  0.6186291739894552\n",
      "MSE:  0.38137082601054484\n"
     ]
    }
   ],
   "source": [
    "np.random.seed(0)\n",
    "def updateRule(x,y,l):\n",
    "    w = np.random.uniform(-1,1,len(x[0]))\n",
    "    b = np.random.uniform(-1,1,1)\n",
    "    predictions = step_binary(x@w + b)\n",
    "    print('Acc: ', metrics.accuracy_score(predictions,y))\n",
    "    print('MSE: ', metrics.mean_squared_error(predictions,y))\n",
    "    \n",
    "    for i in range(len(x)):\n",
    "        prediction = perceptron(x[i],w,b)\n",
    "        error = y[i]-prediction\n",
    "        w = w + l*error*x[i]\n",
    "        b = b + l*error\n",
    "    predictions = step_binary(x@w + b)\n",
    "    print('Acc: ', metrics.accuracy_score(predictions,y))\n",
    "    print('MSE: ', metrics.mean_squared_error(predictions,y))\n",
    "updateRule(x,y,0.01)"
   ]
  },
  {
   "cell_type": "markdown",
   "metadata": {},
   "source": [
    "**T2.4 Increasing the time of training**\n",
    "\n",
    "As you could observe, applying the Update Rule only once to the training data set may not be enough to obtain a good model, in particular in the case of unfavorable initialization of the parameters. Increase the training of the model by applying the Update Rule multiple times to the training dataset (using for loop) to see if you can get more consistent results."
   ]
  },
  {
   "cell_type": "code",
   "execution_count": 16,
   "metadata": {},
   "outputs": [
    {
     "name": "stdout",
     "output_type": "stream",
     "text": [
      "Acc:  0.37258347978910367\n",
      "MSE:  0.6274165202108963\n",
      "Acc:  0.9261862917398945\n",
      "MSE:  0.07381370826010544\n"
     ]
    }
   ],
   "source": [
    "#np.random.seed(0)\n",
    "def updateRule(x,y,l):\n",
    "    w = np.random.uniform(-1,1,len(x[0]))\n",
    "    b = np.random.uniform(-1,1,1)\n",
    "    predictions = step_binary(x@w + b)\n",
    "    print('Acc: ', metrics.accuracy_score(predictions,y))\n",
    "    print('MSE: ', metrics.mean_squared_error(predictions,y))\n",
    "    for j in range(10):\n",
    "        for i in range(len(x)):\n",
    "            prediction = perceptron(x[i],w,b)\n",
    "            error = y[i]-prediction\n",
    "            w = w + l*error*x[i]\n",
    "            b = b + l*error\n",
    "    predictions = step_binary(x@w + b)\n",
    "    print('Acc: ', metrics.accuracy_score(predictions,y))\n",
    "    print('MSE: ', metrics.mean_squared_error(predictions,y))\n",
    "updateRule(x,y,0.01)"
   ]
  },
  {
   "cell_type": "markdown",
   "metadata": {},
   "source": [
    "## Task 3: Training perceptron with back propagation\n",
    "\n"
   ]
  },
  {
   "cell_type": "markdown",
   "metadata": {},
   "source": [
    "The Simple Update Rule works well for simple perceptrons with binary step activation function. However, for more complex Neural Networks it is insufficient. In this task you will use perceptron with sigmoid activation function. From the lecture we know that for an instance $x=<x_1,\\dots,x_k>$ the input of a perceptron is calculated as $in=x_1w_1 +\\dots +x_kw_k +b$ where weights $w=\\left( \\begin{array}{c} w_1 \\\\ w_2 \\\\ \\dots \\\\ w_k \\end{array} \\right)$ and bias $b$ are the parameters of the perceptron. Following this, the output of the perceptron is calculated as: $O=\\frac{1}{1+e^{-in}}$.\n",
    "\n",
    "In this task we will train the perceptron using the back propagation and gradient descent algorithms. The pseudo code of the gradient descent algorithm is presented below:\n",
    "\n",
    "Set weights $w$ and bias $b$ to random values.\n",
    "\n",
    "For each $(x,y)$ in training set:\n",
    "1. Pass $x$ through perceptron and calulate the outpu $O$\n",
    "2. Calculate derivative of the error function $E$ with respect to each parameter\n",
    "3. Update each weight according to the formula: $w_i = w_i - \\alpha\\frac{\\sigma E}{\\sigma w_i}$\n",
    "4. Update the bias according to the formula: $b = b - \\alpha\\frac{\\sigma E}{\\sigma b}$"
   ]
  },
  {
   "cell_type": "markdown",
   "metadata": {},
   "source": [
    "***\n",
    "**T3.1 Loading dataset**\n",
    "\n",
    "In this task we solve a simple regression problem using perceptron. The dataset `simpleregression` contains 2D data points, each assigned with an output value between 0 and 1. Familiarize yourself with the dataset.\n",
    "\n",
    "The two first features are the input variables and the last feature is the target output."
   ]
  },
  {
   "cell_type": "code",
   "execution_count": 17,
   "metadata": {},
   "outputs": [
    {
     "name": "stdout",
     "output_type": "stream",
     "text": [
      "(100, 2)\n"
     ]
    }
   ],
   "source": [
    "from sklearn.model_selection import train_test_split\n",
    "data = np.loadtxt(\"simpleregression.txt\")\n",
    "\n",
    "#extract input and output values\n",
    "x = data[:,:2]\n",
    "y = data[:,2]\n",
    "print(x.shape)"
   ]
  },
  {
   "cell_type": "markdown",
   "metadata": {},
   "source": [
    "We will split the data into training and testing sets."
   ]
  },
  {
   "cell_type": "code",
   "execution_count": 18,
   "metadata": {},
   "outputs": [],
   "source": [
    "#spliting data into train/test sets\n",
    "x_train, x_test, y_train, y_test = train_test_split(x, y,test_size=0.2, random_state=0)"
   ]
  },
  {
   "cell_type": "markdown",
   "metadata": {},
   "source": [
    "***\n",
    "**T3.2 Implementing sigmoid activation function and derivative of the sigmoid function**\n",
    "\n",
    "Given that the target values (values that we will be trying to predict) are between 0 and 1, we can use sigmoid activation function. In this task we implement two methods, which for a given input $v$ return the value of the sigmoid function and its derivative, respectively. From the lecture we know that the sigmoid function is define by the formula: $f(x)=\\frac{1}{1+e^{-x}}$ and its derivative can be calculated as: $f'(x) = \\frac{1}{1+e^{-x}}*(1-\\frac{1}{1+e^{-x}})$"
   ]
  },
  {
   "cell_type": "code",
   "execution_count": 19,
   "metadata": {},
   "outputs": [],
   "source": [
    "def sigmoid(v):\n",
    "    return 1/(1+np.exp(-v))"
   ]
  },
  {
   "cell_type": "code",
   "execution_count": 20,
   "metadata": {},
   "outputs": [],
   "source": [
    "def sigmoid_derivative(v):\n",
    "    return sigmoid(v)*(1-sigmoid(v))"
   ]
  },
  {
   "cell_type": "markdown",
   "metadata": {},
   "source": [
    "***\n",
    "**T3.3 Implementing the forward pass**\n",
    "\n",
    "We will start with implementing the forward pass (feedforward) of the perceptron. The matrix notation of the forward pass of an input $x=(x_1 \\dots x_k)$ through the perceptron is formulated as follows:\n",
    "\n",
    "$$ in = \\left( \\begin{array}{cc} x_1 & x_2 & \\dots x_k \\end{array}\\right) \n",
    "\\left( \\begin{array}{c} w_1 \\\\ w_2 \\\\ \\dots \\\\ w_k \\end{array} \\right) + b$$\n",
    "$$O=\\frac{1}{1+e^{-in}}$$\n",
    "\n",
    "Where $w$ and $b$ are the weights (column vector of dimension $k$) and the bias (scalar), respectively and $O$ stands for the output of the perceptron.\n",
    "\n",
    "We will start with initialising the weights and the bias with random values. Then we will implement the forward pass of the perceptron as $O=\\frac{1}{1+e^{-(xw+b)}}$."
   ]
  },
  {
   "cell_type": "code",
   "execution_count": 21,
   "metadata": {},
   "outputs": [],
   "source": [
    "import numpy as np\n",
    "\n",
    "#fixing seed of the random number generator, this will ensure that we always get the same result\n",
    "np.random.seed(42) \n",
    "\n",
    "#initialising parameters\n",
    "w = np.random.uniform(-1,1,[x_train.shape[1],1])\n",
    "b = np.random.uniform(-1,11)\n",
    "l = 0.05\n",
    "\n",
    "#forward pass\n",
    "for i in range(len(x_train)):\n",
    "    #forward pass\n",
    "    in_ = x_train[i]@w+b\n",
    "    out = sigmoid(in_)"
   ]
  },
  {
   "cell_type": "markdown",
   "metadata": {},
   "source": [
    "***\n",
    "**T3.4 Error calculation**\n",
    "\n",
    "No we can calculate the error using the output $O$ and the target value $y$. We will use the squared error formula introduce during lectures:\n",
    "$$E=\\frac{1}{2}(y-O)^2$$\n",
    "\n",
    "\n",
    "Note that since we are passing a single instance as input to the perceptron, both $O$ and $y$ are scalars."
   ]
  },
  {
   "cell_type": "code",
   "execution_count": 23,
   "metadata": {},
   "outputs": [],
   "source": [
    "np.random.seed(42)\n",
    "\n",
    "#initialising parameters\n",
    "w = np.random.uniform(-1,1,[x_train.shape[1],1])\n",
    "b = np.random.uniform(-1,1,1)\n",
    "l = 0.05\n",
    "\n",
    "for i in range(len(x_train)):\n",
    "    #forward pass\n",
    "    in_ = x_train[i]@w+b\n",
    "    out = sigmoid(in_)\n",
    "    \n",
    "    #error calculation\n",
    "    error = (1/2)*(np.power((out-y_train[i]),2))"
   ]
  },
  {
   "cell_type": "markdown",
   "metadata": {},
   "source": [
    "***\n",
    "**T3.5 Implementing backpropagation**\n",
    "\n",
    "The goal of backpropagation is to compute the following partial derivatives: $\\frac{\\sigma E}{\\sigma w}$ and $\\frac{\\sigma E}{\\sigma b}$.\n",
    "\n",
    "Following the chain rule we know that:\n",
    "\\begin{equation*}\n",
    "\\frac{\\sigma E}{\\sigma w_i} = \\frac{\\sigma E}{\\sigma O} \\times \\frac{\\sigma O}{\\sigma in} \\times \\frac{\\sigma in}{\\sigma w_i}\n",
    "\\end{equation*}\n",
    "\n",
    "\\begin{equation*}\n",
    "\\frac{\\sigma E}{\\sigma b} = \\frac{\\sigma E}{\\sigma O} \\times \\frac{\\sigma O}{\\sigma in} \\times \\frac{\\sigma in}{\\sigma b}\n",
    "\\end{equation*}\n",
    "\n",
    "The partial derivatives can then be calculated as:\n",
    "\n",
    "$\\frac{\\sigma E}{\\sigma O} = O-y$ - this is derivative of the squared error function and it is a scalar\n",
    "\n",
    "$\\frac{\\sigma O}{\\sigma in} = \\underbrace{\\frac{1}{1+e^{-in}}(1-\\frac{1}{1+e^{-in}})}_{\\text{this is derivative of the sigmoid function and it is a scalar}}$\n",
    "\n",
    "$\\frac{\\sigma E}{\\sigma in} = \\frac{\\sigma E}{\\sigma O} \\times \\frac{\\sigma O}{\\sigma in} = (O-y)*\\frac{1}{1+e^{-in}}(1-\\frac{1}{1+e^{-in}})$\n",
    "\n",
    "$\\frac{\\sigma in}{\\sigma w_i}= \\underbrace{x_i}_{\\text{ith input variable}}$\n",
    "\n",
    "$\\frac{\\sigma E}{\\sigma w_i} = \\frac{\\sigma E}{\\sigma O}\\times \\frac{\\sigma O}{\\sigma in}\\times \\frac{\\sigma in}{\\sigma w_i}= (O-y)*\\frac{1}{1+e^{-in}}(1-\\frac{1}{1+e^{-in}})* x_i$\n",
    "\n",
    "$\\frac{\\sigma E}{\\sigma b}=\\frac{\\sigma E}{\\sigma O}\\times \\frac{\\sigma O}{\\sigma in}\\times \\frac{\\sigma in}{\\sigma b} = (O-y)*\\frac{1}{1+e^{-in}}(1-\\frac{1}{1+e^{-in}})*\\underbrace{1}_{\\frac{\\sigma in}{\\sigma b}}$\n",
    "\n",
    "Using matrix notation, we can calculate the derivatives of the error as:\n",
    "\n",
    "$$\\frac{\\sigma E}{\\sigma w} = x.T*\\frac{1}{1+e^{-in}}*(1-\\frac{1}{1+e^{-in}})*(O-y)$$\n",
    "\n",
    "$$\\frac{\\sigma E}{\\sigma b} = \\frac{1}{1+e^{-in}}(1-\\frac{1}{1+e^{-in}})* (O-y)$$\n",
    "\n",
    "We transpose $x$ so that the derivative is in the same format as $w$. This makes the update step easier. Please go back to the lecture slides if you need more explanation.\n",
    "\n",
    "We will apply learning rate $\\alpha=0.05$."
   ]
  },
  {
   "cell_type": "code",
   "execution_count": 24,
   "metadata": {},
   "outputs": [],
   "source": [
    "np.random.seed(42)\n",
    "\n",
    "#initialising parameters\n",
    "w = np.random.uniform(-1,1,[x_train.shape[1],1])\n",
    "b = np.random.uniform(1)\n",
    "l = 0.05\n",
    "\n",
    "for i in range(len(x_train)):\n",
    "    #forward pass\n",
    "    in_ = x_train[i]@w+b\n",
    "    out = sigmoid(in_)\n",
    "    \n",
    "    #error calculation\n",
    "    error = (1/2)*(np.power((out-y_train[i]),2))\n",
    "    \n",
    "    #backpropagation\n",
    "    dEdOut = out - y_train[i]\n",
    "    dOutdIn = sigmoid_derivative(x_train[i]@w + b)\n",
    "    dEdIn = dEdOut*dOutdIn\n",
    "    dIndW = x_train[i]\n",
    "    dEdW = (dIndW.reshape(len(dIndW),1))*dEdIn #transposing 1D arrya, we can only use x.T for 2D or higher array\n",
    "    dEdB = dEdIn*1"
   ]
  },
  {
   "cell_type": "markdown",
   "metadata": {},
   "source": [
    "***\n",
    "**T.3.6 Updating weights and bias**\n",
    "\n",
    "Now that we calculated $\\frac{\\sigma E}{\\sigma w}$ and $\\frac{\\sigma E}{\\sigma b}$ we can update the parameters of the perceptron (i.e. weights and bias) following the Gradient Descent algorithm."
   ]
  },
  {
   "cell_type": "code",
   "execution_count": 25,
   "metadata": {},
   "outputs": [],
   "source": [
    "np.random.seed(42)\n",
    "\n",
    "#initialising parameters\n",
    "w = np.random.uniform(-1,1,[x_train.shape[1],1])\n",
    "b = np.random.uniform(1)\n",
    "l = 0.05\n",
    "\n",
    "for i in range(len(x_train)):\n",
    "    #forward pass\n",
    "    in_ = x_train[i]@w+b\n",
    "    out = sigmoid(in_)\n",
    "    \n",
    "    #error calculation\n",
    "    error = (1/2)*(np.power((out-y_train[i]),2))\n",
    "    \n",
    "    #backpropagation\n",
    "    dEdOut = out - y_train[i]\n",
    "    dOutdIn = sigmoid_derivative(x_train[i]@w + b)\n",
    "    dEdIn = dEdOut*dOutdIn\n",
    "    dIndW = x_train[i]\n",
    "    dEdW = (dIndW.reshape(len(dIndW),1))*dEdIn #transposing 1D arrya, we can only use T for 2D or higher array\n",
    "    dEdB = dEdIn*1\n",
    "   \n",
    "    #updating parameters of the model\n",
    "    w = w - l*dEdW\n",
    "    b = b - l*dEdB"
   ]
  },
  {
   "cell_type": "markdown",
   "metadata": {},
   "source": [
    "***\n",
    "**T3.7 Evaluation the Perceptron**\n",
    "\n",
    "In order to see whether the model improved after the training, calculate predictions for the train and test datasets and evaluate the performance using the mean square error metric. Compare the error before and after training to see whether there is any improvement. You can copy the code from the previous cell and update it accordingly."
   ]
  },
  {
   "cell_type": "code",
   "execution_count": 26,
   "metadata": {},
   "outputs": [
    {
     "name": "stdout",
     "output_type": "stream",
     "text": [
      "Train error:  0.311777375609104\n",
      "Test error:  0.3191802851880966\n",
      "Train error:  0.2187886709519981\n",
      "Test error:  0.227954585830263\n"
     ]
    }
   ],
   "source": [
    "np.random.seed(0)\n",
    "\n",
    "#initialising parameters\n",
    "w = np.random.uniform(-1,1,[x_train.shape[1],1])\n",
    "b = np.random.uniform(1)\n",
    "l = 0.05\n",
    "\n",
    "#testing the performance befor training\n",
    "print('Train error: ', metrics.mean_squared_error(sigmoid(x_train@w+b),y_train))\n",
    "print('Test error: ', metrics.mean_squared_error(sigmoid(x_test@w+b),y_test))\n",
    "\n",
    "for i in range(len(x_train)):\n",
    "    in_ = x_train[i]@w+b\n",
    "    out = sigmoid(in_)\n",
    "    error = (1/2)*(np.power((out-y_train[i]),2))\n",
    "    dEdOut = out - y_train[i]\n",
    "    dOutdIn = sigmoid_derivative(np.dot(x_train[i],w) + b)\n",
    "    dEdIn = dEdOut*dOutdIn\n",
    "    dIndW = x_train[i]\n",
    "    dEdW = (dIndW.reshape(len(dIndW),1))*dEdIn #transposing 1D arrya, we can only use T for 2D or higher array\n",
    "    dEdB = dEdIn*1\n",
    "    w = w - l*dEdW\n",
    "    b = b - l*dEdB\n",
    "\n",
    "#testing the performance after training\n",
    "print('Train error: ', metrics.mean_squared_error(sigmoid(x_train@w+b),y_train))\n",
    "print('Test error: ', metrics.mean_squared_error(sigmoid(x_test@w+b),y_test))"
   ]
  },
  {
   "cell_type": "markdown",
   "metadata": {},
   "source": [
    "***\n",
    "**T3.8 Increasing batch size (Batch Gradient Descent Algorithm)**\n",
    "\n",
    "Edit your BP code so that the parameters are updated after the entire training set is passed through the perceptron. In other words, the batch size is equals to the size of the training set, not one like in the previous case. You can follow the same procedure as previously but use matrix notation so that the gradient is calculated for all the instances from the training dataset simultaneously. The parameters should be updated using the average of gradients obtained for all instances in the training dataset.\n",
    "\n",
    "Hints:\n",
    "\n",
    "- the input is a matrix of shape [$n=$no if instances in train set, $k=$no of features] \n",
    "- the output of the perceptron is a column vector, make sure that the vector with target values $y$ is of the same format. You may need to re-shape it.\n",
    "\n",
    "Using matrix notation, we can calculate the derivatives of the error as:\n",
    "\n",
    "<br>\n",
    "\n",
    "$$\\frac{\\sigma E}{\\sigma w} = \\frac{1}{n} * \\underbrace{X.T}_{\\text{transposed input matrix}}@\\left(\\underbrace{\\frac{1}{1+e^{-in}}*(1-\\frac{1}{1+e^{-in}})}_{\\text{derivative of the sigmoid function} \\\\ \\text{and it is a column vector of dimension $n$}}*\\underbrace{(O-y)}_{\\text{this is derivative of the squared error function} \\\\ \\text{ and it is a column vector of dimension $n$.}}\\right)$$\n",
    "\n",
    "<br>\n",
    "\n",
    "$$\\frac{\\sigma E}{\\sigma b} = \\frac{1}{n} *  \\underbrace{\\overrightarrow{1}}_{\\text{matrix [1,n]}}@ \\left(\\frac{1}{1+e^{-in}}(1-\\frac{1}{1+e^{-in}})* (O-y)\\right)$$\n",
    "\n",
    "<br>\n",
    "\n",
    "You can copy the code from the previous cell and update it accordingly.\n",
    "\n",
    "Evaluate the model and compare it with the previous results. What are your observations?\n"
   ]
  },
  {
   "cell_type": "code",
   "execution_count": 26,
   "metadata": {},
   "outputs": [
    {
     "name": "stdout",
     "output_type": "stream",
     "text": [
      "Train error:  0.30733940811935995\n",
      "Test error:  0.3124103150377586\n",
      "Train error:  0.3062008196230307\n",
      "Test error:  0.31128305826389624\n"
     ]
    }
   ],
   "source": [
    "np.random.seed(42)\n",
    "\n",
    "y=y.reshape(len(y),1)\n",
    "x_train, x_test, y_train, y_test = train_test_split(x, y,test_size=0.2, random_state=0)\n",
    "\n",
    "w = np.random.uniform(-1,1,[x_train.shape[1],1])\n",
    "b = np.random.uniform(1)\n",
    "l = 0.05\n",
    "\n",
    "print('Train error: ', metrics.mean_squared_error(sigmoid(x_train@w+b),y_train))\n",
    "print('Test error: ', metrics.mean_squared_error(sigmoid(x_test@w+b),y_test))\n",
    "\n",
    "#forward pass\n",
    "in_ = x_train@w + b\n",
    "out = sigmoid(in_)\n",
    "\n",
    "#error calculation\n",
    "error = (1/2)*(np.power((out-y_train),2))\n",
    "\n",
    "#backpropagation\n",
    "dEdOut = out - y_train\n",
    "dOutdIn = sigmoid_derivative((x_train@w) + b) #dot will also work here\n",
    "dEdIn = dEdOut*dOutdIn\n",
    "dIndW = x_train\n",
    "dEdW = (1/x_train.shape[0])*(dIndW.T@(dEdIn))\n",
    "dEdB = (1/x_train.shape[0])*np.ones([1,len(x_train)])@(dEdOut*dOutdIn)\n",
    "\n",
    "#updating weights\n",
    "w -= l*dEdW\n",
    "b -= l*dEdB\n",
    "    \n",
    "print('Train error: ', metrics.mean_squared_error(sigmoid(x_train@w+b),y_train))\n",
    "print('Test error: ', metrics.mean_squared_error(sigmoid(x_test@w+b),y_test))"
   ]
  },
  {
   "cell_type": "markdown",
   "metadata": {},
   "source": [
    "***\n",
    "**T3.9 Increasing number of epochs**\n",
    "\n",
    "One epoch means that all instances from the training set were passed through the network. Use a for loop in order to increase the number of epochs, i.e. to repeat the BP multiple times. You can test different number of epochs, you should get better results than before."
   ]
  },
  {
   "cell_type": "code",
   "execution_count": 27,
   "metadata": {
    "scrolled": false
   },
   "outputs": [
    {
     "name": "stdout",
     "output_type": "stream",
     "text": [
      "Train error:  0.30733940811935995\n",
      "Test error:  0.3124103150377586\n",
      "Train error:  0.025985513613512347\n",
      "Test error:  0.043478365472819594\n"
     ]
    }
   ],
   "source": [
    "np.random.seed(42)\n",
    "w = np.random.uniform(-1,1,[x_train.shape[1],1])\n",
    "b = np.random.uniform(1)\n",
    "l = 0.05\n",
    "\n",
    "y=y.reshape(len(y),1)\n",
    "x_train, x_test, y_train, y_test = train_test_split(x, y,test_size=0.2, random_state=0)\n",
    "\n",
    "print('Train error: ', metrics.mean_squared_error(sigmoid(x_train@w+b),y_train))\n",
    "print('Test error: ', metrics.mean_squared_error(sigmoid(x_test@w+b),y_test))\n",
    "\n",
    "for epoch in range(1000):\n",
    "    in_ = x_train@w + b\n",
    "    out = sigmoid(in_)\n",
    "    error = (1/2)*(np.power((out-y_train),2))\n",
    "    dEdOut = out - y_train\n",
    "    dOutdIn = sigmoid_derivative((x_train@w) + b) #dot will also work here\n",
    "    dEdIn = dEdOut*dOutdIn\n",
    "    dIndW = x_train\n",
    "    dEdW = (1/x_train.shape[0])*(dIndW.T@(dEdIn))\n",
    "    dEdB = (1/x_train.shape[0])*np.ones([1,len(x_train)])@(dEdOut*dOutdIn)\n",
    "    w -= l*dEdW\n",
    "    b -= l*dEdB\n",
    "\n",
    "print('Train error: ', metrics.mean_squared_error(sigmoid(x_train@w+b),y_train))\n",
    "print('Test error: ', metrics.mean_squared_error(sigmoid(x_test@w+b),y_test))"
   ]
  },
  {
   "cell_type": "markdown",
   "metadata": {},
   "source": [
    "***\n",
    "**T.3.10 Visualizing the train/test error**\n",
    "\n",
    "Visualize how the train/test error changes across the epochs using matplotlib. For this purpose you should create two empty lists $train=[]$ and $test=[]$. For each epoch calculate the train and test error and [append them to the lists](https://docs.python.org/2/tutorial/datastructures.html). Finally, once the perceptron is trained you will be able to visualize the error as follows:\n",
    "\n",
    "z=np.arange(number of epochs)<br>\n",
    "plt.plot(z,train,label=\"train\",color='red')<br>\n",
    "plt.plot(z,test,label=\"test\",color='blue')<br>\n",
    "plt.legend(loc='best')<br>\n",
    "plt.show()"
   ]
  },
  {
   "cell_type": "code",
   "execution_count": 28,
   "metadata": {},
   "outputs": [
    {
     "data": {
      "text/plain": [
       "<Figure size 640x480 with 1 Axes>"
      ]
     },
     "metadata": {},
     "output_type": "display_data"
    }
   ],
   "source": [
    "import matplotlib.pyplot as plt\n",
    "np.random.seed(0)\n",
    "w = np.random.uniform(-1,1,[x_train.shape[1],1])\n",
    "b = np.random.uniform(1)\n",
    "l = 0.05\n",
    "\n",
    "y=y.reshape(len(y),1)\n",
    "x_train, x_test, y_train, y_test = train_test_split(x, y,test_size=0.2, random_state=0)\n",
    "\n",
    "train = []\n",
    "test = []\n",
    "\n",
    "for epoch in range(1000):\n",
    "    in_ = x_train@w + b\n",
    "    out = sigmoid(in_)\n",
    "    error_train = 0.5*np.power((out-y_train),2)\n",
    "    error_test = 0.5*np.power(sigmoid(x_test@w+b)-y_test,2)\n",
    "    train.append(error_train.mean())\n",
    "    test.append(error_test.mean())\n",
    "    dEdOut = out - y_train\n",
    "    dOutdIn = sigmoid_derivative((x_train@w) + b) #dot will also work here\n",
    "    dEdIn = dEdOut*dOutdIn\n",
    "    dIndW = x_train\n",
    "    dEdW = (1/x_train.shape[0])*dIndW.T@(dEdIn)\n",
    "    dEdB = (1/x_train.shape[0])*np.ones([1,len(x_train)])@(dEdOut*dOutdIn)\n",
    "    w -= l*dEdW\n",
    "    b -= l*dEdB\n",
    "    \n",
    "z=np.arange(1000)\n",
    "plt.plot(z,train,label=\"train\",color='red')\n",
    "plt.plot(z,test,label=\"test\",color='blue')\n",
    "plt.legend(loc='best')\n",
    "plt.show()"
   ]
  },
  {
   "cell_type": "markdown",
   "metadata": {},
   "source": [
    "# 4. Using Perceptron for binary classification"
   ]
  },
  {
   "cell_type": "markdown",
   "metadata": {},
   "source": [
    "***\n",
    "**T4.1 Implementing perceptron for classification**\n",
    "\n",
    "Apply Batch Gradient Descent to train a perceptron model with the binary classification dataset uploaded below. You should use binary cross entropy loss function instead of MSE. Apart form the error, calculate the accuracy of the predictions made by the model on the train and test sets in each epoch. In order to convert outputs of the sigmoid function (floats between 0 and 1) into labels (0 or 1), you can apply a threshold of 0.5 (i.e. if the output is greater that 0.5 then the prediction is 1, otherwise the prediction is 0). There is a very useful numpy [method](https://docs.scipy.org/doc/numpy-1.13.0/reference/generated/numpy.where.html) that can help with this. Visualize how the train/test error and accuracy change over the epochs. Use 1000 epochs."
   ]
  },
  {
   "cell_type": "code",
   "execution_count": 29,
   "metadata": {},
   "outputs": [
    {
     "data": {
      "image/png": "[encoded data removed]",
      "text/plain": [
       "<Figure size 720x504 with 1 Axes>"
      ]
     },
     "metadata": {
      "needs_background": "light"
     },
     "output_type": "display_data"
    }
   ],
   "source": [
    "x, y = datasets.make_moons(500, noise=0.1)\n",
    "plt.figure(figsize=(10,7))\n",
    "plt.scatter(x[:,0], x[:,1], c=y, cmap=plt.cm.winter)\n",
    "\n",
    "y=y.reshape(len(y),1)\n",
    "x_train, x_test, y_train, y_test = train_test_split(x, y,test_size=0.2, random_state=0)"
   ]
  },
  {
   "cell_type": "code",
   "execution_count": 30,
   "metadata": {},
   "outputs": [],
   "source": [
    "def crossEntrop(o,y):\n",
    "    return (-y*(np.log(o)) - (1-y)* np.log(1-o))"
   ]
  },
  {
   "cell_type": "code",
   "execution_count": 31,
   "metadata": {},
   "outputs": [],
   "source": [
    "def crossEntrDeriv(o,y):\n",
    "    return -(y/o - (1-y)/(1-o))"
   ]
  },
  {
   "cell_type": "code",
   "execution_count": 32,
   "metadata": {},
   "outputs": [
    {
     "name": "stderr",
     "output_type": "stream",
     "text": [
      "C:\\ProgramData\\Anaconda3\\lib\\site-packages\\matplotlib\\figure.py:445: UserWarning: Matplotlib is currently using module://ipykernel.pylab.backend_inline, which is a non-GUI backend, so cannot show the figure.\n",
      "  % get_backend())\n"
     ]
    },
    {
     "data": {
      "image/png": "[encoded data removed]",
      "text/plain": [
       "<Figure size 432x288 with 1 Axes>"
      ]
     },
     "metadata": {
      "needs_background": "light"
     },
     "output_type": "display_data"
    },
    {
     "data": {
      "image/png": "[encoded data removed]",
      "text/plain": [
       "<Figure size 432x288 with 1 Axes>"
      ]
     },
     "metadata": {
      "needs_background": "light"
     },
     "output_type": "display_data"
    }
   ],
   "source": [
    "np.random.seed(0)\n",
    "w = np.random.uniform(-1,1,[x_train.shape[1],1])\n",
    "b = np.random.uniform(1)\n",
    "l = 0.05\n",
    "\n",
    "\n",
    "train_E = []\n",
    "test_E = []\n",
    "train_Acc = []\n",
    "test_Acc = []\n",
    "epochs = 1000\n",
    "\n",
    "for epoch in range(epochs):\n",
    "    #feedforward\n",
    "    in_ = x_train@w + b\n",
    "    out = sigmoid(in_)\n",
    "    \n",
    "    #error\n",
    "    error_train = crossEntrop(out,y_train)\n",
    "    error_test = crossEntrop(sigmoid(x_test@w+b),y_test)\n",
    "    train_E.append(error_train.mean())\n",
    "    test_E.append(error_test.mean())\n",
    "    \n",
    "    #accuracy\n",
    "    predictions_train = np.where(out > 0.5, 1,0)\n",
    "    prediction_test = np.where(sigmoid(x_test@w+b) > 0.5,1,0)\n",
    "    train_Acc.append(metrics.accuracy_score(y_train,predictions_train))\n",
    "    test_Acc.append(metrics.accuracy_score(y_test,prediction_test))\n",
    "    \n",
    "    #backpropagation\n",
    "    dEdOut = crossEntrDeriv(out, y_train)\n",
    "    dOutdIn = sigmoid_derivative((x_train@w) + b) #dot will also work here\n",
    "    dEdIn = dEdOut*dOutdIn\n",
    "    dIndW = x_train\n",
    "    dEdW = (1/x_train.shape[0])*dIndW.T@(dEdIn)\n",
    "    dEdB = (1/x_train.shape[0])*np.ones([1,len(x_train)])@(dEdOut*dOutdIn)\n",
    "    w -= l*dEdW\n",
    "    b -= l*dEdB\n",
    "\n",
    "    \n",
    "z=np.arange(epochs)\n",
    "f1=plt.figure(1)\n",
    "plt.plot(z,train_E,label=\"train\",color='red')\n",
    "plt.plot(z,test_E,label=\"test\",color='blue')\n",
    "#plt.plot(z,test,label=\"test\",color='blue')\n",
    "plt.legend(loc='best')\n",
    "plt.title('Error')\n",
    "f1.show()\n",
    "f2=plt.figure(2)\n",
    "plt.plot(z,train_Acc,label=\"train\",color='red')\n",
    "plt.plot(z,test_Acc,label=\"test\",color='blue')\n",
    "#plt.plot(z,test,label=\"test\",color='blue')\n",
    "plt.legend(loc='best')\n",
    "plt.title('Accuracy')\n",
    "f2.show()"
   ]
  },
  {
   "cell_type": "markdown",
   "metadata": {},
   "source": [
    "***\n",
    "**T4.2 Evaluating model with cross validation**\n",
    "\n",
    "Instead of splitting the dataset into train and test sets as in T4.1, use 5-cross validation. Report the average accuracy across the folds. "
   ]
  },
  {
   "cell_type": "code",
   "execution_count": 33,
   "metadata": {},
   "outputs": [
    {
     "name": "stdout",
     "output_type": "stream",
     "text": [
      "Test Accuracy:  0.882\n"
     ]
    }
   ],
   "source": [
    "from sklearn.model_selection import KFold\n",
    "kf = KFold(n_splits=5, shuffle=True)\n",
    "\n",
    "test_Acc = []#for storing test error from each fold\n",
    "\n",
    "for train_index, test_index in kf.split(x):\n",
    "    #initializing weights\n",
    "    np.random.seed(0)\n",
    "    w = np.random.uniform(-1,1,[x.shape[1],1])\n",
    "    b = np.random.uniform(1)\n",
    "    l = 0.05\n",
    "    \n",
    "    for epoch in range(3000):\n",
    "        #feedforward\n",
    "        in_ = x[train_index]@w + b\n",
    "        out = sigmoid(in_)\n",
    "\n",
    "        #error\n",
    "        error_train = crossEntrop(out,y[train_index])\n",
    "        \n",
    "        #backpropagation\n",
    "        dEdOut = crossEntrDeriv(out, y[train_index])\n",
    "        dOutdIn = sigmoid_derivative((x[train_index]@w) + b) #dot will also work here\n",
    "        dEdIn = dEdOut*dOutdIn\n",
    "        dIndW = x[train_index]\n",
    "        dEdW = (1/x[train_index].shape[0])*dIndW.T@(dEdIn)\n",
    "        dEdB = (1/x[train_index].shape[0])*np.ones([1,len(x[train_index])])@(dEdOut*dOutdIn)\n",
    "        w -= l*dEdW\n",
    "        b -= l*dEdB\n",
    "        \n",
    "    #accuracy\n",
    "    prediction_test = np.where(sigmoid(x[test_index]@w+b) > 0.5,1,0)\n",
    "    test_Acc.append(metrics.accuracy_score(y[test_index],prediction_test))\n",
    "\n",
    "print('Test Accuracy: ',sum(test_Acc)/len(test_Acc))"
   ]
  },
  {
   "cell_type": "markdown",
   "metadata": {},
   "source": [
    "# 5. Solving Regression problem with Batch and Mini-batch GD"
   ]
  },
  {
   "cell_type": "markdown",
   "metadata": {},
   "source": [
    "***\n",
    "\n",
    "Implement Batch Gradient Descent and Mini-Batch Gradient Descent to train a perceptron with diabetes dataset from [sklearn](https://scikit-learn.org/stable/datasets/index.html). Use Leaky ReLu (you can also try ReLu) as activation function and 64 as the size of the mini-batch (try different sizes of mini-batch). Compare the errors obtained by both of the algorithms after 500 training epochs (try different numbers of epochs to see what happens). Check whether scaling the input data makes any difference.\n"
   ]
  },
  {
   "cell_type": "code",
   "execution_count": 34,
   "metadata": {},
   "outputs": [],
   "source": [
    "x, y = datasets.load_diabetes(return_X_y=True)\n",
    "y=y.reshape(len(y),1)\n",
    "#scaling the input data\n",
    "x = preprocessing.MinMaxScaler().fit_transform(x)"
   ]
  },
  {
   "cell_type": "markdown",
   "metadata": {},
   "source": [
    "Activation Functions and their derivatives"
   ]
  },
  {
   "cell_type": "code",
   "execution_count": 35,
   "metadata": {},
   "outputs": [],
   "source": [
    "def LReLU(x):\n",
    "    return np.where(x > 0, x, x * 0.01)\n",
    "\n",
    "def dLReLU(x):\n",
    "    return np.where(x > 0, 1, 0.01)\n",
    "   "
   ]
  },
  {
   "cell_type": "markdown",
   "metadata": {},
   "source": [
    "Batch Gradient Descent"
   ]
  },
  {
   "cell_type": "code",
   "execution_count": 36,
   "metadata": {},
   "outputs": [
    {
     "name": "stdout",
     "output_type": "stream",
     "text": [
      "Error after training:  1535.6951828845483\n"
     ]
    },
    {
     "data": {
      "image/png": "[encoded data removed]",
      "text/plain": [
       "<Figure size 432x288 with 1 Axes>"
      ]
     },
     "metadata": {
      "needs_background": "light"
     },
     "output_type": "display_data"
    }
   ],
   "source": [
    " #initializing weights\n",
    "np.random.seed(0)\n",
    "w = np.random.uniform(-1,1,[x.shape[1],1])\n",
    "b = np.random.uniform(1)\n",
    "l = 0.05\n",
    "\n",
    "error = []\n",
    "\n",
    "for epoch in range(500):\n",
    "    #feed forward\n",
    "    in_ = x@w + b\n",
    "    out = LReLU(in_)\n",
    "\n",
    "    #error\n",
    "    error_train = 0.5*np.power((out-y),2)\n",
    "    if epoch > 10: #skipping the first few epochs so the error on the graph is better visible\n",
    "        error.append(error_train.mean())\n",
    "    \n",
    "    #backpropagation\n",
    "    dEdOut = out - y\n",
    "    dOutdIn = dLReLU(in_) \n",
    "    dEdIn = dEdOut*dOutdIn\n",
    "    dIndW = x\n",
    "    dEdW = (1/x.shape[0])*dIndW.T@(dEdIn)\n",
    "    dEdB = (1/x.shape[0])*np.ones([1,len(x)])@(dEdOut*dOutdIn)\n",
    "    w -= l*dEdW\n",
    "    b -= l*dEdB\n",
    "    \n",
    "print('Error after training: ',error[len(error)-1]) \n",
    "    \n",
    "z=np.arange(len(error))\n",
    "plt.plot(z,error,label=\"train\",color='red')\n",
    "plt.legend(loc='best')\n",
    "plt.show()"
   ]
  },
  {
   "cell_type": "code",
   "execution_count": 37,
   "metadata": {},
   "outputs": [
    {
     "ename": "NameError",
     "evalue": "name 'minibatch_size' is not defined",
     "output_type": "error",
     "traceback": [
      "\u001b[1;31m---------------------------------------------------------------------------\u001b[0m",
      "\u001b[1;31mNameError\u001b[0m                                 Traceback (most recent call last)",
      "\u001b[1;32m<ipython-input-37-abf0f43b072a>\u001b[0m in \u001b[0;36m<module>\u001b[1;34m\u001b[0m\n\u001b[1;32m----> 1\u001b[1;33m \u001b[0mx_mini\u001b[0m \u001b[1;33m=\u001b[0m \u001b[0mx\u001b[0m\u001b[1;33m[\u001b[0m\u001b[1;36m0\u001b[0m\u001b[1;33m:\u001b[0m\u001b[1;36m0\u001b[0m \u001b[1;33m+\u001b[0m \u001b[0mminibatch_size\u001b[0m\u001b[1;33m,\u001b[0m\u001b[1;33m:\u001b[0m\u001b[1;33m]\u001b[0m\u001b[1;33m\u001b[0m\u001b[1;33m\u001b[0m\u001b[0m\n\u001b[0m\u001b[0;32m      2\u001b[0m \u001b[0my_mini\u001b[0m \u001b[1;33m=\u001b[0m \u001b[0my\u001b[0m\u001b[1;33m[\u001b[0m\u001b[1;36m0\u001b[0m\u001b[1;33m:\u001b[0m\u001b[1;36m0\u001b[0m \u001b[1;33m+\u001b[0m \u001b[0mminibatch_size\u001b[0m\u001b[1;33m,\u001b[0m\u001b[1;33m:\u001b[0m\u001b[1;33m]\u001b[0m\u001b[1;33m\u001b[0m\u001b[1;33m\u001b[0m\u001b[0m\n\u001b[0;32m      3\u001b[0m \u001b[0min_\u001b[0m \u001b[1;33m=\u001b[0m \u001b[0mx_mini\u001b[0m\u001b[1;33m@\u001b[0m\u001b[0mw\u001b[0m \u001b[1;33m+\u001b[0m \u001b[0mb\u001b[0m\u001b[1;33m\u001b[0m\u001b[1;33m\u001b[0m\u001b[0m\n\u001b[0;32m      4\u001b[0m \u001b[0mprint\u001b[0m\u001b[1;33m(\u001b[0m\u001b[0min_\u001b[0m\u001b[1;33m)\u001b[0m\u001b[1;33m\u001b[0m\u001b[1;33m\u001b[0m\u001b[0m\n\u001b[0;32m      5\u001b[0m \u001b[0mout\u001b[0m \u001b[1;33m=\u001b[0m \u001b[0mLReLU\u001b[0m\u001b[1;33m(\u001b[0m\u001b[0min_\u001b[0m\u001b[1;33m)\u001b[0m\u001b[1;33m\u001b[0m\u001b[1;33m\u001b[0m\u001b[0m\n",
      "\u001b[1;31mNameError\u001b[0m: name 'minibatch_size' is not defined"
     ]
    }
   ],
   "source": [
    "x_mini = x[0:0 + minibatch_size,:]\n",
    "y_mini = y[0:0 + minibatch_size,:]\n",
    "in_ = x_mini@w + b\n",
    "print(in_)\n",
    "out = LReLU(in_)\n",
    "print(out.shape)"
   ]
  },
  {
   "cell_type": "markdown",
   "metadata": {},
   "source": [
    "Mini-Batch Gradient descent"
   ]
  },
  {
   "cell_type": "code",
   "execution_count": 40,
   "metadata": {},
   "outputs": [
    {
     "name": "stdout",
     "output_type": "stream",
     "text": [
      "Error after training:  1439.4207794013164\n"
     ]
    },
    {
     "data": {
      "image/png": "[encoded data removed]",
      "text/plain": [
       "<Figure size 432x288 with 1 Axes>"
      ]
     },
     "metadata": {
      "needs_background": "light"
     },
     "output_type": "display_data"
    }
   ],
   "source": [
    "minibatch_size = 64\n",
    "\n",
    "#initializing weights\n",
    "np.random.seed(0)\n",
    "w = np.random.uniform(-1,1,[x.shape[1],1])\n",
    "b = np.random.uniform(1)\n",
    "l = 0.05\n",
    "\n",
    "error = []\n",
    "\n",
    "for epoch in range(500):\n",
    "    for i in range(0, x.shape[0], minibatch_size):\n",
    "        x_mini = x[i:i + minibatch_size,:]\n",
    "        y_mini = y[i:i + minibatch_size,:]\n",
    "        \n",
    "         #feed forward\n",
    "        in_ = x_mini@w + b\n",
    "        out = LReLU(in_)\n",
    "\n",
    "        #error\n",
    "        error_train = 0.5*np.power((out-y_mini),2)\n",
    "\n",
    "        #backpropagation\n",
    "        dEdOut = out - y_mini\n",
    "        dOutdIn = dLReLU(in_) \n",
    "        dEdIn = dEdOut*dOutdIn\n",
    "        dIndW = x_mini\n",
    "        dEdW = (1/x_mini.shape[0])*dIndW.T@(dEdIn)\n",
    "        dEdB = (1/x_mini.shape[0])*np.ones([1,len(x_mini)])@(dEdOut*dOutdIn)\n",
    "        w -= l*dEdW\n",
    "        b -= l*dEdB\n",
    "    \n",
    "    if epoch > 10:\n",
    "        error.append(0.5*np.power((LReLU(x@w + b)-y),2).mean())\n",
    "\n",
    "print('Error after training: ',error[len(error)-1])\n",
    "        \n",
    "z=np.arange(len(error))\n",
    "plt.plot(z,error,label=\"train\",color='red')\n",
    "plt.legend(loc='best')\n",
    "plt.show()"
   ]
  },
  {
   "cell_type": "code",
   "execution_count": null,
   "metadata": {},
   "outputs": [],
   "source": []
  }
 ],
 "metadata": {
  "kernelspec": {
   "display_name": "Python 3",
   "language": "python",
   "name": "python3"
  },
  "language_info": {
   "codemirror_mode": {
    "name": "ipython",
    "version": 3
   },
   "file_extension": ".py",
   "mimetype": "text/x-python",
   "name": "python",
   "nbconvert_exporter": "python",
   "pygments_lexer": "ipython3",
   "version": "3.7.3"
  }
 },
 "nbformat": 4,
 "nbformat_minor": 2
}
