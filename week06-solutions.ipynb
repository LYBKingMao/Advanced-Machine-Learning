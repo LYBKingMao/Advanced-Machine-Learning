{
 "cells": [
  {
   "cell_type": "markdown",
   "metadata": {},
   "source": [
    "# Task 1:  Simple NN with Keras\n",
    "\n",
    "**T1.1** In this task you should implement Neural Network Model (classification task) as described in this [tutorial](https://machinelearningmastery.com/tutorial-first-neural-network-python-keras/). This will give you a gentle introduction to the Keras library. Refer to Keras [documentation](https://keras.io/models/model/) to learn more and better understand the code."
   ]
  },
  {
   "cell_type": "code",
   "execution_count": 3,
   "metadata": {},
   "outputs": [
    {
     "name": "stderr",
     "output_type": "stream",
     "text": [
      "Using TensorFlow backend.\n"
     ]
    }
   ],
   "source": [
    "import keras\n",
    "from keras.models import Sequential\n",
    "from keras.layers import Dense\n",
    "\n",
    "import numpy as np\n",
    "from numpy import loadtxt"
   ]
  },
  {
   "cell_type": "code",
   "execution_count": 4,
   "metadata": {},
   "outputs": [
    {
     "name": "stdout",
     "output_type": "stream",
     "text": [
      "(768, 8)\n"
     ]
    }
   ],
   "source": [
    "# load the dataset\n",
    "dataset = loadtxt('pima-indians-diabetes.csv', delimiter=',')\n",
    "# split into input (X) and output (y) variables\n",
    "X = dataset[:,0:8]\n",
    "y = dataset[:,8]\n",
    "print(X.shape)"
   ]
  },
  {
   "cell_type": "code",
   "execution_count": 5,
   "metadata": {},
   "outputs": [],
   "source": [
    "# define the keras model\n",
    "model = Sequential()\n",
    "model.add(Dense(12, input_dim=8, activation='relu'))\n",
    "model.add(Dense(8, activation='relu'))\n",
    "model.add(Dense(1, activation='sigmoid'))"
   ]
  },
  {
   "cell_type": "code",
   "execution_count": 6,
   "metadata": {},
   "outputs": [
    {
     "name": "stdout",
     "output_type": "stream",
     "text": [
      "WARNING:tensorflow:From C:\\Apps\\Anaconda3\\lib\\site-packages\\tensorflow\\python\\ops\\nn_impl.py:180: add_dispatch_support.<locals>.wrapper (from tensorflow.python.ops.array_ops) is deprecated and will be removed in a future version.\n",
      "Instructions for updating:\n",
      "Use tf.where in 2.0, which has the same broadcast rule as np.where\n"
     ]
    }
   ],
   "source": [
    "# compile the keras model\n",
    "model.compile(loss='binary_crossentropy', optimizer='adam', metrics=['accuracy'])"
   ]
  },
  {
   "cell_type": "code",
   "execution_count": 7,
   "metadata": {},
   "outputs": [
    {
     "name": "stdout",
     "output_type": "stream",
     "text": [
      "WARNING:tensorflow:From C:\\Apps\\Anaconda3\\lib\\site-packages\\keras\\backend\\tensorflow_backend.py:422: The name tf.global_variables is deprecated. Please use tf.compat.v1.global_variables instead.\n",
      "\n"
     ]
    },
    {
     "data": {
      "text/plain": [
       "<keras.callbacks.callbacks.History at 0x1e65eed6cc0>"
      ]
     },
     "execution_count": 7,
     "metadata": {},
     "output_type": "execute_result"
    }
   ],
   "source": [
    "# fit the keras model on the dataset\n",
    "model.fit(X, y, epochs=150, batch_size=10, verbose=0)"
   ]
  },
  {
   "cell_type": "code",
   "execution_count": 8,
   "metadata": {},
   "outputs": [
    {
     "name": "stdout",
     "output_type": "stream",
     "text": [
      "768/768 [==============================] - 0s 66us/step\n",
      "Accuracy: 76.56\n"
     ]
    }
   ],
   "source": [
    "# evaluate the keras model\n",
    "_, accuracy = model.evaluate(X, y)\n",
    "print('Accuracy: %.2f' % (accuracy*100))"
   ]
  },
  {
   "cell_type": "markdown",
   "metadata": {},
   "source": [
    "***\n",
    "**T1.2** Method **fit** from the Model API returns a History object ([read more in the documentation](https://keras.io/visualization/)), which keeps records of training loss values and metrics values at each epoch. "
   ]
  },
  {
   "cell_type": "code",
   "execution_count": 9,
   "metadata": {},
   "outputs": [],
   "source": [
    "model = Sequential()\n",
    "model.add(Dense(12, input_dim=8, activation='relu'))\n",
    "model.add(Dense(8, activation='relu'))\n",
    "model.add(Dense(1, activation='sigmoid'))\n",
    "model.compile(loss='binary_crossentropy', optimizer='adam', metrics=['accuracy'])\n",
    "\n",
    "history = model.fit(X, y, epochs=150, batch_size=10, verbose=0)"
   ]
  },
  {
   "cell_type": "code",
   "execution_count": 10,
   "metadata": {},
   "outputs": [
    {
     "name": "stdout",
     "output_type": "stream",
     "text": [
      "dict_keys(['loss', 'accuracy'])\n"
     ]
    }
   ],
   "source": [
    "print(history.history.keys())"
   ]
  },
  {
   "cell_type": "markdown",
   "metadata": {},
   "source": [
    "You can use the returned object to visualize how your model trains over epochs:  "
   ]
  },
  {
   "cell_type": "code",
   "execution_count": 11,
   "metadata": {},
   "outputs": [],
   "source": [
    "import matplotlib.pyplot as plt"
   ]
  },
  {
   "cell_type": "code",
   "execution_count": 12,
   "metadata": {},
   "outputs": [
    {
     "data": {
      "image/png": "[encoded data removed]",
      "text/plain": [
       "<Figure size 432x288 with 1 Axes>"
      ]
     },
     "metadata": {
      "needs_background": "light"
     },
     "output_type": "display_data"
    }
   ],
   "source": [
    "# \"Loss\"\n",
    "plt.plot(history.history['loss'])\n",
    "plt.title('model loss')\n",
    "plt.ylabel('loss')\n",
    "plt.xlabel('epoch')\n",
    "plt.legend(['train'], loc='upper left')\n",
    "plt.show()"
   ]
  },
  {
   "cell_type": "markdown",
   "metadata": {},
   "source": [
    "In the fit method you can also specify a fraction of the training data to be used for validation. The validation data will not be used for training the model, it will be used to evaluate the loss and any model metric at the end of each epoch. See the example below. You can also pass validation data as an argument of the fit method. Please refer to the documentation for more details."
   ]
  },
  {
   "cell_type": "markdown",
   "metadata": {},
   "source": [
    "In order to get rid of the randomness in your code you need to set the Numpy seed and Tensorflow seed. This can be done as follows."
   ]
  },
  {
   "cell_type": "code",
   "execution_count": 13,
   "metadata": {},
   "outputs": [],
   "source": [
    "from numpy.random import seed\n",
    "from tensorflow import set_random_seed"
   ]
  },
  {
   "cell_type": "code",
   "execution_count": 14,
   "metadata": {},
   "outputs": [],
   "source": [
    "seed(0)\n",
    "set_random_seed(0)\n",
    "\n",
    "model = Sequential()\n",
    "model.add(Dense(12, input_dim=8, activation='relu'))\n",
    "model.add(Dense(8, activation='relu'))\n",
    "model.add(Dense(1, activation='sigmoid'))\n",
    "model.compile(loss='binary_crossentropy', optimizer='adam', metrics=['accuracy'])\n",
    "history = model.fit(X, y, epochs=150, batch_size=10, validation_split = 0.1, verbose = 0)"
   ]
  },
  {
   "cell_type": "code",
   "execution_count": 18,
   "metadata": {},
   "outputs": [
    {
     "data": {
      "image/png": "[encoded data removed]",
      "text/plain": [
       "<Figure size 432x288 with 1 Axes>"
      ]
     },
     "metadata": {
      "needs_background": "light"
     },
     "output_type": "display_data"
    }
   ],
   "source": [
    "plt.plot(history.history['loss'])\n",
    "plt.plot(history.history['val_loss'])\n",
    "plt.title('model loss')\n",
    "plt.ylabel('loss')\n",
    "plt.xlabel('epoch')\n",
    "plt.legend(['train', 'validation'], loc='upper left')\n",
    "plt.show()"
   ]
  },
  {
   "cell_type": "markdown",
   "metadata": {},
   "source": [
    "# Task 2\n",
    "\n",
    "In this task you should change the code so that the model is evaluated with 5 cross validation using KFold as in previous practicals. Report the final accuracy (mean accuracy obtain on testing dataset across all the folds)."
   ]
  },
  {
   "cell_type": "code",
   "execution_count": 19,
   "metadata": {},
   "outputs": [],
   "source": [
    "# define the keras model\n",
    "def getModel1():\n",
    "    model = Sequential()\n",
    "    model.add(Dense(12, input_dim=8, activation='relu'))\n",
    "    model.add(Dense(8, activation='relu'))\n",
    "    model.add(Dense(1, activation='sigmoid'))\n",
    "    model.compile(loss='binary_crossentropy', optimizer='adam', metrics=['accuracy'])\n",
    "    return model"
   ]
  },
  {
   "cell_type": "code",
   "execution_count": 20,
   "metadata": {
    "scrolled": true
   },
   "outputs": [
    {
     "name": "stdout",
     "output_type": "stream",
     "text": [
      "154/154 [==============================] - 0s 572us/step\n",
      "154/154 [==============================] - 0s 553us/step\n",
      "154/154 [==============================] - 0s 602us/step\n",
      "153/153 [==============================] - 0s 737us/step\n",
      "153/153 [==============================] - 0s 710us/step\n",
      "Mean accuracy:  0.6863254427909851\n"
     ]
    }
   ],
   "source": [
    "# cross validation\n",
    "from sklearn.model_selection import KFold\n",
    "import statistics\n",
    "kf = KFold(n_splits=5)\n",
    "acc = []\n",
    "for train, test in kf.split(X):\n",
    "    model = getModel1()\n",
    "    model.fit(X[train], y[train], epochs=150, batch_size=10, verbose=0)\n",
    "    _,accuracy = model.evaluate(X[test], y[test])\n",
    "    acc.append(accuracy)\n",
    "mean_acc = sum(acc)/len(acc)\n",
    "print('Mean accuracy: ',mean_acc)"
   ]
  },
  {
   "cell_type": "markdown",
   "metadata": {},
   "source": [
    "***\n",
    "**Calculating F1:** Keras does not have builded in the F1 metric. However, we can use sklearn.metrics to calculate it. In order to do this, you have to obtain the predictions of you NN calling method predict. You will have to convert the predictions into class labels. You can either use np.wehere for binary classification, or np.argmax for multi-class classification problem. Finally, you can use [f1_score](https://scikit-learn.org/stable/modules/generated/sklearn.metrics.f1_score.html) to calculate the F1 for the predictions of your model. "
   ]
  },
  {
   "cell_type": "code",
   "execution_count": 21,
   "metadata": {},
   "outputs": [
    {
     "name": "stdout",
     "output_type": "stream",
     "text": [
      "Macro F1:  0.6683028878085537\n"
     ]
    }
   ],
   "source": [
    "from sklearn.metrics import f1_score, precision_score, recall_score, confusion_matrix\n",
    "\n",
    "kf = KFold(n_splits=5)\n",
    "f1 = []\n",
    "for train, test in kf.split(X):\n",
    "    model = getModel1()\n",
    "    model.fit(X[train], y[train], epochs=150, batch_size=10, verbose=0)\n",
    "    predictions = model.predict(X[test])\n",
    "    y_pred = np.where(predictions>0.5,1,0)\n",
    "    f1.append(f1_score(y[test], y_pred , average=\"macro\"))\n",
    "print('Macro F1: ',sum(f1)/len(f1))"
   ]
  },
  {
   "cell_type": "markdown",
   "metadata": {},
   "source": [
    "# Task 3"
   ]
  },
  {
   "cell_type": "markdown",
   "metadata": {},
   "source": [
    "Modify the NN model to see how this affect its performance. Here are some modifications, which could be done:\n",
    "\n",
    "- Change the batch size to be 10% of the train set size\n",
    "- Increase number of epochs\n",
    "- Try different [activation functions](https://keras.io/activations/)\n",
    "- Change number of neurons in the output and hidden layers\n",
    "- Add additional hidden layers\n",
    "- Try different [parameters initializers](https://keras.io/initializers/) \n",
    "\n",
    "What is the best accuracy you can get? Can you observe some interesting patterns? "
   ]
  },
  {
   "cell_type": "code",
   "execution_count": 35,
   "metadata": {},
   "outputs": [],
   "source": [
    "# define the keras model\n",
    "def getModel2():\n",
    "    seed(0)\n",
    "    set_random_seed(0)\n",
    "    model = Sequential()\n",
    "    model.add(Dense(20, input_dim=8, kernel_initializer='random_uniform',activation=keras.layers.LeakyReLU(alpha=0.1)))\n",
    "    model.add(Dense(15, kernel_initializer='random_uniform',activation=keras.layers.LeakyReLU(alpha=0.1)))\n",
    "    model.add(Dense(10, activation=keras.layers.LeakyReLU(alpha=0.1)))\n",
    "    model.add(Dense(1, activation='sigmoid'))\n",
    "    model.compile(loss='binary_crossentropy', optimizer='adam', metrics=['accuracy'])\n",
    "    return model"
   ]
  },
  {
   "cell_type": "code",
   "execution_count": 37,
   "metadata": {},
   "outputs": [
    {
     "name": "stdout",
     "output_type": "stream",
     "text": [
      "154/154 [==============================] - 0s 2ms/step\n",
      "154/154 [==============================] - 0s 2ms/step\n",
      "154/154 [==============================] - 0s 2ms/step\n",
      "153/153 [==============================] - 0s 2ms/step\n",
      "153/153 [==============================] - 0s 2ms/step\n",
      "Mean accuracy:  0.7383668661117554\n"
     ]
    },
    {
     "data": {
      "text/plain": [
       "7526525855"
      ]
     },
     "execution_count": 37,
     "metadata": {},
     "output_type": "execute_result"
    }
   ],
   "source": [
    "# cross validation\n",
    "from sklearn.model_selection import KFold\n",
    "import statistics\n",
    "\n",
    "kf = KFold(n_splits=5)\n",
    "acc = []\n",
    "for train, test in kf.split(X):\n",
    "    model = getModel2()\n",
    "    model.fit(X[train], y[train], epochs=150, batch_size=int(0.1*len(train)), verbose=0)\n",
    "    _, accuracy = model.evaluate(X[test], y[test])\n",
    "    acc.append(accuracy)\n",
    "mean_acc = sum(acc)/len(acc)\n",
    "print('Mean accuracy: ',mean_acc)\n",
    "7526525855"
   ]
  },
  {
   "cell_type": "markdown",
   "metadata": {},
   "source": [
    "# Task 4\n",
    "\n",
    "Re-implement the code so that it can be applied to solve a regression problem. Use Boston Housing dataset, which can be obtained from sklearn.datasets. Construct a NN model with architecture of your choice and evaluate it using cross validation."
   ]
  },
  {
   "cell_type": "code",
   "execution_count": 48,
   "metadata": {},
   "outputs": [],
   "source": [
    "from sklearn.datasets import load_boston\n",
    "\n",
    "X, y = load_boston(return_X_y=True)"
   ]
  },
  {
   "cell_type": "code",
   "execution_count": 51,
   "metadata": {},
   "outputs": [],
   "source": [
    "def getModel3():\n",
    "    model = Sequential()\n",
    "    model.add(Dense(20, input_dim=X.shape[1], activation='relu'))\n",
    "    model.add(Dense(1, activation = 'linear'))\n",
    "    model.compile(loss='mean_squared_error', optimizer='adam', metrics=['mse','mae'])\n",
    "    return model"
   ]
  },
  {
   "cell_type": "code",
   "execution_count": 53,
   "metadata": {},
   "outputs": [
    {
     "name": "stdout",
     "output_type": "stream",
     "text": [
      "102/102 [==============================] - 1s 9ms/step\n",
      "101/101 [==============================] - 1s 11ms/step\n",
      "101/101 [==============================] - 1s 9ms/step\n",
      "101/101 [==============================] - 1s 9ms/step\n",
      "101/101 [==============================] - 1s 12ms/step\n",
      "MSE:  70.93842374616122\n",
      "MAE:  5.953202302181427\n"
     ]
    }
   ],
   "source": [
    "seed(0)\n",
    "set_random_seed(0)\n",
    "\n",
    "kf = KFold(n_splits=5)\n",
    "mse = []\n",
    "mae = []\n",
    "\n",
    "for train, test in kf.split(X):\n",
    "    model = getModel3()\n",
    "    model.fit(X[train], y[train], epochs=300, batch_size=int(0.1*len(train)), verbose=0)\n",
    "    _,e1,e2 = model.evaluate(X[test], y[test])\n",
    "    mse.append(e1)\n",
    "    mae.append(e2)\n",
    "#mean_acc = sum(acc)/len(acc)\n",
    "print('MSE: ',sum(mse)/len(mse))\n",
    "print('MAE: ',sum(mae)/len(mae))"
   ]
  },
  {
   "cell_type": "code",
   "execution_count": null,
   "metadata": {},
   "outputs": [],
   "source": []
  }
 ],
 "metadata": {
  "kernelspec": {
   "display_name": "Python 3",
   "language": "python",
   "name": "python3"
  },
  "language_info": {
   "codemirror_mode": {
    "name": "ipython",
    "version": 3
   },
   "file_extension": ".py",
   "mimetype": "text/x-python",
   "name": "python",
   "nbconvert_exporter": "python",
   "pygments_lexer": "ipython3",
   "version": "3.7.6"
  }
 },
 "nbformat": 4,
 "nbformat_minor": 2
}
