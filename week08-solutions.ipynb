{
 "cells": [
  {
   "cell_type": "markdown",
   "metadata": {},
   "source": [
    "In this Practical you will implement different architectures of neural networks for solving the sentiment analysis task. Last week you applied Multilayer Perceptron with average embedding vectors passed as input to perform the same task. This time you will used the Embedding layer available in Keras. Instead of a single (averaged) embedding vector, the model will take a sequence of embeddings as input. You will explore the following network architectures:\n",
    "1. Multilayer Perceptron with the Embedding layer, which allows to learn an embedding for each word in the training set along with the neural network learning process.\n",
    "2. Multilayer Perceptron with the Embedding layer and custom pre-trained word embeddings.\n",
    "3. Convolutional Neural Network with the pre-trained word embeddings."
   ]
  },
  {
   "cell_type": "markdown",
   "metadata": {},
   "source": [
    "# Task 1: MLP with Embedding Layer"
   ]
  },
  {
   "cell_type": "markdown",
   "metadata": {},
   "source": [
    "**T.1** Load the yelp reviews dataset. Split it into input/output and train/test sets."
   ]
  },
  {
   "cell_type": "code",
   "execution_count": 5,
   "metadata": {},
   "outputs": [],
   "source": [
    "import pandas as pd\n",
    "from sklearn.model_selection import train_test_split"
   ]
  },
  {
   "cell_type": "code",
   "execution_count": 6,
   "metadata": {},
   "outputs": [],
   "source": [
    "df = pd.read_csv('yelp_reviews.csv',encoding = \"ISO-8859-1\")\n",
    "\n",
    "#select input and output variables\n",
    "data = df.values[:,0]\n",
    "labels = df.values[:,1]\n",
    "\n",
    "x_train, x_test, y_train, y_test = train_test_split(data, labels,test_size=0.3, random_state=0)"
   ]
  },
  {
   "cell_type": "code",
   "execution_count": 7,
   "metadata": {},
   "outputs": [
    {
     "name": "stdout",
     "output_type": "stream",
     "text": [
      "['Crust is not good.' 'Not tasty and the texture was just nasty.'\n",
      " 'Stopped by during the late May bank holiday off Rick Steve recommendation and loved it.'\n",
      " 'The selection on the menu was great and so were the prices.'\n",
      " 'Now I am getting angry and I want my damn pho.'\n",
      " \"Honeslty it didn't taste THAT fresh.)\"\n",
      " 'The potatoes were like rubber and you could tell they had been made up ahead of time being kept under a warmer.'\n",
      " 'The fries were great too.' 'A great touch.' 'Service was very prompt.'\n",
      " 'Would not go back.'\n",
      " 'The cashier had no care what so ever on what I had to say it still ended up being wayyy overpriced.'\n",
      " 'I tried the Cape Cod ravoli, chicken,with cranberry...mmmm!'\n",
      " 'I was disgusted because I was pretty sure that was human hair.'\n",
      " 'I was shocked because no signs indicate cash only.'\n",
      " 'Highly recommended.' 'Waitress was a little slow in service.'\n",
      " 'This place is not worth your time, let alone Vegas.'\n",
      " 'did not like at all.' 'The Burrittos Blah!' 'The food, amazing.'\n",
      " 'Service is also cute.'\n",
      " 'I could care less... The interior is just beautiful.'\n",
      " 'So they performed.'\n",
      " \"That's right....the red velvet cake.....ohhh this stuff is so good.\"\n",
      " 'This hole in the wall has great Mexican street tacos, and friendly staff.'\n",
      " 'Took an hour to get our food only 4 tables in restaurant my food was Luke warm, Our sever was running around like he was totally overwhelmed.'\n",
      " 'The worst was the salmon sashimi.'\n",
      " 'Also there are combos like a burger, fries, and beer for 23 which is a decent deal.'\n",
      " 'This was like the final blow!'\n",
      " 'I found this place by accident and I could not be happier.'\n",
      " 'seems like a good quick place to grab a bite of some familiar pub food, but do yourself a favor and look elsewhere.'\n",
      " 'Overall, I like this place a lot.'\n",
      " 'The only redeeming quality of the restaurant was that it was very inexpensive.'\n",
      " 'Ample portions and good prices.'\n",
      " 'Poor service, the waiter made me feel like I was stupid every time he came to the table.'\n",
      " 'My first visit to Hiro was a delight!' 'Service sucks.'\n",
      " 'The shrimp tender and moist.'\n",
      " 'There is not a deal good enough that would drag me into that establishment again.'\n",
      " \"Hard to judge whether these sides were good because we were grossed out by the melted styrofoam and didn't want to eat it for fear of getting sick.\"\n",
      " 'On a positive note, our server was very attentive and provided great service.'\n",
      " 'Frozen pucks of disgust, with some of the worst people behind the register.'\n",
      " 'The only thing I did like was the prime rib and dessert section.'\n",
      " \"It's too bad the food is so damn generic.\"\n",
      " 'The burger is good beef, cooked just right.'\n",
      " 'If you want a sandwich just go to any Firehouse!!!!!'\n",
      " 'My side Greek salad with the Greek dressing was so tasty, and the pita and hummus was very refreshing.'\n",
      " 'We ordered the duck rare and it was pink and tender on the inside with a nice char on the outside.'\n",
      " 'He came running after us when he realized my husband had left his sunglasses on the table.'\n",
      " 'Their chow mein is so good!'\n",
      " \"They have horrible attitudes towards customers, and talk down to each one when customers don't enjoy their food.\"\n",
      " 'The portion was huge!'\n",
      " 'Loved it...friendly servers, great food, wonderful and imaginative menu.'\n",
      " 'The Heart Attack Grill in downtown Vegas is an absolutely flat-lined excuse for a restaurant.'\n",
      " 'Not much seafood and like 5 strings of pasta at the bottom.'\n",
      " 'The salad had just the right amount of sauce to not over power the scallop, which was perfectly cooked.'\n",
      " 'The ripped banana was not only ripped, but petrified and tasteless.'\n",
      " 'At least think to refill my water before I struggle to wave you over for 10 minutes.'\n",
      " 'This place receives stars for their APPETIZERS!!!'\n",
      " 'The cocktails are all handmade and delicious.'\n",
      " \"We'd definitely go back here again.\"\n",
      " 'We are so glad we found this place.'\n",
      " 'Great food and service, huge portions and they give a military discount.'\n",
      " 'Always a great time at Dos Gringos!'\n",
      " 'Update.....went back for a second time and it was still just as amazing'\n",
      " 'We got the food and apparently they have never heard of salt and the batter on the fish was chewy.'\n",
      " 'A great way to finish a great.'\n",
      " 'The deal included 5 tastings and 2 drinks, and Jeff went above and beyond what we expected.'\n",
      " 'The service was meh.'\n",
      " 'It took over 30 min to get their milkshake, which was nothing more than chocolate milk.'\n",
      " \"I guess I should have known that this place would suck, because it is inside of the Excalibur, but I didn't use my common sense.\"\n",
      " 'The scallop dish is quite appalling for value as well.'\n",
      " '2 times - Very Bad Customer Service !'\n",
      " 'The sweet potato fries were very good and seasoned well.'\n",
      " \"Today is the second time I've been to their lunch buffet and it was pretty good.\"\n",
      " 'There is so much good food in Vegas that I feel cheated for wasting an eating opportunity by going to Rice and Company.'\n",
      " \"Coming here is like experiencing an underwhelming relationship where both parties can't wait for the other person to ask to break up.\"\n",
      " 'walked in and the place smelled like an old grease trap and only 2 others there eating.'\n",
      " 'The turkey and roast beef were bland.' 'This place has it!'\n",
      " 'The pan cakes everyone are raving about taste like a sugary disaster tailored to the palate of a six year old.'\n",
      " 'I love the Pho and the spring rolls oh so yummy you have to try.'\n",
      " 'The poor batter to meat ratio made the chicken tenders very unsatisfying.'\n",
      " 'All I have to say is the food was amazing!!!' 'Omelets are to die for!'\n",
      " 'Everything was fresh and delicious!'\n",
      " 'In summary, this was a largely disappointing dining experience.'\n",
      " \"It's like a really sexy party in your mouth, where you're outrageously flirting with the hottest person at the party.\"\n",
      " 'Never been to Hard Rock Casino before, WILL NEVER EVER STEP FORWARD IN IT AGAIN!'\n",
      " 'Best breakfast buffet!!!' 'say bye bye to your tip lady!'\n",
      " \"We'll never go again.\" 'Will be back again!' 'Food arrived quickly!'\n",
      " 'It was not good.' 'On the up side, their cafe serves really good food.'\n",
      " 'Our server was fantastic and when he found out the wife loves roasted garlic and bone marrow, he added extra to our meal and another marrow to go!'\n",
      " \"The only good thing was our waiter, he was very helpful and kept the bloddy mary's coming.\"\n",
      " 'Best Buffet in town, for the price you cannot beat it.'\n",
      " 'I LOVED their mussels cooked in this wine reduction, the duck was tender, and their potato dishes were delicious.'\n",
      " 'This is one of the better buffets that I have been to.'\n",
      " 'So we went to Tigerlilly and had a fantastic afternoon!'\n",
      " 'The food was delicious, our bartender was attentive and personable AND we got a great deal!'\n",
      " 'The ambience is wonderful and there is music playing.'\n",
      " 'Will go back next trip out.' 'Sooooo good!!'\n",
      " \"REAL sushi lovers, let's be honest - Yama is not that good.\"\n",
      " \"At least 40min passed in between us ordering and the food arriving, and it wasn't that busy.\"\n",
      " 'This is a really fantastic Thai restaurant which is definitely worth a visit.'\n",
      " 'Nice, spicy and tender.' 'Good prices.' 'Check it out.'\n",
      " 'It was pretty gross!' \"I've had better atmosphere.\"\n",
      " 'Kind of hard to mess up a steak but they did.'\n",
      " 'Although I very much liked the look and sound of this place, the actual experience was a bit disappointing.'\n",
      " \"I just don't know how this place managed to served the blandest food I have ever eaten when they are preparing Indian cuisine.\"\n",
      " 'Worst service to boot, but that is the least of their worries.'\n",
      " 'Service was fine and the waitress was friendly.'\n",
      " \"The guys all had steaks, and our steak loving son who has had steak at the best and worst places said it was the best steak he's ever eaten.\"\n",
      " \"We thought you'd have to venture further away to get good sushi, but this place really hit the spot that night.\"\n",
      " 'Host staff were, for lack of a better word, BITCHES!'\n",
      " \"Bland... Not a liking this place for a number of reasons and I don't want to waste time on bad reviewing.. I'll leave it at that...\"\n",
      " 'Phenomenal food, service and ambiance.' \"I wouldn't return.\"\n",
      " \"Definitely worth venturing off the strip for the pork belly, will return next time I'm in Vegas.\"\n",
      " 'This place is way too overpriced for mediocre food.'\n",
      " 'Penne vodka excellent!'\n",
      " 'They have a good selection of food including a massive meatloaf sandwich, a crispy chicken wrap, a delish tuna melt and some tasty burgers.'\n",
      " 'The management is rude.'\n",
      " 'Delicious NYC bagels, good selections of cream cheese, real Lox with capers even.'\n",
      " \"Great Subway, in fact it's so good when you come here every other Subway will not meet your expectations.\"\n",
      " 'I had a seriously solid breakfast here.'\n",
      " 'This is one of the best bars with food in Vegas.'\n",
      " 'He was extremely rude and really, there are so many other restaurants I would love to dine at during a weekend in Vegas.'\n",
      " 'My drink was never empty and he made some really great menu suggestions.'\n",
      " \"Don't do it!!!!\"\n",
      " \"The waiter wasn't helpful or friendly and rarely checked on us.\"\n",
      " 'My husband and I ate lunch here and were very disappointed with the food and service.'\n",
      " \"And the red curry had so much bamboo shoots and wasn't very tasty to me.\"\n",
      " 'Nice blanket of moz over top but i feel like this was done to cover up the subpar food.'\n",
      " 'The bathrooms are clean and the place itself is well decorated.'\n",
      " 'The menu is always changing, food quality is going down & service is extremely slow.'\n",
      " 'The service was a little slow , considering that were served by 3 people servers so the food was coming in a slow pace.'\n",
      " 'I give it 2 thumbs down'\n",
      " 'We watched our waiter pay a lot more attention to other tables and ignore us.'\n",
      " 'My fiancé and I came in the middle of the day and we were greeted and seated right away.'\n",
      " 'This is a great restaurant at the Mandalay Bay.'\n",
      " 'We waited for forty five minutes in vain.'\n",
      " 'Crostini that came with the salad was stale.'\n",
      " 'Some highlights : Great quality nigiri here!'\n",
      " 'the staff is friendly and the joint is always clean.'\n",
      " 'this was a different cut than the piece the other day but still wonderful and tender s well as well flavored.'\n",
      " \"I ordered the Voodoo pasta and it was the first time I'd had really excellent pasta since going gluten free several years ago.\"\n",
      " 'this place is good.'\n",
      " 'Unfortunately, we must have hit the bakery on leftover day because everything we ordered was STALE.'\n",
      " 'I came back today since they relocated and still not impressed.'\n",
      " 'I was seated immediately.'\n",
      " 'Their menu is diverse, and reasonably priced.' 'Avoid at all cost!'\n",
      " 'Restaurant is always full but never a wait.' 'DELICIOUS!!'\n",
      " 'This place is hands-down one of the best places to eat in the Phoenix metro area.'\n",
      " \"So don't go there if you are looking for good food...\"\n",
      " \"I've never been treated so bad.\" 'Bacon is hella salty.'\n",
      " 'We also ordered the spinach and avocado salad; the ingredients were sad and the dressing literally had zero taste.'\n",
      " 'This really is how Vegas fine dining used to be, right down to the menus handed to the ladies that have no prices listed.'\n",
      " 'The waitresses are very friendly.'\n",
      " 'Lordy, the Khao Soi is a dish that is not to be missed for curry lovers!'\n",
      " 'Everything on the menu is terrific and we were also thrilled that they made amazing accommodations for our vegetarian daughter.'\n",
      " \"Perhaps I caught them on an off night judging by the other reviews, but I'm not inspired to go back.\"\n",
      " 'The service here leaves a lot to be desired.'\n",
      " 'The atmosphere is modern and hip, while maintaining a touch of coziness.'\n",
      " 'Not a weekly haunt, but definitely a place to come back to every once in a while.'\n",
      " 'We literally sat there for 20 minutes with no one asking to take our order.'\n",
      " 'The burger had absolutely no flavor - the meat itself was totally bland, the burger was overcooked and there was no charcoal flavor.'\n",
      " 'I also decided not to send it back because our waitress looked like she was on the verge of having a heart attack.'\n",
      " 'I dressed up to be treated so rudely!' 'It was probably dirt.'\n",
      " 'Love this place, hits the spot when I want something healthy but not lacking in quantity or flavor.'\n",
      " 'I ordered the Lemon raspberry ice cocktail which was also incredible.'\n",
      " 'The food sucked, which we expected but it sucked more than we could have imagined.'\n",
      " 'Interesting decor.' 'What I really like there is the crepe station.'\n",
      " 'Also were served hot bread and butter, and home made potato chips with bacon bits on top....very original and very good.'\n",
      " 'you can watch them preparing the delicious food!)'\n",
      " 'Both of the egg rolls were fantastic.'\n",
      " 'When my order arrived, one of the gyros was missing.'\n",
      " 'I had a salad with the wings, and some ice cream for dessert and left feeling quite satisfied.'\n",
      " \"I'm not really sure how Joey's was voted best hot dog in the Valley by readers of Phoenix Magazine.\"\n",
      " 'The best place to go for a tasty bowl of Pho!'\n",
      " 'The live music on Fridays totally blows.'\n",
      " \"I've never been more insulted or felt disrespected.\"\n",
      " 'Very friendly staff.' 'It is worth the drive.'\n",
      " 'I had heard good things about this place, but it exceeding every hope I could have dreamed of.'\n",
      " 'Food was great and so was the serivce!' \"The warm beer didn't help.\"\n",
      " 'Great brunch spot.' 'Service is friendly and inviting.'\n",
      " 'Very good lunch spot.'\n",
      " \"I've lived here since 1979 and this was the first (and last) time I've stepped foot into this place.\"\n",
      " 'The WORST EXPERIENCE EVER.' 'Must have been an off night at this place.'\n",
      " 'The sides are delish - mixed mushrooms, yukon gold puree, white corn - beateous.'\n",
      " 'If that bug never showed up I would have given a 4 for sure, but on the other side of the wall where this bug was climbing was the kitchen.'\n",
      " \"For about 10 minutes, we we're waiting for her salad when we realized that it wasn't coming any time soon.\"\n",
      " 'My friend loved the salmon tartar.' \"Won't go back.\" 'Extremely Tasty!'\n",
      " 'Waitress was good though!' 'Soggy and not good.'\n",
      " 'The Jamaican mojitos are delicious.'\n",
      " 'Which are small and not worth the price.'\n",
      " \"The shower area is outside so you can only rinse, not take a full shower, unless you don't mind being nude for everyone to see!\"\n",
      " 'The service was a bit lacking.'\n",
      " 'Lobster Bisque, Bussell Sprouts, Risotto, Filet ALL needed salt and pepper..and of course there is none at the tables.'\n",
      " 'Hopefully this bodes for them going out of business and someone who can cook can come in.'\n",
      " 'It was either too cold, not enough flavor or just bad.'\n",
      " 'I loved the bacon wrapped dates.' 'This is an unbelievable BARGAIN!'\n",
      " 'The folks at Otto always make us feel so welcome and special.'\n",
      " 'As for the \"mains,\" also uninspired.'\n",
      " 'This is the place where I first had pho and it was amazing!!'\n",
      " 'This wonderful experience made this place a must-stop whenever we are in town again.'\n",
      " \"If the food isn't bad enough for you, then enjoy dealing with the world's worst/annoying drunk people.\"\n",
      " 'Very very fun chef.'\n",
      " 'Ordered a double cheeseburger & got a single patty that was falling apart (picture uploaded) Yeah, still sucks.'\n",
      " \"Great place to have a couple drinks and watch any and all sporting events as the walls are covered with TV's.\"\n",
      " \"If it were possible to give them zero stars, they'd have it.\"\n",
      " 'The descriptions said \"yum yum sauce\" and another said \"eel sauce\", yet another said \"spicy mayo\"...well NONE of the rolls had sauces on them.'\n",
      " \"I'd say that would be the hardest decision... Honestly, all of M's dishes taste how they are supposed to taste (amazing).\"\n",
      " 'If she had not rolled the eyes we may have stayed... Not sure if we will go back and try it again.'\n",
      " 'Everyone is very attentive, providing excellent customer service.'\n",
      " \"Horrible - don't waste your time and money.\"\n",
      " 'Now this dish was quite flavourful.'\n",
      " 'By this time our side of the restaurant was almost empty so there was no excuse.'\n",
      " \"(It wasn't busy either) Also, the building was FREEZING cold.\"\n",
      " 'like the other reviewer said \"you couldn\\'t pay me to eat at this place again.\"'\n",
      " '-Drinks took close to 30 minutes to come out at one point.'\n",
      " 'Seriously flavorful delights, folks.'\n",
      " 'Much better than the other AYCE sushi place I went to in Vegas.'\n",
      " 'The lighting is just dark enough to set the mood.'\n",
      " \"Based on the sub-par service I received and no effort to show their gratitude for my business I won't be going back.\"\n",
      " \"Owner's are really great people.!\"\n",
      " 'There is nothing privileged about working/eating there.'\n",
      " 'The Greek dressing was very creamy and flavorful.'\n",
      " \"Overall, I don't think that I would take my parents to this place again because they made most of the similar complaints that I silently felt too.\"\n",
      " 'Now the pizza itself was good the peanut sauce was very tasty.'\n",
      " 'We had 7 at our table and the service was pretty fast.'\n",
      " 'Fantastic service here.'\n",
      " \"I as well would've given godfathers zero stars if possible.\"\n",
      " 'They know how to make them here.' 'very tough and very short on flavor!'\n",
      " 'I hope this place sticks around.'\n",
      " 'I have been in more than a few bars in Vegas, and do not ever recall being charged for tap water.'\n",
      " 'The restaurant atmosphere was exquisite.'\n",
      " 'Good service, very clean, and inexpensive, to boot!'\n",
      " 'The seafood was fresh and generous in portion.'\n",
      " \"Plus, it's only 8 bucks.\" 'The service was not up to par, either.'\n",
      " 'Thus far, have only visited twice and the food was absolutely delicious each time.'\n",
      " 'Just as good as when I had it more than a year ago!'\n",
      " 'For a self proclaimed coffee cafe, I was wildly disappointed.'\n",
      " 'The Veggitarian platter is out of this world!'\n",
      " 'You cant go wrong with any of the food here.' \"You can't beat that.\"\n",
      " 'Stopped by this place while in Madison for the Ironman, very friendly, kind staff.'\n",
      " 'The chefs were friendly and did a good job.'\n",
      " \"I've had better, not only from dedicated boba tea spots, but even from Jenni Pho.\"\n",
      " 'I liked the patio and the service was outstanding.'\n",
      " \"The goat taco didn't skimp on the meat and wow what FLAVOR!\"\n",
      " 'I think not again'\n",
      " 'I had the mac salad and it was pretty bland so I will not be getting that again.'\n",
      " \"I went to Bachi Burger on a friend's recommendation and was not disappointed.\"\n",
      " 'Service stinks here!' 'I waited and waited.'\n",
      " 'This place is not quality sushi, it is not a quality restaurant.'\n",
      " 'I would definitely recommend the wings as well as the pizza.'\n",
      " 'Great Pizza and Salads!'\n",
      " 'Things that went wrong: - They burned the saganaki.'\n",
      " 'We waited an hour for what was a breakfast I could have done 100 times better at home.'\n",
      " 'This place is amazing!'\n",
      " 'I hate to disagree with my fellow Yelpers, but my husband and I were so disappointed with this place.'\n",
      " 'Waited 2 hours & never got either of our pizzas as many other around us who came in later did!'\n",
      " \"Just don't know why they were so slow.\"\n",
      " 'The staff is great, the food is delish, and they have an incredible beer selection.'\n",
      " \"I live in the neighborhood so I am disappointed I won't be back here, because it is a convenient location.\"\n",
      " \"I didn't know pulled pork could be soooo delicious.\"\n",
      " 'You get incredibly fresh fish, prepared with care.'\n",
      " 'Before I go in to why I gave a 1 star rating please know that this was my third time eating at Bachi burger before writing a review.'\n",
      " 'I love the fact that everything on their menu is worth it.'\n",
      " 'Never again will I be dining at this place!'\n",
      " 'The food was excellent and service was very good.'\n",
      " 'Good beer & drink selection and good food selection.'\n",
      " 'Please stay away from the shrimp stir fried noodles.'\n",
      " 'The potato chip order was sad... I could probably count how many chips were in that box and it was probably around 12.'\n",
      " 'Food was really boring.' 'Good Service-check!'\n",
      " 'This greedy corporation will NEVER see another dime from me!'\n",
      " 'Will never, ever go back.'\n",
      " \"As much as I'd like to go back, I can't get passed the atrocious service and will never return.\"\n",
      " 'In the summer, you can dine in a charming outdoor patio - so very delightful.'\n",
      " 'I did not expect this to be so good!' 'Fantastic food!'\n",
      " 'She ordered a toasted English muffin that came out untoasted.'\n",
      " 'The food was very good.' 'Never going back.'\n",
      " 'Great food for the price, which is very high quality and house made.'\n",
      " 'The bus boy on the other hand was so rude.'\n",
      " \"By this point, my friends and I had basically figured out this place was a joke and didn't mind making it publicly and loudly known.\"\n",
      " 'Back to good BBQ, lighter fare, reasonable pricing and tell the public they are back to the old ways.'\n",
      " \"And considering the two of us left there very full and happy for about $20, you just can't go wrong.\"\n",
      " 'All the bread is made in-house!' 'The only downside is the service.'\n",
      " \"Also, the fries are without a doubt the worst fries I've ever had.\"\n",
      " 'Service was exceptional and food was a good as all the reviews.'\n",
      " 'A couple of months later, I returned and had an amazing meal.'\n",
      " 'Favorite place in town for shawarrrrrrma!!!!!!'\n",
      " 'The black eyed peas and sweet potatoes... UNREAL!'\n",
      " \"You won't be disappointed.\"\n",
      " 'They could serve it with just the vinaigrette and it may make for a better overall dish, but it was still very good.'\n",
      " \"I go to far too many places and I've never seen any restaurant that serves a 1 egg breakfast, especially for $4.00.\"\n",
      " 'When my mom and I got home she immediately got sick and she only had a few bites of salad.'\n",
      " \"The servers are not pleasant to deal with and they don't always honor Pizza Hut coupons.\"\n",
      " 'Both of them were truly unbelievably good, and I am so glad we went back.'\n",
      " 'We had fantastic service, and were pleased by the atmosphere.'\n",
      " 'Everything was gross.' 'I love this place.' 'Great service and food.'\n",
      " 'First - the bathrooms at this location were dirty- Seat covers were not replenished & just plain yucky!!!'\n",
      " 'The burger... I got the \"Gold Standard\" a $17 burger and was kind of disappointed.'\n",
      " 'OMG, the food was delicioso!'\n",
      " 'There is nothing authentic about this place.'\n",
      " 'the spaghetti is nothing special whatsoever.'\n",
      " 'Of all the dishes, the salmon was the best, but all were great.'\n",
      " 'The vegetables are so fresh and the sauce feels like authentic Thai.'\n",
      " \"It's worth driving up from Tucson!\"\n",
      " \"The selection was probably the worst I've seen in Vegas.....there was none.\"\n",
      " 'Pretty good beer selection too.'\n",
      " 'This place is like Chipotle, but BETTER.'\n",
      " 'Classy/warm atmosphere, fun and fresh appetizers, succulent steaks (Baseball steak!!!!!'\n",
      " '5 stars for the brick oven bread app!'\n",
      " 'I have eaten here multiple times, and each time the food was delicious.'\n",
      " 'We sat another ten minutes and finally gave up and left.'\n",
      " 'He was terrible!' 'Everyone is treated equally special.'\n",
      " \"It shouldn't take 30 min for pancakes and eggs.\" 'It was delicious!!!'\n",
      " 'On the good side, the staff was genuinely pleasant and enthusiastic - a real treat.'\n",
      " \"Sadly, Gordon Ramsey's Steak is a place we shall sharply avoid during our next trip to Vegas.\"\n",
      " 'As always the evening was wonderful and the food delicious!'\n",
      " \"Best fish I've ever had in my life!\"\n",
      " '(The bathroom is just next door and very nice.)'\n",
      " 'The buffet is small and all the food they offered was BLAND.'\n",
      " 'This is an Outstanding little restaurant with some of the Best Food I have ever tasted.'\n",
      " 'Pretty cool I would say.'\n",
      " \"Definitely a turn off for me & i doubt I'll be back unless someone else is buying.\"\n",
      " 'Server did a great job handling our large rowdy table.'\n",
      " \"I find wasting food to be despicable, but this just wasn't food.\"\n",
      " 'My wife had the Lobster Bisque soup which was lukewarm.'\n",
      " 'Would come back again if I had a sushi craving while in Vegas.'\n",
      " 'The staff are great, the ambiance is great.' 'He deserves 5 stars.'\n",
      " 'I left with a stomach ache and felt sick the rest of the day.'\n",
      " 'They dropped more than the ball.'\n",
      " 'The dining space is tiny, but elegantly decorated and comfortable.'\n",
      " \"They will customize your order any way you'd like, my usual is Eggplant with Green Bean stir fry, love it!\"\n",
      " 'And the beans and rice were mediocre at best.'\n",
      " 'Best tacos in town by far!!' 'I took back my money and got outta there.'\n",
      " 'In an interesting part of town, this place is amazing.'\n",
      " 'RUDE & INCONSIDERATE MANAGEMENT.'\n",
      " 'The staff are now not as friendly, the wait times for being served are horrible, no one even says hi for the first 10 minutes.'\n",
      " \"I won't be back.\" 'They have great dinners.'\n",
      " 'The service was outshining & I definitely recommend the Halibut.'\n",
      " 'The food was terrible.'\n",
      " 'WILL NEVER EVER GO BACK AND HAVE TOLD MANY PEOPLE WHAT HAD HAPPENED.'\n",
      " \"I don't recommend unless your car breaks down in front of it and you are starving.\"\n",
      " \"I will come back here every time I'm in Vegas.\"\n",
      " 'This place deserves one star and 90% has to do with the food.'\n",
      " 'This is a disgrace.' 'Def coming back to bowl next time'\n",
      " 'If you want healthy authentic or ethic food, try this place.'\n",
      " 'I will continue to come here on ladies night andddd date night ... highly recommend this place to anyone who is in the area (;'\n",
      " 'I have been here several times in the past, and the experience has always been great.'\n",
      " 'We walked away stuffed and happy about our first Vegas buffet experience.'\n",
      " 'Service was excellent and prices are pretty reasonable considering this is Vegas and located inside the Crystals shopping mall by Aria.'\n",
      " 'To summarize... the food was incredible, nay, transcendant... but nothing brings me joy quite like the memory of the pneumatic condiment dispenser.'\n",
      " \"I'm probably one of the few people to ever go to Ians and not like it.\"\n",
      " 'Kids pizza is always a hit too with lots of great side dish options for the kiddos!'\n",
      " 'Service is perfect and the family atmosphere is nice to see.'\n",
      " 'Cooked to perfection and the service was impeccable.'\n",
      " 'This one is simply a disappointment.'\n",
      " 'Overall, I was very disappointed with the quality of food at Bouchon.'\n",
      " \"I don't have to be an accountant to know I'm getting screwed!\"\n",
      " 'Great place to eat, reminds me of the little mom and pop shops in the San Francisco Bay Area.'\n",
      " 'Today was my first taste of a Buldogis Gourmet Hot Dog and I have to tell you it was more than I ever thought possible.'\n",
      " 'Left very frustrated.' \"I'll definitely be in soon again.\"\n",
      " 'Food was really good and I got full petty fast.'\n",
      " 'Service was fantastic.' 'TOTAL WASTE OF TIME.'\n",
      " \"I don't know what kind it is but they have the best iced tea.\"\n",
      " 'Come hungry, leave happy and stuffed!'\n",
      " 'For service, I give them no stars.'\n",
      " \"I can assure you that you won't be disappointed.\"\n",
      " 'I can take a little bad service but the food sucks.'\n",
      " 'Gave up trying to eat any of the crust (teeth still sore).'\n",
      " 'But now I was completely grossed out.' 'I really enjoyed eating here.'\n",
      " 'First time going but I think I will quickly become a regular.'\n",
      " 'Our server was very nice, and even though he looked a little overwhelmed with all of our needs, he stayed professional and friendly until the end.'\n",
      " 'From what my dinner companions told me...everything was very fresh with nice texture and taste.'\n",
      " 'On the ground, right next to our table was a large, smeared, been-stepped-in-and-tracked-everywhere pile of green bird poop.'\n",
      " \"Furthermore, you can't even find hours of operation on the website!\"\n",
      " \"We've tried to like this place but after 10+ times I think we're done with them.\"\n",
      " 'What a mistake that was!' 'No complaints!'\n",
      " \"This is some seriously good pizza and I'm an expert/connisseur on the topic.\"\n",
      " 'Waiter was a jerk.' 'Strike 2, who wants to be rushed.'\n",
      " \"These are the nicest restaurant owners I've ever come across.\"\n",
      " 'I never come again.' 'We loved the biscuits!!!'\n",
      " 'Service is quick and friendly.'\n",
      " 'Ordered an appetizer and took 40 minutes and then the pizza another 10 minutes.'\n",
      " 'So absolutley fantastic.'\n",
      " 'It was a huge awkward 1.5lb piece of cow that was 3/4ths gristle and fat.'\n",
      " 'definitely will come back here again.'\n",
      " \"I like Steiners because it's dark and it feels like a bar.\"\n",
      " 'Wow very spicy but delicious.' \"If you're not familiar, check it out.\"\n",
      " \"I'll take my business dinner dollars elsewhere.\" \"I'd love to go back.\"\n",
      " 'Anyway, this FS restaurant has a wonderful breakfast/lunch.'\n",
      " 'Nothing special.'\n",
      " \"Each day of the week they have a different deal and it's all so delicious!\"\n",
      " 'Not to mention the combination of pears, almonds and bacon is a big winner!'\n",
      " 'Will not be back.' 'Sauce was tasteless.'\n",
      " 'The food is delicious and just spicy enough, so be sure to ask for spicier if you prefer it that way.'\n",
      " 'My ribeye steak was cooked perfectly and had great mesquite flavor.'\n",
      " \"I don't think we'll be going back anytime soon.\" 'Food was so gooodd.'\n",
      " 'I am far from a sushi connoisseur but I can definitely tell the difference between good food and bad food and this was certainly bad food.'\n",
      " 'I was so insulted.' 'The last 3 times I had lunch here has been bad.'\n",
      " 'The chicken wings contained the driest chicken meat I have ever eaten.'\n",
      " 'The food was very good and I enjoyed every mouthful, an enjoyable relaxed venue for couples small family groups etc.'\n",
      " 'Nargile - I think you are great.' 'Best tater tots in the southwest.'\n",
      " 'We loved the place.' 'Definitely not worth the $3 I paid.'\n",
      " 'The vanilla ice cream was creamy and smooth while the profiterole (choux) pastry was fresh enough.'\n",
      " 'Im in AZ all the time and now have my new spot.'\n",
      " 'The manager was the worst.'\n",
      " 'The inside is really quite nice and very clean.'\n",
      " 'The food was outstanding and the prices were very reasonable.'\n",
      " \"I don't think I'll be running back to Carly's anytime soon for food.\"\n",
      " 'This is was due to the fact that it took 20 minutes to be acknowledged, then another 35 minutes to get our food...and they kept forgetting things.'\n",
      " 'Love the margaritas, too!'\n",
      " 'This was my first and only Vegas buffet and it did not disappoint.'\n",
      " 'Very good, though!'\n",
      " 'The one down note is the ventilation could use some upgrading.'\n",
      " 'Great pork sandwich.' \"Don't waste your time here.\"\n",
      " 'Total letdown, I would much rather just go to the Camelback Flower Shop and Cartel Coffee.'\n",
      " \"Third, the cheese on my friend's burger was cold.\"\n",
      " 'We enjoy their pizza and brunch.'\n",
      " 'The steaks are all well trimmed and also perfectly cooked.'\n",
      " 'We had a group of 70+ when we claimed we would only have 40 and they handled us beautifully.'\n",
      " 'I LOVED it!'\n",
      " \"We asked for the bill to leave without eating and they didn't bring that either.\"\n",
      " \"This place is a jewel in Las Vegas, and exactly what I've been hoping to find in nearly ten years living here.\"\n",
      " 'Seafood was limited to boiled shrimp and crab legs but the crab legs definitely did not taste fresh.'\n",
      " 'The selection of food was not the best.'\n",
      " 'Delicious and I will absolutely be back!'\n",
      " \"This isn't a small family restaurant, this is a fine dining establishment.\"\n",
      " 'They had a toro tartare with a cavier that was extraordinary and I liked the thinly sliced wagyu with white truffle.'\n",
      " 'I dont think I will be back for a very long time.'\n",
      " 'It was attached to a gas station, and that is rarely a good sign.'\n",
      " 'How awesome is that.' 'I will be back many times soon.'\n",
      " 'The menu had so much good stuff on it i could not decide!'\n",
      " 'Worse of all, he humiliated his worker right in front of me..Bunch of horrible name callings.'\n",
      " 'CONCLUSION: Very filling meals.'\n",
      " 'Their daily specials are always a hit with my group.'\n",
      " 'And then tragedy struck.'\n",
      " 'The pancake was also really good and pretty large at that.'\n",
      " 'This was my first crawfish experience, and it was delicious!'\n",
      " 'Their monster chicken fried steak and eggs is my all time favorite.'\n",
      " 'Waitress was sweet and funny.'\n",
      " \"I also had to taste my Mom's multi-grain pumpkin pancakes with pecan butter and they were amazing, fluffy, and delicious!\"\n",
      " \"I'd rather eat airline food, seriously.\"\n",
      " 'Cant say enough good things about this place.'\n",
      " 'The ambiance was incredible.'\n",
      " 'The waitress and manager are so friendly.'\n",
      " 'I would not recommend this place.'\n",
      " \"Overall I wasn't very impressed with Noca.\"\n",
      " 'My gyro was basically lettuce only.' 'Terrible service!'\n",
      " 'Thoroughly disappointed!'\n",
      " \"I don't each much pasta, but I love the homemade /hand made pastas and thin pizzas here.\"\n",
      " 'Give it a try, you will be happy you did.'\n",
      " 'By far the BEST cheesecurds we have ever had!' 'Reasonably priced also!'\n",
      " 'Everything was perfect the night we were in.'\n",
      " 'The food is very good for your typical bar food.'\n",
      " 'it was a drive to get there.'\n",
      " 'At first glance it is a lovely bakery cafe - nice ambiance, clean, friendly staff.'\n",
      " 'Anyway, I do not think i will go back there.'\n",
      " \"Point your finger at any item on the menu, order it and you won't be disappointed.\"\n",
      " 'Oh this is such a thing of beauty, this restaurant.'\n",
      " \"If you haven't gone here GO NOW!\" 'A greasy, unhealthy meal.'\n",
      " 'first time there and might just be the last.'\n",
      " 'Those burgers were amazing.'\n",
      " 'Similarly, the delivery man did not say a word of apology when our food was 45 minutes late.'\n",
      " 'And it was way to expensive.'\n",
      " 'Be sure to order dessert, even if you need to pack it to-go - the tiramisu and cannoli are both to die for.'\n",
      " \"This was my first time and I can't wait until the next.\"\n",
      " 'The bartender was also nice.' 'Everything was good and tasty!'\n",
      " 'This place is two thumbs up....way up.'\n",
      " 'The best place in Vegas for breakfast (just check out a Sat, or Sun.'\n",
      " 'If you love authentic Mexican food and want a whole bunch of interesting, yet delicious meats to choose from, you need to try this place.'\n",
      " 'Terrible management.'\n",
      " 'An excellent new restaurant by an experienced Frenchman.'\n",
      " 'If there were zero stars I would give it zero stars.'\n",
      " 'Great steak, great sides, great wine, amazing desserts.'\n",
      " 'Worst martini ever!'\n",
      " 'The steak and the shrimp are in my opinion the best entrees at GC.'\n",
      " 'I had the opportunity today to sample your amazing pizzas!'\n",
      " 'We waited for thirty minutes to be seated (although there were 8 vacant tables and we were the only folks waiting).'\n",
      " 'The yellowtail carpaccio was melt in your mouth fresh.'\n",
      " \"I won't try going back there even if it's empty.\"\n",
      " \"No, I'm going to eat the potato that I found some strangers hair in it.\"\n",
      " 'Just spicy enough.. Perfect actually.'\n",
      " 'Last night was my second time dining here and I was so happy I decided to go back!'\n",
      " 'not even a \"hello, we will be right with you.\"'\n",
      " 'The desserts were a bit strange.'\n",
      " 'My boyfriend and I came here for the first time on a recent trip to Vegas and could not have been more pleased with the quality of food and service.'\n",
      " 'I really do recommend this place, you can go wrong with this donut place!'\n",
      " 'Nice ambiance.' 'I would recommend saving room for this!'\n",
      " 'I guess maybe we went on an off night but it was disgraceful.'\n",
      " 'However, my recent experience at this particular location was not so good.'\n",
      " 'I know this is not like the other restaurants at all, something is very off here!'\n",
      " 'AVOID THIS ESTABLISHMENT!'\n",
      " 'I think this restaurant suffers from not trying hard enough.'\n",
      " 'All of the tapas dishes were delicious!' 'I *heart* this place.'\n",
      " 'My salad had a bland vinegrette on the baby greens and hearts of Palm.'\n",
      " 'After two I felt disgusting.' 'A good time!'\n",
      " 'I believe that this place is a great stop for those with a huge belly and hankering for sushi.'\n",
      " 'Generous portions and great taste.'\n",
      " 'I will never go back to this place and will never ever recommended this place to anyone!'\n",
      " 'The servers went back and forth several times, not even so much as an \"Are you being helped?\"'\n",
      " 'Food was delicious!' 'AN HOUR... seriously?' 'I consider this theft.'\n",
      " 'Eew... This location needs a complete overhaul.'\n",
      " 'We recently witnessed her poor quality of management towards other guests as well.'\n",
      " 'Waited and waited and waited.'\n",
      " 'He also came back to check on us regularly, excellent service.'\n",
      " 'Our server was super nice and checked on us many times.'\n",
      " 'The pizza tasted old, super chewy in not a good way.'\n",
      " 'I swung in to give them a try but was deeply disappointed.'\n",
      " 'Service was good and the company was better!'\n",
      " 'The staff are also very friendly and efficient.'\n",
      " \"As for the service: I'm a fan, because it's quick and you're being served by some nice folks.\"\n",
      " 'Boy was that sucker dry!!.' 'Over rated.'\n",
      " 'If you look for authentic Thai food, go else where.'\n",
      " 'Their steaks are 100% recommended!'\n",
      " 'After I pulled up my car I waited for another 15 minutes before being acknowledged.'\n",
      " 'Great food and great service in a clean and friendly setting.'\n",
      " \"All in all, I can assure you I'll be back.\"\n",
      " 'I hate those things as much as cheap quality black olives.'\n",
      " 'My breakfast was perpared great, with a beautiful presentation of 3 giant slices of Toast, lightly dusted with powdered sugar.'\n",
      " 'The kids play area is NASTY!' 'Great place fo take out or eat in.'\n",
      " 'The waitress was friendly and happy to accomodate for vegan/veggie options.'\n",
      " 'OMG I felt like I had never eaten Thai food until this dish.'\n",
      " 'It was extremely \"crumby\" and pretty tasteless.'\n",
      " 'It was a pale color instead of nice and char and has NO flavor.'\n",
      " 'The croutons also taste homemade which is an extra plus.'\n",
      " 'I got home to see the driest damn wings ever!'\n",
      " \"It'll be a regular stop on my trips to Phoenix!\"\n",
      " 'I really enjoyed Crema Café before they expanded; I even told friends they had the BEST breakfast.'\n",
      " 'Not good for the money.'\n",
      " 'I miss it and wish they had one in Philadelphia!'\n",
      " 'We got sitting fairly fast, but, ended up waiting 40 minutes just to place our order, another 30 minutes before the food arrived.'\n",
      " 'They also have the best cheese crisp in town.'\n",
      " 'Good value, great food, great service.'\n",
      " \"Couldn't ask for a more satisfying meal.\" 'The food is good.'\n",
      " 'It was awesome.' 'I just wanted to leave.'\n",
      " 'We made the drive all the way from North Scottsdale... and I was not one bit disappointed!'\n",
      " 'I will not be eating there again.'\n",
      " '!....THE OWNERS REALLY REALLY need to quit being soooooo cheap let them wrap my freaking sandwich in two papers not one!'\n",
      " 'I checked out this place a couple years ago and was not impressed.'\n",
      " 'The chicken I got was definitely reheated and was only ok, the wedges were cold and soggy.'\n",
      " 'Sorry, I will not be getting food from here anytime soon :('\n",
      " 'An absolute must visit!' 'The cow tongue and cheek tacos are amazing.'\n",
      " 'My friend did not like his Bloody Mary.'\n",
      " 'Despite how hard I rate businesses, its actually rare for me to give a 1 star.'\n",
      " 'They really want to make your experience a good one.'\n",
      " 'I will not return.' 'I had the chicken Pho and it tasted very bland.'\n",
      " 'Very disappointing!!!'\n",
      " 'The grilled chicken was so tender and yellow from the saffron seasoning.'\n",
      " 'a drive thru means you do not want to wait around for half an hour for your food, but somehow when we end up going here they make us wait and wait.'\n",
      " 'Pretty awesome place.' 'Ambience is perfect.'\n",
      " 'Best of luck to the rude and non-customer service focused new management.'\n",
      " 'Any grandmother can make a roasted chicken better than this one.'\n",
      " 'I asked multiple times for the wine list and after some time of being ignored I went to the hostess and got one myself.'\n",
      " 'The staff is always super friendly and helpful, which is especially cool when you bring two small boys and a baby!'\n",
      " 'Four stars for the food & the guy in the blue shirt for his great vibe & still letting us in to eat !'\n",
      " 'The roast beef sandwich tasted really good!'\n",
      " 'Same evening, him and I are both drastically sick.'\n",
      " 'High-quality chicken on the chicken Caesar salad.'\n",
      " \"Ordered burger rare came in we'll done.\"\n",
      " 'We were promptly greeted and seated.'\n",
      " 'Tried to go here for lunch and it was a madhouse.'\n",
      " 'I was proven dead wrong by this sushi bar, not only because the quality is great, but the service is fast and the food, impeccable.'\n",
      " 'After waiting an hour and being seated, I was not in the greatest of moods.'\n",
      " 'This is a good joint.' 'The Macarons here are insanely good.'\n",
      " \"I'm not eating here!\"\n",
      " 'Our waiter was very attentive, friendly, and informative.'\n",
      " \"Maybe if they weren't cold they would have been somewhat edible.\"\n",
      " 'This place has a lot of promise but fails to deliver.'\n",
      " 'Very bad Experience!' 'What a mistake.' 'Food was average at best.'\n",
      " 'Great food.' \"We won't be going back anytime soon!\"\n",
      " 'Very Very Disappointed ordered the $35 Big Bay Plater.'\n",
      " 'Great place to relax and have an awesome burger and beer.'\n",
      " 'It is PERFECT for a sit-down family meal or get together with a few friends.'\n",
      " 'Not much flavor to them, and very poorly constructed.'\n",
      " 'The patio seating was very comfortable.'\n",
      " 'The fried rice was dry as well.'\n",
      " 'Hands down my favorite Italian restaurant!'\n",
      " 'That just SCREAMS \"LEGIT\" in my book...somethat\\'s also pretty rare here in Vegas.'\n",
      " 'It was just not a fun experience.'\n",
      " 'The atmosphere was great with a lovely duo of violinists playing songs we requested.'\n",
      " \"I personally love the hummus, pita, baklava, falafels and Baba Ganoush (it's amazing what they do with eggplant!).\"\n",
      " 'Very convenient, since we were staying at the MGM!'\n",
      " 'The owners are super friendly and the staff is courteous.' 'Both great!'\n",
      " 'Eclectic selection.'\n",
      " 'The sweet potato tots were good but the onion rings were perfection or as close as I have had.'\n",
      " 'The staff was very attentive.'\n",
      " 'And the chef was generous with his time (even came around twice so we can take pictures with him).'\n",
      " 'The owner used to work at Nobu, so this place is really similar for half the price.'\n",
      " 'Google mediocre and I imagine Smashburger will pop up.' 'dont go here.'\n",
      " \"I promise they won't disappoint.\"\n",
      " 'As a sushi lover avoid this place by all means.'\n",
      " 'What a great double cheeseburger!' 'Awesome service and food.'\n",
      " 'A fantastic neighborhood gem !!!' \"I can't wait to go back.\"\n",
      " \"The plantains were the worst I've ever tasted.\"\n",
      " \"It's a great place and I highly recommend it.\"\n",
      " 'Service was slow and not attentive.'\n",
      " \"I gave it 5 stars then, and I'm giving it 5 stars now.\"\n",
      " 'Your staff spends more time talking to themselves than me.'\n",
      " 'Dessert: Panna Cotta was amazing.' 'Very good food, great atmosphere.1'\n",
      " 'Damn good steak.' 'Total brunch fail.'\n",
      " 'Prices are very reasonable, flavors are spot on, the sauce is home made, and the slaw is not drenched in mayo.'\n",
      " 'The decor is nice, and the piano music soundtrack is pleasant.'\n",
      " 'The steak was amazing...rge fillet relleno was the best seafood plate i have ever had!'\n",
      " 'Good food , good service .' 'It was absolutely amazing.'\n",
      " \"I probably won't be back, to be honest.\" 'will definitely be back!'\n",
      " 'The sergeant pepper beef sandwich with auju sauce is an excellent sandwich as well.'\n",
      " \"Hawaiian Breeze, Mango Magic, and Pineapple Delight are the smoothies that I've tried so far and they're all good.\"\n",
      " 'Went for lunch - service was slow.'\n",
      " 'We had so much to say about the place before we walked in that he expected it to be amazing, but was quickly disappointed.'\n",
      " 'I was mortified.' 'Needless to say, we will never be back here again.'\n",
      " 'Anyways, The food was definitely not filling at all, and for the price you pay you should expect more.'\n",
      " 'The chips that came out were dripping with grease, and mostly not edible.'\n",
      " \"I wasn't really impressed with Strip Steak.\"\n",
      " 'Have been going since 2007 and every meal has been awesome!!'\n",
      " 'Our server was very nice and attentive as were the other serving staff.'\n",
      " 'The cashier was friendly and even brought the food out to me.'\n",
      " 'I work in the hospitality industry in Paradise Valley and have refrained from recommending Cibo any longer.'\n",
      " 'The atmosphere here is fun.' 'Would not recommend to others.'\n",
      " 'Service is quick and even \"to go\" orders are just like we like it!'\n",
      " \"I mean really, how do you get so famous for your fish and chips when it's so terrible!?!\"\n",
      " 'That said, our mouths and bellies were still quite pleased.'\n",
      " 'Not my thing.' '2 Thumbs Up!!'\n",
      " \"If you are reading this please don't go there.\"\n",
      " 'I loved the grilled pizza, reminded me of legit Italian pizza.'\n",
      " 'Only Pros : Large seating area/ Nice bar area/ Great simple drink menu/ The BEST brick oven pizza with homemade dough!'\n",
      " 'They have a really nice atmosphere.'\n",
      " 'Tonight I had the Elk Filet special...and it sucked.'\n",
      " 'After one bite, I was hooked.'\n",
      " 'We ordered some old classics and some new dishes after going there a few times and were sorely disappointed with everything.'\n",
      " 'Cute, quaint, simple, honest.'\n",
      " 'The chicken was deliciously seasoned and had the perfect fry on the outside and moist chicken on the inside.'\n",
      " 'The food was great as always, compliments to the chef.'\n",
      " 'Special thanks to Dylan T. for the recommendation on what to order :) All yummy for my tummy.'\n",
      " 'Awesome selection of beer.' 'Great food and awesome service!'\n",
      " \"One nice thing was that they added gratuity on the bill since our party was larger than 6 or 8, and they didn't expect more tip than that.\"\n",
      " 'A FLY was in my apple juice.. A FLY!!!!!!!!'\n",
      " 'The Han Nan Chicken was also very tasty.'\n",
      " 'As for the service, I thought it was good.'\n",
      " 'The food was barely lukewarm, so it must have been sitting waiting for the server to bring it out to us.'\n",
      " \"Ryan's Bar is definitely one Edinburgh establishment I won't be revisiting.\"\n",
      " \"Nicest Chinese restaurant I've been in a while.\"\n",
      " 'Overall, I like there food and the service.'\n",
      " 'They also now serve Indian naan bread with hummus and some spicy pine nut sauce that was out of this world.'\n",
      " \"Probably never coming back, and wouldn't recommend it.\"\n",
      " \"Friend's pasta -- also bad, he barely touched it.\"\n",
      " 'Try them in the airport to experience some tasty food and speedy, friendly service.'\n",
      " 'I love the decor with the Chinese calligraphy wall paper.'\n",
      " 'Never had anything to complain about here.'\n",
      " 'The restaurant is very clean and has a family restaurant feel to it.'\n",
      " 'It was way over fried.'\n",
      " \"I'm not sure how long we stood there but it was long enough for me to begin to feel awkwardly out of place.\"\n",
      " 'When I opened the sandwich, I was impressed, but not in a good way.'\n",
      " 'Will not be back!'\n",
      " 'There was a warm feeling with the service and I felt like their guest for a special treat.'\n",
      " 'An extensive menu provides lots of options for breakfast.'\n",
      " 'I always order from the vegetarian menu during dinner, which has a wide array of options to choose from.'\n",
      " 'I have watched their prices inflate, portions get smaller and management attitudes grow rapidly!'\n",
      " 'Wonderful lil tapas and the ambience made me feel all warm and fuzzy inside.'\n",
      " 'I got to enjoy the seafood salad, with a fabulous vinegrette.'\n",
      " 'The wontons were thin, not thick and chewy, almost melt in your mouth.'\n",
      " \"Level 5 spicy was perfect, where spice didn't over-whelm the soup.\"\n",
      " 'We were sat right on time and our server from the get go was FANTASTIC!'\n",
      " \"Main thing I didn't enjoy is that the crowd is of older crowd, around mid 30s and up.\"\n",
      " \"When I'm on this side of town, this will definitely be a spot I'll hit up again!\"\n",
      " 'I had to wait over 30 minutes to get my drink and longer to get 2 arepas.'\n",
      " 'This is a GREAT place to eat!' 'The jalapeno bacon is soooo good.'\n",
      " 'The service was poor and thats being nice.'\n",
      " 'Food was good, service was good, Prices were good.'\n",
      " 'The place was not clean and the food oh so stale!'\n",
      " 'The chicken dishes are OK, the beef is like shoe leather.'\n",
      " 'But the service was beyond bad.' 'I\\'m so happy to be here!!!\"'\n",
      " 'Tasted like dirt.'\n",
      " 'One of the few places in Phoenix that I would definately go back to again .'\n",
      " 'The block was amazing.'\n",
      " \"It's close to my house, it's low-key, non-fancy, affordable prices, good food.\"\n",
      " '* Both the Hot & Sour & the Egg Flower Soups were absolutely 5 Stars!'\n",
      " 'My sashimi was poor quality being soggy and tasteless.'\n",
      " 'Great time - family dinner on a Sunday night.'\n",
      " 'the food is not tasty at all, not to say its \"real traditional Hunan style\".'\n",
      " 'What did bother me, was the slow service.'\n",
      " 'The flair bartenders are absolutely amazing!'\n",
      " 'Their frozen margaritas are WAY too sugary for my taste.'\n",
      " 'These were so good we ordered them twice.'\n",
      " 'So in a nutshell: 1) The restaraunt smells like a combination of a dirty fish market and a sewer.'\n",
      " \"My girlfriend's veal was very bad.\" 'Unfortunately, it was not good.'\n",
      " 'I had a pretty satifying experience.'\n",
      " 'Join the club and get awesome offers via email.'\n",
      " 'Perfect for someone (me) who only likes beer ice cold, or in this case, even colder.'\n",
      " 'Bland and flavorless is a good way of describing the barely tepid meat.'\n",
      " \"The chains, which I'm no fan of, beat this place easily.\"\n",
      " 'The nachos are a MUST HAVE!' 'We will not be coming back.'\n",
      " \"I don't have very many words to say about this place, but it does everything pretty well.\"\n",
      " 'The staff is super nice and very quick even with the crazy crowds of the downtown juries, lawyers, and court staff.'\n",
      " 'Great atmosphere, friendly and fast service.'\n",
      " 'When I received my Pita it was huge it did have a lot of meat in it so thumbs up there.'\n",
      " \"Once your food arrives it's meh.\"\n",
      " \"Paying $7.85 for a hot dog and fries that looks like it came out of a kid's meal at the Wienerschnitzel is not my idea of a good meal.\"\n",
      " 'The classic Maine Lobster Roll was fantastic.'\n",
      " 'My brother in law who works at the mall ate here same day, and guess what he was sick all night too.'\n",
      " 'So good I am going to have to review this place twice - once hereas a tribute to the place and once as a tribute to an event held here last night.'\n",
      " 'The chips and salsa were really good, the salsa was very fresh.'\n",
      " 'This place is great!!!!!!!!!!!!!!' 'Mediocre food.'\n",
      " \"Once you get inside you'll be impressed with the place.\"\n",
      " \"I'm super pissd.\" 'And service was super friendly.'\n",
      " 'Why are these sad little vegetables so overcooked?'\n",
      " 'This place was such a nice surprise!'\n",
      " 'They were golden-crispy and delicious.'\n",
      " 'I had high hopes for this place since the burgers are cooked over a charcoal grill, but unfortunately the taste fell flat, way flat.'\n",
      " 'I could eat their bruschetta all day it is devine.'\n",
      " 'Not a single employee came out to see if we were OK or even needed a water refill once they finally served us our food.'\n",
      " 'Lastly, the mozzarella sticks, they were the best thing we ordered.'\n",
      " 'The first time I ever came here I had an amazing experience, I still tell people how awesome the duck was.'\n",
      " 'The server was very negligent of our needs and made us feel very unwelcome... I would not suggest this place!'\n",
      " 'The service was terrible though.'\n",
      " 'This place is overpriced, not consistent with their boba, and it really is OVERPRICED!'\n",
      " 'It was packed!!' 'I love this place.'\n",
      " 'I can say that the desserts were yummy.' 'The food was terrible.'\n",
      " 'The seasonal fruit was fresh white peach puree.'\n",
      " \"It kept getting worse and worse so now I'm officially done.\"\n",
      " 'This place should honestly be blown up.'\n",
      " 'But I definitely would not eat here again.'\n",
      " 'Do not waste your money here!'\n",
      " 'I love that they put their food in nice plastic containers as opposed to cramming it in little paper takeout boxes.'\n",
      " 'The crêpe was delicate and thin and moist.' 'Awful service.'\n",
      " \"Won't ever go here again.\" 'Food quality has been horrible.'\n",
      " 'For that price I can think of a few place I would have much rather gone.'\n",
      " 'The service here is fair at best.'\n",
      " 'I do love sushi, but I found Kabuki to be over-priced, over-hip and under-services.'\n",
      " 'Do yourself a favor and stay away from this dish.' 'Very poor service.'\n",
      " 'No one at the table thought the food was above average or worth the wait that we had for it.'\n",
      " 'Best service and food ever, Maria our server was so good and friendly she made our day.'\n",
      " 'They were excellent.'\n",
      " 'I paid the bill but did not tip because I felt the server did a terrible job.'\n",
      " 'Just had lunch here and had a great experience.'\n",
      " 'I have never had such bland food which surprised me considering the article we read focused so much on their spices and flavor.'\n",
      " 'Food is way overpriced and portions are fucking small.'\n",
      " \"I recently tried Caballero's and I have been back every week since!\"\n",
      " 'for 40 bucks a head, i really expect better food.'\n",
      " 'The food came out at a good pace.'\n",
      " 'I ate there twice on my last visit, and especially enjoyed the salmon salad.'\n",
      " \"I won't be back.\" 'We could not believe how dirty the oysters were!'\n",
      " 'This place deserves no stars.' 'I would not recommend this place.'\n",
      " \"In fact I'm going to round up to 4 stars, just because she was so awesome.\"\n",
      " 'To my disbelief, each dish qualified as the worst version of these foods I have ever tasted.'\n",
      " 'Bad day or not, I have a very low tolerance for rude customer service people, it is your job to be nice and polite, wash dishes otherwise!!'\n",
      " 'the potatoes were great and so was the biscuit.'\n",
      " 'I probably would not go here again.'\n",
      " 'So flavorful and has just the perfect amount of heat.'\n",
      " 'The price is reasonable and the service is great.'\n",
      " 'The Wife hated her meal (coconut shrimp), and our friends really did not enjoy their meals, either.'\n",
      " \"My fella got the huevos rancheros and they didn't look too appealing.\"\n",
      " 'Went in for happy hour, great list of wines.'\n",
      " 'Some may say this buffet is pricey but I think you get what you pay for and this place you are getting quite a lot!'\n",
      " \"I probably won't be coming back here.\"\n",
      " \"Worst food/service I've had in a while.\"\n",
      " 'This place is pretty good, nice little vibe in the restaurant.'\n",
      " 'Talk about great customer service of course we will be back.'\n",
      " 'Hot dishes are not hot, cold dishes are close to room temp.I watched staff prepare food with BARE HANDS, no gloves.Everything is deep fried in oil.'\n",
      " 'I love their fries and their beans.'\n",
      " 'Always a pleasure dealing with him.'\n",
      " \"They have a plethora of salads and sandwiches, and everything I've tried gets my seal of approval.\"\n",
      " 'This place is awesome if you want something light and healthy during the summer.'\n",
      " 'For sushi on the Strip, this is the place to go.'\n",
      " 'The service was great, even the manager came and helped with our table.'\n",
      " 'The feel of the dining room was more college cooking course than high class dining and the service was slow at best.'\n",
      " \"I started this review with two stars, but I'm editing it to give it only one.\"\n",
      " \"this is the worst sushi i have ever eat besides Costco's.\"\n",
      " 'All in all an excellent restaurant highlighted by great service, a unique menu, and a beautiful setting.'\n",
      " 'My boyfriend and i sat at the bar and had a completely delightful experience.'\n",
      " 'Weird vibe from owners.' 'There was hardly any meat.'\n",
      " \"I've had better bagels from the grocery store.\" 'Go To Place for Gyros.'\n",
      " 'I love the owner/chef, his one authentic Japanese cool dude!'\n",
      " \"Now the burgers aren't as good, the pizza which used to be amazing is doughy and flavorless.\"\n",
      " 'I found a six inch long piece of wire in my salsa.'\n",
      " 'The service was terrible, food was mediocre.'\n",
      " 'We definately enjoyed ourselves.'\n",
      " 'I ordered Albondigas soup - which was just warm - and tasted like tomato soup with frozen meatballs.'\n",
      " 'On three different occasions I asked for well done or medium well, and all three times I got the bloodiest piece of meat on my plate.'\n",
      " 'I had about two bites and refused to eat anymore.'\n",
      " 'The service was extremely slow.' 'After 20 minutes wait, I got a table.'\n",
      " 'Seriously killer hot chai latte.'\n",
      " 'No allergy warnings on the menu, and the waitress had absolutely no clue as to which meals did or did not contain peanuts.'\n",
      " 'My boyfriend tried the Mediterranean Chicken Salad and fell in love.'\n",
      " 'Their rotating beers on tap is also a highlight of this place.'\n",
      " 'Pricing is a bit of a concern at Mellow Mushroom.' 'Worst Thai ever.'\n",
      " 'If you stay in Vegas you must get breakfast here at least once.'\n",
      " 'I want to first say our server was great and we had perfect service.'\n",
      " 'The pizza selections are good.' 'I had strawberry tea, which was good.'\n",
      " 'Highly unprofessional and rude to a loyal patron!'\n",
      " 'Overall, a great experience.' 'Spend your money elsewhere.'\n",
      " 'Their regular toasted bread was equally satisfying with the occasional pats of butter... Mmmm...!'\n",
      " 'The Buffet at Bellagio was far from what I anticipated.'\n",
      " 'And the drinks are WEAK, people!' '#NAME?'\n",
      " 'Also, I feel like the chips are bought, not made in house.'\n",
      " 'After the disappointing dinner we went elsewhere for dessert.'\n",
      " 'The chips and sals a here is amazing!!!!!!!!!!!!!!!!!!!'\n",
      " \"We won't be returning.\" 'This is my new fav Vegas buffet spot.'\n",
      " 'I seriously cannot believe that the owner has so many unexperienced employees that all are running around like chickens with their heads cut off.'\n",
      " 'Very, very sad.'\n",
      " 'i felt insulted and disrespected, how could you talk and judge another human being like that?'\n",
      " \"How can you call yourself a steakhouse if you can't properly cook a steak, I don't understand!\"\n",
      " \"I'm not impressed with the concept or the food.\"\n",
      " \"The only thing I wasn't too crazy about was their guacamole as I don't like it puréed.\"\n",
      " 'There is really nothing for me at postinos, hope your experience is better'\n",
      " 'I got food poisoning here at the buffet.'\n",
      " 'They brought a fresh batch of fries and I was thinking yay something warm but no!'\n",
      " 'What SHOULD have been a hilarious, yummy Christmas Eve dinner to remember was the biggest fail of the entire trip for us.'\n",
      " \"Needless to say, I won't be going back anytime soon.\"\n",
      " 'This place is disgusting!'\n",
      " 'Every time I eat here, I see caring teamwork to a professional degree.'\n",
      " 'The RI style calamari was a joke.'\n",
      " 'However, there was so much garlic in the fondue, it was barely edible.'\n",
      " \"I could barely stomach the meal, but didn't complain because it was a business lunch.\"\n",
      " 'It was so bad, I had lost the heart to finish it.'\n",
      " 'It also took her forever to bring us the check when we asked for it.'\n",
      " \"We aren't ones to make a scene at restaurants but I just don't get it...definitely lost the love after this one!\"\n",
      " 'Disappointing experience.'\n",
      " \"The food is about on par with Denny's, which is to say, not good at all.\"\n",
      " 'If you want to wait for mediocre food and downright terrible service, then this is the place for you.'\n",
      " 'WAAAAAAyyyyyyyyyy over rated is all I am saying.'\n",
      " \"We won't be going back.\"\n",
      " \"The place was fairly clean but the food simply wasn't worth it.\"\n",
      " 'This place lacked style!!'\n",
      " 'The sangria was about half of a glass wine full and was $12, ridiculous.'\n",
      " \"Don't bother coming here.\"\n",
      " 'The meat was pretty dry, I had the sliced brisket and pulled pork.'\n",
      " \"The building itself seems pretty neat; the bathroom is pretty trippy, but I wouldn't eat here again.\"\n",
      " 'It was equally awful.' 'Probably not in a hurry to go back.'\n",
      " 'very slow at seating even with reservation.'\n",
      " 'Not good by any stretch of the imagination.'\n",
      " 'The cashew cream sauce was bland and the vegetables were undercooked.'\n",
      " 'The chipolte ranch dipping sause was tasteless, seemed thin and watered down with no heat.'\n",
      " 'It was a bit too sweet, not really spicy enough, and lacked flavor.'\n",
      " 'I was VERY disappointed!!' 'This place is horrible and way overpriced.'\n",
      " \"Maybe it's just their Vegetarian fare, but I've been twice and I thought it was average at best.\"\n",
      " \"It wasn't busy at all and now we know why.\"\n",
      " 'The tables outside are also dirty a lot of the time and the workers are not always friendly and helpful with the menu.'\n",
      " 'The ambiance here did not feel like a buffet setting, but more of a douchey indoor garden for tea and biscuits.'\n",
      " 'Con: spotty service.'\n",
      " 'The fries were not hot, and neither was my burger.'\n",
      " 'But then they came back cold.'\n",
      " 'Then our food came out, disappointment ensued.'\n",
      " 'The real disappointment was our waiter.'\n",
      " 'My husband said she was very rude... did not even apologize for the bad food or anything.'\n",
      " 'The only reason to eat here would be to fill up before a night of binge drinking just to get some carbs in your stomach.'\n",
      " 'Insults, profound deuchebaggery, and had to go outside for a smoke break while serving just to solidify it.'\n",
      " \"If someone orders two tacos don't' you think it may be part of customer service to ask if it is combo or ala cart?\"\n",
      " 'She was quite disappointed although some blame needs to be placed at her door.'\n",
      " \"After all the rave reviews I couldn't wait to eat here......what a disappointment!\"\n",
      " 'Del Taco is pretty nasty and should be avoided if possible.'\n",
      " \"It's NOT hard to make a decent hamburger.\" \"But I don't like it.\"\n",
      " 'Hell no will I go back'\n",
      " \"We've have gotten a much better service from the pizza place next door than the services we received from this restaurant.\"\n",
      " 'I don\\'t know what the big deal is about this place, but I won\\'t be back \"ya\\'all\".'\n",
      " 'I immediately said I wanted to talk to the manager but I did not want to talk to the guy who was doing shots of fireball behind the bar.'\n",
      " \"The ambiance isn't much better.\"\n",
      " 'Unfortunately, it only set us up for disapppointment with our entrees.'\n",
      " \"The food wasn't good.\"\n",
      " 'Your servers suck, wait, correction, our server Heimer sucked.'\n",
      " 'What happened next was pretty....off putting.'\n",
      " \"too bad cause I know it's family owned, I really wanted to like this place.\"\n",
      " 'Overpriced for what you are getting.'\n",
      " 'I vomited in the bathroom mid lunch.'\n",
      " 'I kept looking at the time and it had soon become 35 minutes, yet still no food.'\n",
      " 'I have been to very few places to eat that under no circumstances would I ever return to, and this tops the list.'\n",
      " \"We started with the tuna sashimi which was brownish in color and obviously wasn't fresh.\"\n",
      " 'Food was below average.'\n",
      " 'It sure does beat the nachos at the movies but I would expect a little bit more coming from a restaurant.'\n",
      " 'All in all, Ha Long Bay was a bit of a flop.'\n",
      " 'The problem I have is that they charge $11.99 for a sandwich that is no bigger than a Subway sub (which offers better and more amount of vegetables).'\n",
      " 'Shrimp- When I unwrapped it (I live only 1/2 a mile from Brushfire) it was literally ice cold.'\n",
      " 'It lacked flavor, seemed undercooked, and dry.'\n",
      " \"It really is impressive that the place hasn't closed down.\"\n",
      " 'I would avoid this place if you are staying in the Mirage.'\n",
      " 'The refried beans that came with my meal were dried out and crusty and the food was bland.'\n",
      " 'Spend your money and time some place else.'\n",
      " 'A lady at the table next to us found a live green caterpillar In her salad.'\n",
      " 'the presentation of the food was awful.'\n",
      " \"I can't tell you how disappointed I was.\"\n",
      " 'I think food should have flavor and texture and both were lacking.'\n",
      " 'Appetite instantly gone.'\n",
      " 'Overall I was not impressed and would not go back.'\n",
      " \"The whole experience was underwhelming, and I think we'll just go to Ninja Sushi next time.\"\n",
      " \"Then, as if I hadn't wasted enough of my life there, they poured salt in the wound by drawing out the time it took to bring the check.\"]\n"
     ]
    }
   ],
   "source": [
    "print(data)"
   ]
  },
  {
   "cell_type": "markdown",
   "metadata": {},
   "source": [
    "***\n",
    "**T1.2** Data pre-processing.\n",
    "\n",
    "The Embedding layer offered by Keras can be used for neural networks on text data. Embedding layer is initialized with random weights and will learn an embedding for all of the words in the training dataset. It requires the input data to be integer encoded, so that each word is represented by a unique integer. This data preparation step can be performed using the [Tokenizer API](http://faroit.com/keras-docs/1.2.2/preprocessing/text/) also provided with Keras. You can specify the vocabulary size via the $num\\_words$ parameter. The tokenizer will pick the $num\\_words$ of the most common words from your train dataset.\n",
    "\n",
    "Convert each instance from the train set into sequence of integers using the Tokanizer."
   ]
  },
  {
   "cell_type": "code",
   "execution_count": 8,
   "metadata": {},
   "outputs": [
    {
     "name": "stderr",
     "output_type": "stream",
     "text": [
      "Using TensorFlow backend.\n"
     ]
    }
   ],
   "source": [
    "from keras.preprocessing.text import Tokenizer"
   ]
  },
  {
   "cell_type": "markdown",
   "metadata": {},
   "source": [
    "Encoding each word into unique integer and converting each document into a sequence of integers."
   ]
  },
  {
   "cell_type": "code",
   "execution_count": 9,
   "metadata": {},
   "outputs": [],
   "source": [
    "tokenizer = Tokenizer(num_words=50000)\n",
    "tokenizer.fit_on_texts(x_train)\n",
    "sequences = tokenizer.texts_to_sequences(x_train)"
   ]
  },
  {
   "cell_type": "markdown",
   "metadata": {},
   "source": [
    "You can test it by printing the first few elements from your train set and from the list storing the sequences of integer values. The number of words from the train set for each entry should be the same a the number of integers in the corresponding sequence."
   ]
  },
  {
   "cell_type": "code",
   "execution_count": 10,
   "metadata": {},
   "outputs": [
    {
     "name": "stdout",
     "output_type": "stream",
     "text": [
      "I love this place.\n",
      "The restaurant atmosphere was exquisite.\n",
      "Google mediocre and I imagine Smashburger will pop up.\n",
      "I seriously cannot believe that the owner has so many unexperienced employees that all are running around like chickens with their heads cut off.\n",
      "This place is overpriced, not consistent with their boba, and it really is OVERPRICED!\n"
     ]
    }
   ],
   "source": [
    "for x in x_train[:5]:\n",
    "    print(x)"
   ]
  },
  {
   "cell_type": "code",
   "execution_count": 11,
   "metadata": {},
   "outputs": [
    {
     "data": {
      "text/plain": [
       "[[3, 93, 8, 14],\n",
       " [1, 50, 145, 4, 696],\n",
       " [697, 229, 2, 3, 698, 699, 42, 700, 60],\n",
       " [3,\n",
       "  230,\n",
       "  440,\n",
       "  336,\n",
       "  28,\n",
       "  1,\n",
       "  441,\n",
       "  82,\n",
       "  21,\n",
       "  168,\n",
       "  701,\n",
       "  702,\n",
       "  28,\n",
       "  43,\n",
       "  32,\n",
       "  337,\n",
       "  197,\n",
       "  37,\n",
       "  703,\n",
       "  18,\n",
       "  44,\n",
       "  704,\n",
       "  442,\n",
       "  231],\n",
       " [8, 14, 7, 169, 15, 705, 18, 44, 706, 2, 10, 46, 7, 169]]"
      ]
     },
     "execution_count": 11,
     "metadata": {},
     "output_type": "execute_result"
    }
   ],
   "source": [
    "sequences[:5]"
   ]
  },
  {
   "cell_type": "markdown",
   "metadata": {},
   "source": [
    "The sequences have different lengths and Keras needs inputs to be vectorized and all inputs to have the same length. We have to pad all input sequences to have the same length. We can do this with a built in Keras function, in this case the $pad\\_sequences()$ function.\n",
    "Find the max length of a review and use the [pad_sequences function](https://keras.io/preprocessing/sequence/) to convert all sequences from the encoddings list into the same length."
   ]
  },
  {
   "cell_type": "code",
   "execution_count": 12,
   "metadata": {},
   "outputs": [
    {
     "data": {
      "text/plain": [
       "32"
      ]
     },
     "execution_count": 12,
     "metadata": {},
     "output_type": "execute_result"
    }
   ],
   "source": [
    "length = []\n",
    "for x in x_train:\n",
    "    length.append(len(x.split()))\n",
    "max(length)"
   ]
  },
  {
   "cell_type": "markdown",
   "metadata": {},
   "source": [
    "Converting the sequences into padded sequences so they are all of the same length.  Keras zero-pads at the beginning, if a sentence length is shorter than the maximum length"
   ]
  },
  {
   "cell_type": "code",
   "execution_count": 13,
   "metadata": {
    "scrolled": true
   },
   "outputs": [
    {
     "data": {
      "text/plain": [
       "array([[  0,   0,   0,   0,   0,   0,   0,   0,   0,   0,   0,   0,   0,\n",
       "          0,   0,   0,   0,   0,   0,   0,   0,   0,   0,   0,   0,   0,\n",
       "          0,   0,   0,   0,   0,   0,   0,   0,   0,   0,   3,  93,   8,\n",
       "         14],\n",
       "       [  0,   0,   0,   0,   0,   0,   0,   0,   0,   0,   0,   0,   0,\n",
       "          0,   0,   0,   0,   0,   0,   0,   0,   0,   0,   0,   0,   0,\n",
       "          0,   0,   0,   0,   0,   0,   0,   0,   0,   1,  50, 145,   4,\n",
       "        696],\n",
       "       [  0,   0,   0,   0,   0,   0,   0,   0,   0,   0,   0,   0,   0,\n",
       "          0,   0,   0,   0,   0,   0,   0,   0,   0,   0,   0,   0,   0,\n",
       "          0,   0,   0,   0,   0, 697, 229,   2,   3, 698, 699,  42, 700,\n",
       "         60],\n",
       "       [  0,   0,   0,   0,   0,   0,   0,   0,   0,   0,   0,   0,   0,\n",
       "          0,   0,   0,   3, 230, 440, 336,  28,   1, 441,  82,  21, 168,\n",
       "        701, 702,  28,  43,  32, 337, 197,  37, 703,  18,  44, 704, 442,\n",
       "        231],\n",
       "       [  0,   0,   0,   0,   0,   0,   0,   0,   0,   0,   0,   0,   0,\n",
       "          0,   0,   0,   0,   0,   0,   0,   0,   0,   0,   0,   0,   0,\n",
       "          8,  14,   7, 169,  15, 705,  18,  44, 706,   2,  10,  46,   7,\n",
       "        169]])"
      ]
     },
     "execution_count": 13,
     "metadata": {},
     "output_type": "execute_result"
    }
   ],
   "source": [
    "from keras.preprocessing.sequence import pad_sequences\n",
    "x_train_seq = pad_sequences(sequences, maxlen=40)\n",
    "x_train_seq[:5]"
   ]
  },
  {
   "cell_type": "markdown",
   "metadata": {},
   "source": [
    "***\n",
    "**T1.3** Converting the test data into sequences of the same lenght.\n",
    "\n",
    "Convert the test dataset into the same format. Use the Tokenizer specified ealier."
   ]
  },
  {
   "cell_type": "code",
   "execution_count": 14,
   "metadata": {},
   "outputs": [],
   "source": [
    "sequences_val = tokenizer.texts_to_sequences(x_test)\n",
    "x_test_seq = pad_sequences(sequences_val, maxlen=40)"
   ]
  },
  {
   "cell_type": "markdown",
   "metadata": {},
   "source": [
    "***\n",
    "**T1.4 Train and evaluate MLP with Embedding layer**\n",
    "\n",
    "Now you can train the MLP with the [Embedding layer](https://keras.io/layers/embeddings/) and evaluate it with the test data. The Embedding layer should added as the fist layer in a Sequential model followed by the Flatten layer. After this you can include some Dense layers suitable for your classification problem."
   ]
  },
  {
   "cell_type": "code",
   "execution_count": 15,
   "metadata": {},
   "outputs": [],
   "source": [
    "from keras.models import Sequential\n",
    "from keras.layers import Dense\n",
    "from keras.layers import Flatten\n",
    "from keras.layers.embeddings import Embedding\n",
    "import matplotlib.pyplot as plt"
   ]
  },
  {
   "cell_type": "code",
   "execution_count": 18,
   "metadata": {},
   "outputs": [
    {
     "name": "stderr",
     "output_type": "stream",
     "text": [
      "C:\\ProgramData\\Anaconda3\\lib\\site-packages\\tensorflow_core\\python\\framework\\indexed_slices.py:433: UserWarning: Converting sparse IndexedSlices to a dense Tensor of unknown shape. This may consume a large amount of memory.\n",
      "  \"Converting sparse IndexedSlices to a dense Tensor of unknown shape. \"\n"
     ]
    },
    {
     "name": "stdout",
     "output_type": "stream",
     "text": [
      "Train on 697 samples, validate on 299 samples\n",
      "Epoch 1/10\n",
      " - 5s - loss: 0.6968 - accuracy: 0.4892 - val_loss: 0.6931 - val_accuracy: 0.4983\n",
      "Epoch 2/10\n"
     ]
    },
    {
     "ename": "KeyboardInterrupt",
     "evalue": "",
     "output_type": "error",
     "traceback": [
      "\u001b[1;31m---------------------------------------------------------------------------\u001b[0m",
      "\u001b[1;31mKeyboardInterrupt\u001b[0m                         Traceback (most recent call last)",
      "\u001b[1;32m<ipython-input-18-56226d50404d>\u001b[0m in \u001b[0;36m<module>\u001b[1;34m\u001b[0m\n\u001b[0;32m     10\u001b[0m \u001b[0mmodel_1\u001b[0m\u001b[1;33m.\u001b[0m\u001b[0madd\u001b[0m\u001b[1;33m(\u001b[0m\u001b[0mDense\u001b[0m\u001b[1;33m(\u001b[0m\u001b[1;36m1\u001b[0m\u001b[1;33m,\u001b[0m \u001b[0mactivation\u001b[0m\u001b[1;33m=\u001b[0m\u001b[1;34m'sigmoid'\u001b[0m\u001b[1;33m)\u001b[0m\u001b[1;33m)\u001b[0m\u001b[1;33m\u001b[0m\u001b[1;33m\u001b[0m\u001b[0m\n\u001b[0;32m     11\u001b[0m \u001b[0mmodel_1\u001b[0m\u001b[1;33m.\u001b[0m\u001b[0mcompile\u001b[0m\u001b[1;33m(\u001b[0m\u001b[0mloss\u001b[0m\u001b[1;33m=\u001b[0m\u001b[1;34m'binary_crossentropy'\u001b[0m\u001b[1;33m,\u001b[0m \u001b[0moptimizer\u001b[0m\u001b[1;33m=\u001b[0m\u001b[1;34m'adam'\u001b[0m\u001b[1;33m,\u001b[0m \u001b[0mmetrics\u001b[0m\u001b[1;33m=\u001b[0m\u001b[1;33m[\u001b[0m\u001b[1;34m'accuracy'\u001b[0m\u001b[1;33m]\u001b[0m\u001b[1;33m)\u001b[0m\u001b[1;33m\u001b[0m\u001b[1;33m\u001b[0m\u001b[0m\n\u001b[1;32m---> 12\u001b[1;33m \u001b[0mhistory\u001b[0m \u001b[1;33m=\u001b[0m \u001b[0mmodel_1\u001b[0m\u001b[1;33m.\u001b[0m\u001b[0mfit\u001b[0m\u001b[1;33m(\u001b[0m\u001b[0mx_train_seq\u001b[0m\u001b[1;33m,\u001b[0m \u001b[0my_train\u001b[0m\u001b[1;33m,\u001b[0m \u001b[0mvalidation_data\u001b[0m\u001b[1;33m=\u001b[0m\u001b[1;33m(\u001b[0m\u001b[0mx_test_seq\u001b[0m\u001b[1;33m,\u001b[0m \u001b[0my_test\u001b[0m\u001b[1;33m)\u001b[0m\u001b[1;33m,\u001b[0m \u001b[0mepochs\u001b[0m\u001b[1;33m=\u001b[0m\u001b[1;36m10\u001b[0m\u001b[1;33m,\u001b[0m \u001b[0mbatch_size\u001b[0m\u001b[1;33m=\u001b[0m\u001b[1;36m32\u001b[0m\u001b[1;33m,\u001b[0m \u001b[0mverbose\u001b[0m\u001b[1;33m=\u001b[0m\u001b[1;36m2\u001b[0m\u001b[1;33m)\u001b[0m\u001b[1;33m\u001b[0m\u001b[1;33m\u001b[0m\u001b[0m\n\u001b[0m\u001b[0;32m     13\u001b[0m \u001b[1;33m\u001b[0m\u001b[0m\n\u001b[0;32m     14\u001b[0m \u001b[0mplt\u001b[0m\u001b[1;33m.\u001b[0m\u001b[0mplot\u001b[0m\u001b[1;33m(\u001b[0m\u001b[0mhistory\u001b[0m\u001b[1;33m.\u001b[0m\u001b[0mhistory\u001b[0m\u001b[1;33m[\u001b[0m\u001b[1;34m'loss'\u001b[0m\u001b[1;33m]\u001b[0m\u001b[1;33m)\u001b[0m\u001b[1;33m\u001b[0m\u001b[1;33m\u001b[0m\u001b[0m\n",
      "\u001b[1;32mC:\\ProgramData\\Anaconda3\\lib\\site-packages\\keras\\engine\\training.py\u001b[0m in \u001b[0;36mfit\u001b[1;34m(self, x, y, batch_size, epochs, verbose, callbacks, validation_split, validation_data, shuffle, class_weight, sample_weight, initial_epoch, steps_per_epoch, validation_steps, validation_freq, max_queue_size, workers, use_multiprocessing, **kwargs)\u001b[0m\n\u001b[0;32m   1237\u001b[0m                                         \u001b[0msteps_per_epoch\u001b[0m\u001b[1;33m=\u001b[0m\u001b[0msteps_per_epoch\u001b[0m\u001b[1;33m,\u001b[0m\u001b[1;33m\u001b[0m\u001b[1;33m\u001b[0m\u001b[0m\n\u001b[0;32m   1238\u001b[0m                                         \u001b[0mvalidation_steps\u001b[0m\u001b[1;33m=\u001b[0m\u001b[0mvalidation_steps\u001b[0m\u001b[1;33m,\u001b[0m\u001b[1;33m\u001b[0m\u001b[1;33m\u001b[0m\u001b[0m\n\u001b[1;32m-> 1239\u001b[1;33m                                         validation_freq=validation_freq)\n\u001b[0m\u001b[0;32m   1240\u001b[0m \u001b[1;33m\u001b[0m\u001b[0m\n\u001b[0;32m   1241\u001b[0m     def evaluate(self,\n",
      "\u001b[1;32mC:\\ProgramData\\Anaconda3\\lib\\site-packages\\keras\\engine\\training_arrays.py\u001b[0m in \u001b[0;36mfit_loop\u001b[1;34m(model, fit_function, fit_inputs, out_labels, batch_size, epochs, verbose, callbacks, val_function, val_inputs, shuffle, initial_epoch, steps_per_epoch, validation_steps, validation_freq)\u001b[0m\n\u001b[0;32m    194\u001b[0m                     \u001b[0mins_batch\u001b[0m\u001b[1;33m[\u001b[0m\u001b[0mi\u001b[0m\u001b[1;33m]\u001b[0m \u001b[1;33m=\u001b[0m \u001b[0mins_batch\u001b[0m\u001b[1;33m[\u001b[0m\u001b[0mi\u001b[0m\u001b[1;33m]\u001b[0m\u001b[1;33m.\u001b[0m\u001b[0mtoarray\u001b[0m\u001b[1;33m(\u001b[0m\u001b[1;33m)\u001b[0m\u001b[1;33m\u001b[0m\u001b[1;33m\u001b[0m\u001b[0m\n\u001b[0;32m    195\u001b[0m \u001b[1;33m\u001b[0m\u001b[0m\n\u001b[1;32m--> 196\u001b[1;33m                 \u001b[0mouts\u001b[0m \u001b[1;33m=\u001b[0m \u001b[0mfit_function\u001b[0m\u001b[1;33m(\u001b[0m\u001b[0mins_batch\u001b[0m\u001b[1;33m)\u001b[0m\u001b[1;33m\u001b[0m\u001b[1;33m\u001b[0m\u001b[0m\n\u001b[0m\u001b[0;32m    197\u001b[0m                 \u001b[0mouts\u001b[0m \u001b[1;33m=\u001b[0m \u001b[0mto_list\u001b[0m\u001b[1;33m(\u001b[0m\u001b[0mouts\u001b[0m\u001b[1;33m)\u001b[0m\u001b[1;33m\u001b[0m\u001b[1;33m\u001b[0m\u001b[0m\n\u001b[0;32m    198\u001b[0m                 \u001b[1;32mfor\u001b[0m \u001b[0ml\u001b[0m\u001b[1;33m,\u001b[0m \u001b[0mo\u001b[0m \u001b[1;32min\u001b[0m \u001b[0mzip\u001b[0m\u001b[1;33m(\u001b[0m\u001b[0mout_labels\u001b[0m\u001b[1;33m,\u001b[0m \u001b[0mouts\u001b[0m\u001b[1;33m)\u001b[0m\u001b[1;33m:\u001b[0m\u001b[1;33m\u001b[0m\u001b[1;33m\u001b[0m\u001b[0m\n",
      "\u001b[1;32mC:\\ProgramData\\Anaconda3\\lib\\site-packages\\tensorflow_core\\python\\keras\\backend.py\u001b[0m in \u001b[0;36m__call__\u001b[1;34m(self, inputs)\u001b[0m\n\u001b[0;32m   3725\u001b[0m         \u001b[0mvalue\u001b[0m \u001b[1;33m=\u001b[0m \u001b[0mmath_ops\u001b[0m\u001b[1;33m.\u001b[0m\u001b[0mcast\u001b[0m\u001b[1;33m(\u001b[0m\u001b[0mvalue\u001b[0m\u001b[1;33m,\u001b[0m \u001b[0mtensor\u001b[0m\u001b[1;33m.\u001b[0m\u001b[0mdtype\u001b[0m\u001b[1;33m)\u001b[0m\u001b[1;33m\u001b[0m\u001b[1;33m\u001b[0m\u001b[0m\n\u001b[0;32m   3726\u001b[0m       \u001b[0mconverted_inputs\u001b[0m\u001b[1;33m.\u001b[0m\u001b[0mappend\u001b[0m\u001b[1;33m(\u001b[0m\u001b[0mvalue\u001b[0m\u001b[1;33m)\u001b[0m\u001b[1;33m\u001b[0m\u001b[1;33m\u001b[0m\u001b[0m\n\u001b[1;32m-> 3727\u001b[1;33m     \u001b[0moutputs\u001b[0m \u001b[1;33m=\u001b[0m \u001b[0mself\u001b[0m\u001b[1;33m.\u001b[0m\u001b[0m_graph_fn\u001b[0m\u001b[1;33m(\u001b[0m\u001b[1;33m*\u001b[0m\u001b[0mconverted_inputs\u001b[0m\u001b[1;33m)\u001b[0m\u001b[1;33m\u001b[0m\u001b[1;33m\u001b[0m\u001b[0m\n\u001b[0m\u001b[0;32m   3728\u001b[0m \u001b[1;33m\u001b[0m\u001b[0m\n\u001b[0;32m   3729\u001b[0m     \u001b[1;31m# EagerTensor.numpy() will often make a copy to ensure memory safety.\u001b[0m\u001b[1;33m\u001b[0m\u001b[1;33m\u001b[0m\u001b[1;33m\u001b[0m\u001b[0m\n",
      "\u001b[1;32mC:\\ProgramData\\Anaconda3\\lib\\site-packages\\tensorflow_core\\python\\eager\\function.py\u001b[0m in \u001b[0;36m__call__\u001b[1;34m(self, *args, **kwargs)\u001b[0m\n\u001b[0;32m   1549\u001b[0m       \u001b[0mTypeError\u001b[0m\u001b[1;33m:\u001b[0m \u001b[0mFor\u001b[0m \u001b[0minvalid\u001b[0m \u001b[0mpositional\u001b[0m\u001b[1;33m/\u001b[0m\u001b[0mkeyword\u001b[0m \u001b[0margument\u001b[0m \u001b[0mcombinations\u001b[0m\u001b[1;33m.\u001b[0m\u001b[1;33m\u001b[0m\u001b[1;33m\u001b[0m\u001b[0m\n\u001b[0;32m   1550\u001b[0m     \"\"\"\n\u001b[1;32m-> 1551\u001b[1;33m     \u001b[1;32mreturn\u001b[0m \u001b[0mself\u001b[0m\u001b[1;33m.\u001b[0m\u001b[0m_call_impl\u001b[0m\u001b[1;33m(\u001b[0m\u001b[0margs\u001b[0m\u001b[1;33m,\u001b[0m \u001b[0mkwargs\u001b[0m\u001b[1;33m)\u001b[0m\u001b[1;33m\u001b[0m\u001b[1;33m\u001b[0m\u001b[0m\n\u001b[0m\u001b[0;32m   1552\u001b[0m \u001b[1;33m\u001b[0m\u001b[0m\n\u001b[0;32m   1553\u001b[0m   \u001b[1;32mdef\u001b[0m \u001b[0m_call_impl\u001b[0m\u001b[1;33m(\u001b[0m\u001b[0mself\u001b[0m\u001b[1;33m,\u001b[0m \u001b[0margs\u001b[0m\u001b[1;33m,\u001b[0m \u001b[0mkwargs\u001b[0m\u001b[1;33m,\u001b[0m \u001b[0mcancellation_manager\u001b[0m\u001b[1;33m=\u001b[0m\u001b[1;32mNone\u001b[0m\u001b[1;33m)\u001b[0m\u001b[1;33m:\u001b[0m\u001b[1;33m\u001b[0m\u001b[1;33m\u001b[0m\u001b[0m\n",
      "\u001b[1;32mC:\\ProgramData\\Anaconda3\\lib\\site-packages\\tensorflow_core\\python\\eager\\function.py\u001b[0m in \u001b[0;36m_call_impl\u001b[1;34m(self, args, kwargs, cancellation_manager)\u001b[0m\n\u001b[0;32m   1589\u001b[0m       raise TypeError(\"Keyword arguments {} unknown. Expected {}.\".format(\n\u001b[0;32m   1590\u001b[0m           list(kwargs.keys()), list(self._arg_keywords)))\n\u001b[1;32m-> 1591\u001b[1;33m     \u001b[1;32mreturn\u001b[0m \u001b[0mself\u001b[0m\u001b[1;33m.\u001b[0m\u001b[0m_call_flat\u001b[0m\u001b[1;33m(\u001b[0m\u001b[0margs\u001b[0m\u001b[1;33m,\u001b[0m \u001b[0mself\u001b[0m\u001b[1;33m.\u001b[0m\u001b[0mcaptured_inputs\u001b[0m\u001b[1;33m,\u001b[0m \u001b[0mcancellation_manager\u001b[0m\u001b[1;33m)\u001b[0m\u001b[1;33m\u001b[0m\u001b[1;33m\u001b[0m\u001b[0m\n\u001b[0m\u001b[0;32m   1592\u001b[0m \u001b[1;33m\u001b[0m\u001b[0m\n\u001b[0;32m   1593\u001b[0m   \u001b[1;32mdef\u001b[0m \u001b[0m_filtered_call\u001b[0m\u001b[1;33m(\u001b[0m\u001b[0mself\u001b[0m\u001b[1;33m,\u001b[0m \u001b[0margs\u001b[0m\u001b[1;33m,\u001b[0m \u001b[0mkwargs\u001b[0m\u001b[1;33m)\u001b[0m\u001b[1;33m:\u001b[0m\u001b[1;33m\u001b[0m\u001b[1;33m\u001b[0m\u001b[0m\n",
      "\u001b[1;32mC:\\ProgramData\\Anaconda3\\lib\\site-packages\\tensorflow_core\\python\\eager\\function.py\u001b[0m in \u001b[0;36m_call_flat\u001b[1;34m(self, args, captured_inputs, cancellation_manager)\u001b[0m\n\u001b[0;32m   1690\u001b[0m       \u001b[1;31m# No tape is watching; skip to running the function.\u001b[0m\u001b[1;33m\u001b[0m\u001b[1;33m\u001b[0m\u001b[1;33m\u001b[0m\u001b[0m\n\u001b[0;32m   1691\u001b[0m       return self._build_call_outputs(self._inference_function.call(\n\u001b[1;32m-> 1692\u001b[1;33m           ctx, args, cancellation_manager=cancellation_manager))\n\u001b[0m\u001b[0;32m   1693\u001b[0m     forward_backward = self._select_forward_and_backward_functions(\n\u001b[0;32m   1694\u001b[0m         \u001b[0margs\u001b[0m\u001b[1;33m,\u001b[0m\u001b[1;33m\u001b[0m\u001b[1;33m\u001b[0m\u001b[0m\n",
      "\u001b[1;32mC:\\ProgramData\\Anaconda3\\lib\\site-packages\\tensorflow_core\\python\\eager\\function.py\u001b[0m in \u001b[0;36mcall\u001b[1;34m(self, ctx, args, cancellation_manager)\u001b[0m\n\u001b[0;32m    543\u001b[0m               \u001b[0minputs\u001b[0m\u001b[1;33m=\u001b[0m\u001b[0margs\u001b[0m\u001b[1;33m,\u001b[0m\u001b[1;33m\u001b[0m\u001b[1;33m\u001b[0m\u001b[0m\n\u001b[0;32m    544\u001b[0m               \u001b[0mattrs\u001b[0m\u001b[1;33m=\u001b[0m\u001b[1;33m(\u001b[0m\u001b[1;34m\"executor_type\"\u001b[0m\u001b[1;33m,\u001b[0m \u001b[0mexecutor_type\u001b[0m\u001b[1;33m,\u001b[0m \u001b[1;34m\"config_proto\"\u001b[0m\u001b[1;33m,\u001b[0m \u001b[0mconfig\u001b[0m\u001b[1;33m)\u001b[0m\u001b[1;33m,\u001b[0m\u001b[1;33m\u001b[0m\u001b[1;33m\u001b[0m\u001b[0m\n\u001b[1;32m--> 545\u001b[1;33m               ctx=ctx)\n\u001b[0m\u001b[0;32m    546\u001b[0m         \u001b[1;32melse\u001b[0m\u001b[1;33m:\u001b[0m\u001b[1;33m\u001b[0m\u001b[1;33m\u001b[0m\u001b[0m\n\u001b[0;32m    547\u001b[0m           outputs = execute.execute_with_cancellation(\n",
      "\u001b[1;32mC:\\ProgramData\\Anaconda3\\lib\\site-packages\\tensorflow_core\\python\\eager\\execute.py\u001b[0m in \u001b[0;36mquick_execute\u001b[1;34m(op_name, num_outputs, inputs, attrs, ctx, name)\u001b[0m\n\u001b[0;32m     59\u001b[0m     tensors = pywrap_tensorflow.TFE_Py_Execute(ctx._handle, device_name,\n\u001b[0;32m     60\u001b[0m                                                \u001b[0mop_name\u001b[0m\u001b[1;33m,\u001b[0m \u001b[0minputs\u001b[0m\u001b[1;33m,\u001b[0m \u001b[0mattrs\u001b[0m\u001b[1;33m,\u001b[0m\u001b[1;33m\u001b[0m\u001b[1;33m\u001b[0m\u001b[0m\n\u001b[1;32m---> 61\u001b[1;33m                                                num_outputs)\n\u001b[0m\u001b[0;32m     62\u001b[0m   \u001b[1;32mexcept\u001b[0m \u001b[0mcore\u001b[0m\u001b[1;33m.\u001b[0m\u001b[0m_NotOkStatusException\u001b[0m \u001b[1;32mas\u001b[0m \u001b[0me\u001b[0m\u001b[1;33m:\u001b[0m\u001b[1;33m\u001b[0m\u001b[1;33m\u001b[0m\u001b[0m\n\u001b[0;32m     63\u001b[0m     \u001b[1;32mif\u001b[0m \u001b[0mname\u001b[0m \u001b[1;32mis\u001b[0m \u001b[1;32mnot\u001b[0m \u001b[1;32mNone\u001b[0m\u001b[1;33m:\u001b[0m\u001b[1;33m\u001b[0m\u001b[1;33m\u001b[0m\u001b[0m\n",
      "\u001b[1;31mKeyboardInterrupt\u001b[0m: "
     ]
    }
   ],
   "source": [
    "from numpy.random import seed\n",
    "import tensorflow\n",
    "seed(0)\n",
    "tensorflow.random.set_seed(0)\n",
    "model_1 = Sequential()\n",
    "e = Embedding(50000, 300, input_length=40, trainable=True)\n",
    "model_1.add(e)\n",
    "model_1.add(Flatten())\n",
    "model_1.add(Dense(10, activation='relu'))\n",
    "model_1.add(Dense(1, activation='sigmoid'))\n",
    "model_1.compile(loss='binary_crossentropy', optimizer='adam', metrics=['accuracy'])\n",
    "history = model_1.fit(x_train_seq, y_train, validation_data=(x_test_seq, y_test), epochs=10, batch_size=32, verbose=2)\n",
    "\n",
    "plt.plot(history.history['loss'])\n",
    "plt.plot(history.history['val_loss'])\n",
    "plt.title('model loss')\n",
    "plt.ylabel('loss')\n",
    "plt.xlabel('epoch')\n",
    "plt.legend(['train', 'validation'], loc='upper left')\n",
    "plt.show()\n",
    "\n",
    "# Plot training & validation accuracy values\n",
    "plt.plot(history.history['accuracy'])\n",
    "plt.plot(history.history['val_accuracy'])\n",
    "plt.title('Model accuracy')\n",
    "plt.ylabel('Accuracy')\n",
    "plt.xlabel('Epoch')\n",
    "plt.legend(['Train', 'Test'], loc='upper left')\n",
    "plt.show()"
   ]
  },
  {
   "cell_type": "markdown",
   "metadata": {},
   "source": [
    "# Task 3: Embedding Layer with pre-trained embeddings"
   ]
  },
  {
   "cell_type": "markdown",
   "metadata": {},
   "source": [
    "The Keras embedding layer can also use a word embedding learned elsewhere such as word2vec or GloVe. The key difference is that the embedding layer can be seeded with the pre-trained word embedding weights. For this purpose you need to build a matrix of words using the word2vec/GloVe vectors. You can set number of words that we want to use. The words will be selected as the most frequent words in the training set.\n",
    "\n",
    "The matrix should have the number of row equals to the number of words, and number of column equals to the dimension of the embedding vectors. In each row $i$ the matrix should contain the embedding for a word which is encoded with the $i$ number."
   ]
  },
  {
   "cell_type": "markdown",
   "metadata": {},
   "source": [
    "**T2.1** Load the word2vec and the GloVe models."
   ]
  },
  {
   "cell_type": "code",
   "execution_count": 27,
   "metadata": {},
   "outputs": [],
   "source": [
    "from gensim.models import KeyedVectors\n",
    "import re \n",
    "from gensim.scripts.glove2word2vec import glove2word2vec"
   ]
  },
  {
   "cell_type": "code",
   "execution_count": 28,
   "metadata": {},
   "outputs": [
    {
     "name": "stderr",
     "output_type": "stream",
     "text": [
      "C:\\Users\\3049848\\AppData\\Local\\Anaconda\\anaconda3\\lib\\site-packages\\ipykernel_launcher.py:4: DeprecationWarning: Call to deprecated `wv` (Attribute will be removed in 4.0.0, use self instead).\n",
      "  after removing the cwd from sys.path.\n"
     ]
    }
   ],
   "source": [
    "file = 'D:\\PycharmProjects\\RecordLinkage\\Embedings Files\\GoogleNews-vectors-negative300.bin'\n",
    "#file = '/Users/annajurek/Documents/Queens/word embedding/GoogleNews-vectors-negative300.bin'\n",
    "word2vec = KeyedVectors.load_word2vec_format(file, binary=True, limit=50000)\n",
    "word2vec_vectors = word2vec.wv"
   ]
  },
  {
   "cell_type": "code",
   "execution_count": 18,
   "metadata": {},
   "outputs": [
    {
     "name": "stderr",
     "output_type": "stream",
     "text": [
      "C:\\Users\\3049848\\AppData\\Local\\Anaconda\\anaconda3\\lib\\site-packages\\ipykernel_launcher.py:3: DeprecationWarning: Call to deprecated `wv` (Attribute will be removed in 4.0.0, use self instead).\n",
      "  This is separate from the ipykernel package so we can avoid doing imports until\n"
     ]
    }
   ],
   "source": [
    "filename = 'D:\\PycharmProjects\\RecordLinkage\\Embedings Files\\Glove files\\glove.6B.300d_1.txt'\n",
    "glove = KeyedVectors.load_word2vec_format(filename, binary=False)\n",
    "glove_vectors = glove.wv"
   ]
  },
  {
   "cell_type": "markdown",
   "metadata": {},
   "source": [
    "***\n",
    "**T2.2** Constructing the weight matrix for the embedding layer\n",
    "\n",
    "The matrix can be constructed as follow."
   ]
  },
  {
   "cell_type": "code",
   "execution_count": 29,
   "metadata": {},
   "outputs": [],
   "source": [
    "import numpy as np\n",
    "\n",
    "num_words = len(tokenizer.word_index)+1\n",
    "embedding_matrix = np.zeros((num_words, 300))\n",
    "for word, i in tokenizer.word_index.items():\n",
    "    if word in word2vec_vectors:\n",
    "        embedding_vector = word2vec[word]\n",
    "        embedding_matrix[i] = embedding_vector"
   ]
  },
  {
   "cell_type": "code",
   "execution_count": 30,
   "metadata": {},
   "outputs": [
    {
     "data": {
      "text/plain": [
       "(1689, 300)"
      ]
     },
     "execution_count": 30,
     "metadata": {},
     "output_type": "execute_result"
    }
   ],
   "source": [
    "embedding_matrix.shape"
   ]
  },
  {
   "cell_type": "markdown",
   "metadata": {},
   "source": [
    "You can test whether the matrix has been constructed correctly via comparing its rows with the actual embeddings."
   ]
  },
  {
   "cell_type": "code",
   "execution_count": 31,
   "metadata": {},
   "outputs": [
    {
     "data": {
      "text/plain": [
       "dict_items([('the', 1), ('and', 2), ('i', 3), ('was', 4), ('a', 5), ('to', 6), ('is', 7), ('this', 8), ('of', 9), ('it', 10), ('in', 11), ('food', 12), ('for', 13), ('place', 14), ('not', 15), ('service', 16), ('good', 17), ('with', 18), ('very', 19), ('we', 20), ('so', 21), ('my', 22), ('be', 23), ('were', 24), ('have', 25), ('had', 26), ('great', 27), ('that', 28), ('but', 29), ('you', 30), ('they', 31), ('are', 32), ('here', 33), ('back', 34), ('on', 35), ('at', 36), ('like', 37), ('our', 38), ('go', 39), ('there', 40), ('as', 41), ('will', 42), ('all', 43), ('their', 44), ('time', 45), ('really', 46), ('best', 47), ('just', 48), ('never', 49), ('restaurant', 50), ('nice', 51), ('one', 52), ('also', 53), ('been', 54), ('an', 55), ('ever', 56), ('your', 57), ('if', 58), ('friendly', 59), ('up', 60), (\"don't\", 61), ('would', 62), ('only', 63), ('no', 64), ('disappointed', 65), ('delicious', 66), ('from', 67), ('bad', 68), ('amazing', 69), ('get', 70), ('again', 71), ('out', 72), ('some', 73), ('vegas', 74), (\"i've\", 75), ('he', 76), ('came', 77), ('going', 78), ('staff', 79), (\"i'm\", 80), ('minutes', 81), ('has', 82), ('what', 83), ('by', 84), ('which', 85), ('always', 86), (\"it's\", 87), ('or', 88), ('us', 89), ('experience', 90), ('me', 91), ('even', 92), ('love', 93), ('pretty', 94), ('about', 95), ('when', 96), ('much', 97), ('how', 98), ('got', 99), ('more', 100), ('chicken', 101), ('too', 102), ('steak', 103), ('eat', 104), ('made', 105), (\"won't\", 106), ('could', 107), ('say', 108), ('definitely', 109), ('did', 110), ('worst', 111), ('way', 112), ('times', 113), ('can', 114), ('than', 115), ('being', 116), ('think', 117), ('well', 118), ('menu', 119), ('still', 120), ('better', 121), ('salad', 122), ('them', 123), ('other', 124), ('sushi', 125), (\"didn't\", 126), ('because', 127), ('everything', 128), ('went', 129), ('first', 130), ('feel', 131), ('ordered', 132), ('burger', 133), ('any', 134), ('night', 135), ('taste', 136), ('fresh', 137), ('fantastic', 138), ('quality', 139), ('stars', 140), ('server', 141), ('flavor', 142), ('do', 143), ('perfect', 144), ('atmosphere', 145), ('meal', 146), ('impressed', 147), ('another', 148), ('sandwich', 149), ('excellent', 150), ('she', 151), (\"wasn't\", 152), ('over', 153), ('sauce', 154), ('who', 155), ('two', 156), ('dish', 157), ('breakfast', 158), ('pizza', 159), ('terrible', 160), ('down', 161), ('recommend', 162), ('enough', 163), ('quite', 164), ('right', 165), ('selection', 166), ('know', 167), ('many', 168), ('overpriced', 169), ('after', 170), ('town', 171), ('worth', 172), ('side', 173), ('far', 174), ('awesome', 175), ('dining', 176), ('beer', 177), ('soon', 178), ('before', 179), ('dishes', 180), ('hot', 181), ('then', 182), ('few', 183), ('thing', 184), ('slow', 185), ('prices', 186), ('little', 187), ('take', 188), ('special', 189), ('loved', 190), ('probably', 191), ('overall', 192), ('clean', 193), ('sure', 194), ('said', 195), ('bland', 196), ('around', 197), ('eating', 198), ('inside', 199), ('bit', 200), ('twice', 201), ('absolutely', 202), ('each', 203), ('tell', 204), ('people', 205), ('once', 206), ('order', 207), ('buffet', 208), ('lot', 209), ('since', 210), ('come', 211), ('fries', 212), ('cooked', 213), ('super', 214), ('nothing', 215), ('day', 216), ('now', 217), ('waited', 218), ('waiter', 219), ('both', 220), ('cold', 221), ('enjoy', 222), ('wonderful', 223), ('happy', 224), ('rude', 225), ('last', 226), ('am', 227), ('spicy', 228), ('mediocre', 229), ('seriously', 230), ('off', 231), ('meat', 232), ('lunch', 233), ('disappointing', 234), ('left', 235), ('his', 236), ('table', 237), ('tender', 238), ('family', 239), ('ambiance', 240), (\"i'll\", 241), ('tried', 242), ('want', 243), ('attentive', 244), ('took', 245), ('next', 246), ('served', 247), ('bread', 248), ('potato', 249), ('bacon', 250), ('2', 251), ('sat', 252), ('tasty', 253), ('poor', 254), ('every', 255), ('things', 256), ('horrible', 257), ('extremely', 258), ('fish', 259), ('1', 260), (\"can't\", 261), ('wait', 262), ('management', 263), ('coming', 264), ('10', 265), ('tables', 266), ('must', 267), ('felt', 268), ('tasted', 269), ('make', 270), ('bar', 271), ('places', 272), ('warm', 273), ('pho', 274), ('give', 275), ('thought', 276), ('try', 277), ('getting', 278), ('pork', 279), ('barely', 280), ('business', 281), ('dessert', 282), ('enjoyed', 283), ('husband', 284), ('fact', 285), ('outside', 286), ('real', 287), ('beat', 288), ('huge', 289), ('waiting', 290), ('30', 291), ('everyone', 292), ('customer', 293), ('shrimp', 294), ('avoid', 295), ('chips', 296), ('eaten', 297), ('folks', 298), ('helpful', 299), ('see', 300), ('while', 301), ('fun', 302), ('old', 303), ('area', 304), ('portions', 305), ('visit', 306), ('reasonable', 307), ('5', 308), ('sucked', 309), ('check', 310), ('hit', 311), ('return', 312), ('ice', 313), ('full', 314), ('needs', 315), ('either', 316), ('incredible', 317), ('highly', 318), ('kept', 319), ('chef', 320), ('hard', 321), ('wrong', 322), ('her', 323), ('talk', 324), ('waitress', 325), ('phoenix', 326), ('4', 327), ('servers', 328), ('where', 329), ('waste', 330), ('away', 331), ('steaks', 332), ('someone', 333), ('tacos', 334), ('may', 335), ('believe', 336), ('running', 337), ('dinner', 338), ('elsewhere', 339), ('should', 340), ('treated', 341), ('although', 342), ('duck', 343), ('pleasant', 344), (\"isn't\", 345), ('small', 346), ('fine', 347), ('establishment', 348), ('40', 349), ('arrived', 350), ('setting', 351), ('least', 352), ('today', 353), ('salmon', 354), ('sick', 355), ('high', 356), ('butter', 357), ('authentic', 358), ('thai', 359), ('delish', 360), ('flavorful', 361), ('especially', 362), ('bring', 363), ('gave', 364), ('yummy', 365), ('hope', 366), ('deal', 367), ('priced', 368), ('kind', 369), ('melt', 370), ('mouth', 371), ('considering', 372), ('vibe', 373), ('subway', 374), ('amount', 375), ('empty', 376), ('egg', 377), ('rolls', 378), ('average', 379), ('ok', 380), ('tasteless', 381), ('pizzas', 382), ('though', 383), ('wine', 384), ('disappointment', 385), ('list', 386), ('him', 387), ('honest', 388), ('door', 389), ('equally', 390), ('recommended', 391), ('35', 392), ('potatoes', 393), ('under', 394), (\"i'd\", 395), ('care', 396), ('beautiful', 397), ('none', 398), ('oh', 399), ('such', 400), ('long', 401), ('damn', 402), ('sweet', 403), ('owners', 404), ('insulted', 405), ('heart', 406), ('quick', 407), ('hour', 408), ('leave', 409), ('seated', 410), ('regular', 411), ('dog', 412), ('money', 413), ('stay', 414), ('dirty', 415), ('strip', 416), ('piece', 417), ('location', 418), ('perfectly', 419), ('friends', 420), ('total', 421), ('checked', 422), ('decor', 423), ('water', 424), ('20', 425), ('found', 426), ('ate', 427), ('stop', 428), ('3', 429), ('seafood', 430), ('ask', 431), ('anytime', 432), ('expect', 433), ('please', 434), ('generous', 435), ('unless', 436), ('wall', 437), ('greek', 438), ('review', 439), ('cannot', 440), ('owner', 441), ('cut', 442), ('pulled', 443), ('stomach', 444), ('complain', 445), ('does', 446), ('find', 447), ('ten', 448), ('years', 449), ('hate', 450), ('guess', 451), ('suck', 452), ('use', 453), ('realized', 454), ('favorite', 455), ('look', 456), ('wasting', 457), ('opportunity', 458), ('rice', 459), ('company', 460), ('rare', 461), ('char', 462), ('treat', 463), ('fan', 464), ('portion', 465), ('crispy', 466), ('sitting', 467), ('fairly', 468), ('fast', 469), ('ended', 470), ('tea', 471), ('biscuits', 472), ('boot', 473), ('mmmm', 474), ('entrees', 475), ('close', 476), ('point', 477), ('during', 478), ('home', 479), ('immediately', 480), ('bites', 481), ('crazy', 482), ('burgers', 483), ('charcoal', 484), ('unfortunately', 485), ('flat', 486), ('let', 487), ('perfection', 488), ('impeccable', 489), ('vegetables', 490), ('feels', 491), ('gold', 492), ('multiple', 493), ('meh', 494), ('cool', 495), ('baby', 496), ('lovers', 497), ('preparing', 498), ('chinese', 499), ('grease', 500), ('finally', 501), ('desserts', 502), ('kids', 503), ('nasty', 504), ('week', 505), ('different', 506), ('cute', 507), ('new', 508), ('itself', 509), ('six', 510), ('reasonably', 511), (\"friend's\", 512), ('pasta', 513), ('thin', 514), ('chewy', 515), ('almost', 516), ('told', 517), ('texture', 518), ('those', 519), ('cheap', 520), ('black', 521), (\"we'll\", 522), ('note', 523), ('pancakes', 524), ('room', 525), ('course', 526), ('mall', 527), ('sub', 528), ('offers', 529), ('vegetarian', 530), ('filet', 531), ('double', 532), ('cheeseburger', 533), ('spot', 534), (\"wouldn't\", 535), ('heard', 536), ('salt', 537), ('batter', 538), ('soggy', 539), ('live', 540), ('literally', 541), ('lobster', 542), ('homemade', 543), ('crowd', 544), ('mid', 545), ('looked', 546), ('overwhelmed', 547), ('stayed', 548), ('until', 549), ('single', 550), ('sucks', 551), ('omg', 552), ('asked', 553), ('dealing', 554), (\"we've\", 555), ('services', 556), ('received', 557), ('yourself', 558), ('cook', 559), ('these', 560), ('looking', 561), ('become', 562), ('yet', 563), ('par', 564), ('trying', 565), ('ambience', 566), ('music', 567), (\"we're\", 568), ('attitudes', 569), ('towards', 570), ('customers', 571), ('style', 572), ('needed', 573), ('pepper', 574), ('color', 575), ('wings', 576), ('cream', 577), ('feeling', 578), ('tots', 579), ('disrespected', 580), ('anyone', 581), ('combination', 582), ('big', 583), ('decided', 584), ('fare', 585), ('pricing', 586), ('house', 587), ('anything', 588), ('cafe', 589), ('serves', 590), ('seasoned', 591), ('recently', 592), ('crust', 593), ('greeted', 594), ('restaurants', 595), ('wanted', 596), ('manager', 597), ('guy', 598), ('behind', 599), ('definately', 600), ('drive', 601), ('deserves', 602), ('totally', 603), ('toasted', 604), ('satisfying', 605), ('large', 606), ('stepped', 607), ('green', 608), ('bars', 609), ('bathroom', 610), ('flower', 611), (\"you'd\", 612), ('stir', 613), ('fry', 614), ('job', 615), ('zero', 616), ('belly', 617), ('inexpensive', 618), ('pleased', 619), ('beef', 620), ('evening', 621), ('appetizers', 622), ('scallop', 623), ('possible', 624), ('bay', 625), ('neighborhood', 626), ('brunch', 627), ('hands', 628), ('paper', 629), ('simply', 630), ('cashier', 631), ('brought', 632), ('tap', 633), ('refill', 634), ('same', 635), ('name', 636), ('bachi', 637), ('recommendation', 638), ('coffee', 639), ('salads', 640), ('started', 641), ('tuna', 642), ('human', 643), ('hair', 644), ('valley', 645), (\"you're\", 646), ('finish', 647), ('dark', 648), ('convenient', 649), ('quickly', 650), ('vinegrette', 651), ('outstanding', 652), ('anyway', 653), ('seen', 654), ('watched', 655), ('pay', 656), ('set', 657), ('ladies', 658), ('dirt', 659), ('part', 660), ('drink', 661), ('soooo', 662), ('yum', 663), ('party', 664), ('serve', 665), ('indian', 666), ('hummus', 667), ('lacking', 668), ('hip', 669), ('needless', 670), ('decent', 671), ('something', 672), ('front', 673), ('shower', 674), ('wrap', 675), ('min', 676), ('bug', 677), ('why', 678), ('edible', 679), ('cheese', 680), ('taco', 681), ('dressing', 682), ('interesting', 683), ('delight', 684), ('several', 685), ('star', 686), ('sticks', 687), ('tribute', 688), ('maybe', 689), ('cow', 690), ('bye', 691), ('ripped', 692), ('price', 693), ('value', 694), ('fly', 695), ('exquisite', 696), ('google', 697), ('imagine', 698), ('smashburger', 699), ('pop', 700), ('unexperienced', 701), ('employees', 702), ('chickens', 703), ('heads', 704), ('consistent', 705), ('boba', 706), ('dry', 707), ('sliced', 708), ('brisket', 709), ('words', 710), ('jewel', 711), ('las', 712), ('exactly', 713), ('hoping', 714), ('nearly', 715), ('living', 716), ('disagree', 717), ('fellow', 718), ('yelpers', 719), ('known', 720), ('excalibur', 721), ('common', 722), ('sense', 723), ('sunglasses', 724), ('dressed', 725), ('rudely', 726), ('crawfish', 727), ('shawarrrrrrma', 728), ('liked', 729), ('sound', 730), ('actual', 731), ('cheated', 732), ('pink', 733), ('genuinely', 734), ('enthusiastic', 735), ('thus', 736), ('visited', 737), ('chains', 738), ('easily', 739), ('dos', 740), ('gringos', 741), (\"you'll\", 742), ('golden', 743), ('phenomenal', 744), ('relax', 745), ('douchey', 746), ('indoor', 747), ('garden', 748), ('promise', 749), ('fails', 750), ('deliver', 751), ('worries', 752), ('cape', 753), ('cod', 754), ('ravoli', 755), ('cranberry', 756), ('relocated', 757), ('firehouse', 758), ('providing', 759), ('opinion', 760), ('gc', 761), ('drinks', 762), ('neither', 763), ('sadly', 764), ('gordon', 765), (\"ramsey's\", 766), ('shall', 767), ('sharply', 768), ('trip', 769), ('reason', 770), ('fill', 771), ('binge', 772), ('drinking', 773), ('carbs', 774), ('tragedy', 775), ('struck', 776), ('mom', 777), ('sad', 778), ('guacamole', 779), ('puréed', 780), ('hopes', 781), ('grill', 782), ('fell', 783), ('alone', 784), ('bits', 785), ('top', 786), ('original', 787), ('sides', 788), ('mixed', 789), ('mushrooms', 790), ('yukon', 791), ('puree', 792), ('white', 793), ('corn', 794), ('beateous', 795), ('strike', 796), ('wants', 797), ('rushed', 798), ('arrives', 799), ('delights', 800), ('boys', 801), ('lordy', 802), ('khao', 803), ('soi', 804), ('missed', 805), ('curry', 806), ('watch', 807), ('bellagio', 808), ('anticipated', 809), ('solid', 810), ('greedy', 811), ('corporation', 812), ('dime', 813), ('nicest', 814), ('exceptional', 815), ('reviews', 816), ('walked', 817), ('smelled', 818), ('trap', 819), ('others', 820), ('greasy', 821), ('unhealthy', 822), ('serivce', 823), ('postinos', 824), ('play', 825), ('mistake', 826), ('classics', 827), ('sorely', 828), ('peanut', 829), ('ayce', 830), ('stupid', 831), ('pan', 832), ('cakes', 833), ('raving', 834), ('sugary', 835), ('disaster', 836), ('tailored', 837), ('palate', 838), ('year', 839), ('diverse', 840), ('standard', 841), ('17', 842), ('fucking', 843), ('touched', 844), ('wontons', 845), ('thick', 846), ('companions', 847), ('olives', 848), ('experienced', 849), ('frenchman', 850), ('ventilation', 851), ('upgrading', 852), (\"mom's\", 853), ('multi', 854), ('grain', 855), ('pumpkin', 856), ('pecan', 857), ('fluffy', 858), ('college', 859), ('cooking', 860), ('class', 861), ('located', 862), ('crystals', 863), ('shopping', 864), ('aria', 865), ('problem', 866), ('charge', 867), ('11', 868), ('99', 869), ('bigger', 870), ('dollars', 871), ('terrific', 872), ('thrilled', 873), ('accommodations', 874), ('daughter', 875), ('excuse', 876), ('saving', 877), ('grilled', 878), ('yellow', 879), ('saffron', 880), ('seasoning', 881), ('brick', 882), ('oven', 883), ('app', 884), ('yellowtail', 885), ('carpaccio', 886), ('tonight', 887), ('elk', 888), ('regularly', 889), ('apparently', 890), ('reheated', 891), ('wedges', 892), ('unwrapped', 893), ('mile', 894), ('brushfire', 895), ('mains', 896), ('uninspired', 897), ('classic', 898), ('maine', 899), ('roll', 900), ('hand', 901), ('pastas', 902), ('main', 903), ('older', 904), ('30s', 905), ('professional', 906), ('end', 907), ('mussels', 908), ('reduction', 909), ('ensued', 910), ('patty', 911), ('falling', 912), ('apart', 913), ('picture', 914), ('uploaded', 915), ('yeah', 916), ('delicioso', 917), ('ignored', 918), ('hostess', 919), ('myself', 920), ('pleasure', 921), ('nargile', 922), ('gotten', 923), ('summarize', 924), ('nay', 925), ('transcendant', 926), ('brings', 927), ('joy', 928), ('memory', 929), ('pneumatic', 930), ('condiment', 931), ('dispenser', 932), ('call', 933), ('steakhouse', 934), ('properly', 935), ('understand', 936), ('awful', 937), ('based', 938), ('effort', 939), ('show', 940), ('gratitude', 941), ('thoroughly', 942), ('rubber', 943), ('ahead', 944), ('warmer', 945), ('poisoning', 946), ('bouchon', 947), ('compliments', 948), ('suffers', 949), ('playing', 950), ('passed', 951), ('atrocious', 952), ('donut', 953), ('life', 954), ('less', 955), ('interior', 956), ('inconsiderate', 957), ('ri', 958), ('calamari', 959), ('joke', 960), ('bisque', 961), ('bussell', 962), ('sprouts', 963), ('risotto', 964), ('beauty', 965), ('stood', 966), ('begin', 967), ('awkwardly', 968), ('pale', 969), ('instead', 970), ('satisfied', 971), ('despicable', 972), ('onion', 973), ('rings', 974), ('says', 975), ('hi', 976), ('courteous', 977), ('crepe', 978), ('station', 979), ('frustrated', 980), ('thumbs', 981), ('screams', 982), ('legit', 983), ('book', 984), (\"somethat's\", 985), ('mention', 986), ('pears', 987), ('almonds', 988), ('winner', 989), ('meet', 990), ('expectations', 991), ('hardest', 992), ('decision', 993), ('honestly', 994), (\"m's\", 995), ('supposed', 996), ('leaves', 997), ('desired', 998), ('send', 999), ('verge', 1000), ('having', 1001), ('attack', 1002), ('bbq', 1003), ('lighter', 1004), ('public', 1005), ('ways', 1006), ('poorly', 1007), ('constructed', 1008), ('hell', 1009), ('apologize', 1010), ('rock', 1011), ('casino', 1012), ('step', 1013), ('forward', 1014), ('witnessed', 1015), ('guests', 1016), ('ians', 1017), ('bill', 1018), ('without', 1019), ('pissd', 1020), ('might', 1021), (\"let's\", 1022), ('yama', 1023), ('disbelief', 1024), ('qualified', 1025), ('version', 1026), ('foods', 1027), ('promptly', 1028), ('otto', 1029), ('welcome', 1030), ('truly', 1031), ('unbelievably', 1032), ('glad', 1033), ('tigerlilly', 1034), ('afternoon', 1035), ('beyond', 1036), ('dine', 1037), ('weekend', 1038), (\"owner's\", 1039), ('doing', 1040), ('shots', 1041), ('fireball', 1042), ('north', 1043), ('scottsdale', 1044), ('packed', 1045), ('luke', 1046), ('sever', 1047), ('occasional', 1048), ('pats', 1049), ('ground', 1050), ('smeared', 1051), ('tracked', 1052), ('everywhere', 1053), ('pile', 1054), ('bird', 1055), ('poop', 1056), ('correction', 1057), ('heimer', 1058), ('disgusting', 1059), ('japanese', 1060), ('dude', 1061), ('sour', 1062), ('soups', 1063), ('surprised', 1064), ('article', 1065), ('read', 1066), ('focused', 1067), ('spices', 1068), ('paying', 1069), ('7', 1070), ('85', 1071), ('looks', 1072), (\"kid's\", 1073), ('wienerschnitzel', 1074), ('idea', 1075), ('customize', 1076), ('usual', 1077), ('eggplant', 1078), ('bean', 1079), ('panna', 1080), ('cotta', 1081), ('driving', 1082), ('tucson', 1083), ('done', 1084), ('favor', 1085), ('workers', 1086), ('tater', 1087), ('southwest', 1088), ('military', 1089), ('discount', 1090), (\"denny's\", 1091), ('handling', 1092), ('rowdy', 1093), ('flavourful', 1094), ('level', 1095), ('spice', 1096), ('whelm', 1097), ('soup', 1098), ('venturing', 1099), ('wines', 1100), ('mouths', 1101), ('bellies', 1102), ('noca', 1103), ('above', 1104), ('2007', 1105), ('heat', 1106), ('hungry', 1107), ('stuffed', 1108), ('sergeant', 1109), ('auju', 1110), ('s', 1111), ('flavored', 1112), ('eew', 1113), ('complete', 1114), ('overhaul', 1115), ('second', 1116), ('classy', 1117), ('succulent', 1118), ('baseball', 1119), ('killer', 1120), ('chai', 1121), ('latte', 1122), ('four', 1123), ('blue', 1124), ('shirt', 1125), ('letting', 1126), ('power', 1127), ('buldogis', 1128), ('gourmet', 1129), ('swung', 1130), ('deeply', 1131), ('trimmed', 1132), ('sit', 1133), ('together', 1134), ('dont', 1135), ('macarons', 1136), ('insanely', 1137), ('plater', 1138), ('waaaaaayyyyyyyyyy', 1139), ('rated', 1140), ('saying', 1141), ('gem', 1142), ('fail', 1143), ('metro', 1144), ('spaghetti', 1145), ('whatsoever', 1146), ('receives', 1147), ('put', 1148), ('plastic', 1149), ('containers', 1150), ('opposed', 1151), ('cramming', 1152), ('takeout', 1153), ('boxes', 1154), ('daily', 1155), ('specials', 1156), ('group', 1157), ('crowds', 1158), ('downtown', 1159), ('juries', 1160), ('lawyers', 1161), ('court', 1162), ('deliciously', 1163), ('moist', 1164), ('rotating', 1165), ('beers', 1166), ('highlight', 1167), ('hopefully', 1168), ('bodes', 1169), ('refused', 1170), ('anymore', 1171), ('fo', 1172), ('burned', 1173), ('saganaki', 1174), ('piano', 1175), ('soundtrack', 1176), ('angry', 1177), ('employee', 1178), ('due', 1179), ('acknowledged', 1180), ('forgetting', 1181), ('nutshell', 1182), ('restaraunt', 1183), ('smells', 1184), ('market', 1185), ('sewer', 1186), ('inch', 1187), ('wire', 1188), ('salsa', 1189), (\"haven't\", 1190), ('gone', 1191), ('brother', 1192), ('law', 1193), ('works', 1194), ('martini', 1195), ('letdown', 1196), ('rather', 1197), ('camelback', 1198), ('shop', 1199), ('cartel', 1200), ('guys', 1201), ('loving', 1202), ('son', 1203), (\"he's\", 1204), (\"it'll\", 1205), ('trips', 1206), ('sashimi', 1207), ('brownish', 1208), ('obviously', 1209), ('disgusted', 1210), ('italian', 1211), ('perpared', 1212), ('presentation', 1213), ('giant', 1214), ('slices', 1215), ('toast', 1216), ('lightly', 1217), ('dusted', 1218), ('powdered', 1219), ('sugar', 1220), ('cost', 1221), ('guest', 1222), (\"joey's\", 1223), ('voted', 1224), ('readers', 1225), ('magazine', 1226), ('drastically', 1227), ('sample', 1228), ('sooooo', 1229), ('lost', 1230), ('shoe', 1231), ('leather', 1232), ('strangers', 1233), ('gross', 1234), ('cant', 1235), ('besides', 1236), (\"costco's\", 1237), ('steiners', 1238), ('ratio', 1239), ('tenders', 1240), ('unsatisfying', 1241), ('oysters', 1242), ('satifying', 1243), ('staying', 1244), ('mgm', 1245), ('vomited', 1246), ('stale', 1247), ('judge', 1248), ('fabulous', 1249), ('greens', 1250), ('hearts', 1251), ('palm', 1252), ('wrapped', 1253), ('dates', 1254), ('attention', 1255), ('ignore', 1256), ('final', 1257), ('blow', 1258), ('cheesecurds', 1259), ('disapppointment', 1260), ('asking', 1261), ('used', 1262), ('menus', 1263), ('handed', 1264), ('listed', 1265), ('orders', 1266), (\"don't'\", 1267), ('combo', 1268), ('ala', 1269), ('cart', 1270), ('bother', 1271), ('gyros', 1272), ('missing', 1273), ('suggestions', 1274), ('bucks', 1275), ('head', 1276), ('ourselves', 1277), ('hurry', 1278), ('round', 1279), ('descriptions', 1280), ('eel', 1281), ('mayo', 1282), ('sauces', 1283), ('redeeming', 1284), ('sexy', 1285), ('outrageously', 1286), ('flirting', 1287), ('hottest', 1288), ('person', 1289), ('generic', 1290), (\"we'd\", 1291), ('con', 1292), ('spotty', 1293), ('help', 1294), ('appetizer', 1295), ('inflate', 1296), ('smaller', 1297), ('grow', 1298), ('rapidly', 1299), ('naan', 1300), ('pine', 1301), ('nut', 1302), ('world', 1303), ('fried', 1304), ('noodles', 1305), ('lots', 1306), ('options', 1307), ('kiddos', 1308), ('100', 1309), ('actually', 1310), ('fella', 1311), ('huevos', 1312), ('rancheros', 1313), ('appealing', 1314), ('pace', 1315), ('pictures', 1316), ('kabuki', 1317), ('grandmother', 1318), ('roasted', 1319), ('lover', 1320), ('means', 1321), ('complaints', 1322), ('rarely', 1323), (\"ryan's\", 1324), ('edinburgh', 1325), ('revisiting', 1326), ('hamburger', 1327), ('work', 1328), ('hospitality', 1329), ('industry', 1330), ('paradise', 1331), ('refrained', 1332), ('recommending', 1333), ('cibo', 1334), ('longer', 1335), ('lukewarm', 1336), ('batch', 1337), ('thinking', 1338), ('yay', 1339), ('quaint', 1340), ('simple', 1341), ('rolled', 1342), ('eyes', 1343), (\"that's\", 1344), ('red', 1345), ('velvet', 1346), ('cake', 1347), ('ohhh', 1348), ('stuff', 1349), ('car', 1350), ('breaks', 1351), ('starving', 1352), ('rinse', 1353), ('mind', 1354), ('nude', 1355), ('including', 1356), ('massive', 1357), ('meatloaf', 1358), (\"shouldn't\", 1359), ('eggs', 1360), ('hella', 1361), ('salty', 1362), ('showed', 1363), ('given', 1364), ('climbing', 1365), ('kitchen', 1366), ('fs', 1367), ('strawberry', 1368), ('croutons', 1369), ('extra', 1370), ('plus', 1371), ('surprise', 1372), ('bartender', 1373), ('honor', 1374), ('hut', 1375), ('coupons', 1376), ('venture', 1377), ('further', 1378), ('plantains', 1379), ('ribeye', 1380), ('mesquite', 1381), ('managed', 1382), ('blandest', 1383), ('cuisine', 1384), ('margaritas', 1385), ('hole', 1386), ('mexican', 1387), ('street', 1388), ('forty', 1389), ('five', 1390), ('vain', 1391), ('joint', 1392), ('sun', 1393), ('dripping', 1394), ('mostly', 1395), ('crisp', 1396), ('del', 1397), ('avoided', 1398), ('vinaigrette', 1399), ('unprofessional', 1400), ('loyal', 1401), ('patron', 1402), ('creamy', 1403), ('couple', 1404), ('ago', 1405), ('burrittos', 1406), ('blah', 1407), ('stopped', 1408), ('madison', 1409), ('ironman', 1410), ('whenever', 1411), ('finger', 1412), ('item', 1413), ('hours', 1414), ('later', 1415), ('crumby', 1416), ('downright', 1417), ('spicier', 1418), ('prefer', 1419), ('boyfriend', 1420), ('completely', 1421), ('delightful', 1422), ('cause', 1423), ('owned', 1424), ('mac', 1425), ('negligent', 1426), ('unwelcome', 1427), ('suggest', 1428), ('lacked', 1429), ('lemon', 1430), ('raspberry', 1431), ('cocktail', 1432), ('english', 1433), ('muffin', 1434), ('untoasted', 1435), ('flair', 1436), ('bartenders', 1437), ('wayyy', 1438), ('prime', 1439), ('rib', 1440), ('section', 1441), ('likes', 1442), ('case', 1443), ('colder', 1444), ('hiro', 1445), ('circumstances', 1446), ('tops', 1447), ('struggle', 1448), ('wave', 1449), ('positive', 1450), ('provided', 1451), ('teeth', 1452), ('sore', 1453), ('forth', 1454), ('helped', 1455), ('friend', 1456), ('tartar', 1457), ('mandalay', 1458), ('opened', 1459), ('crema', 1460), ('café', 1461), ('expanded', 1462), ('liking', 1463), ('number', 1464), ('reasons', 1465), ('reviewing', 1466), ('calligraphy', 1467), ('efficient', 1468), ('bloddy', 1469), (\"mary's\", 1470), ('dinners', 1471), ('serving', 1472), ('performed', 1473), ('editing', 1474), ('beans', 1475), ('90', 1476), ('inviting', 1477), ('space', 1478), ('tiny', 1479), ('elegantly', 1480), ('decorated', 1481), ('comfortable', 1482), ('tapas', 1483), ('absolute', 1484), ('continue', 1485), ('andddd', 1486), ('date', 1487), ('plethora', 1488), ('sandwiches', 1489), ('gets', 1490), ('seal', 1491), ('approval', 1492), ('rating', 1493), ('third', 1494), ('writing', 1495), ('hawaiian', 1496), ('breeze', 1497), ('mango', 1498), ('magic', 1499), ('pineapple', 1500), ('smoothies', 1501), (\"they're\", 1502), ('need', 1503), ('quit', 1504), ('soooooo', 1505), ('freaking', 1506), ('papers', 1507), ('exceeding', 1508), ('dreamed', 1509), ('blame', 1510), ('placed', 1511), ('stretch', 1512), ('imagination', 1513), ('waitresses', 1514), ('pricey', 1515), ('thanks', 1516), ('dylan', 1517), ('t', 1518), ('tummy', 1519), ('hereas', 1520), ('event', 1521), ('held', 1522), (\"world's\", 1523), ('annoying', 1524), ('drunk', 1525), ('eclectic', 1526), ('changing', 1527), ('biscuit', 1528), ('highlighted', 1529), ('unique', 1530), ('nyc', 1531), ('bagels', 1532), ('selections', 1533), ('lox', 1534), ('capers', 1535), ('pita', 1536), ('refreshing', 1537), (\"girlfriend's\", 1538), ('veal', 1539), ('00', 1540), ('lived', 1541), ('1979', 1542), ('foot', 1543), ('into', 1544), ('proven', 1545), ('dead', 1546), ('consider', 1547), ('theft', 1548), ('tongue', 1549), ('cheek', 1550), ('accountant', 1551), ('screwed', 1552), ('spend', 1553), ('tip', 1554), ('lady', 1555), ('spring', 1556), ('absolutley', 1557), ('flavorless', 1558), ('describing', 1559), ('tepid', 1560), ('weird', 1561), ('incredibly', 1562), ('prepared', 1563), ('banana', 1564), ('petrified', 1565), ('eyed', 1566), ('peas', 1567), ('unreal', 1568), ('recall', 1569), ('charged', 1570), ('concern', 1571), ('mellow', 1572), ('mushroom', 1573), ('frozen', 1574), ('pucks', 1575), ('disgust', 1576), ('register', 1577), ('past', 1578), ('goat', 1579), ('skimp', 1580), ('wow', 1581), ('worse', 1582), ('humiliated', 1583), ('worker', 1584), ('bunch', 1585), ('callings', 1586), ('however', 1587), ('recent', 1588), ('particular', 1589), ('bought', 1590), ('imaginative', 1591), ('sangria', 1592), ('half', 1593), ('glass', 1594), ('12', 1595), ('ridiculous', 1596), ('penne', 1597), ('vodka', 1598), ('bruschetta', 1599), ('devine', 1600), ('combos', 1601), ('23', 1602), ('expected', 1603), ('imagined', 1604), ('highlights', 1605), ('nigiri', 1606), ('lighting', 1607), ('mood', 1608), ('bite', 1609), ('hooked', 1610), ('hello', 1611), ('strange', 1612), (\"weren't\", 1613), ('somewhat', 1614), ('self', 1615), ('proclaimed', 1616), ('wildly', 1617), ('jerk', 1618), ('concept', 1619), ('fiancé', 1620), ('middle', 1621), ('overcooked', 1622), ('wife', 1623), ('hated', 1624), ('coconut', 1625), ('meals', 1626), ('connoisseur', 1627), ('difference', 1628), ('between', 1629), ('certainly', 1630), ('awkward', 1631), ('5lb', 1632), ('4ths', 1633), ('gristle', 1634), ('fat', 1635), ('reading', 1636), ('thats', 1637), ('mess', 1638), ('join', 1639), ('club', 1640), ('via', 1641), ('email', 1642), ('appalling', 1643), ('low', 1644), ('tolerance', 1645), ('polite', 1646), ('wash', 1647), ('otherwise', 1648), ('thirty', 1649), ('8', 1650), ('vacant', 1651), ('spends', 1652), ('talking', 1653), ('themselves', 1654), ('nachos', 1655), ('movies', 1656), ('modern', 1657), ('maintaining', 1658), ('touch', 1659), ('coziness', 1660), ('summary', 1661), ('largely', 1662), ('mean', 1663), ('famous', 1664), (\"couldn't\", 1665), ('milkshake', 1666), ('chocolate', 1667), ('milk', 1668), ('lastly', 1669), ('mozzarella', 1670), ('jalapeno', 1671), ('stinks', 1672), ('apple', 1673), ('juice', 1674), ('prompt', 1675), ('turn', 1676), ('doubt', 1677), ('else', 1678), ('buying', 1679), ('block', 1680), (\"caballero's\", 1681), ('bowl', 1682), ('caesar', 1683), ('hankering', 1684), ('rge', 1685), ('fillet', 1686), ('relleno', 1687), ('plate', 1688)])"
      ]
     },
     "execution_count": 31,
     "metadata": {},
     "output_type": "execute_result"
    }
   ],
   "source": [
    "tokenizer.word_index.items()"
   ]
  },
  {
   "cell_type": "code",
   "execution_count": 32,
   "metadata": {},
   "outputs": [
    {
     "name": "stdout",
     "output_type": "stream",
     "text": [
      "True\n"
     ]
    }
   ],
   "source": [
    "print(np.array_equal(embedding_matrix[1] ,word2vec['the']))"
   ]
  },
  {
   "cell_type": "markdown",
   "metadata": {},
   "source": [
    "***\n",
    "**T2.3** Implementing MLP\n",
    "\n",
    "Now you can implement the MLP. You will have to pass the embedding_matrix as the $weights$ attribute. Finally, we do not want to update the learned word weights in this model, therefore we will set the $trainable$ attribute for the model to be False."
   ]
  },
  {
   "cell_type": "code",
   "execution_count": 19,
   "metadata": {},
   "outputs": [],
   "source": [
    "Embedding(num_words, 300, weights=[embedding_matrix], input_length=40, trainable=False)"
   ]
  },
  {
   "cell_type": "markdown",
   "metadata": {},
   "source": [
    "Update the model and evaluate it with the test data for comparison."
   ]
  },
  {
   "cell_type": "code",
   "execution_count": 33,
   "metadata": {},
   "outputs": [
    {
     "name": "stdout",
     "output_type": "stream",
     "text": [
      "Train on 697 samples, validate on 299 samples\n",
      "Epoch 1/10\n",
      " - 1s - loss: 0.6666 - acc: 0.6026 - val_loss: 0.6486 - val_acc: 0.6488\n",
      "Epoch 2/10\n",
      " - 0s - loss: 0.5105 - acc: 0.8278 - val_loss: 0.6070 - val_acc: 0.6890\n",
      "Epoch 3/10\n",
      " - 0s - loss: 0.3824 - acc: 0.9053 - val_loss: 0.5784 - val_acc: 0.7057\n",
      "Epoch 4/10\n",
      " - 0s - loss: 0.2968 - acc: 0.9354 - val_loss: 0.5664 - val_acc: 0.7258\n",
      "Epoch 5/10\n",
      " - 0s - loss: 0.2373 - acc: 0.9584 - val_loss: 0.5578 - val_acc: 0.7224\n",
      "Epoch 6/10\n",
      " - 0s - loss: 0.1956 - acc: 0.9641 - val_loss: 0.5521 - val_acc: 0.7425\n",
      "Epoch 7/10\n",
      " - 0s - loss: 0.1665 - acc: 0.9713 - val_loss: 0.5524 - val_acc: 0.7425\n",
      "Epoch 8/10\n",
      " - 0s - loss: 0.1401 - acc: 0.9785 - val_loss: 0.5577 - val_acc: 0.7291\n",
      "Epoch 9/10\n",
      " - 0s - loss: 0.1228 - acc: 0.9828 - val_loss: 0.5525 - val_acc: 0.7458\n",
      "Epoch 10/10\n",
      " - 0s - loss: 0.1035 - acc: 0.9842 - val_loss: 0.5588 - val_acc: 0.7492\n"
     ]
    },
    {
     "data": {
      "image/png": "[encoded data removed]",
      "text/plain": [
       "<Figure size 432x288 with 1 Axes>"
      ]
     },
     "metadata": {
      "needs_background": "light"
     },
     "output_type": "display_data"
    },
    {
     "data": {
      "image/png": "[encoded data removed]",
      "text/plain": [
       "<Figure size 432x288 with 1 Axes>"
      ]
     },
     "metadata": {
      "needs_background": "light"
     },
     "output_type": "display_data"
    }
   ],
   "source": [
    "model_2 = Sequential()\n",
    "e = Embedding(num_words, 300, weights=[embedding_matrix], input_length=40, trainable=False)\n",
    "model_2.add(e)\n",
    "model_2.add(Flatten())\n",
    "model_2.add(Dense(10, activation='relu'))\n",
    "model_2.add(Dense(1, activation='sigmoid'))\n",
    "model_2.compile(loss='binary_crossentropy', optimizer='adam', metrics=['accuracy'])\n",
    "history = model_2.fit(x_train_seq, y_train, validation_data=(x_test_seq, y_test), epochs=10, batch_size=32, verbose=2)\n",
    "\n",
    "plt.plot(history.history['loss'])\n",
    "plt.plot(history.history['val_loss'])\n",
    "plt.title('model loss')\n",
    "plt.ylabel('loss')\n",
    "plt.xlabel('epoch')\n",
    "plt.legend(['train', 'validation'], loc='upper left')\n",
    "plt.show()\n",
    "\n",
    "# Plot training & validation accuracy values\n",
    "plt.plot(history.history['acc'])\n",
    "plt.plot(history.history['val_acc'])\n",
    "plt.title('Model accuracy')\n",
    "plt.ylabel('Accuracy')\n",
    "plt.xlabel('Epoch')\n",
    "plt.legend(['Train', 'Test'], loc='upper left')\n",
    "plt.show()"
   ]
  },
  {
   "cell_type": "code",
   "execution_count": 65,
   "metadata": {},
   "outputs": [
    {
     "name": "stdout",
     "output_type": "stream",
     "text": [
      "_________________________________________________________________\n",
      "Layer (type)                 Output Shape              Param #   \n",
      "=================================================================\n",
      "embedding_9 (Embedding)      (None, 40, 300)           15000000  \n",
      "_________________________________________________________________\n",
      "flatten_9 (Flatten)          (None, 12000)             0         \n",
      "_________________________________________________________________\n",
      "dense_10 (Dense)             (None, 10)                120010    \n",
      "_________________________________________________________________\n",
      "dense_11 (Dense)             (None, 1)                 11        \n",
      "=================================================================\n",
      "Total params: 15,120,021\n",
      "Trainable params: 15,120,021\n",
      "Non-trainable params: 0\n",
      "_________________________________________________________________\n"
     ]
    }
   ],
   "source": [
    "model_1.summary()"
   ]
  },
  {
   "cell_type": "markdown",
   "metadata": {},
   "source": [
    "***\n",
    "**T2.4** Change the $trainable$ attribute to True and see if there is any difference in the performance."
   ]
  },
  {
   "cell_type": "code",
   "execution_count": 34,
   "metadata": {},
   "outputs": [
    {
     "name": "stdout",
     "output_type": "stream",
     "text": [
      "Train on 697 samples, validate on 299 samples\n",
      "Epoch 1/10\n",
      " - 1s - loss: 0.6667 - acc: 0.5940 - val_loss: 0.6472 - val_acc: 0.5886\n",
      "Epoch 2/10\n",
      " - 0s - loss: 0.4684 - acc: 0.8694 - val_loss: 0.5812 - val_acc: 0.7191\n",
      "Epoch 3/10\n",
      " - 0s - loss: 0.2913 - acc: 0.9498 - val_loss: 0.5329 - val_acc: 0.7291\n",
      "Epoch 4/10\n",
      " - 0s - loss: 0.1684 - acc: 0.9770 - val_loss: 0.4992 - val_acc: 0.7492\n",
      "Epoch 5/10\n",
      " - 0s - loss: 0.0964 - acc: 0.9885 - val_loss: 0.4886 - val_acc: 0.7659\n",
      "Epoch 6/10\n",
      " - 0s - loss: 0.0566 - acc: 0.9971 - val_loss: 0.4771 - val_acc: 0.7793\n",
      "Epoch 7/10\n",
      " - 0s - loss: 0.0358 - acc: 0.9986 - val_loss: 0.4942 - val_acc: 0.7759\n",
      "Epoch 8/10\n",
      " - 0s - loss: 0.0248 - acc: 1.0000 - val_loss: 0.4875 - val_acc: 0.7826\n",
      "Epoch 9/10\n",
      " - 0s - loss: 0.0174 - acc: 1.0000 - val_loss: 0.4924 - val_acc: 0.7726\n",
      "Epoch 10/10\n",
      " - 0s - loss: 0.0126 - acc: 1.0000 - val_loss: 0.5002 - val_acc: 0.7826\n"
     ]
    },
    {
     "data": {
      "text/plain": [
       "<keras.callbacks.History at 0x242d2feb9b0>"
      ]
     },
     "execution_count": 34,
     "metadata": {},
     "output_type": "execute_result"
    }
   ],
   "source": [
    "model_3 = Sequential()\n",
    "e = Embedding(num_words, 300, weights=[embedding_matrix], input_length=40, trainable=True)\n",
    "model_3.add(e)\n",
    "model_3.add(Flatten())\n",
    "model_3.add(Dense(10, activation='relu'))\n",
    "model_3.add(Dense(1, activation='sigmoid'))\n",
    "model_3.compile(loss='binary_crossentropy', optimizer='adam', metrics=['accuracy'])\n",
    "model_3.fit(x_train_seq, y_train, validation_data=(x_test_seq, y_test), epochs=10, batch_size=32, verbose=2)"
   ]
  },
  {
   "cell_type": "markdown",
   "metadata": {},
   "source": [
    "# Task 3: Convolutional  Neural Network"
   ]
  },
  {
   "cell_type": "markdown",
   "metadata": {},
   "source": [
    "**T3.1** Build a CNN using the embeding layer as previously. You can add filters using [Conv1D](https://keras.io/layers/convolutional/) layers and perform pooling via [max-pooling layer](https://keras.io/layers/pooling/). At the end you should add some Dense layers suitable for the classification task. Try using fixed pre-trained weights and trainable embeddings for comparison."
   ]
  },
  {
   "cell_type": "code",
   "execution_count": 35,
   "metadata": {},
   "outputs": [],
   "source": [
    "from keras.layers import Conv1D, GlobalMaxPooling1D"
   ]
  },
  {
   "cell_type": "markdown",
   "metadata": {},
   "source": [
    "Using static word vectors extracted from Word2Vec"
   ]
  },
  {
   "cell_type": "code",
   "execution_count": 36,
   "metadata": {},
   "outputs": [
    {
     "name": "stdout",
     "output_type": "stream",
     "text": [
      "Train on 697 samples, validate on 299 samples\n",
      "Epoch 1/10\n",
      " - 1s - loss: 0.6326 - acc: 0.6385 - val_loss: 0.5841 - val_acc: 0.6823\n",
      "Epoch 2/10\n",
      " - 1s - loss: 0.4005 - acc: 0.8895 - val_loss: 0.4840 - val_acc: 0.7492\n",
      "Epoch 3/10\n",
      " - 1s - loss: 0.2456 - acc: 0.9469 - val_loss: 0.4273 - val_acc: 0.7960\n",
      "Epoch 4/10\n",
      " - 1s - loss: 0.1478 - acc: 0.9842 - val_loss: 0.4291 - val_acc: 0.7826\n",
      "Epoch 5/10\n",
      " - 1s - loss: 0.0850 - acc: 0.9957 - val_loss: 0.4059 - val_acc: 0.8094\n",
      "Epoch 6/10\n",
      " - 1s - loss: 0.0518 - acc: 0.9957 - val_loss: 0.4001 - val_acc: 0.8094\n",
      "Epoch 7/10\n",
      " - 1s - loss: 0.0337 - acc: 0.9971 - val_loss: 0.4144 - val_acc: 0.8094\n",
      "Epoch 8/10\n",
      " - 1s - loss: 0.0226 - acc: 0.9986 - val_loss: 0.4586 - val_acc: 0.7926\n",
      "Epoch 9/10\n",
      " - 1s - loss: 0.0164 - acc: 1.0000 - val_loss: 0.4431 - val_acc: 0.8027\n",
      "Epoch 10/10\n",
      " - 1s - loss: 0.0119 - acc: 1.0000 - val_loss: 0.4268 - val_acc: 0.8094\n"
     ]
    },
    {
     "data": {
      "text/plain": [
       "<keras.callbacks.History at 0x242d4098518>"
      ]
     },
     "execution_count": 36,
     "metadata": {},
     "output_type": "execute_result"
    }
   ],
   "source": [
    "cnn_1 = Sequential()\n",
    "e = Embedding(num_words, 300, weights=[embedding_matrix], input_length=40, trainable=False)\n",
    "cnn_1.add(e)\n",
    "cnn_1.add(Conv1D(128, 5, activation='relu'))\n",
    "cnn_1.add(GlobalMaxPooling1D())\n",
    "cnn_1.add(Dense(10, activation='relu'))\n",
    "cnn_1.add(Dense(1, activation='sigmoid'))\n",
    "cnn_1.compile(loss='binary_crossentropy', optimizer='adam', metrics=['accuracy'])\n",
    "cnn_1.fit(x_train_seq, y_train, validation_data=(x_test_seq, y_test), epochs=10, batch_size=32, verbose=2)"
   ]
  },
  {
   "cell_type": "markdown",
   "metadata": {},
   "source": [
    "Trainable word2vec ebmeddings."
   ]
  },
  {
   "cell_type": "code",
   "execution_count": 38,
   "metadata": {},
   "outputs": [
    {
     "name": "stdout",
     "output_type": "stream",
     "text": [
      "Train on 697 samples, validate on 299 samples\n",
      "Epoch 1/10\n",
      " - 2s - loss: 0.6352 - acc: 0.6370 - val_loss: 0.5747 - val_acc: 0.6823\n",
      "Epoch 2/10\n",
      " - 1s - loss: 0.3355 - acc: 0.9125 - val_loss: 0.4478 - val_acc: 0.7960\n",
      "Epoch 3/10\n",
      " - 1s - loss: 0.1626 - acc: 0.9756 - val_loss: 0.4093 - val_acc: 0.8328\n",
      "Epoch 4/10\n",
      " - 1s - loss: 0.0753 - acc: 0.9914 - val_loss: 0.3720 - val_acc: 0.8462\n",
      "Epoch 5/10\n",
      " - 1s - loss: 0.0342 - acc: 0.9971 - val_loss: 0.3824 - val_acc: 0.8361\n",
      "Epoch 6/10\n",
      " - 1s - loss: 0.0176 - acc: 0.9986 - val_loss: 0.3825 - val_acc: 0.8428\n",
      "Epoch 7/10\n",
      " - 1s - loss: 0.0106 - acc: 1.0000 - val_loss: 0.3890 - val_acc: 0.8395\n",
      "Epoch 8/10\n",
      " - 1s - loss: 0.0070 - acc: 1.0000 - val_loss: 0.4008 - val_acc: 0.8562\n",
      "Epoch 9/10\n",
      " - 1s - loss: 0.0053 - acc: 1.0000 - val_loss: 0.4016 - val_acc: 0.8528\n",
      "Epoch 10/10\n",
      " - 1s - loss: 0.0040 - acc: 1.0000 - val_loss: 0.4079 - val_acc: 0.8595\n"
     ]
    },
    {
     "data": {
      "text/plain": [
       "<keras.callbacks.History at 0x242d1698f60>"
      ]
     },
     "execution_count": 38,
     "metadata": {},
     "output_type": "execute_result"
    }
   ],
   "source": [
    "cnn_2 = Sequential()\n",
    "e = Embedding(num_words, 300, weights=[embedding_matrix], input_length=40, trainable=True)\n",
    "cnn_2.add(e)\n",
    "cnn_2.add(Conv1D(128, 5, activation='relu'))\n",
    "cnn_2.add(GlobalMaxPooling1D())\n",
    "cnn_2.add(Dense(10, activation='relu'))\n",
    "cnn_2.add(Dense(1, activation='sigmoid'))\n",
    "cnn_2.compile(loss='binary_crossentropy', optimizer='adam', metrics=['accuracy'])\n",
    "cnn_2.fit(x_train_seq, y_train, validation_data=(x_test_seq, y_test), epochs=10, batch_size=32, verbose=2)"
   ]
  },
  {
   "cell_type": "markdown",
   "metadata": {},
   "source": [
    "Training custom embeddings with Keras Embedding layer"
   ]
  },
  {
   "cell_type": "code",
   "execution_count": 41,
   "metadata": {},
   "outputs": [
    {
     "name": "stdout",
     "output_type": "stream",
     "text": [
      "Train on 697 samples, validate on 299 samples\n",
      "Epoch 1/10\n",
      " - 1s - loss: 0.6874 - acc: 0.5423 - val_loss: 0.6689 - val_acc: 0.6689\n",
      "Epoch 2/10\n",
      " - 1s - loss: 0.5765 - acc: 0.8221 - val_loss: 0.5434 - val_acc: 0.7625\n",
      "Epoch 3/10\n",
      " - 0s - loss: 0.2515 - acc: 0.9584 - val_loss: 0.4190 - val_acc: 0.8094\n",
      "Epoch 4/10\n",
      " - 0s - loss: 0.0524 - acc: 0.9914 - val_loss: 0.4269 - val_acc: 0.7960\n",
      "Epoch 5/10\n",
      " - 0s - loss: 0.0081 - acc: 1.0000 - val_loss: 0.4583 - val_acc: 0.8027\n",
      "Epoch 6/10\n",
      " - 1s - loss: 0.0029 - acc: 1.0000 - val_loss: 0.4837 - val_acc: 0.7960\n",
      "Epoch 7/10\n",
      " - 0s - loss: 0.0016 - acc: 1.0000 - val_loss: 0.4943 - val_acc: 0.7960\n",
      "Epoch 8/10\n",
      " - 0s - loss: 0.0010 - acc: 1.0000 - val_loss: 0.5100 - val_acc: 0.7926\n",
      "Epoch 9/10\n",
      " - 0s - loss: 7.6924e-04 - acc: 1.0000 - val_loss: 0.5163 - val_acc: 0.7993\n",
      "Epoch 10/10\n",
      " - 0s - loss: 5.8448e-04 - acc: 1.0000 - val_loss: 0.5280 - val_acc: 0.7993\n"
     ]
    },
    {
     "data": {
      "text/plain": [
       "<keras.callbacks.History at 0x242da0b6a20>"
      ]
     },
     "execution_count": 41,
     "metadata": {},
     "output_type": "execute_result"
    }
   ],
   "source": [
    "cnn_3 = Sequential()\n",
    "e = Embedding(num_words, 300, input_length=40, trainable=True)\n",
    "cnn_3.add(e)\n",
    "cnn_3.add(Conv1D(filters=100, kernel_size=2, padding='valid', activation='relu', strides=1))\n",
    "cnn_3.add(GlobalMaxPooling1D())\n",
    "cnn_3.add(Dense(256, activation='relu'))\n",
    "cnn_3.add(Dense(1, activation='sigmoid'))\n",
    "cnn_3.compile(loss='binary_crossentropy', optimizer='adam', metrics=['accuracy'])\n",
    "cnn_3.fit(x_train_seq, y_train, validation_data=(x_test_seq, y_test), epochs=10, batch_size=32, verbose=2)"
   ]
  },
  {
   "cell_type": "code",
   "execution_count": null,
   "metadata": {},
   "outputs": [],
   "source": []
  }
 ],
 "metadata": {
  "kernelspec": {
   "display_name": "Python 3",
   "language": "python",
   "name": "python3"
  },
  "language_info": {
   "codemirror_mode": {
    "name": "ipython",
    "version": 3
   },
   "file_extension": ".py",
   "mimetype": "text/x-python",
   "name": "python",
   "nbconvert_exporter": "python",
   "pygments_lexer": "ipython3",
   "version": "3.7.6"
  }
 },
 "nbformat": 4,
 "nbformat_minor": 2
}
