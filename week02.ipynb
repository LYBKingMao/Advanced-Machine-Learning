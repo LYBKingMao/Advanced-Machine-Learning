{
 "cells": [
  {
   "cell_type": "markdown",
   "metadata": {},
   "source": [
    "# Practical 1#\n",
    "\n",
    "In this practical you will solve a number of linear regression problems using both linear algebra based approach and machine learning models. Linear regression model can be represented as the following equation:\n",
    "$$\n",
    "y=\\beta_0 + \\beta_1x_1 + \\dots +\\beta_kx_k\n",
    "$$\n",
    "\n",
    "where $x_i$ are the features of $x$, $y$ represent class label of $x$ and $\\beta_0 \\dots \\beta_k$ are the parameters of the model. Solving linear regression model means finding the values of the parameters using training data."
   ]
  },
  {
   "cell_type": "markdown",
   "metadata": {},
   "source": [
    "## Task 1##\n",
    "\n",
    "We will start with solving a simple regression problem using linear algebra."
   ]
  },
  {
   "cell_type": "markdown",
   "metadata": {},
   "source": [
    "**T1.1 Run the cell below to generate your input/output data**"
   ]
  },
  {
   "cell_type": "code",
   "execution_count": 63,
   "metadata": {},
   "outputs": [
    {
     "data": {
      "text/plain": [
       "[<matplotlib.lines.Line2D at 0x1f665f4d898>]"
      ]
     },
     "execution_count": 63,
     "metadata": {},
     "output_type": "execute_result"
    },
    {
     "data": {
      "image/png": "[encoded data removed]",
      "text/plain": [
       "<Figure size 432x288 with 1 Axes>"
      ]
     },
     "metadata": {
      "needs_background": "light"
     },
     "output_type": "display_data"
    }
   ],
   "source": [
    "import numpy as np\n",
    "import matplotlib.pyplot as plt\n",
    "from numpy import linalg as LA \n",
    "\n",
    "# input values from 0 to 30\n",
    "inputs = 30 * np.random.random((20, 1)) #20-1 array,0,30\n",
    "# output = a*input + b with noise\n",
    "outputs = 0.5 * inputs + 1.0 + np.random.normal(size=inputs.shape)\n",
    "plt.plot(inputs,outputs,'ro')"
   ]
  },
  {
   "cell_type": "markdown",
   "metadata": {},
   "source": [
    "***\n",
    "**T1.2 Including bias** \n",
    "\n",
    "In order to represent the linear regression equation in matrix notation we need to add vector of ones to our input data. This can be done by creating a column of ones and concatenating ([numpy.concatenate](https://docs.scipy.org/doc/numpy/reference/generated/numpy.concatenate.html)) it with your input data."
   ]
  },
  {
   "cell_type": "code",
   "execution_count": 64,
   "metadata": {},
   "outputs": [
    {
     "data": {
      "text/plain": [
       "array([[ 1.        , 19.79196031],\n",
       "       [ 1.        ,  1.04681687],\n",
       "       [ 1.        ,  3.99637361],\n",
       "       [ 1.        , 29.49701336],\n",
       "       [ 1.        ,  7.83795442],\n",
       "       [ 1.        , 10.37751207],\n",
       "       [ 1.        ,  9.96428537],\n",
       "       [ 1.        , 12.35476335],\n",
       "       [ 1.        ,  7.34467257],\n",
       "       [ 1.        , 10.44541333],\n",
       "       [ 1.        , 15.89842306],\n",
       "       [ 1.        , 19.89119364],\n",
       "       [ 1.        , 21.34163919],\n",
       "       [ 1.        ,  4.1184548 ],\n",
       "       [ 1.        , 11.18432931],\n",
       "       [ 1.        , 12.01838042],\n",
       "       [ 1.        ,  4.76773272],\n",
       "       [ 1.        ,  7.11913971],\n",
       "       [ 1.        , 21.03316399],\n",
       "       [ 1.        , 12.4338488 ]])"
      ]
     },
     "execution_count": 64,
     "metadata": {},
     "output_type": "execute_result"
    }
   ],
   "source": [
    "#Adding bias\n",
    "bias=np.ones((20,1))\n",
    "x=np.concatenate((bias,inputs),1)\n",
    "x"
   ]
  },
  {
   "cell_type": "markdown",
   "metadata": {},
   "source": [
    "***\n",
    "**T1.3 Finding parameters (coefficients) of the regression models**\n",
    "\n",
    "Using linear algebra and the generated data, find the coefficients $\\beta=(\\beta_0, \\beta_1)$ by solving the equation from the lecture: $\\beta=(X^TX)^{-1}X^TY$"
   ]
  },
  {
   "cell_type": "code",
   "execution_count": 8,
   "metadata": {},
   "outputs": [
    {
     "data": {
      "text/plain": [
       "array([[1.08371521],\n",
       "       [0.46992866]])"
      ]
     },
     "execution_count": 8,
     "metadata": {},
     "output_type": "execute_result"
    }
   ],
   "source": [
    "XT=np.transpose(x)\n",
    "XTX=np.dot(XT,x)\n",
    "XTY=np.dot(XT,outputs)\n",
    "coe = LA.inv(XTX)@XTY\n",
    "coe"
   ]
  },
  {
   "cell_type": "markdown",
   "metadata": {},
   "source": [
    "***\n",
    "**T1.4. Visualizing the model**\n",
    "\n",
    "Plot the graph of the linear model (line: $y=\\beta_0+\\beta_1x_1$) together with the raw data points (inputs/outputs) using [matplotlib](https://matplotlib.org/tutorials/introductory/pyplot.html) in order to see how well the model fits the data."
   ]
  },
  {
   "cell_type": "code",
   "execution_count": 9,
   "metadata": {},
   "outputs": [
    {
     "data": {
      "text/plain": [
       "[<matplotlib.lines.Line2D at 0x1ad3dd80240>,\n",
       " <matplotlib.lines.Line2D at 0x1ad3dd80358>]"
      ]
     },
     "execution_count": 9,
     "metadata": {},
     "output_type": "execute_result"
    },
    {
     "data": {
      "image/png": "[encoded data removed]",
      "text/plain": [
       "<Figure size 432x288 with 1 Axes>"
      ]
     },
     "metadata": {
      "needs_background": "light"
     },
     "output_type": "display_data"
    }
   ],
   "source": [
    "plt.plot(inputs,outputs, 'or', inputs, x@coe, 'b-')"
   ]
  },
  {
   "cell_type": "markdown",
   "metadata": {},
   "source": [
    "***\n",
    "**T1.4 Finding coefficient of Ridge regression model**\n",
    "\n",
    "Using linear algebra and the generated data, find coefficients of a Ridge regression model. Ridge model is obtained by adding regularizer to the loss function of the linear regression model. The coefficients of the model can be found with the following formula: $\\beta=(X^TX + \\lambda I)^{-1}X^TY$. We can set $\\lambda = 0.5.$"
   ]
  },
  {
   "cell_type": "code",
   "execution_count": 10,
   "metadata": {},
   "outputs": [
    {
     "data": {
      "text/plain": [
       "array([[0.99339385],\n",
       "       [0.47437013]])"
      ]
     },
     "execution_count": 10,
     "metadata": {},
     "output_type": "execute_result"
    }
   ],
   "source": [
    "#calculate regression coefficients with regularisation\n",
    "B1 = LA.inv(XTX + 0.5*np.eye(x.shape[1]))@XTY #I is identity matrix\n",
    "B1"
   ]
  },
  {
   "cell_type": "markdown",
   "metadata": {},
   "source": [
    "***\n",
    "**T1.5 Visualizing th model**\n",
    "\n",
    "As previously, use matplotlib to see how well the model fits the data."
   ]
  },
  {
   "cell_type": "code",
   "execution_count": 11,
   "metadata": {},
   "outputs": [
    {
     "data": {
      "text/plain": [
       "[<matplotlib.lines.Line2D at 0x1ad3e1f0e10>,\n",
       " <matplotlib.lines.Line2D at 0x1ad3e1f0f28>,\n",
       " <matplotlib.lines.Line2D at 0x1ad3e1f7358>]"
      ]
     },
     "execution_count": 11,
     "metadata": {},
     "output_type": "execute_result"
    },
    {
     "data": {
      "image/png": "[encoded data removed]",
      "text/plain": [
       "<Figure size 432x288 with 1 Axes>"
      ]
     },
     "metadata": {
      "needs_background": "light"
     },
     "output_type": "display_data"
    }
   ],
   "source": [
    "plt.plot(inputs,outputs, 'or', inputs, x@coe, 'b-', inputs, x@B1, 'g-')"
   ]
  },
  {
   "cell_type": "markdown",
   "metadata": {},
   "source": [
    "## Task 2\n",
    "\n",
    "In this task you will build linear and ridge regression models for predicting wine quality. You will use linear algebra based approach and also models from scikit-learn library for comparison."
   ]
  },
  {
   "cell_type": "markdown",
   "metadata": {},
   "source": [
    "***\n",
    "**T2.1 Loading dataset with Pandas**\n",
    "\n",
    "In this task we use pandas library to read data from a csv file. Familiarize yourself with the wine quality dataset presented below."
   ]
  },
  {
   "cell_type": "code",
   "execution_count": 9,
   "metadata": {},
   "outputs": [],
   "source": [
    "import pandas as pd\n",
    "import numpy as np\n",
    "from sklearn.model_selection import train_test_split\n",
    "from sklearn.linear_model import LinearRegression\n",
    "from numpy import linalg as LA \n",
    "#reading data with panda\n",
    "df = pd.read_csv('winequality.csv')"
   ]
  },
  {
   "cell_type": "code",
   "execution_count": 10,
   "metadata": {},
   "outputs": [
    {
     "data": {
      "text/html": [
       "<div>\n",
       "<style scoped>\n",
       "    .dataframe tbody tr th:only-of-type {\n",
       "        vertical-align: middle;\n",
       "    }\n",
       "\n",
       "    .dataframe tbody tr th {\n",
       "        vertical-align: top;\n",
       "    }\n",
       "\n",
       "    .dataframe thead th {\n",
       "        text-align: right;\n",
       "    }\n",
       "</style>\n",
       "<table border=\"1\" class=\"dataframe\">\n",
       "  <thead>\n",
       "    <tr style=\"text-align: right;\">\n",
       "      <th></th>\n",
       "      <th>fixed acidity</th>\n",
       "      <th>volatile acidity</th>\n",
       "      <th>citric acid</th>\n",
       "      <th>residual sugar</th>\n",
       "      <th>chlorides</th>\n",
       "      <th>free sulfur dioxide</th>\n",
       "      <th>total sulfur dioxide</th>\n",
       "      <th>density</th>\n",
       "      <th>pH</th>\n",
       "      <th>sulphates</th>\n",
       "      <th>alcohol</th>\n",
       "      <th>quality</th>\n",
       "    </tr>\n",
       "  </thead>\n",
       "  <tbody>\n",
       "    <tr>\n",
       "      <th>0</th>\n",
       "      <td>7.4</td>\n",
       "      <td>0.70</td>\n",
       "      <td>0.00</td>\n",
       "      <td>1.9</td>\n",
       "      <td>0.076</td>\n",
       "      <td>11.0</td>\n",
       "      <td>34.0</td>\n",
       "      <td>0.9978</td>\n",
       "      <td>3.51</td>\n",
       "      <td>0.56</td>\n",
       "      <td>9.4</td>\n",
       "      <td>5</td>\n",
       "    </tr>\n",
       "    <tr>\n",
       "      <th>1</th>\n",
       "      <td>7.8</td>\n",
       "      <td>0.88</td>\n",
       "      <td>0.00</td>\n",
       "      <td>2.6</td>\n",
       "      <td>0.098</td>\n",
       "      <td>25.0</td>\n",
       "      <td>67.0</td>\n",
       "      <td>0.9968</td>\n",
       "      <td>3.20</td>\n",
       "      <td>0.68</td>\n",
       "      <td>9.8</td>\n",
       "      <td>5</td>\n",
       "    </tr>\n",
       "    <tr>\n",
       "      <th>2</th>\n",
       "      <td>7.8</td>\n",
       "      <td>0.76</td>\n",
       "      <td>0.04</td>\n",
       "      <td>2.3</td>\n",
       "      <td>0.092</td>\n",
       "      <td>15.0</td>\n",
       "      <td>54.0</td>\n",
       "      <td>0.9970</td>\n",
       "      <td>3.26</td>\n",
       "      <td>0.65</td>\n",
       "      <td>9.8</td>\n",
       "      <td>5</td>\n",
       "    </tr>\n",
       "    <tr>\n",
       "      <th>3</th>\n",
       "      <td>11.2</td>\n",
       "      <td>0.28</td>\n",
       "      <td>0.56</td>\n",
       "      <td>1.9</td>\n",
       "      <td>0.075</td>\n",
       "      <td>17.0</td>\n",
       "      <td>60.0</td>\n",
       "      <td>0.9980</td>\n",
       "      <td>3.16</td>\n",
       "      <td>0.58</td>\n",
       "      <td>9.8</td>\n",
       "      <td>6</td>\n",
       "    </tr>\n",
       "    <tr>\n",
       "      <th>4</th>\n",
       "      <td>7.4</td>\n",
       "      <td>0.70</td>\n",
       "      <td>0.00</td>\n",
       "      <td>1.9</td>\n",
       "      <td>0.076</td>\n",
       "      <td>11.0</td>\n",
       "      <td>34.0</td>\n",
       "      <td>0.9978</td>\n",
       "      <td>3.51</td>\n",
       "      <td>0.56</td>\n",
       "      <td>9.4</td>\n",
       "      <td>5</td>\n",
       "    </tr>\n",
       "  </tbody>\n",
       "</table>\n",
       "</div>"
      ],
      "text/plain": [
       "   fixed acidity  volatile acidity  citric acid  residual sugar  chlorides  \\\n",
       "0            7.4              0.70         0.00             1.9      0.076   \n",
       "1            7.8              0.88         0.00             2.6      0.098   \n",
       "2            7.8              0.76         0.04             2.3      0.092   \n",
       "3           11.2              0.28         0.56             1.9      0.075   \n",
       "4            7.4              0.70         0.00             1.9      0.076   \n",
       "\n",
       "   free sulfur dioxide  total sulfur dioxide  density    pH  sulphates  \\\n",
       "0                 11.0                  34.0   0.9978  3.51       0.56   \n",
       "1                 25.0                  67.0   0.9968  3.20       0.68   \n",
       "2                 15.0                  54.0   0.9970  3.26       0.65   \n",
       "3                 17.0                  60.0   0.9980  3.16       0.58   \n",
       "4                 11.0                  34.0   0.9978  3.51       0.56   \n",
       "\n",
       "   alcohol  quality  \n",
       "0      9.4        5  \n",
       "1      9.8        5  \n",
       "2      9.8        5  \n",
       "3      9.8        6  \n",
       "4      9.4        5  "
      ]
     },
     "execution_count": 10,
     "metadata": {},
     "output_type": "execute_result"
    }
   ],
   "source": [
    "df.head()"
   ]
  },
  {
   "cell_type": "code",
   "execution_count": 11,
   "metadata": {},
   "outputs": [
    {
     "data": {
      "text/plain": [
       "(1599, 12)"
      ]
     },
     "execution_count": 11,
     "metadata": {},
     "output_type": "execute_result"
    }
   ],
   "source": [
    "df.shape"
   ]
  },
  {
   "cell_type": "markdown",
   "metadata": {},
   "source": [
    "***\n",
    "**T2.2 Extracting input and output variables**\n",
    "\n",
    "The first 11 features are the input variables and the last feature ('quality') is the output variable. You will have to extract the required values using appropriate methods from Pandas library. As in Task one, you should store your input and output variables in two separate matrices."
   ]
  },
  {
   "cell_type": "code",
   "execution_count": 12,
   "metadata": {},
   "outputs": [],
   "source": [
    "#select input and output variables\n",
    "inputs=df.values[:,:-1]\n",
    "outputs=df.values[:,11]"
   ]
  },
  {
   "cell_type": "markdown",
   "metadata": {},
   "source": [
    "Check whether the data was extracted correctly."
   ]
  },
  {
   "cell_type": "code",
   "execution_count": 13,
   "metadata": {},
   "outputs": [
    {
     "name": "stdout",
     "output_type": "stream",
     "text": [
      "(1599, 11)\n",
      "[[ 7.4    0.7    0.    ...  3.51   0.56   9.4  ]\n",
      " [ 7.8    0.88   0.    ...  3.2    0.68   9.8  ]\n",
      " [ 7.8    0.76   0.04  ...  3.26   0.65   9.8  ]\n",
      " ...\n",
      " [ 6.3    0.51   0.13  ...  3.42   0.75  11.   ]\n",
      " [ 5.9    0.645  0.12  ...  3.57   0.71  10.2  ]\n",
      " [ 6.     0.31   0.47  ...  3.39   0.66  11.   ]]\n"
     ]
    }
   ],
   "source": [
    "print(inputs.shape)\n",
    "print(inputs)"
   ]
  },
  {
   "cell_type": "code",
   "execution_count": 14,
   "metadata": {},
   "outputs": [
    {
     "name": "stdout",
     "output_type": "stream",
     "text": [
      "(1599,)\n",
      "[5. 5. 5. ... 6. 5. 6.]\n"
     ]
    }
   ],
   "source": [
    "print(outputs.shape)\n",
    "print(outputs)"
   ]
  },
  {
   "cell_type": "markdown",
   "metadata": {},
   "source": [
    "***\n",
    "**T2.3 Splitting data into training and testing set**\n",
    "\n",
    "Split the inputs and outputs data into training and testing set (50% for testing and 50% for training). You can do this manually (i.e. by splitting each matrix in half) or using [train_test_split](https://scikit-learn.org/stable/modules/generated/sklearn.model_selection.train_test_split.html) from `sklearn.model_selection` (refer to the lecture)."
   ]
  },
  {
   "cell_type": "code",
   "execution_count": 15,
   "metadata": {
    "scrolled": true
   },
   "outputs": [
    {
     "name": "stdout",
     "output_type": "stream",
     "text": [
      "(799, 11)\n",
      "(799,)\n",
      "(800, 11)\n",
      "(800,)\n"
     ]
    }
   ],
   "source": [
    "#split the dataset into training and testing sample\n",
    "x_train,x_test,y_train,y_test=train_test_split(inputs,\n",
    "                                              outputs,\n",
    "                                              train_size=0.5,\n",
    "                                              test_size=0.5,\n",
    "                                              random_state=0)\n",
    "print(x_train.shape)\n",
    "print(y_train.shape)\n",
    "print(x_test.shape)\n",
    "print(y_test.shape)"
   ]
  },
  {
   "cell_type": "markdown",
   "metadata": {},
   "source": [
    "***\n",
    "**T2.4 Including bias**\n",
    "\n",
    "As previously, modify the input data so that we can use matrix notation to solve the linear regression problem."
   ]
  },
  {
   "cell_type": "code",
   "execution_count": 28,
   "metadata": {},
   "outputs": [
    {
     "name": "stdout",
     "output_type": "stream",
     "text": [
      "[[ 1.    9.3   0.4  ...  3.22  0.55  9.4 ]\n",
      " [ 1.    8.8   0.6  ...  3.36  0.49  9.1 ]\n",
      " [ 1.   10.7   0.35 ...  3.15  0.65 11.  ]\n",
      " ...\n",
      " [ 1.    7.9   0.57 ...  3.29  0.69  9.5 ]\n",
      " [ 1.   13.    0.47 ...  3.3   0.68 12.7 ]\n",
      " [ 1.    9.8   0.98 ...  3.25  0.48  9.4 ]]\n"
     ]
    }
   ],
   "source": [
    "x_train_bias = np.concatenate((np.ones([x_train.shape[0],1]), x_train), 1)\n",
    "x_test_bias = np.concatenate((np.ones([x_test.shape[0],1]), x_test), 1)"
   ]
  },
  {
   "cell_type": "markdown",
   "metadata": {},
   "source": [
    "***\n",
    "**T2.5 Finding parameters (coefficients) of the regression models**\n",
    "\n",
    "Using linear algebra and the training data (as in Task 1) find coefficients of the linear regression models."
   ]
  },
  {
   "cell_type": "code",
   "execution_count": 24,
   "metadata": {},
   "outputs": [
    {
     "name": "stdout",
     "output_type": "stream",
     "text": [
      "(12,)\n"
     ]
    }
   ],
   "source": [
    "#Using linear algebra to solve linear regression task on the training dataset (i.e. find the coefficients)\n",
    "B = LA.inv(x_train_bias.T@x_train_bias)@x_train_bias.T@y_train\n",
    "B"
   ]
  },
  {
   "cell_type": "markdown",
   "metadata": {},
   "source": [
    "***\n",
    "**T2.6 Predicting output values for instances from the testing set**\n",
    "\n",
    "Use the obtained regression model to predict output values for the instances from the testing dataset. "
   ]
  },
  {
   "cell_type": "code",
   "execution_count": 32,
   "metadata": {},
   "outputs": [],
   "source": [
    "#Use the coefficients to predict the output values for the instances from the testig dataset\n",
    "predictions=B@np.transpose(x_test_bias)"
   ]
  },
  {
   "cell_type": "markdown",
   "metadata": {},
   "source": [
    "***\n",
    "**T2.6 Evaluating the linear regression model**\n",
    "\n",
    "Evaluate how well the model did by calculating the mean absolute and the mean square error using the ground truth values. You can use metrics from [sklearn library](http://scikit-learn.org/stable/modules/model_evaluation.html)."
   ]
  },
  {
   "cell_type": "code",
   "execution_count": 33,
   "metadata": {},
   "outputs": [
    {
     "name": "stdout",
     "output_type": "stream",
     "text": [
      "Mean absolute error:  0.5073001307579691\n",
      "Mean square error:  0.4281774662475391\n"
     ]
    }
   ],
   "source": [
    "e1_r = (np.abs(predictions - y_test)).mean()\n",
    "\n",
    "#mean square error\n",
    "e2_r = (np.square(predictions - y_test)).mean()\n",
    "\n",
    "print('Mean absolute error: ', e1_r)\n",
    "print('Mean square error: ', e2_r)"
   ]
  },
  {
   "cell_type": "markdown",
   "metadata": {},
   "source": [
    "***\n",
    "**T2.7 Training linear regression model using scikit-learn library**\n",
    "\n",
    "Now, for comparison, create and evaluate linear regression model using [scikit-learn](https://scikit-learn.org/stable/modules/generated/sklearn.linear_model.LinearRegression.html) library."
   ]
  },
  {
   "cell_type": "code",
   "execution_count": 34,
   "metadata": {},
   "outputs": [
    {
     "name": "stdout",
     "output_type": "stream",
     "text": [
      "Mean absolute error:  0.5073001301029523\n",
      "Mean square error:  0.4281774656807189\n"
     ]
    }
   ],
   "source": [
    "reg=LinearRegression(fit_intercept=True)\n",
    "reg.fit(x_train,y_train)\n",
    "prediction1=reg.predict(x_test)\n",
    "e1_r = (np.abs(prediction1 - y_test)).mean()\n",
    "\n",
    "#mean square error\n",
    "e2_r = (np.square(prediction1 - y_test)).mean()\n",
    "\n",
    "print('Mean absolute error: ', e1_r)\n",
    "print('Mean square error: ', e2_r)"
   ]
  },
  {
   "cell_type": "markdown",
   "metadata": {},
   "source": [
    "***\n",
    "**T2.8 Finding parameters of Ridge regression model**\n",
    "\n",
    "Now repeat the same procedure but instead of the standard linear regression model, use ridge regression model.\n",
    "\n",
    "- Use linear algebra to create the model on training data (`alpha=.5`)\n",
    "- Evaluate the model on testing data\n",
    "- Use [scikit-learn](https://scikit-learn.org/stable/modules/generated/sklearn.linear_model.Ridge.html) library to create the model on training data\n",
    "- Evaluate the model on testing data"
   ]
  },
  {
   "cell_type": "code",
   "execution_count": 37,
   "metadata": {},
   "outputs": [
    {
     "name": "stdout",
     "output_type": "stream",
     "text": [
      "Mean absolute error:  0.5078012213195049\n",
      "Mean square error:  0.4256691793139733\n"
     ]
    }
   ],
   "source": [
    "#Do the same but with ridge regression\n",
    "#Using linear algebra, lambda = 0.5\n",
    "B1 = LA.inv(x_train_bias.T@x_train_bias + 0.5*np.eye(x_train_bias.shape[1]))@x_train_bias.T@y_train\n",
    "predictions=x_test_bias@B1 ????????????????????????????????????????????????\n",
    "e1_r = (np.abs(predictions - y_test)).mean()\n",
    "\n",
    "#mean square error\n",
    "e2_r = (np.square(predictions - y_test)).mean()\n",
    "\n",
    "print('Mean absolute error: ', e1_r)\n",
    "print('Mean square error: ', e2_r)"
   ]
  },
  {
   "cell_type": "code",
   "execution_count": null,
   "metadata": {},
   "outputs": [],
   "source": [
    "from sklearn.linear_model import Ridge\n",
    "ridge=Ridge(alpha=.5)\n",
    "ridge.fit(x_train,y_train)\n",
    "prediction2=ridge.predict(x_test)\n",
    "e1_r = (np.abs(prediction2 - y_test)).mean()\n",
    "\n",
    "#mean square error\n",
    "e2_r = (np.square(prediction2 - y_test)).mean()\n",
    "\n",
    "print('Mean absolute error: ', e1_r)\n",
    "print('Mean square error: ', e2_r)"
   ]
  },
  {
   "cell_type": "markdown",
   "metadata": {},
   "source": [
    "## Task 3\n",
    "\n",
    "In this task we will evaluate the Ridge regression model using cross-validation"
   ]
  },
  {
   "cell_type": "markdown",
   "metadata": {},
   "source": [
    "***\n",
    "**T3.1 Using `cross_val_score` from [sklearn.model_selection](https://scikit-learn.org/stable/modules/cross_validation.html)** \n",
    "\n",
    "Use cross_val_score to perform 5-cross-validation for the ridge model with mean absolute error as the scoring function. Remember that this should be performed on the original input/output data. We don't need to split the data into training and testing sets. Average the results obtain for all 5 folds to obtain the final score."
   ]
  },
  {
   "cell_type": "code",
   "execution_count": null,
   "metadata": {},
   "outputs": [],
   "source": [
    "from sklearn.model_selection import cross_val_score\n",
    "scores=cross_val_score(ridge,inputs,outputs,cv=5)\n",
    "scores.mean()"
   ]
  },
  {
   "cell_type": "markdown",
   "metadata": {},
   "source": [
    "***\n",
    "**T3.2 Useing `KFold` from [sklearn.model_selection](https://scikit-learn.org/stable/modules/cross_validation.html)**\n",
    "\n",
    "Use KFold to perform 5-cross-validation. Train and evaluate the Ridge model with each fold."
   ]
  },
  {
   "cell_type": "code",
   "execution_count": null,
   "metadata": {},
   "outputs": [],
   "source": [
    "from sklearn.model_selection import KFold\n",
    "kf=KFold(n_splits=5)\n",
    "KFold(n_splits=5,random_state=None,shuffle=False)\n",
    "for train_index,test_index in kf.split(inputs):\n",
    "    ridge.fit(inputs[train_index],outputs[train_index])\n",
    "    print(mean_absolute_error(outputs[test_index],ridge.predict(inputs[test_index])))"
   ]
  },
  {
   "cell_type": "markdown",
   "metadata": {},
   "source": [
    "***\n",
    "**T3.3 Useing `ShuffleSplit` from [sklearn.model_selection](https://scikit-learn.org/stable/modules/cross_validation.html)** \n",
    "\n",
    "Use `ShuffleSplit` instead of `KFold`."
   ]
  },
  {
   "cell_type": "code",
   "execution_count": null,
   "metadata": {},
   "outputs": [],
   "source": [
    "from sklearn.model_selection import ShuffleSplit\n",
    "rs=ShuffleSplit(n_split=5,test_size=0.25,random_state=0)\n",
    "for train_index,test_index in rs.split(inputs):\n",
    "    ridge.fit(inputs[train_index],outputs[train_index])\n",
    "    print(mean_absolute_error(outputs[test_index],ridge.predict(inputs[test_index])))"
   ]
  }
 ],
 "metadata": {
  "kernelspec": {
   "display_name": "Python 3",
   "language": "python",
   "name": "python3"
  },
  "language_info": {
   "codemirror_mode": {
    "name": "ipython",
    "version": 3
   },
   "file_extension": ".py",
   "mimetype": "text/x-python",
   "name": "python",
   "nbconvert_exporter": "python",
   "pygments_lexer": "ipython3",
   "version": "3.7.3"
  }
 },
 "nbformat": 4,
 "nbformat_minor": 2
}
