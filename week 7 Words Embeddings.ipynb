{
 "cells": [
  {
   "cell_type": "markdown",
   "metadata": {},
   "source": [
    "# Word2Vec"
   ]
  },
  {
   "cell_type": "code",
   "execution_count": 1,
   "metadata": {},
   "outputs": [],
   "source": [
    "from gensim.models import KeyedVectors"
   ]
  },
  {
   "cell_type": "code",
   "execution_count": 2,
   "metadata": {},
   "outputs": [],
   "source": [
    "file = '/Users/annajurek/Documents/Queens/word embedding/GoogleNews-vectors-negative300.bin'\n",
    "model = KeyedVectors.load_word2vec_format(file, binary=True, limit=50000)"
   ]
  },
  {
   "cell_type": "markdown",
   "metadata": {},
   "source": [
    "**Obtaining Vectors**"
   ]
  },
  {
   "cell_type": "code",
   "execution_count": 3,
   "metadata": {},
   "outputs": [
    {
     "data": {
      "text/plain": [
       "array([-1.52343750e-01, -1.16699219e-01,  1.70898438e-01,  2.89062500e-01,\n",
       "        2.69531250e-01, -8.59375000e-02,  1.69921875e-01, -1.23046875e-01,\n",
       "       -3.11279297e-02, -1.87500000e-01,  1.22070312e-01, -1.29882812e-01,\n",
       "        3.19824219e-02,  7.76367188e-02, -2.17773438e-01,  1.10473633e-02,\n",
       "       -2.09960938e-01, -7.66601562e-02,  1.87500000e-01, -1.33789062e-01,\n",
       "       -7.81250000e-03,  1.70898438e-01,  4.83398438e-02, -3.38745117e-03,\n",
       "        4.85229492e-03, -2.14843750e-01, -1.48437500e-01,  3.19824219e-02,\n",
       "       -1.18164062e-01,  6.73828125e-02,  1.32812500e-01, -8.93554688e-02,\n",
       "       -5.76171875e-02, -5.68847656e-02,  8.10546875e-02, -2.08984375e-01,\n",
       "        5.81054688e-02,  9.37500000e-02, -6.39648438e-02,  1.44531250e-01,\n",
       "       -9.91210938e-02,  5.20019531e-02, -8.25195312e-02,  3.85742188e-02,\n",
       "       -6.34765625e-02, -1.00585938e-01,  3.12500000e-02, -1.15234375e-01,\n",
       "       -2.73437500e-01,  3.21960449e-03,  9.76562500e-02, -1.96289062e-01,\n",
       "        1.71875000e-01,  6.44531250e-02,  2.36328125e-01,  2.75878906e-02,\n",
       "       -2.73437500e-01,  5.98144531e-03,  7.14111328e-03, -1.19628906e-01,\n",
       "       -1.99218750e-01, -1.32812500e-01,  5.95703125e-02, -7.12890625e-02,\n",
       "       -5.71289062e-02,  1.04370117e-02,  2.22167969e-02,  5.41992188e-02,\n",
       "        7.69042969e-03,  1.00097656e-02, -4.25781250e-01,  2.18750000e-01,\n",
       "        1.71875000e-01, -3.04687500e-01, -1.11328125e-01,  2.05078125e-01,\n",
       "       -4.83398438e-02,  9.37500000e-02,  5.88378906e-02,  5.81054688e-02,\n",
       "       -2.06298828e-02, -6.05468750e-02,  7.56835938e-02,  1.10839844e-01,\n",
       "       -1.32812500e-01, -8.54492188e-02, -1.30859375e-01,  1.76757812e-01,\n",
       "       -7.61718750e-02,  1.77734375e-01, -1.77734375e-01, -2.53906250e-01,\n",
       "       -1.63085938e-01, -2.09960938e-01,  1.18164062e-01,  8.78906250e-03,\n",
       "        1.53320312e-01,  5.07812500e-02,  2.67333984e-02, -1.79687500e-01,\n",
       "       -1.18164062e-01, -1.40625000e-01, -2.24609375e-01, -9.52148438e-02,\n",
       "        4.51660156e-02,  3.44238281e-02, -1.88476562e-01, -3.23486328e-03,\n",
       "        2.23632812e-01, -3.80859375e-01, -3.22265625e-01,  1.06933594e-01,\n",
       "        2.75390625e-01,  2.08984375e-01,  1.63085938e-01, -5.37109375e-02,\n",
       "       -4.80957031e-02, -2.13867188e-01,  1.26953125e-01,  3.61328125e-01,\n",
       "       -2.07031250e-01, -1.12304688e-01,  8.44726562e-02,  3.46679688e-02,\n",
       "       -2.45117188e-01, -2.08007812e-01,  1.40625000e-01, -4.66308594e-02,\n",
       "        1.04003906e-01, -5.05371094e-02,  1.97265625e-01, -3.80859375e-02,\n",
       "       -1.62109375e-01, -3.24707031e-02,  1.04492188e-01, -1.56250000e-01,\n",
       "        6.83593750e-02,  1.27929688e-01, -1.58203125e-01, -4.83398438e-02,\n",
       "       -2.81250000e-01, -2.02148438e-01,  6.39648438e-02,  1.76757812e-01,\n",
       "       -6.83593750e-03,  2.41210938e-01,  9.13085938e-02,  1.20605469e-01,\n",
       "        4.22363281e-02,  9.86328125e-02,  2.63671875e-01,  3.75976562e-02,\n",
       "       -1.23535156e-01,  9.08203125e-02,  1.08398438e-01, -1.06933594e-01,\n",
       "        1.92382812e-01, -1.66992188e-01,  1.35742188e-01,  2.36511230e-03,\n",
       "        1.45263672e-02,  7.17773438e-02,  3.32031250e-01,  1.37695312e-01,\n",
       "        1.13281250e-01, -1.25122070e-03,  1.88476562e-01,  6.46972656e-03,\n",
       "       -7.17773438e-02, -9.32617188e-02,  5.07812500e-02,  7.08007812e-02,\n",
       "       -7.08007812e-02, -9.47265625e-02,  3.56445312e-02,  1.40991211e-02,\n",
       "        1.25976562e-01,  1.17675781e-01,  3.71093750e-02,  2.00195312e-01,\n",
       "       -4.22363281e-02,  6.39648438e-02, -5.88378906e-02, -1.69921875e-01,\n",
       "        6.93359375e-02,  4.68750000e-02, -9.96093750e-02,  1.24511719e-01,\n",
       "        2.50000000e-01,  6.78710938e-02,  6.68945312e-02,  7.87353516e-03,\n",
       "       -1.00097656e-01,  1.82617188e-01, -4.04296875e-01, -2.47802734e-02,\n",
       "        1.28906250e-01, -5.15136719e-02, -2.24609375e-02,  4.66918945e-03,\n",
       "       -1.40625000e-01,  1.09863281e-01,  1.85546875e-01, -8.64257812e-02,\n",
       "       -8.85009766e-03, -1.26953125e-01,  2.81250000e-01, -2.83203125e-01,\n",
       "       -9.71679688e-02, -8.91113281e-03,  2.65625000e-01,  3.52859497e-04,\n",
       "        2.59765625e-01, -1.58203125e-01, -2.94921875e-01,  2.38281250e-01,\n",
       "       -2.11914062e-01,  1.45507812e-01, -1.17187500e-01,  2.60009766e-02,\n",
       "       -1.80664062e-01, -1.48437500e-01,  4.56542969e-02,  1.26342773e-02,\n",
       "        2.98828125e-01,  1.43554688e-01,  1.48925781e-02,  1.31835938e-01,\n",
       "        1.80664062e-02, -1.54418945e-02,  1.80664062e-01,  1.50390625e-01,\n",
       "       -6.20117188e-02,  5.31005859e-03,  9.81445312e-02, -2.17773438e-01,\n",
       "        2.53906250e-01,  2.77099609e-02, -1.70898438e-01,  1.31835938e-01,\n",
       "        1.33789062e-01, -1.25976562e-01, -1.28906250e-01, -6.19506836e-03,\n",
       "       -4.54101562e-02, -1.79687500e-01, -1.75781250e-01, -2.17285156e-02,\n",
       "       -1.40625000e-01,  6.71386719e-04,  8.17871094e-03,  1.42578125e-01,\n",
       "        1.55273438e-01,  1.93359375e-01, -6.59179688e-02, -2.21679688e-01,\n",
       "       -1.91650391e-02,  1.35742188e-01, -1.15722656e-01,  3.27148438e-02,\n",
       "        1.83593750e-01,  5.51757812e-02, -2.19726562e-01,  9.37500000e-02,\n",
       "        1.25000000e-01,  4.00390625e-02, -1.40991211e-02, -2.61718750e-01,\n",
       "       -5.78613281e-02, -6.83593750e-02,  1.41601562e-01, -1.83593750e-01,\n",
       "        3.10058594e-02,  4.32128906e-02, -2.17285156e-02, -1.70898438e-01,\n",
       "        5.81054688e-02, -2.83203125e-01, -6.64062500e-02, -1.70898438e-02,\n",
       "       -4.29687500e-02, -1.70898438e-01,  2.06054688e-01,  1.23046875e-01,\n",
       "        1.15722656e-01,  1.21582031e-01,  9.22851562e-02,  5.66406250e-02,\n",
       "        1.93359375e-01,  3.56445312e-02, -1.57226562e-01,  1.79443359e-02,\n",
       "       -3.80859375e-01,  1.18164062e-01,  2.09960938e-01,  3.36914062e-02,\n",
       "       -6.98242188e-02,  8.44726562e-02,  9.46044922e-03,  7.42187500e-02],\n",
       "      dtype=float32)"
      ]
     },
     "execution_count": 3,
     "metadata": {},
     "output_type": "execute_result"
    }
   ],
   "source": [
    "model['university']"
   ]
  },
  {
   "cell_type": "markdown",
   "metadata": {},
   "source": [
    "**Vocabulary**"
   ]
  },
  {
   "cell_type": "code",
   "execution_count": 4,
   "metadata": {},
   "outputs": [
    {
     "name": "stderr",
     "output_type": "stream",
     "text": [
      "/Users/annajurek/opt/anaconda3/lib/python3.7/site-packages/ipykernel_launcher.py:1: DeprecationWarning: Call to deprecated `wv` (Attribute will be removed in 4.0.0, use self instead).\n",
      "  \"\"\"Entry point for launching an IPython kernel.\n"
     ]
    }
   ],
   "source": [
    "vocab = model.wv"
   ]
  },
  {
   "cell_type": "code",
   "execution_count": 11,
   "metadata": {},
   "outputs": [
    {
     "name": "stdout",
     "output_type": "stream",
     "text": [
      "NO\n"
     ]
    }
   ],
   "source": [
    "word = 'bla'\n",
    "if word in vocab:\n",
    "    print('YES')\n",
    "else:\n",
    "    print('NO')"
   ]
  },
  {
   "cell_type": "markdown",
   "metadata": {},
   "source": [
    "**Vectors Similarities**"
   ]
  },
  {
   "cell_type": "code",
   "execution_count": 5,
   "metadata": {},
   "outputs": [
    {
     "data": {
      "text/plain": [
       "0.017219167"
      ]
     },
     "execution_count": 5,
     "metadata": {},
     "output_type": "execute_result"
    }
   ],
   "source": [
    "model.similarity('boy','table')"
   ]
  },
  {
   "cell_type": "code",
   "execution_count": 6,
   "metadata": {},
   "outputs": [
    {
     "data": {
      "text/plain": [
       "0.8543272"
      ]
     },
     "execution_count": 6,
     "metadata": {},
     "output_type": "execute_result"
    }
   ],
   "source": [
    "model.similarity('boy','girl')"
   ]
  },
  {
   "cell_type": "code",
   "execution_count": 7,
   "metadata": {},
   "outputs": [
    {
     "data": {
      "text/plain": [
       "0.76094574"
      ]
     },
     "execution_count": 7,
     "metadata": {},
     "output_type": "execute_result"
    }
   ],
   "source": [
    "model.similarity('cat','dog')"
   ]
  },
  {
   "cell_type": "code",
   "execution_count": 23,
   "metadata": {},
   "outputs": [
    {
     "data": {
      "text/plain": [
       "0.51462626"
      ]
     },
     "execution_count": 23,
     "metadata": {},
     "output_type": "execute_result"
    }
   ],
   "source": [
    "model.similarity('cat','bird')"
   ]
  },
  {
   "cell_type": "code",
   "execution_count": 9,
   "metadata": {},
   "outputs": [
    {
     "data": {
      "text/plain": [
       "0.20749082"
      ]
     },
     "execution_count": 9,
     "metadata": {},
     "output_type": "execute_result"
    }
   ],
   "source": [
    "model.similarity('cat','apple')"
   ]
  },
  {
   "cell_type": "code",
   "execution_count": 10,
   "metadata": {},
   "outputs": [
    {
     "data": {
      "text/plain": [
       "0.6334909"
      ]
     },
     "execution_count": 10,
     "metadata": {},
     "output_type": "execute_result"
    }
   ],
   "source": [
    "model.similarity('France','Paris')"
   ]
  },
  {
   "cell_type": "code",
   "execution_count": 11,
   "metadata": {},
   "outputs": [
    {
     "data": {
      "text/plain": [
       "0.70210385"
      ]
     },
     "execution_count": 11,
     "metadata": {},
     "output_type": "execute_result"
    }
   ],
   "source": [
    "model.similarity('Ireland','Dublin')"
   ]
  },
  {
   "cell_type": "code",
   "execution_count": 24,
   "metadata": {},
   "outputs": [
    {
     "data": {
      "text/plain": [
       "[('queen', 0.7118192315101624),\n",
       " ('monarch', 0.6189675331115723),\n",
       " ('princess', 0.5902431011199951),\n",
       " ('crown_prince', 0.5499460697174072),\n",
       " ('prince', 0.5377321243286133),\n",
       " ('kings', 0.5236844420433044),\n",
       " ('Queen_Consort', 0.5235946178436279),\n",
       " ('queens', 0.5181134343147278),\n",
       " ('sultan', 0.5098592638969421),\n",
       " ('monarchy', 0.5087411999702454)]"
      ]
     },
     "execution_count": 24,
     "metadata": {},
     "output_type": "execute_result"
    }
   ],
   "source": [
    "model.most_similar(positive=['woman','king'], negative=['man'])"
   ]
  },
  {
   "cell_type": "code",
   "execution_count": null,
   "metadata": {},
   "outputs": [],
   "source": []
  },
  {
   "cell_type": "markdown",
   "metadata": {},
   "source": [
    "# GloVe"
   ]
  },
  {
   "cell_type": "code",
   "execution_count": 8,
   "metadata": {},
   "outputs": [
    {
     "data": {
      "text/plain": [
       "(400000, 100)"
      ]
     },
     "execution_count": 8,
     "metadata": {},
     "output_type": "execute_result"
    }
   ],
   "source": [
    "from gensim.scripts.glove2word2vec import glove2word2vec\n",
    "glove_input_file = '/Users/annajurek/Documents/Queens/word embedding/glove.6B/glove.6B.100d.txt'\n",
    "word2vec_output_file = '/Users/annajurek/Documents/Queens/word embedding/glove.6B/glove.6B.100d.txt.word2vec'\n",
    "glove2word2vec(glove_input_file, word2vec_output_file)"
   ]
  },
  {
   "cell_type": "code",
   "execution_count": 9,
   "metadata": {},
   "outputs": [],
   "source": [
    "file = '/Users/annajurek/Documents/Queens/word embedding/glove.6B/glove.6B.100d.txt.word2vec'\n",
    "glove = KeyedVectors.load_word2vec_format(file, binary=False, limit=50000)"
   ]
  },
  {
   "cell_type": "code",
   "execution_count": 27,
   "metadata": {},
   "outputs": [
    {
     "data": {
      "text/plain": [
       "array([ 0.24934  ,  0.68318  , -0.044711 , -1.3842   , -0.0073079,\n",
       "        0.651    , -0.33958  , -0.19785  , -0.33925  ,  0.26691  ,\n",
       "       -0.033062 ,  0.15915  ,  0.89547  ,  0.53999  , -0.55817  ,\n",
       "        0.46245  ,  0.36722  ,  0.1889   ,  0.83189  ,  0.81421  ,\n",
       "       -0.11835  , -0.53463  ,  0.24158  , -0.038864 ,  1.1907   ,\n",
       "        0.79353  , -0.12308  ,  0.6642   , -0.77619  , -0.45713  ,\n",
       "       -1.054    , -0.20557  , -0.13296  ,  0.12239  ,  0.88458  ,\n",
       "        1.024    ,  0.32288  ,  0.82105  , -0.069367 ,  0.024211 ,\n",
       "       -0.51418  ,  0.8727   ,  0.25759  ,  0.91526  , -0.64221  ,\n",
       "        0.041159 , -0.60208  ,  0.54631  ,  0.66076  ,  0.19796  ,\n",
       "       -1.1393   ,  0.79514  ,  0.45966  , -0.18463  , -0.64131  ,\n",
       "       -0.24929  , -0.40194  , -0.50786  ,  0.80579  ,  0.53365  ,\n",
       "        0.52732  ,  0.39247  , -0.29884  ,  0.009585 ,  0.99953  ,\n",
       "       -0.061279 ,  0.71936  ,  0.32901  , -0.052772 ,  0.67135  ,\n",
       "       -0.80251  , -0.25789  ,  0.49615  ,  0.48081  , -0.68403  ,\n",
       "       -0.012239 ,  0.048201 ,  0.29461  ,  0.20614  ,  0.33556  ,\n",
       "       -0.64167  , -0.64708  ,  0.13377  , -0.12574  , -0.46382  ,\n",
       "        1.3878   ,  0.95636  , -0.067869 , -0.0017411,  0.52965  ,\n",
       "        0.45668  ,  0.61041  , -0.11514  ,  0.42627  ,  0.17342  ,\n",
       "       -0.7995   , -0.24502  , -0.60886  , -0.38469  , -0.4797   ],\n",
       "      dtype=float32)"
      ]
     },
     "execution_count": 27,
     "metadata": {},
     "output_type": "execute_result"
    }
   ],
   "source": [
    "glove['python']"
   ]
  },
  {
   "cell_type": "code",
   "execution_count": null,
   "metadata": {},
   "outputs": [],
   "source": []
  }
 ],
 "metadata": {
  "kernelspec": {
   "display_name": "Python 3",
   "language": "python",
   "name": "python3"
  },
  "language_info": {
   "codemirror_mode": {
    "name": "ipython",
    "version": 3
   },
   "file_extension": ".py",
   "mimetype": "text/x-python",
   "name": "python",
   "nbconvert_exporter": "python",
   "pygments_lexer": "ipython3",
   "version": "3.7.6"
  }
 },
 "nbformat": 4,
 "nbformat_minor": 2
}
